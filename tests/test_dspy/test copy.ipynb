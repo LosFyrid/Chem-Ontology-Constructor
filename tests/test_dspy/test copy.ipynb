{
 "cells": [
  {
   "cell_type": "code",
   "execution_count": 1,
   "metadata": {},
   "outputs": [
    {
     "name": "stderr",
     "output_type": "stream",
     "text": [
      "d:\\AnacondaEnPs\\envs\\OntologyConstruction\\Lib\\site-packages\\tqdm\\auto.py:21: TqdmWarning: IProgress not found. Please update jupyter and ipywidgets. See https://ipywidgets.readthedocs.io/en/stable/user_install.html\n",
      "  from .autonotebook import tqdm as notebook_tqdm\n"
     ]
    }
   ],
   "source": [
    "from pydantic import BaseModel, Field\n",
    "from typing import List, Tuple\n",
    "import dspy\n",
    "import sys\n",
    "import os\n",
    "sys.path.append(r\"D:\\CursorProj\\Chem-Ontology-Constructor\")\n",
    "os.environ[\"PROJECT_ROOT\"] = \"D:\\\\CursorProj\\\\Chem-Ontology-Constructor\\\\\"\n",
    "\n",
    "\n",
    "from autonogy_constructor.modules import ChemOntology, Assessment, ontology_elements_to_string, ontology_properties_to_string\n",
    "from autonogy_constructor.base_data_structures import OntologyElements, OntologyProperties\n",
    "from autonogy_constructor.metrics import metric\n",
    "\n"
   ]
  },
  {
   "cell_type": "code",
   "execution_count": 2,
   "metadata": {},
   "outputs": [
    {
     "name": "stdout",
     "output_type": "stream",
     "text": [
      "54\n"
     ]
    }
   ],
   "source": [
    "from config.settings import ASSESSMENT_CRITERIA_CONFIG\n",
    "\n",
    "print(ASSESSMENT_CRITERIA_CONFIG[\"full_score\"])\n"
   ]
  },
  {
   "cell_type": "code",
   "execution_count": 3,
   "metadata": {},
   "outputs": [],
   "source": [
    "\n",
    "lm = dspy.LM('openai/gpt-4o', temperature=0)\n",
    "dspy.configure(lm=lm)\n",
    "teacher = dspy.LM(\"openai/gpt-4o\",temperature=1)\n"
   ]
  },
  {
   "cell_type": "code",
   "execution_count": 1,
   "metadata": {},
   "outputs": [],
   "source": [
    "import json\n",
    "import os\n",
    "\n",
    "def load_json_files(folder_path, template_str):\n",
    "    combined_data = []\n",
    "    \n",
    "    # 遍历文件夹中的所有文件\n",
    "    for filename in os.listdir(folder_path):\n",
    "        # 检查文件是否是json且名称包含模板字符串\n",
    "        if filename.endswith('.json') and template_str in filename:\n",
    "            file_path = os.path.join(folder_path, filename)\n",
    "            # 读取json文件\n",
    "            with open(file_path, 'r', encoding='utf-8') as f:\n",
    "                data = json.load(f)\n",
    "                combined_data.extend(data)\n",
    "                \n",
    "    return combined_data\n"
   ]
  },
  {
   "cell_type": "code",
   "execution_count": 5,
   "metadata": {},
   "outputs": [
    {
     "data": {
      "text/plain": [
       "6924"
      ]
     },
     "execution_count": 5,
     "metadata": {},
     "output_type": "execute_result"
    }
   ],
   "source": [
    "\n",
    "# 使用示例\n",
    "folder_path = r'./data'\n",
    "template_str = 'content_list'\n",
    "data = load_json_files(folder_path, template_str)\n",
    "len(data)\n"
   ]
  },
  {
   "cell_type": "code",
   "execution_count": 4,
   "metadata": {},
   "outputs": [],
   "source": [
    "test_context = \"\"\"\n",
    "###### How electron donation and withdrawal change chemical shifts  \\nWe can get an idea of the effect of electron distribution by looking at a series of benzene rings\\nwith the same substituent in the 1 and 4 positions. This pattern makes all four hydrogens on\\nthe ring identical. Here are a few compounds listed in order of chemical shift: largest shift\\n(lowest fi eld; most deshielded) fi rst. Conjugation is shown by the usual curly arrows, and\\ninductive effects by a straight arrow by the side of the group. Only one hydrogen atom and\\none set of arrows are shown.  \\nConjugation, as discussed in\\nChapter 7, is felt through π bonds,\\nwhile inductive effects are the\\nresult of electron withdrawal or\\ndonation felt simply by polarization\\nof the σ bonds of the molecule.\\nSee p. 135.  \\nthe effect of electron-withdrawing groups\\nby conjugation  \\nby inductive effects  \\n**H**  \\n**O**  \\n**O**  \\n**HO**  \\n**N**  \\nδH 8.48 δH 8.10 **C** δH 8.10 δH 8.07 δH 7.78  \\n**N**  \\n**O**  \\n**O**  \\n**OH**  \\n**C**  \\n**N**  \\n**O**  \\n**H**  \\n**F** **F**  \\n**F**  \\nThe largest shifts come from groups that withdraw electrons by conjugation. Nitro is the\\nmost powerful—this should not surprise you as we saw the same in non-aromatic compounds\\nin both [13]C and [1]H NMR spectra. Then come the carbonyl and nitrile group followed by groups\\nshowing simple inductive withdrawal. CF3 is an important example of this kind of group—\\nthree fl uorine atoms combine to exert a powerful effect.  \\n-----  \\nIn the middle of our sequence, around the position of benzene itself at 7.27 ppm, come\\nthe halogens, whose inductive electron withdrawal and lone pair donation are nearly\\nbalanced.  \\nbalance between withdrawal by inductive effect and donation of lone pairs by conjugation  \\n**I** δH 7.40 **Br** δH 7.32 δH 7.27 **Cl** δH 7.24 **F** δH 7.00  \\n**I**  \\n**Br**  \\n**Cl**  \\n**F**  \\nAlkyl groups are weak inductive donators, but the groups which give the most shielding—\\nperhaps surprisingly—are those containing the electronegative atoms O and N. Despite being\\ninductively electron withdrawing (the C–O and C–N σ bonds are polarized with δ + C), on\\nbalance conjugation of their lone pairs with the ring (as you saw on p. 278) makes them net\\nelectron donors. They increase the shielding at the ring hydrogens. Amino groups are the best.\\nNote that one nitrogen-based functional group (NO2) is the best electron withdrawer while\\nanother (NH2) is the best electron donor.  \\nthe effect of electron-donating groups  \\nby inductive effect  \\nbalance between withdrawal by inductive effect and donation\\nof lone pairs by conjugation—electron donation wins  \\n**H**  \\nδH 7.03  \\n**H**  \\n**H**  \\n**CH3**  \\nδH 6.80 **O**  \\n**H** **H**  \\nδH 6.59 **N**  \\n**H**  \\nδH 6.35  \\n**H**  \\n**H**  \\n**CH3**  \\n**O**  \\n**CH3**  \\n**H**  \\n**H**  \\n**N**  \\n**O**  \\nδH 7.27  \\n**H**  \\n**H**  \\nδH 7.27  \\nδH 5.68  \\n**H**  \\n**H**  \\nδH 5.68  \\n**O**  \\nδH 6.0  \\n**H**  \\n**H**  \\nδH 7.0  \\nδH 4.65  \\n**H**  \\n**H**  \\nδH 6.35  \\nAs far as the donors with lone pairs are concerned (the halogens plus O and N), two factors\\nare important—the size of the lone pairs and the electronegativity of the element. If we look\\nat the four halides at the top of this page the lone pairs are in 2p (F), 3p (Cl), 4p (Br), and 5p (I)\\norbitals. In all cases the orbitals on the benzene ring are 2p so the fl uorine orbital is of the\\nright size to interact well and the others too large. Even though fl uorine is the most electronegative, it is still the best donor. The others don’t pull so much electron density away, but\\nthey can’t give so much back either.\\nIf we compare the fi rst row of the p block elements—F, OH, and NH2—all have lone pairs\\nin 2p orbitals so now electronegativity is the only variable. As you would expect, the most\\nelectronegative element, F, is now the weakest donor.\n",
    "\"\"\"\n",
    "\n",
    "\n",
    "\n"
   ]
  },
  {
   "cell_type": "code",
   "execution_count": 5,
   "metadata": {},
   "outputs": [
    {
     "name": "stdout",
     "output_type": "stream",
     "text": [
      "Entities:\n",
      "  - Name: Benzene Ring\n",
      "    Information: A benzene ring is a cyclic hydrocarbon with a formula C6H6, known for its aromatic properties.\n",
      "  - Name: Nitro\n",
      "    Information: Nitro is a chemical group known for being a powerful electron-withdrawing group by conjugation.\n",
      "  - Name: Carbonyl\n",
      "    Information: Carbonyl is a functional group composed of a carbon atom double-bonded to an oxygen atom, known for electron-withdrawing properties.\n",
      "  - Name: Nitrile\n",
      "    Information: Nitrile is a functional group containing a carbon triple-bonded to a nitrogen atom, known for electron-withdrawing properties.\n",
      "  - Name: CF3\n",
      "    Information: CF3 is a trifluoromethyl group known for its strong electron-withdrawing inductive effect.\n",
      "  - Name: Halogens\n",
      "    Information: Halogens are a group of elements including Iodine (I), Bromine (Br), Chlorine (Cl), and Fluorine (F), known for their electron-withdrawing and lone pair donation effects.\n",
      "  - Name: Alkyl Groups\n",
      "    Information: Alkyl groups are hydrocarbon chains that act as weak inductive electron donors.\n",
      "  - Name: NO2\n",
      "    Information: NO2 is a nitrogen-based functional group known as the best electron withdrawer.\n",
      "  - Name: NH2\n",
      "    Information: NH2 is an amino group known as the best electron donor.\n",
      "  - Name: Conjugation\n",
      "    Information: Conjugation is a process where electron donation or withdrawal is felt through π bonds.\n",
      "  - Name: Inductive Effect\n",
      "    Information: Inductive effect is a process where electron donation or withdrawal is felt through polarization of σ bonds.\n",
      "\n",
      "Entity Hierarchy:\n",
      "\n",
      "Disjoint Classes:\n",
      "Data Properties:\n",
      "  - Name: chemical_shift\n",
      "    Values: Benzene Ring with Nitro: 8.48\n",
      "            Benzene Ring with Carbonyl: 8.1\n",
      "            Benzene Ring with Nitrile: 8.1\n",
      "            Benzene Ring with CF3: 7.78\n",
      "            Benzene Ring with Halogens with I: 7.4\n",
      "            Benzene Ring with Halogens with Br: 7.32\n",
      "            Benzene Ring with Halogens with Cl: 7.24\n",
      "            Benzene Ring with Halogens with F: 7.0\n",
      "            Benzene Ring with Alkyl Groups: 6.8\n",
      "            Benzene Ring with NH2: 6.35\n",
      "    Information: The chemical shift values associated with different substituents on the benzene ring, indicating the degree of electron donation or withdrawal.\n",
      "\n",
      "Object Properties:\n",
      "  - Name: electron_withdrawal_by_conjugation\n",
      "    Instance:\n",
      "      Domain:\n",
      "        Entity: Benzene Ring\n",
      "        Type: single\n",
      "      Range:\n",
      "        Entity: Nitro\n",
      "        Type: single\n",
      "      Restriction: some\n",
      "    Information: The process by which electron-withdrawing groups affect the benzene ring through conjugation.\n",
      "  - Name: electron_withdrawal_by_inductive_effect\n",
      "    Instance:\n",
      "      Domain:\n",
      "        Entity: Benzene Ring\n",
      "        Type: single\n",
      "      Range:\n",
      "        Entity: CF3\n",
      "        Type: single\n",
      "      Restriction: some\n",
      "    Information: The process by which electron-withdrawing groups affect the benzene ring through inductive effects.\n",
      "  - Name: electron_donation_by_conjugation\n",
      "    Instance:\n",
      "      Domain:\n",
      "        Entity: Benzene Ring\n",
      "        Type: single\n",
      "      Range:\n",
      "        Entity: NH2\n",
      "        Type: single\n",
      "      Restriction: some\n",
      "    Information: The process by which electron-donating groups affect the benzene ring through conjugation.\n"
     ]
    }
   ],
   "source": [
    "extractor = ChemOntology()\n",
    "print(ontology_elements_to_string(extractor(test_context).ontology_elements))\n",
    "print(ontology_properties_to_string(extractor(test_context).ontology_properties))\n"
   ]
  },
  {
   "cell_type": "code",
   "execution_count": 6,
   "metadata": {},
   "outputs": [
    {
     "data": {
      "text/plain": [
       "Prediction(\n",
       "    context='\\n###### How electron donation and withdrawal change chemical shifts  \\nWe can get an idea of the effect of electron distribution by looking at a series of benzene rings\\nwith the same substituent in the 1 and 4 positions. This pattern makes all four hydrogens on\\nthe ring identical. Here are a few compounds listed in order of chemical shift: largest shift\\n(lowest fi eld; most deshielded) fi rst. Conjugation is shown by the usual curly arrows, and\\ninductive effects by a straight arrow by the side of the group. Only one hydrogen atom and\\none set of arrows are shown.  \\nConjugation, as discussed in\\nChapter 7, is felt through π bonds,\\nwhile inductive effects are the\\nresult of electron withdrawal or\\ndonation felt simply by polarization\\nof the σ bonds of the molecule.\\nSee p. 135.  \\nthe effect of electron-withdrawing groups\\nby conjugation  \\nby inductive effects  \\n**H**  \\n**O**  \\n**O**  \\n**HO**  \\n**N**  \\nδH 8.48 δH 8.10 **C** δH 8.10 δH 8.07 δH 7.78  \\n**N**  \\n**O**  \\n**O**  \\n**OH**  \\n**C**  \\n**N**  \\n**O**  \\n**H**  \\n**F** **F**  \\n**F**  \\nThe largest shifts come from groups that withdraw electrons by conjugation. Nitro is the\\nmost powerful—this should not surprise you as we saw the same in non-aromatic compounds\\nin both [13]C and [1]H NMR spectra. Then come the carbonyl and nitrile group followed by groups\\nshowing simple inductive withdrawal. CF3 is an important example of this kind of group—\\nthree fl uorine atoms combine to exert a powerful effect.  \\n-----  \\nIn the middle of our sequence, around the position of benzene itself at 7.27 ppm, come\\nthe halogens, whose inductive electron withdrawal and lone pair donation are nearly\\nbalanced.  \\nbalance between withdrawal by inductive effect and donation of lone pairs by conjugation  \\n**I** δH 7.40 **Br** δH 7.32 δH 7.27 **Cl** δH 7.24 **F** δH 7.00  \\n**I**  \\n**Br**  \\n**Cl**  \\n**F**  \\nAlkyl groups are weak inductive donators, but the groups which give the most shielding—\\nperhaps surprisingly—are those containing the electronegative atoms O and N. Despite being\\ninductively electron withdrawing (the C–O and C–N σ bonds are polarized with δ + C), on\\nbalance conjugation of their lone pairs with the ring (as you saw on p. 278) makes them net\\nelectron donors. They increase the shielding at the ring hydrogens. Amino groups are the best.\\nNote that one nitrogen-based functional group (NO2) is the best electron withdrawer while\\nanother (NH2) is the best electron donor.  \\nthe effect of electron-donating groups  \\nby inductive effect  \\nbalance between withdrawal by inductive effect and donation\\nof lone pairs by conjugation—electron donation wins  \\n**H**  \\nδH 7.03  \\n**H**  \\n**H**  \\n**CH3**  \\nδH 6.80 **O**  \\n**H** **H**  \\nδH 6.59 **N**  \\n**H**  \\nδH 6.35  \\n**H**  \\n**H**  \\n**CH3**  \\n**O**  \\n**CH3**  \\n**H**  \\n**H**  \\n**N**  \\n**O**  \\nδH 7.27  \\n**H**  \\n**H**  \\nδH 7.27  \\nδH 5.68  \\n**H**  \\n**H**  \\nδH 5.68  \\n**O**  \\nδH 6.0  \\n**H**  \\n**H**  \\nδH 7.0  \\nδH 4.65  \\n**H**  \\n**H**  \\nδH 6.35  \\nAs far as the donors with lone pairs are concerned (the halogens plus O and N), two factors\\nare important—the size of the lone pairs and the electronegativity of the element. If we look\\nat the four halides at the top of this page the lone pairs are in 2p (F), 3p (Cl), 4p (Br), and 5p (I)\\norbitals. In all cases the orbitals on the benzene ring are 2p so the fl uorine orbital is of the\\nright size to interact well and the others too large. Even though fl uorine is the most electronegative, it is still the best donor. The others don’t pull so much electron density away, but\\nthey can’t give so much back either.\\nIf we compare the fi rst row of the p block elements—F, OH, and NH2—all have lone pairs\\nin 2p orbitals so now electronegativity is the only variable. As you would expect, the most\\nelectronegative element, F, is now the weakest donor.\\n',\n",
       "    ontology_elements=OntologyElements(entities=[Entity(name='Benzene Ring', information='A benzene ring is a cyclic hydrocarbon with a formula C6H6, known for its aromatic properties.'), Entity(name='Nitro', information='Nitro is a chemical group known for being a powerful electron-withdrawing group by conjugation.'), Entity(name='Carbonyl', information='Carbonyl is a functional group composed of a carbon atom double-bonded to an oxygen atom, known for electron-withdrawing properties.'), Entity(name='Nitrile', information='Nitrile is a functional group containing a carbon triple-bonded to a nitrogen atom, known for electron-withdrawing properties.'), Entity(name='CF3', information='CF3 is a trifluoromethyl group known for its strong electron-withdrawing inductive effect.'), Entity(name='Halogens', information='Halogens are a group of elements including Iodine (I), Bromine (Br), Chlorine (Cl), and Fluorine (F), known for their electron-withdrawing and lone pair donation effects.'), Entity(name='Alkyl Groups', information='Alkyl groups are hydrocarbon chains that act as weak inductive electron donors.'), Entity(name='NO2', information='NO2 is a nitrogen-based functional group known as the best electron withdrawer.'), Entity(name='NH2', information='NH2 is an amino group known as the best electron donor.'), Entity(name='Conjugation', information='Conjugation is a process where electron donation or withdrawal is felt through π bonds.'), Entity(name='Inductive Effect', information='Inductive effect is a process where electron donation or withdrawal is felt through polarization of σ bonds.')], hierarchy=None, disjointness=None),\n",
       "    ontology_properties=OntologyProperties(data_properties=[DataProperty(name='chemical_shift', values={'Benzene Ring': {'Nitro': 8.48, 'Carbonyl': 8.1, 'Nitrile': 8.1, 'CF3': 7.78, 'Halogens': {'I': 7.4, 'Br': 7.32, 'Cl': 7.24, 'F': 7.0}, 'Alkyl Groups': 6.8, 'NH2': 6.35}}, information='The chemical shift values associated with different substituents on the benzene ring, indicating the degree of electron donation or withdrawal.')], object_properties=[ObjectProperty(name='electron_withdrawal_by_conjugation', instances=[ObjectPropertyInstance(domain=Domain(entity='Benzene Ring', type='single'), range=Range(entity='Nitro', type='single'), restriction='some')], information='The process by which electron-withdrawing groups affect the benzene ring through conjugation.'), ObjectProperty(name='electron_withdrawal_by_inductive_effect', instances=[ObjectPropertyInstance(domain=Domain(entity='Benzene Ring', type='single'), range=Range(entity='CF3', type='single'), restriction='some')], information='The process by which electron-withdrawing groups affect the benzene ring through inductive effects.'), ObjectProperty(name='electron_donation_by_conjugation', instances=[ObjectPropertyInstance(domain=Domain(entity='Benzene Ring', type='single'), range=Range(entity='NH2', type='single'), restriction='some')], information='The process by which electron-donating groups affect the benzene ring through conjugation.')])\n",
       ")"
      ]
     },
     "execution_count": 6,
     "metadata": {},
     "output_type": "execute_result"
    }
   ],
   "source": [
    "extractor(test_context)"
   ]
  },
  {
   "cell_type": "code",
   "execution_count": 7,
   "metadata": {},
   "outputs": [
    {
     "name": "stdout",
     "output_type": "stream",
     "text": [
      "随机抽取到3个开发集文本:\n",
      "\n",
      "1. 文本长度: 343\n",
      "文本内容: · The majority of $\\alpha$ particles penetrated the foil undeflected. · Some $\\alpha$ particles expe...\n",
      "\n",
      "2. 文本长度: 466\n",
      "文本内容:  34. Explain why these reactions cannot occur as written. (a) (b) $\\begin{array}{r}{\\mathrm{Fe^{3+}(...\n",
      "\n",
      "3. 文本长度: 453\n",
      "文本内容: The electron configuration of an atom is a designation of how electrons are distributed among variou...\n",
      "\n",
      "随机抽取到10个训练集文本:\n",
      "\n",
      "1. 文本长度: 653\n",
      "文本内容: Up to this point, we have considered internal energy and enthalpy changes for a system in which spec...\n",
      "\n",
      "2. 文本长度: 606\n",
      "文本内容: According to VSEPR theory, in both structures (I) and (II) the electron-group geometry around $\\math...\n",
      "\n",
      "3. 文本长度: 322\n",
      "文本内容: 13. Sulfur forms two compounds with oxygen. In the first  compound, $1.000\\mathrm{~g~}$ sulfur is co...\n",
      "\n",
      "4. 文本长度: 565\n",
      "文本内容: (a) Show that these data are consistent with the law of multiple proportions. formulas for compounds...\n",
      "\n",
      "5. 文本长度: 565\n",
      "文本内容: When the ionization energies of a series of isoelectronic atoms and ions are compared, an interestin...\n",
      "\n",
      "6. 文本长度: 312\n",
      "文本内容: (a) How many grams of $\\mathrm{{Ca}(O H)}_{2}$ are required to react completely with $415\\,\\mathrm{m...\n",
      "\n",
      "7. 文本长度: 382\n",
      "文本内容: Step 3. Balance each half-equation for electric charge. Add the number of electrons necessary to get...\n",
      "\n",
      "8. 文本长度: 1377\n",
      "文本内容: Let us now look at the computed electrostatic potential maps for NaCl, $\\mathrm{Cl}_{2},\n",
      "\n",
      "$  and HCl...\n",
      "\n",
      "9. 文本长度: 408\n",
      "文本内容: 54. Think of the reaction shown here as involving the transfer of a fluoride ion from $\\mathrm{clF}_...\n",
      "\n",
      "10. 文本长度: 643\n",
      "文本内容: When a liquid is in contact with the atmosphere, energetic molecules at the surface of the liquid ca...\n"
     ]
    }
   ],
   "source": [
    "import random\n",
    "\n",
    "# 设置开发集和训练集的大小\n",
    "dev_size = 3\n",
    "train_size = 10\n",
    "chunk_size = 300\n",
    "max_attempts = 5000\n",
    "\n",
    "# 创建两个列表分别存储开发集和训练集数据\n",
    "dev_data = []\n",
    "train_data = []\n",
    "used_texts = set()  # 用于检查重复\n",
    "\n",
    "attempts = 0\n",
    "\n",
    "# 先采样开发集\n",
    "while len(dev_data) < dev_size and attempts < max_attempts:\n",
    "    item = random.choice(data)\n",
    "    if item.get('type') == 'text':\n",
    "        text = item['text']\n",
    "        if len(text) > chunk_size and text not in used_texts:\n",
    "            dev_data.append(item)\n",
    "            used_texts.add(text)\n",
    "    attempts += 1\n",
    "\n",
    "# 再采样训练集\n",
    "while len(train_data) < train_size and attempts < max_attempts:\n",
    "    item = random.choice(data)\n",
    "    if item.get('type') == 'text':\n",
    "        text = item['text']\n",
    "        if len(text) > chunk_size and text not in used_texts:\n",
    "            train_data.append(item)\n",
    "            used_texts.add(text)\n",
    "    attempts += 1\n",
    "\n",
    "print(f\"随机抽取到{len(dev_data)}个开发集文本:\")\n",
    "for i, item in enumerate(dev_data, 1):\n",
    "    print(f\"\\n{i}. 文本长度: {len(item['text'])}\")\n",
    "    print(f\"文本内容: {item['text'][:100]}...\")\n",
    "\n",
    "print(f\"\\n随机抽取到{len(train_data)}个训练集文本:\")\n",
    "for i, item in enumerate(train_data, 1):\n",
    "    print(f\"\\n{i}. 文本长度: {len(item['text'])}\")\n",
    "    print(f\"文本内容: {item['text'][:100]}...\")\n",
    "\n"
   ]
  },
  {
   "cell_type": "code",
   "execution_count": 64,
   "metadata": {},
   "outputs": [],
   "source": [
    "extractor = ChemOntology()\n",
    "extractors = [extractor.load(location) for location in ['v1', 'v2', 'medium_100trainset_v1']]\n"
   ]
  },
  {
   "cell_type": "code",
   "execution_count": 100,
   "metadata": {},
   "outputs": [],
   "source": [
    "temp = ChemOntology()\n",
    "temp1 = ChemOntology()\n",
    "temp2 = ChemOntology()\n",
    "\n",
    "temp.load('v1.json')\n",
    "temp1.load('v2')\n",
    "temp2.load('medium_100trainset_v1')\n",
    "\n",
    "extractors = []\n",
    "\n",
    "extractors.append(temp)\n",
    "extractors.append(temp1)\n",
    "extractors.append(temp2)"
   ]
  },
  {
   "cell_type": "code",
   "execution_count": 101,
   "metadata": {},
   "outputs": [
    {
     "data": {
      "text/plain": [
       "[extractor = Predict(StringSignature(text -> reasoning, ontology\n",
       "     instructions='Analyze the provided text from research papers in the field of chemistry to identify all chemistry-related entities, data properties, and object properties within an ontological framework.\\n\\nFollow these Step-by-Step Analysis:\\n\\n1. Extract Chemistry-Related Entities:\\n  - Identify all significant nouns, proper nouns, and technical terminologies that represent chemistry-related concepts, such as molecules, reactions, compounds, processes, or any substantial entities.\\n  - Ensure that you capture entities across different levels of detail, from broad chemical categories to specific molecular structures, to create a comprehensive representation of the subject matter.\\n  - Choose names for entities that are specific enough to indicate their meaning without additional context, avoiding overly generic terms.\\n  - Consolidate similar entities to avoid redundancy, ensuring each represents a distinct concept at appropriate granularity levels.\\n\\n2. Identify Data Properties:\\n  - Extract attributes or characteristics of the identified entities that can be classified as data properties, ensuring they are value-based and not entities themselves.\\n  - Clearly define each data property, ensuring it accurately describes an attribute of an entity.\\n\\n3. Establish Object Properties:\\n  - Carefully examine the text to identify all relationships between entities, ensuring each relationship is correctly captured with accurate details about the interactions.\\n  - Analyze the context and interactions between the identified entities to determine how they are interconnected, focusing on actions, associations, dependencies, or similarities.\\n  - Clearly define the relationships, ensuring accurate directionality that reflects the logical or functional dependencies among entities.\\n\\nObjective: Produce a detailed and comprehensive ontology that captures the full spectrum of chemistry-related entities, data properties, and object properties mentioned in the text, along with their interrelations, reflecting both broad concepts and intricate details specific to the chemistry domain.'\n",
       "     text = Field(annotation=str required=True json_schema_extra={'desc': 'a paragraph of text to extract entities, data properties, and object properties to form an ontology', '__dspy_field_type': 'input', 'prefix': 'Text:'})\n",
       "     reasoning = Field(annotation=str required=True json_schema_extra={'prefix': \"Reasoning: Let's think step by step in order to\", 'desc': '${reasoning}', '__dspy_field_type': 'output'})\n",
       "     ontology = Field(annotation=Ontology required=True json_schema_extra={'desc': 'List representation of the ontology extracted from the text.', '__dspy_field_type': 'output', 'prefix': 'Ontology:'})\n",
       " )),\n",
       " extractor = Predict(StringSignature(text -> reasoning, ontology\n",
       "     instructions='Analyze the provided text from research papers in the field of chemistry to identify all chemistry-related entities, data properties, and object properties within an ontological framework.\\n\\nFollow these Step-by-Step Analysis:\\n\\n1. Extract Chemistry-Related Entities:\\n  - Identify all significant nouns, proper nouns, and technical terminologies that represent chemistry-related concepts, such as molecules, reactions, compounds, processes, or any substantial entities.\\n  - Ensure that you capture entities across different levels of detail, from broad chemical categories to specific molecular structures, to create a comprehensive representation of the subject matter.\\n  - Choose names for entities that are specific enough to indicate their meaning without additional context, avoiding overly generic terms.\\n  - Consolidate similar entities to avoid redundancy, ensuring each represents a distinct concept at appropriate granularity levels.\\n\\n2. Identify Data Properties:\\n  - Extract attributes or characteristics of the identified entities that can be classified as data properties, ensuring they are value-based and not entities themselves.\\n  - Clearly define each data property, ensuring it accurately describes an attribute of an entity.\\n\\n3. Establish Object Properties:\\n  - Carefully examine the text to identify all relationships between entities, ensuring each relationship is correctly captured with accurate details about the interactions.\\n  - Analyze the context and interactions between the identified entities to determine how they are interconnected, focusing on actions, associations, dependencies, or similarities.\\n  - Clearly define the relationships, ensuring accurate directionality that reflects the logical or functional dependencies among entities.\\n\\nObjective: Produce a detailed and comprehensive ontology that captures the full spectrum of chemistry-related entities, data properties, and object properties mentioned in the text, along with their interrelations, reflecting both broad concepts and intricate details specific to the chemistry domain.'\n",
       "     text = Field(annotation=str required=True json_schema_extra={'desc': 'a paragraph of text to extract entities, data properties, and object properties to form an ontology', '__dspy_field_type': 'input', 'prefix': 'Text:'})\n",
       "     reasoning = Field(annotation=str required=True json_schema_extra={'prefix': \"Reasoning: Let's think step by step in order to\", 'desc': '${reasoning}', '__dspy_field_type': 'output'})\n",
       "     ontology = Field(annotation=Ontology required=True json_schema_extra={'desc': 'List representation of the ontology extracted from the text.', '__dspy_field_type': 'output', 'prefix': 'Ontology:'})\n",
       " )),\n",
       " extractor = Predict(StringSignature(text -> reasoning, ontology\n",
       "     instructions='Analyze the provided text from research papers in the field of chemistry to identify all chemistry-related entities, data properties, and object properties within an ontological framework.\\n\\nFollow these Step-by-Step Analysis:\\n\\n1. Extract Chemistry-Related Entities:\\n  - Identify all significant nouns, proper nouns, and technical terminologies that represent chemistry-related concepts, such as molecules, reactions, compounds, processes, or any substantial entities.\\n  - Ensure that you capture entities across different levels of detail, from broad chemical categories to specific molecular structures, to create a comprehensive representation of the subject matter.\\n  - Choose names for entities that are specific enough to indicate their meaning without additional context, avoiding overly generic terms.\\n  - Consolidate similar entities to avoid redundancy, ensuring each represents a distinct concept at appropriate granularity levels.\\n\\n2. Identify Data Properties:\\n  - Extract attributes or characteristics of the identified entities that can be classified as data properties, ensuring they are value-based and not entities themselves.\\n  - Clearly define each data property, ensuring it accurately describes an attribute of an entity.\\n\\n3. Establish Object Properties:\\n  - Carefully examine the text to identify all relationships between entities, ensuring each relationship is correctly captured with accurate details about the interactions.\\n  - Analyze the context and interactions between the identified entities to determine how they are interconnected, focusing on actions, associations, dependencies, or similarities.\\n  - Clearly define the relationships, ensuring accurate directionality that reflects the logical or functional dependencies among entities.\\n\\nObjective: Produce a detailed and comprehensive ontology that captures the full spectrum of chemistry-related entities, data properties, and object properties mentioned in the text, along with their interrelations, reflecting both broad concepts and intricate details specific to the chemistry domain.'\n",
       "     text = Field(annotation=str required=True json_schema_extra={'desc': 'a paragraph of text to extract entities, data properties, and object properties to form an ontology', '__dspy_field_type': 'input', 'prefix': 'Text:'})\n",
       "     reasoning = Field(annotation=str required=True json_schema_extra={'prefix': \"Reasoning: Let's think step by step in order to\", 'desc': '${reasoning}', '__dspy_field_type': 'output'})\n",
       "     ontology = Field(annotation=Ontology required=True json_schema_extra={'desc': 'List representation of the ontology extracted from the text.', '__dspy_field_type': 'output', 'prefix': 'Ontology:'})\n",
       " ))]"
      ]
     },
     "execution_count": 101,
     "metadata": {},
     "output_type": "execute_result"
    }
   ],
   "source": [
    "extractors"
   ]
  },
  {
   "cell_type": "code",
   "execution_count": 104,
   "metadata": {},
   "outputs": [
    {
     "name": "stdout",
     "output_type": "stream",
     "text": [
      "生成了10个开发集样本\n"
     ]
    }
   ],
   "source": [
    "# 创建devset\n",
    "devset = []\n",
    "\n",
    "for sample in dev_data:\n",
    "    context = sample['text']\n",
    "    ontology = random.choice(extractors)(context)\n",
    "    score = 0\n",
    "\n",
    "    # 添加到devset\n",
    "    devset.append(dspy.Example(\n",
    "        context=context,\n",
    "        ontology=ontology,\n",
    "        score=score\n",
    "    ).with_inputs(\"context\", \"ontology\"))\n",
    "    print(\"生成了一个样本\")\n",
    "\n",
    "print(f\"生成了{len(devset)}个开发集样本\")\n"
   ]
  },
  {
   "cell_type": "code",
   "execution_count": 8,
   "metadata": {},
   "outputs": [
    {
     "name": "stdout",
     "output_type": "stream",
     "text": [
      "生成了3个开发集样本\n"
     ]
    }
   ],
   "source": [
    "# 创建devset_no_ontology\n",
    "devset_no_ontology = []\n",
    "\n",
    "for sample in dev_data:\n",
    "    context = sample['text']\n",
    "\n",
    "    # 添加到devset\n",
    "    devset_no_ontology.append(dspy.Example(\n",
    "        context=context\n",
    "    ).with_inputs(\"context\"))\n",
    "\n",
    "print(f\"生成了{len(devset_no_ontology)}个开发集样本\")\n"
   ]
  },
  {
   "cell_type": "code",
   "execution_count": 109,
   "metadata": {},
   "outputs": [
    {
     "name": "stdout",
     "output_type": "stream",
     "text": [
      "生成了一个样本\n",
      "生成了一个样本\n",
      "生成了一个样本\n",
      "生成了一个样本\n",
      "生成了一个样本\n",
      "生成了一个样本\n"
     ]
    },
    {
     "name": "stderr",
     "output_type": "stream",
     "text": [
      "<unknown>:27: SyntaxWarning: invalid escape sequence '\\D'\n"
     ]
    },
    {
     "name": "stdout",
     "output_type": "stream",
     "text": [
      "生成了一个样本\n",
      "生成了一个样本\n",
      "生成了一个样本\n",
      "生成了一个样本\n",
      "生成了10个训练集样本\n"
     ]
    }
   ],
   "source": [
    "# 创建trainset\n",
    "trainset = []\n",
    "\n",
    "for sample in train_data:\n",
    "    context = sample['text']\n",
    "    ontology = random.choice(extractors)(context)\n",
    "    score = 0\n",
    "    \n",
    "    # 添加到trainset\n",
    "    trainset.append(dspy.Example(\n",
    "        context=context,\n",
    "        ontology=ontology,\n",
    "        score=score\n",
    "    ).with_inputs(\"context\", \"ontology\"))\n",
    "    print(\"生成了一个样本\")\n",
    "\n",
    "print(f\"生成了{len(trainset)}个训练集样本\")\n"
   ]
  },
  {
   "cell_type": "code",
   "execution_count": 9,
   "metadata": {},
   "outputs": [
    {
     "name": "stdout",
     "output_type": "stream",
     "text": [
      "生成了10个训练集样本\n"
     ]
    }
   ],
   "source": [
    "# 创建trainset_no_ontology\n",
    "trainset_no_ontology = []\n",
    "\n",
    "for sample in train_data:\n",
    "    context = sample['text']\n",
    "    \n",
    "    # 添加到trainset_no_ontology\n",
    "    trainset_no_ontology.append(dspy.Example(\n",
    "        context=context\n",
    "    ).with_inputs(\"context\"))\n",
    "\n",
    "print(f\"生成了{len(trainset_no_ontology)}个训练集样本\")\n"
   ]
  },
  {
   "cell_type": "code",
   "execution_count": 113,
   "metadata": {},
   "outputs": [],
   "source": [
    "# 将trainset和devset保存为json格式\n",
    "import json\n",
    "\n",
    "# 将数据集转换为可序列化的格式\n",
    "def convert_to_serializable(dataset):\n",
    "    serializable_data = []\n",
    "    for example in dataset:\n",
    "        serializable_data.append({\n",
    "            'context': example.context,\n",
    "            'ontology': ontology_to_string(example.ontology.ontology),\n",
    "            'score': example.score\n",
    "        })\n",
    "    return serializable_data\n"
   ]
  },
  {
   "cell_type": "code",
   "execution_count": 114,
   "metadata": {},
   "outputs": [
    {
     "name": "stdout",
     "output_type": "stream",
     "text": [
      "数据集已保存为JSON格式到data目录\n"
     ]
    }
   ],
   "source": [
    "\n",
    "# 保存trainset\n",
    "with open('data/trainset.json', 'w', encoding='utf-8') as f:\n",
    "    json.dump(convert_to_serializable(trainset), f, ensure_ascii=False, indent=2)\n",
    "\n",
    "# 保存devset\n",
    "with open('data/devset.json', 'w', encoding='utf-8') as f:\n",
    "    json.dump(convert_to_serializable(devset), f, ensure_ascii=False, indent=2)\n",
    "\n",
    "print(\"数据集已保存为JSON格式到data目录\")\n"
   ]
  },
  {
   "cell_type": "code",
   "execution_count": null,
   "metadata": {},
   "outputs": [],
   "source": [
    "\n",
    "# 从JSON文件读取数据集\n",
    "def load_datasets_from_json():\n",
    "    # 读取trainset\n",
    "    with open('data/trainset.json', 'r', encoding='utf-8') as f:\n",
    "        trainset_data = json.load(f)\n",
    "    \n",
    "    # 读取devset  \n",
    "    with open('data/devset.json', 'r', encoding='utf-8') as f:\n",
    "        devset_data = json.load(f)\n",
    "        \n",
    "    # 转换回dspy.Example格式\n",
    "    trainset = []\n",
    "    devset = []\n",
    "    \n",
    "    for item in trainset_data:\n",
    "        example = dspy.Example(\n",
    "            context=item['context'],\n",
    "            ontology=Ontology(item['ontology']),\n",
    "            score=item['score']\n",
    "        ).with_inputs(\"context\", \"ontology\")\n",
    "        trainset.append(example)\n",
    "        \n",
    "    for item in devset_data:\n",
    "        example = dspy.Example(\n",
    "            context=item['context'], \n",
    "            ontology=Ontology(item['ontology']),\n",
    "            score=item['score']\n",
    "        ).with_inputs(\"context\", \"ontology\")\n",
    "        devset.append(example)\n",
    "        \n",
    "    return trainset, devset\n",
    "\n",
    "# 加载数据集\n",
    "trainset, devset = load_datasets_from_json()\n",
    "print(\"已从JSON文件加载数据集\")\n"
   ]
  },
  {
   "cell_type": "code",
   "execution_count": 13,
   "metadata": {},
   "outputs": [
    {
     "name": "stdout",
     "output_type": "stream",
     "text": [
      "Example({'context': '97.A $7.26\\\\,\\\\mathrm{kg}$ shot (as used in the sporting event, the shot put) is dropped from the top of a building $168~\\\\mathrm{m}$ high. What is the maximum temperature increase that could occur in the shot? Assume a specific heat capacity of $0.47\\\\,\\\\mathrm{J}\\\\,\\\\mathrm{g}^{-1}\\\\,^{\\\\circ}\\\\mathrm{C}^{-1}$ for the shot. Why would the actual measured temperature increase likely be less than the calculated value?\\n\\n '}) (input_keys={'context'})\n"
     ]
    }
   ],
   "source": [
    "print(devset_no_ontology[0])"
   ]
  },
  {
   "cell_type": "code",
   "execution_count": 108,
   "metadata": {},
   "outputs": [
    {
     "name": "stdout",
     "output_type": "stream",
     "text": [
      "Context:\n",
      "The situation with magnesium chloride is similar. In magnesium chloride, found in trace quantities in table salt, magnesium atoms lose two electrons to become magnesium ions, $\\mathrm{Mg}^{2+}$ $\\mathrm{Mg}$ is in group 2). To obtain an electrically neutral formula unit, there must be two $\\mathrm{Cl}^{-}$ ions, each with a charge of $^{-1}$ for every $\\mathrm{Mg}^{2+}$ ion. The formula of magnesium chloride is $\\mathrm{MgCl}_{2}$ \n",
      "\n",
      "Ontology:\n",
      "Entities:\n",
      "  - Name: Magnesium Chloride(MgCl2)\n",
      "    Information: Magnesium chloride is a compound found in trace quantities in table salt, with the formula MgCl2.\n",
      "  - Name: Magnesium Ion(Mg2+)\n",
      "    Information: Magnesium ions are formed when magnesium atoms lose two electrons, resulting in a charge of +2.\n",
      "  - Name: Chloride Ion(Cl-)\n",
      "    Information: Chloride ions have a charge of -1 and pair with magnesium ions to form magnesium chloride.\n",
      "\n",
      "Data Properties:\n",
      "  - Name: charge_of_magnesium_ion\n",
      "    Information: The charge of the magnesium ion is +2.\n",
      "  - Name: charge_of_chloride_ion\n",
      "    Information: The charge of the chloride ion is -1.\n",
      "  - Name: formula_of_magnesium_chloride\n",
      "    Information: The formula of magnesium chloride is MgCl2.\n",
      "\n",
      "Object Properties:\n",
      "  - Name: requires_for_neutrality\n",
      "    Domain: Magnesium Ion(Mg2+)\n",
      "    Range: Chloride Ion(Cl-)\n",
      "    Restriction: some\n",
      "    Information: To obtain an electrically neutral formula unit, there must be two Cl- ions for every Mg2+ ion.\n",
      "\n",
      "--------------------------------------------------\n",
      "\n",
      "Context:\n",
      "For the elements $\\mathsf{K},\\mathsf{C}\\mathsf{I}.$ and $\\bigcirc$ in the following equations, the requirement that the number of atoms be equal on either side of the equation is met. Why is  none of them an acceptable balanced equation for the decomposition of solid potassium chlorate yielding solid potassium chloride and oxygen gas? \n",
      "\n",
      "Ontology:\n",
      "Entities:\n",
      "  - Name: PotassiumChlorate(KClO3)\n",
      "    Information: Potassium chlorate is a compound that decomposes into potassium chloride and oxygen gas.\n",
      "  - Name: PotassiumChloride(KCl)\n",
      "    Information: Potassium chloride is a solid product formed from the decomposition of potassium chlorate.\n",
      "  - Name: Oxygen(O2)\n",
      "    Information: Oxygen is a gas produced from the decomposition of potassium chlorate.\n",
      "\n",
      "Data Properties:\n",
      "  - Name: state\n",
      "    Information: The physical state of potassium chlorate is solid.\n",
      "  - Name: state\n",
      "    Information: The physical state of potassium chloride is solid.\n",
      "  - Name: state\n",
      "    Information: The physical state of oxygen is gas.\n",
      "\n",
      "Object Properties:\n",
      "  - Name: decomposes_into\n",
      "    Domain: PotassiumChlorate(KClO3)\n",
      "    Range: PotassiumChloride(KCl)\n",
      "    Restriction: some\n",
      "    Information: Potassium chlorate decomposes into potassium chloride and oxygen gas.\n",
      "  - Name: produces\n",
      "    Domain: PotassiumChlorate(KClO3)\n",
      "    Range: Oxygen(O2)\n",
      "    Restriction: some\n",
      "    Information: Potassium chlorate produces oxygen gas upon decomposition.\n",
      "\n",
      "--------------------------------------------------\n",
      "\n",
      "Context:\n",
      "(a) A $5.00\\;\\mathrm{{mL}}$ sample of vinegar, a small quantity of water, and a few drops of  phenolphthalein indicator are added to a flask. (b) 0.1000 M NaOH from a previously. filled buret is slowly added. (c) As long as the acid is in excess, the solution in the flask remains colorless. When the acid has been neutralized, an additional drop of NaOH(aq) causes the solution to become slightly basic. The phenolphthalein indicator turns a light pink. The first lasting appearance of the pink color is taken to be the equivalence point of the titration. \n",
      "\n",
      "Ontology:\n",
      "Entities:\n",
      "  - Name: Vinegar\n",
      "    Information: Vinegar is a solution containing acetic acid, used as the analyte in the titration.\n",
      "  - Name: Water\n",
      "    Information: Water is a solvent added to the vinegar.\n",
      "  - Name: Phenolphthalein Indicator\n",
      "    Information: Phenolphthalein Indicator is a chemical that changes color at a certain pH, used to indicate the equivalence point.\n",
      "  - Name: NaOH\n",
      "    Information: NaOH is a strong base used as the titrant in the titration.\n",
      "  - Name: Equivalence Point\n",
      "    Information: The Equivalence Point is the point in the titration where the amount of titrant added is stoichiometrically equivalent to the amount of analyte in the sample.\n",
      "\n",
      "Data Properties:\n",
      "  - Name: Volume_of_Vinegar\n",
      "    Information: The volume of the vinegar sample is 5.00 mL.\n",
      "  - Name: Concentration_of_NaOH\n",
      "    Information: The concentration of NaOH used in the titration is 0.1000 M.\n",
      "\n",
      "Object Properties:\n",
      "  - Name: neutralizes\n",
      "    Domain: NaOH\n",
      "    Range: Vinegar\n",
      "    Restriction: some\n",
      "    Information: NaOH neutralizes the acetic acid in vinegar during the titration.\n",
      "  - Name: indicates\n",
      "    Domain: Phenolphthalein Indicator\n",
      "    Range: Equivalence Point\n",
      "    Restriction: some\n",
      "    Information: The phenolphthalein indicator shows the equivalence point by changing color.\n",
      "\n",
      "--------------------------------------------------\n",
      "\n",
      "Context:\n",
      " Reactions involving gases as reactants or products (or both) are no strangers to us. We now have a new tool to apply to reaction stoichiometry calculations: the ideal gas equation. Specifically, we can now handle information about gases in terms of volumes, temperatures, and pressures, as well as by mass and amount in moles. A practical application is the nitrogen-forming reaction in an automobile air-bag safety system, which utilizes the rapid decomposi- tion of sodium azide. \n",
      "\n",
      "Ontology:\n",
      "Entities:\n",
      "  - Name: Gas\n",
      "    Information: Gases are substances that can be reactants or products in chemical reactions, and their properties can be described in terms of volume, temperature, and pressure.\n",
      "  - Name: Ideal Gas Equation\n",
      "    Information: The ideal gas equation is a tool used in reaction stoichiometry calculations to handle information about gases.\n",
      "  - Name: Nitrogen\n",
      "    Information: Nitrogen is a gas that is formed in the nitrogen-forming reaction in an automobile air-bag safety system.\n",
      "  - Name: Automobile Air-Bag Safety System\n",
      "    Information: An automobile air-bag safety system utilizes the rapid decomposition of sodium azide to form nitrogen.\n",
      "  - Name: Sodium Azide\n",
      "    Information: Sodium azide is a compound that rapidly decomposes to form nitrogen in an automobile air-bag safety system.\n",
      "\n",
      "Data Properties:\n",
      "  - Name: volume\n",
      "    Information: Volume is a property of gases that can be used in stoichiometry calculations with the ideal gas equation.\n",
      "  - Name: temperature\n",
      "    Information: Temperature is a property of gases that can be used in stoichiometry calculations with the ideal gas equation.\n",
      "  - Name: pressure\n",
      "    Information: Pressure is a property of gases that can be used in stoichiometry calculations with the ideal gas equation.\n",
      "  - Name: mass\n",
      "    Information: Mass is a property of gases that can be used in stoichiometry calculations with the ideal gas equation.\n",
      "  - Name: amount_in_moles\n",
      "    Information: Amount in moles is a property of gases that can be used in stoichiometry calculations with the ideal gas equation.\n",
      "\n",
      "Object Properties:\n",
      "  - Name: decomposes_to\n",
      "    Domain: Sodium Azide\n",
      "    Range: Nitrogen\n",
      "    Restriction: some\n",
      "    Information: Sodium azide decomposes to form nitrogen in an automobile air-bag safety system.\n",
      "  - Name: utilizes\n",
      "    Domain: Automobile Air-Bag Safety System\n",
      "    Range: Sodium Azide\n",
      "    Restriction: some\n",
      "    Information: An automobile air-bag safety system utilizes sodium azide for the rapid decomposition to form nitrogen.\n",
      "\n",
      "--------------------------------------------------\n",
      "\n",
      "Context:\n",
      "The equation $p=h/\\lambda$ also helps us understand the effect of a transfer of momen- tum in a collision of a photon with another particle, such as an electron. If a photon transfers some of its momentum to another particle, then the momentum, $p,$ Of the photon decreases and, as a consequence, its wavelength, $\\lambda,$  increases. The change in wavelength that occurs when light is scattered by electrons in atoms in a crystal (the Compton effect) was first observed in 1923. The Compton effect provides additional confirmation that light consists of particle-like entities that can transfer momentum to other particles through collisions. \n",
      "\n",
      "Ontology:\n",
      "Entities:\n",
      "  - Name: Photon\n",
      "    Information: A photon is a particle-like entity of light that can transfer momentum to other particles through collisions.\n",
      "  - Name: Electron\n",
      "    Information: An electron is a subatomic particle that can interact with photons, resulting in a change in the photon's momentum and wavelength.\n",
      "  - Name: Momentum\n",
      "    Information: Momentum is a property of a photon that can be transferred to another particle, such as an electron, during a collision.\n",
      "  - Name: Wavelength\n",
      "    Information: Wavelength is a property of a photon that increases when its momentum decreases after a collision.\n",
      "  - Name: Compton Effect\n",
      "    Information: The Compton effect is a phenomenon where light is scattered by electrons in atoms in a crystal, resulting in a change in wavelength.\n",
      "\n",
      "Data Properties:\n",
      "  - Name: momentum_wavelength_relationship\n",
      "    Information: The equation $p=h/\\lambda$ describes the relationship between the momentum and wavelength of a photon.\n",
      "\n",
      "Object Properties:\n",
      "  - Name: transfers_momentum_to\n",
      "    Domain: Photon\n",
      "    Range: Electron\n",
      "    Restriction: some\n",
      "    Information: A photon transfers some of its momentum to an electron during a collision.\n",
      "  - Name: results_in_wavelength_increase\n",
      "    Domain: Photon\n",
      "    Range: Wavelength\n",
      "    Restriction: some\n",
      "    Information: When a photon transfers momentum to another particle, its wavelength increases.\n",
      "  - Name: is_confirmed_by\n",
      "    Domain: Compton Effect\n",
      "    Range: Photon\n",
      "    Restriction: only\n",
      "    Information: The Compton effect provides confirmation that light consists of particle-like entities, such as photons.\n",
      "\n",
      "--------------------------------------------------\n",
      "\n",
      "Context:\n",
      "55. We want to determine the acetyl s ali cyclic acid content  of a series of aspirin tablets by titration with NaOH(aq). Each of the tablets is expected to contain about $0.32\\,\\mathrm{g}$ of $\\mathrm{HC_{9}H_{7}O_{4}}$  What molarity of NaOH(aq) should we use for titration volumes of about $23~\\mathrm{mL}?$ (This procedure ensures good precision and allows the titration of two samples with the contents of a $50\\,\\mathrm{mL}$ buret.) \n",
      "\n",
      "Ontology:\n",
      "Entities:\n",
      "  - Name: Acetylsalicylic Acid(ASA)\n",
      "    Information: Acetylsalicylic Acid (ASA) is the compound being analyzed in the aspirin tablets.\n",
      "  - Name: Aspirin Tablet\n",
      "    Information: Aspirin Tablet is the sample containing Acetylsalicylic Acid (ASA) for analysis.\n",
      "  - Name: Sodium Hydroxide(NaOH)\n",
      "    Information: Sodium Hydroxide (NaOH) is the titrant used in the titration procedure.\n",
      "\n",
      "Data Properties:\n",
      "  - Name: ASA_Content\n",
      "    Information: Each aspirin tablet is expected to contain about 0.32 g of Acetylsalicylic Acid (ASA).\n",
      "  - Name: Titration_Volume\n",
      "    Information: The titration is performed with a volume of about 23 mL of NaOH solution.\n",
      "\n",
      "Object Properties:\n",
      "  - Name: contains\n",
      "    Domain: Aspirin Tablet\n",
      "    Range: Acetylsalicylic Acid(ASA)\n",
      "    Restriction: some\n",
      "    Information: The aspirin tablet contains Acetylsalicylic Acid (ASA).\n",
      "  - Name: used_for\n",
      "    Domain: Sodium Hydroxide(NaOH)\n",
      "    Range: Acetylsalicylic Acid(ASA)\n",
      "    Restriction: some\n",
      "    Information: Sodium Hydroxide (NaOH) is used for the titration of Acetylsalicylic Acid (ASA).\n",
      "\n",
      "--------------------------------------------------\n",
      "\n",
      "Context:\n",
      "Example 4-17 illustrates the calculation of the extent of reaction and introduces a tabular approach for summarizing the changes in amounts of reactants and prod- ucts. This tabular approach will be particularly useful in later chapters (for exam- ple, in Chapters 15 to 18), when our primary focus is on reactions that occur to a limited extent. \n",
      "\n",
      "Ontology:\n",
      "Entities:\n",
      "  - Name: Extent of Reaction\n",
      "    Information: The extent of reaction is a measure of the progress of a chemical reaction, indicating the amount of reactants converted to products.\n",
      "  - Name: Tabular Approach\n",
      "    Information: The tabular approach is a method used to summarize the changes in amounts of reactants and products during a chemical reaction.\n",
      "  - Name: Reactants\n",
      "    Information: Reactants are the starting substances in a chemical reaction that are consumed to form products.\n",
      "  - Name: Products\n",
      "    Information: Products are the substances formed as a result of a chemical reaction.\n",
      "  - Name: Chemical Reaction\n",
      "    Information: A chemical reaction is a process that leads to the transformation of one set of chemical substances to another.\n",
      "\n",
      "Data Properties:\n",
      "  - Name: calculation\n",
      "    Information: The extent of reaction involves a calculation to determine the progress of the reaction.\n",
      "  - Name: summarization\n",
      "    Information: The tabular approach involves summarization of changes in reactants and products.\n",
      "\n",
      "Object Properties:\n",
      "  - Name: applies_to\n",
      "    Domain: Tabular Approach\n",
      "    Range: Chemical Reaction\n",
      "    Restriction: some\n",
      "    Information: The tabular approach applies to chemical reactions to summarize changes in reactants and products.\n",
      "  - Name: involves\n",
      "    Domain: Extent of Reaction\n",
      "    Range: Reactants\n",
      "    Restriction: some\n",
      "    Information: The extent of reaction involves the conversion of reactants.\n",
      "  - Name: results_in\n",
      "    Domain: Extent of Reaction\n",
      "    Range: Products\n",
      "    Restriction: some\n",
      "    Information: The extent of reaction results in the formation of products.\n",
      "\n",
      "--------------------------------------------------\n",
      "\n",
      "Context:\n",
      " 34. Explain why these reactions cannot occur as written. (a) (b) $\\begin{array}{r}{\\mathrm{Fe^{3+}(a\\dot{q})\\,+\\,M n O_{4}^{\\,-}(a q)\\,+\\,H^{+}(a q)\\,\\longrightarrow}}\\\\ {\\mathrm{Mn^{2+}(a q)\\,+\\,F e^{2+}(a q)\\,+\\,H_{2}O(l)}}\\\\ {\\mathrm{H_{2}O_{2}(a q)\\,+\\,C l_{2}(a q)\\,\\longrightarrow}}\\\\ {\\mathrm{..\\qquad\\qquad\\,\\,\\,\\,\\,\\,\\,\\,\\,\\,\\,\\,\\,\\,\\,\\,\\,\\,\\,\\,\\,\\,\\,\\,\\,\\,\\,\\,\\,\\,\\,\\,\\,\\,\\,\\,\\,\\,\\,\\,\\,\\,\\,\\,\\,\\,\\,\\,\\,\\,\\,\\,\\,\\,\\,\\,\\,\\,\\,\\,\\,\\,\\,\\,\\,\\,\\,\\,}}\\end{array}$ \n",
      "\n",
      "Ontology:\n",
      "Entities:\n",
      "  - Name: Iron(III) ion (Fe³⁺)\n",
      "    Information: Iron(III) ion, denoted as Fe³⁺, is a chemical species involved in the reaction.\n",
      "  - Name: Permanganate ion (MnO₄⁻)\n",
      "    Information: Permanganate ion, denoted as MnO₄⁻, is a chemical species involved in the reaction.\n",
      "  - Name: Hydrogen ion (H⁺)\n",
      "    Information: Hydrogen ion, denoted as H⁺, is a chemical species involved in the reaction.\n",
      "  - Name: Manganese(II) ion (Mn²⁺)\n",
      "    Information: Manganese(II) ion, denoted as Mn²⁺, is a chemical species involved in the reaction.\n",
      "  - Name: Iron(II) ion (Fe²⁺)\n",
      "    Information: Iron(II) ion, denoted as Fe²⁺, is a chemical species involved in the reaction.\n",
      "  - Name: Water (H₂O)\n",
      "    Information: Water, denoted as H₂O, is a product in the reaction.\n",
      "  - Name: Hydrogen peroxide (H₂O₂)\n",
      "    Information: Hydrogen peroxide, denoted as H₂O₂, is a reactant in the reaction.\n",
      "  - Name: Chlorine (Cl₂)\n",
      "    Information: Chlorine, denoted as Cl₂, is a reactant in the reaction.\n",
      "\n",
      "Data Properties:\n",
      "  - Name: state\n",
      "    Information: The state of the chemical species, such as aqueous (aq) or liquid (l).\n",
      "\n",
      "Object Properties:\n",
      "  - Name: reacts_with\n",
      "    Domain: Iron(III) ion (Fe³⁺)\n",
      "    Range: Permanganate ion (MnO₄⁻)\n",
      "    Restriction: some\n",
      "    Information: Iron(III) ion reacts with permanganate ion in the presence of hydrogen ion.\n",
      "  - Name: produces\n",
      "    Domain: Iron(III) ion (Fe³⁺)\n",
      "    Range: Manganese(II) ion (Mn²⁺)\n",
      "    Restriction: some\n",
      "    Information: The reaction involving Iron(III) ion and permanganate ion produces manganese(II) ion.\n",
      "  - Name: reacts_with\n",
      "    Domain: Hydrogen peroxide (H₂O₂)\n",
      "    Range: Chlorine (Cl₂)\n",
      "    Restriction: some\n",
      "    Information: Hydrogen peroxide reacts with chlorine.\n",
      "\n",
      "--------------------------------------------------\n",
      "\n",
      "Context:\n",
      "Although biofuels are appealing replacements for fossil fuels, their wide.  spread adoption has several potentiai drawbacks. One major concern is the food-versus-fuel issue. Typical plants used for food (e.g., sugarcane) are sources of biofuels, which drives up the cost of food. A positive aspect of biofu- els is that they are carbon neutral; that is, the $\\mathrm{CO}_{2}(\\mathrm{g})$ produced by the burning of a biofuel is then used by plants for new growth, resulting in no net gain of carbon in the atmosphere. Biofuels and their use have many other advantages and disadvantages. Importantly, chemical knowledge of these compounds is needed to address these issues. \n",
      "\n",
      "Ontology:\n",
      "Entities:\n",
      "  - Name: Biofuels\n",
      "    Information: Biofuels are appealing replacements for fossil fuels and are derived from typical plants used for food, such as sugarcane.\n",
      "  - Name: Fossil Fuels\n",
      "    Information: Fossil fuels are traditional energy sources that biofuels aim to replace.\n",
      "  - Name: Sugarcane\n",
      "    Information: Sugarcane is a typical plant used for food and is also a source of biofuels.\n",
      "  - Name: Carbon Dioxide (CO2)\n",
      "    Information: Carbon dioxide is a gas produced by the burning of biofuels and is used by plants for new growth.\n",
      "  - Name: Plants\n",
      "    Information: Plants use carbon dioxide produced by the burning of biofuels for new growth.\n",
      "\n",
      "Data Properties:\n",
      "  - Name: carbon_neutrality\n",
      "    Information: Biofuels are carbon neutral, meaning the CO2 produced by burning them is used by plants, resulting in no net gain of carbon in the atmosphere.\n",
      "\n",
      "Object Properties:\n",
      "  - Name: produces\n",
      "    Domain: Biofuels\n",
      "    Range: Carbon Dioxide (CO2)\n",
      "    Restriction: some\n",
      "    Information: Biofuels produce carbon dioxide when burned.\n",
      "  - Name: uses\n",
      "    Domain: Plants\n",
      "    Range: Carbon Dioxide (CO2)\n",
      "    Restriction: some\n",
      "    Information: Plants use carbon dioxide for new growth.\n",
      "\n",
      "--------------------------------------------------\n",
      "\n",
      "Context:\n",
      "$\\mathbf{CCl}_{4}$ . Carbon tetrachloride molecules are nonpolar. Based on the elec- tronegativity difference between Cl and C, we expect a bond dipole for the C—Cl bond. The fact that the resultant dipole moment is zero means that  the bond dipoles must be oriented in such a way that they cancel. The tetra- hedral molecular geometry of $\\mathrm{CCl_{4}}$ provides the symmetrical distribution of bond dipoles that leads to this cancellation, as shown in Figure 10-16(a).  Can you see that the molecule will be polar if one of the Cl atoms is  replaced by an atom with a different electronegativity, say H? In the mole- cule, $\\mathrm{CH}_{3},$ there is a resultant dipole moment (Fig. 10-16b). \n",
      "\n",
      "Ontology:\n",
      "Entities:\n",
      "  - Name: Carbon Tetrachloride(CCl4)\n",
      "    Information: Carbon tetrachloride is a molecule with the chemical formula CCl4, known for its nonpolar nature due to symmetrical distribution of bond dipoles.\n",
      "  - Name: Chlorine(Cl)\n",
      "    Information: Chlorine is a chemical element that forms part of the CCl4 molecule.\n",
      "  - Name: Carbon(C)\n",
      "    Information: Carbon is a chemical element that forms part of the CCl4 molecule.\n",
      "  - Name: Bond Dipole\n",
      "    Information: A bond dipole is a concept related to the molecular structure, indicating the polarity of a bond.\n",
      "  - Name: Tetrahedral Molecular Geometry\n",
      "    Information: Tetrahedral molecular geometry describes the shape of the CCl4 molecule, leading to symmetrical distribution of bond dipoles.\n",
      "  - Name: Resultant Dipole Moment\n",
      "    Information: Resultant dipole moment is the overall dipole moment of a molecule, which is zero for CCl4 due to its geometry.\n",
      "  - Name: Hydrogen(H)\n",
      "    Information: Hydrogen is a chemical element mentioned as a potential replacement for chlorine in CCl4, affecting the molecule's polarity.\n",
      "\n",
      "Data Properties:\n",
      "  - Name: Electronegativity_Difference\n",
      "    Information: Electronegativity difference is a characteristic of the bond between Cl and C, influencing the bond dipole.\n",
      "\n",
      "Object Properties:\n",
      "  - Name: has_bond_dipole\n",
      "    Domain: Carbon Tetrachloride(CCl4)\n",
      "    Range: Bond Dipole\n",
      "    Restriction: some\n",
      "    Information: Carbon tetrachloride has bond dipoles that cancel each other out due to its molecular geometry.\n",
      "  - Name: has_molecular_geometry\n",
      "    Domain: Carbon Tetrachloride(CCl4)\n",
      "    Range: Tetrahedral Molecular Geometry\n",
      "    Restriction: only\n",
      "    Information: Carbon tetrachloride has a tetrahedral molecular geometry that provides symmetrical distribution of bond dipoles.\n",
      "\n",
      "--------------------------------------------------\n",
      "\n"
     ]
    }
   ],
   "source": [
    "# 提取并格式化输出devset的context和ontology\n",
    "for dev in devset:\n",
    "    print(\"Context:\")\n",
    "    print(dev.context)\n",
    "    print(\"\\nOntology:\")\n",
    "    print(ontology_to_string(dev.ontology.ontology))\n",
    "    print(\"\\n\" + \"-\"*50 + \"\\n\")\n"
   ]
  },
  {
   "cell_type": "code",
   "execution_count": 86,
   "metadata": {},
   "outputs": [
    {
     "name": "stdout",
     "output_type": "stream",
     "text": [
      "完成一个样本\n"
     ]
    }
   ],
   "source": [
    "scores = []\n",
    "extractor = ChemOntology()\n",
    "for dev in devset[:1]:\n",
    "    pred = extractor(dev['context'])\n",
    "    score = metric(dev, pred, verbose=True)\n",
    "    print(\"完成一个样本\")\n",
    "    scores.append(score)\n"
   ]
  },
  {
   "cell_type": "code",
   "execution_count": 87,
   "metadata": {},
   "outputs": [
    {
     "name": "stdout",
     "output_type": "stream",
     "text": [
      "\n",
      "Entity Accuracy Score: 5\n",
      "Data Property Correctness Score: 4\n",
      "Object Property Completeness Score: 3\n",
      "Ontology Structure Score: 3\n",
      "Overall Score: 8\n",
      "\n",
      "Total Score: 23\n",
      "Percentage Score: 85.19%\n",
      "\n",
      "-------------------------------------------------\n"
     ]
    }
   ],
   "source": [
    "\n",
    "for score in scores:\n",
    "    print(score)\n",
    "    print(\"-------------------------------------------------\")\n",
    "\n",
    "\n"
   ]
  },
  {
   "cell_type": "code",
   "execution_count": 10,
   "metadata": {},
   "outputs": [],
   "source": [
    "from dspy.evaluate import Evaluate\n",
    "\n",
    "evaluate = Evaluate(devset=devset_no_ontology, num_threads=8, display_progress=True, display_table=10)"
   ]
  },
  {
   "cell_type": "code",
   "execution_count": 11,
   "metadata": {},
   "outputs": [
    {
     "name": "stdout",
     "output_type": "stream",
     "text": [
      "Average Metric: 4.66 / 10 (46.6%): 100%|██████████| 10/10 [01:54<00:00, 11.41s/it]"
     ]
    },
    {
     "name": "stderr",
     "output_type": "stream",
     "text": [
      "2024/11/23 17:37:10 INFO dspy.evaluate.evaluate: Average Metric: 4.663095238095238 / 10 (46.6%)\n"
     ]
    },
    {
     "name": "stdout",
     "output_type": "stream",
     "text": [
      "\n"
     ]
    },
    {
     "data": {
      "text/html": [
       "<div>\n",
       "<style scoped>\n",
       "    .dataframe tbody tr th:only-of-type {\n",
       "        vertical-align: middle;\n",
       "    }\n",
       "\n",
       "    .dataframe tbody tr th {\n",
       "        vertical-align: top;\n",
       "    }\n",
       "\n",
       "    .dataframe thead th {\n",
       "        text-align: right;\n",
       "    }\n",
       "</style>\n",
       "<table border=\"1\" class=\"dataframe\">\n",
       "  <thead>\n",
       "    <tr style=\"text-align: right;\">\n",
       "      <th></th>\n",
       "      <th>context</th>\n",
       "      <th>reasoning</th>\n",
       "      <th>ontology</th>\n",
       "      <th>metric</th>\n",
       "    </tr>\n",
       "  </thead>\n",
       "  <tbody>\n",
       "    <tr>\n",
       "      <th>0</th>\n",
       "      <td>e begin this chapter with a brief survey of early chemical discov-...</td>\n",
       "      <td>The text provides an overview of fundamental concepts in chemistry...</td>\n",
       "      <td>entities=[Entity(name=\"Dalton's Atomic Theory\", information=\"Dalto...</td>\n",
       "      <td>✔️ [0.696]</td>\n",
       "    </tr>\n",
       "    <tr>\n",
       "      <th>1</th>\n",
       "      <td>Had we rounded $4.07\\:\\mathrm{g\\,S\\times(1\\,mol\\,S/32.06\\,\\mathrm{...</td>\n",
       "      <td>The text provided is a mathematical calculation related to chemist...</td>\n",
       "      <td>entities=[Entity(name='Sulfur(S)', information='Sulfur is a chemic...</td>\n",
       "      <td>✔️ [0.610]</td>\n",
       "    </tr>\n",
       "    <tr>\n",
       "      <th>2</th>\n",
       "      <td>For most groups, the atom of the second row has a lower electron a...</td>\n",
       "      <td>The text discusses the concept of electron affinity in the context...</td>\n",
       "      <td>entities=[Entity(name='Second Row Atoms', information='Second row ...</td>\n",
       "      <td>✔️ [0.473]</td>\n",
       "    </tr>\n",
       "    <tr>\n",
       "      <th>3</th>\n",
       "      <td>The electronic configuration of ${\\mathrm{O}_{2}}^{+}$ is $\\sigma_...</td>\n",
       "      <td>The text describes the electronic configuration of the diatomic mo...</td>\n",
       "      <td>entities=[Entity(name='O2_plus', information='${\\\\mathrm{O}_{2}}^{...</td>\n",
       "      <td>✔️ [0.548]</td>\n",
       "    </tr>\n",
       "    <tr>\n",
       "      <th>4</th>\n",
       "      <td>With a minimum of calculation, estimate the final temperature reac...</td>\n",
       "      <td>The text describes a scenario involving the mixing of two volumes ...</td>\n",
       "      <td>entities=[Entity(name='WaterSample1', information='WaterSample1 is...</td>\n",
       "      <td>✔️ [0.619]</td>\n",
       "    </tr>\n",
       "    <tr>\n",
       "      <th>5</th>\n",
       "      <td>Thus, $12\\;\\mathrm{mol}\\;\\mathrm{CO}_{2}$ are produced for every 2...</td>\n",
       "      <td>The text describes a chemical reaction where a specific amount of ...</td>\n",
       "      <td>entities=[Entity(name='CarbonDioxide(CO2)', information='Carbon di...</td>\n",
       "      <td>✔️ [0.357]</td>\n",
       "    </tr>\n",
       "    <tr>\n",
       "      <th>6</th>\n",
       "      <td>The electron configuration of this excited state suggests a molecu...</td>\n",
       "      <td>The text discusses the electron configuration and bonding in a mol...</td>\n",
       "      <td>entities=[Entity(name='Methane(CH4)', information='Methane is a mo...</td>\n",
       "      <td>✔️ [0.608]</td>\n",
       "    </tr>\n",
       "    <tr>\n",
       "      <th>7</th>\n",
       "      <td>density in that bond. If there are bonds in the molecule that have...</td>\n",
       "      <td>The text discusses the electron density in bonds within a molecule...</td>\n",
       "      <td>entities=[Entity(name='SulfurAtom', information='A sulfur atom is ...</td>\n",
       "      <td>✔️ [0.383]</td>\n",
       "    </tr>\n",
       "    <tr>\n",
       "      <th>8</th>\n",
       "      <td>A $1.250~\\mathrm{g}$ sample of meat is heated with concen- trated ...</td>\n",
       "      <td>NaN</td>\n",
       "      <td>NaN</td>\n",
       "      <td></td>\n",
       "    </tr>\n",
       "    <tr>\n",
       "      <th>9</th>\n",
       "      <td>140. Consider the chemical equation below. What is the maximum num...</td>\n",
       "      <td>The text presents a chemical reaction problem involving the calcul...</td>\n",
       "      <td>entities=[Entity(name='Potassium Permanganate (KMnO4)', informatio...</td>\n",
       "      <td>✔️ [0.369]</td>\n",
       "    </tr>\n",
       "  </tbody>\n",
       "</table>\n",
       "</div>"
      ],
      "text/plain": [
       "                                                                 context  \\\n",
       "0  e begin this chapter with a brief survey of early chemical discov-...   \n",
       "1  Had we rounded $4.07\\:\\mathrm{g\\,S\\times(1\\,mol\\,S/32.06\\,\\mathrm{...   \n",
       "2  For most groups, the atom of the second row has a lower electron a...   \n",
       "3  The electronic configuration of ${\\mathrm{O}_{2}}^{+}$ is $\\sigma_...   \n",
       "4  With a minimum of calculation, estimate the final temperature reac...   \n",
       "5  Thus, $12\\;\\mathrm{mol}\\;\\mathrm{CO}_{2}$ are produced for every 2...   \n",
       "6  The electron configuration of this excited state suggests a molecu...   \n",
       "7  density in that bond. If there are bonds in the molecule that have...   \n",
       "8  A $1.250~\\mathrm{g}$ sample of meat is heated with concen- trated ...   \n",
       "9  140. Consider the chemical equation below. What is the maximum num...   \n",
       "\n",
       "                                                               reasoning  \\\n",
       "0  The text provides an overview of fundamental concepts in chemistry...   \n",
       "1  The text provided is a mathematical calculation related to chemist...   \n",
       "2  The text discusses the concept of electron affinity in the context...   \n",
       "3  The text describes the electronic configuration of the diatomic mo...   \n",
       "4  The text describes a scenario involving the mixing of two volumes ...   \n",
       "5  The text describes a chemical reaction where a specific amount of ...   \n",
       "6  The text discusses the electron configuration and bonding in a mol...   \n",
       "7  The text discusses the electron density in bonds within a molecule...   \n",
       "8                                                                    NaN   \n",
       "9  The text presents a chemical reaction problem involving the calcul...   \n",
       "\n",
       "                                                                ontology  \\\n",
       "0  entities=[Entity(name=\"Dalton's Atomic Theory\", information=\"Dalto...   \n",
       "1  entities=[Entity(name='Sulfur(S)', information='Sulfur is a chemic...   \n",
       "2  entities=[Entity(name='Second Row Atoms', information='Second row ...   \n",
       "3  entities=[Entity(name='O2_plus', information='${\\\\mathrm{O}_{2}}^{...   \n",
       "4  entities=[Entity(name='WaterSample1', information='WaterSample1 is...   \n",
       "5  entities=[Entity(name='CarbonDioxide(CO2)', information='Carbon di...   \n",
       "6  entities=[Entity(name='Methane(CH4)', information='Methane is a mo...   \n",
       "7  entities=[Entity(name='SulfurAtom', information='A sulfur atom is ...   \n",
       "8                                                                    NaN   \n",
       "9  entities=[Entity(name='Potassium Permanganate (KMnO4)', informatio...   \n",
       "\n",
       "       metric  \n",
       "0  ✔️ [0.696]  \n",
       "1  ✔️ [0.610]  \n",
       "2  ✔️ [0.473]  \n",
       "3  ✔️ [0.548]  \n",
       "4  ✔️ [0.619]  \n",
       "5  ✔️ [0.357]  \n",
       "6  ✔️ [0.608]  \n",
       "7  ✔️ [0.383]  \n",
       "8              \n",
       "9  ✔️ [0.369]  "
      ]
     },
     "metadata": {},
     "output_type": "display_data"
    },
    {
     "data": {
      "text/plain": [
       "46.63"
      ]
     },
     "execution_count": 11,
     "metadata": {},
     "output_type": "execute_result"
    }
   ],
   "source": [
    "import dspy.evaluate\n",
    "\n",
    "\n",
    "evaluate(ChemOntology(), devset=devset_no_ontology, metric=metric)\n"
   ]
  },
  {
   "cell_type": "code",
   "execution_count": 46,
   "metadata": {},
   "outputs": [],
   "source": [
    "# Import the optimizer\n",
    "from dspy.teleprompt import MIPROv2\n",
    "\n",
    "# Initialize optimizer\n",
    "teleprompter = MIPROv2(\n",
    "    metric=metric,\n",
    "    auto=\"medium\",\n",
    "    teacher_settings=dict(lm=teacher)\n",
    ")\n",
    "\n",
    "\n",
    "\n"
   ]
  },
  {
   "cell_type": "code",
   "execution_count": 47,
   "metadata": {},
   "outputs": [
    {
     "name": "stderr",
     "output_type": "stream",
     "text": [
      "2024/11/22 15:35:23 INFO dspy.teleprompt.mipro_optimizer_v2: \n",
      "RUNNING WITH THE FOLLOWING MEDIUM AUTO RUN SETTINGS:\n",
      "num_trials: 25\n",
      "minibatch: True\n",
      "num_candidates: 25\n",
      "valset size: 80\n",
      "\n",
      "2024/11/22 15:35:23 INFO dspy.teleprompt.mipro_optimizer_v2: \n",
      "==> STEP 1: BOOTSTRAP FEWSHOT EXAMPLES <==\n",
      "2024/11/22 15:35:23 INFO dspy.teleprompt.mipro_optimizer_v2: These will be used for informing instruction proposal.\n",
      "\n",
      "2024/11/22 15:35:23 INFO dspy.teleprompt.mipro_optimizer_v2: Bootstrapping N=25 sets of demonstrations...\n"
     ]
    },
    {
     "name": "stdout",
     "output_type": "stream",
     "text": [
      "Bootstrapping set 1/25\n",
      "Bootstrapping set 2/25\n"
     ]
    },
    {
     "name": "stderr",
     "output_type": "stream",
     "text": [
      "  0%|          | 0/20 [00:00<?, ?it/s]<unknown>:27: SyntaxWarning: invalid escape sequence '\\o'\n",
      " 15%|█▌        | 3/20 [01:19<07:28, 26.36s/it]\n"
     ]
    },
    {
     "name": "stdout",
     "output_type": "stream",
     "text": [
      "Bootstrapped 3 full traces after 3 examples for up to 1 rounds, amounting to 3 attempts.\n",
      "Bootstrapping set 3/25\n"
     ]
    },
    {
     "name": "stderr",
     "output_type": "stream",
     "text": [
      " 10%|█         | 2/20 [01:07<09:38, 32.16s/it]<unknown>:5: SyntaxWarning: invalid escape sequence '\\m'\n",
      "<unknown>:9: SyntaxWarning: invalid escape sequence '\\m'\n",
      "<unknown>:13: SyntaxWarning: invalid escape sequence '\\m'\n",
      "<unknown>:23: SyntaxWarning: invalid escape sequence '\\m'\n",
      " 15%|█▌        | 3/20 [01:32<08:46, 30.96s/it]\n"
     ]
    },
    {
     "name": "stdout",
     "output_type": "stream",
     "text": [
      "Bootstrapped 3 full traces after 3 examples for up to 1 rounds, amounting to 3 attempts.\n",
      "Bootstrapping set 4/25\n"
     ]
    },
    {
     "name": "stderr",
     "output_type": "stream",
     "text": [
      "  5%|▌         | 1/20 [00:00<00:00, 174.29it/s]\n"
     ]
    },
    {
     "name": "stdout",
     "output_type": "stream",
     "text": [
      "Bootstrapped 1 full traces after 1 examples for up to 1 rounds, amounting to 1 attempts.\n",
      "Bootstrapping set 5/25\n"
     ]
    },
    {
     "name": "stderr",
     "output_type": "stream",
     "text": [
      "  5%|▌         | 1/20 [00:44<14:03, 44.38s/it]<unknown>:27: SyntaxWarning: invalid escape sequence '\\o'\n",
      " 15%|█▌        | 3/20 [00:44<04:11, 14.80s/it]\n"
     ]
    },
    {
     "name": "stdout",
     "output_type": "stream",
     "text": [
      "Bootstrapped 3 full traces after 3 examples for up to 1 rounds, amounting to 3 attempts.\n",
      "Bootstrapping set 6/25\n"
     ]
    },
    {
     "name": "stderr",
     "output_type": "stream",
     "text": [
      " 10%|█         | 2/20 [00:46<06:58, 23.26s/it]<unknown>:27: SyntaxWarning: invalid escape sequence '\\o'\n",
      " 15%|█▌        | 3/20 [00:46<04:24, 15.53s/it]\n"
     ]
    },
    {
     "name": "stdout",
     "output_type": "stream",
     "text": [
      "Bootstrapped 3 full traces after 3 examples for up to 1 rounds, amounting to 3 attempts.\n",
      "Bootstrapping set 7/25\n"
     ]
    },
    {
     "name": "stderr",
     "output_type": "stream",
     "text": [
      " 15%|█▌        | 3/20 [00:54<05:07, 18.07s/it]\n"
     ]
    },
    {
     "name": "stdout",
     "output_type": "stream",
     "text": [
      "Bootstrapped 3 full traces after 3 examples for up to 1 rounds, amounting to 3 attempts.\n",
      "Bootstrapping set 8/25\n"
     ]
    },
    {
     "name": "stderr",
     "output_type": "stream",
     "text": [
      "  5%|▌         | 1/20 [00:00<00:00, 192.04it/s]\n"
     ]
    },
    {
     "name": "stdout",
     "output_type": "stream",
     "text": [
      "Bootstrapped 1 full traces after 1 examples for up to 1 rounds, amounting to 1 attempts.\n",
      "Bootstrapping set 9/25\n"
     ]
    },
    {
     "name": "stderr",
     "output_type": "stream",
     "text": [
      " 15%|█▌        | 3/20 [00:21<02:01,  7.15s/it]\n"
     ]
    },
    {
     "name": "stdout",
     "output_type": "stream",
     "text": [
      "Bootstrapped 3 full traces after 3 examples for up to 1 rounds, amounting to 3 attempts.\n",
      "Bootstrapping set 10/25\n"
     ]
    },
    {
     "name": "stderr",
     "output_type": "stream",
     "text": [
      " 15%|█▌        | 3/20 [00:45<04:15, 15.04s/it]\n"
     ]
    },
    {
     "name": "stdout",
     "output_type": "stream",
     "text": [
      "Bootstrapped 3 full traces after 3 examples for up to 1 rounds, amounting to 3 attempts.\n",
      "Bootstrapping set 11/25\n"
     ]
    },
    {
     "name": "stderr",
     "output_type": "stream",
     "text": [
      "  5%|▌         | 1/20 [00:00<00:00, 115.64it/s]\n"
     ]
    },
    {
     "name": "stdout",
     "output_type": "stream",
     "text": [
      "Bootstrapped 1 full traces after 1 examples for up to 1 rounds, amounting to 1 attempts.\n",
      "Bootstrapping set 12/25\n"
     ]
    },
    {
     "name": "stderr",
     "output_type": "stream",
     "text": [
      "  5%|▌         | 1/20 [00:23<07:22, 23.27s/it]\n"
     ]
    },
    {
     "name": "stdout",
     "output_type": "stream",
     "text": [
      "Bootstrapped 1 full traces after 1 examples for up to 1 rounds, amounting to 1 attempts.\n",
      "Bootstrapping set 13/25\n"
     ]
    },
    {
     "name": "stderr",
     "output_type": "stream",
     "text": [
      "  5%|▌         | 1/20 [00:36<11:41, 36.94s/it]\n"
     ]
    },
    {
     "name": "stdout",
     "output_type": "stream",
     "text": [
      "Bootstrapped 1 full traces after 1 examples for up to 1 rounds, amounting to 1 attempts.\n",
      "Bootstrapping set 14/25\n"
     ]
    },
    {
     "name": "stderr",
     "output_type": "stream",
     "text": [
      " 15%|█▌        | 3/20 [00:59<05:35, 19.72s/it]\n"
     ]
    },
    {
     "name": "stdout",
     "output_type": "stream",
     "text": [
      "Bootstrapped 3 full traces after 3 examples for up to 1 rounds, amounting to 3 attempts.\n",
      "Bootstrapping set 15/25\n"
     ]
    },
    {
     "name": "stderr",
     "output_type": "stream",
     "text": [
      "  5%|▌         | 1/20 [00:00<00:00, 203.13it/s]\n"
     ]
    },
    {
     "name": "stdout",
     "output_type": "stream",
     "text": [
      "Bootstrapped 1 full traces after 1 examples for up to 1 rounds, amounting to 1 attempts.\n",
      "Bootstrapping set 16/25\n"
     ]
    },
    {
     "name": "stderr",
     "output_type": "stream",
     "text": [
      "  5%|▌         | 1/20 [00:00<00:00, 195.99it/s]\n"
     ]
    },
    {
     "name": "stdout",
     "output_type": "stream",
     "text": [
      "Bootstrapped 1 full traces after 1 examples for up to 1 rounds, amounting to 1 attempts.\n",
      "Bootstrapping set 17/25\n"
     ]
    },
    {
     "name": "stderr",
     "output_type": "stream",
     "text": [
      " 15%|█▌        | 3/20 [00:00<00:00, 159.00it/s]\n"
     ]
    },
    {
     "name": "stdout",
     "output_type": "stream",
     "text": [
      "Bootstrapped 3 full traces after 3 examples for up to 1 rounds, amounting to 3 attempts.\n",
      "Bootstrapping set 18/25\n"
     ]
    },
    {
     "name": "stderr",
     "output_type": "stream",
     "text": [
      " 15%|█▌        | 3/20 [00:00<00:00, 181.10it/s]\n"
     ]
    },
    {
     "name": "stdout",
     "output_type": "stream",
     "text": [
      "Bootstrapped 3 full traces after 3 examples for up to 1 rounds, amounting to 3 attempts.\n",
      "Bootstrapping set 19/25\n"
     ]
    },
    {
     "name": "stderr",
     "output_type": "stream",
     "text": [
      " 15%|█▌        | 3/20 [00:00<00:00, 160.25it/s]\n"
     ]
    },
    {
     "name": "stdout",
     "output_type": "stream",
     "text": [
      "Bootstrapped 3 full traces after 3 examples for up to 1 rounds, amounting to 3 attempts.\n",
      "Bootstrapping set 20/25\n"
     ]
    },
    {
     "name": "stderr",
     "output_type": "stream",
     "text": [
      " 15%|█▌        | 3/20 [00:00<00:00, 164.47it/s]\n"
     ]
    },
    {
     "name": "stdout",
     "output_type": "stream",
     "text": [
      "Bootstrapped 3 full traces after 3 examples for up to 1 rounds, amounting to 3 attempts.\n",
      "Bootstrapping set 21/25\n"
     ]
    },
    {
     "name": "stderr",
     "output_type": "stream",
     "text": [
      "  0%|          | 0/20 [00:00<?, ?it/s]<unknown>:27: SyntaxWarning: invalid escape sequence '\\o'\n",
      "  5%|▌         | 1/20 [00:00<00:00, 175.29it/s]\n"
     ]
    },
    {
     "name": "stdout",
     "output_type": "stream",
     "text": [
      "Bootstrapped 1 full traces after 1 examples for up to 1 rounds, amounting to 1 attempts.\n",
      "Bootstrapping set 22/25\n"
     ]
    },
    {
     "name": "stderr",
     "output_type": "stream",
     "text": [
      " 15%|█▌        | 3/20 [00:00<00:00, 141.14it/s]\n"
     ]
    },
    {
     "name": "stdout",
     "output_type": "stream",
     "text": [
      "Bootstrapped 3 full traces after 3 examples for up to 1 rounds, amounting to 3 attempts.\n",
      "Bootstrapping set 23/25\n"
     ]
    },
    {
     "name": "stderr",
     "output_type": "stream",
     "text": [
      "  0%|          | 0/20 [00:00<?, ?it/s]<unknown>:5: SyntaxWarning: invalid escape sequence '\\m'\n",
      "<unknown>:9: SyntaxWarning: invalid escape sequence '\\m'\n",
      "<unknown>:13: SyntaxWarning: invalid escape sequence '\\m'\n",
      "<unknown>:23: SyntaxWarning: invalid escape sequence '\\m'\n",
      " 15%|█▌        | 3/20 [00:00<00:00, 103.46it/s]\n"
     ]
    },
    {
     "name": "stdout",
     "output_type": "stream",
     "text": [
      "Bootstrapped 3 full traces after 3 examples for up to 1 rounds, amounting to 3 attempts.\n",
      "Bootstrapping set 24/25\n"
     ]
    },
    {
     "name": "stderr",
     "output_type": "stream",
     "text": [
      "  5%|▌         | 1/20 [00:00<00:00, 115.48it/s]\n"
     ]
    },
    {
     "name": "stdout",
     "output_type": "stream",
     "text": [
      "Bootstrapped 1 full traces after 1 examples for up to 1 rounds, amounting to 1 attempts.\n",
      "Bootstrapping set 25/25\n"
     ]
    },
    {
     "name": "stderr",
     "output_type": "stream",
     "text": [
      " 10%|█         | 2/20 [00:00<00:00, 96.10it/s]\n",
      "2024/11/22 15:43:47 INFO dspy.teleprompt.mipro_optimizer_v2: \n",
      "==> STEP 2: PROPOSE INSTRUCTION CANDIDATES <==\n",
      "2024/11/22 15:43:47 INFO dspy.teleprompt.mipro_optimizer_v2: We will use the few-shot examples from the previous step, a generated dataset summary, a summary of the program code, and a randomly selected prompting tip to propose instructions.\n"
     ]
    },
    {
     "name": "stdout",
     "output_type": "stream",
     "text": [
      "Bootstrapped 2 full traces after 2 examples for up to 1 rounds, amounting to 2 attempts.\n"
     ]
    },
    {
     "name": "stderr",
     "output_type": "stream",
     "text": [
      "2024/11/22 15:43:58 INFO dspy.teleprompt.mipro_optimizer_v2: \n",
      "Proposing instructions...\n",
      "\n",
      "2024/11/22 15:49:47 INFO dspy.teleprompt.mipro_optimizer_v2: Proposed Instructions for Predictor 0:\n",
      "\n",
      "2024/11/22 15:49:47 INFO dspy.teleprompt.mipro_optimizer_v2: 0: Analyze the provided text from research papers in the field of chemistry to identify all chemistry-related entities, data properties, and object properties within an ontological framework.\n",
      "\n",
      "Follow these Step-by-Step Analysis:\n",
      "\n",
      "1. Extract Chemistry-Related Entities:\n",
      "  - Identify all significant nouns, proper nouns, and technical terminologies that represent chemistry-related concepts, such as molecules, reactions, compounds, processes, or any substantial entities.\n",
      "  - Ensure that you capture entities across different levels of detail, from broad chemical categories to specific molecular structures, to create a comprehensive representation of the subject matter.\n",
      "  - Choose names for entities that are specific enough to indicate their meaning without additional context, avoiding overly generic terms.\n",
      "  - Consolidate similar entities to avoid redundancy, ensuring each represents a distinct concept at appropriate granularity levels.\n",
      "\n",
      "2. Identify Data Properties:\n",
      "  - Extract attributes or characteristics of the identified entities that can be classified as data properties, ensuring they are value-based and not entities themselves.\n",
      "  - Clearly define each data property, ensuring it accurately describes an attribute of an entity.\n",
      "\n",
      "3. Establish Object Properties:\n",
      "  - Carefully examine the text to identify all relationships between entities, ensuring each relationship is correctly captured with accurate details about the interactions.\n",
      "  - Analyze the context and interactions between the identified entities to determine how they are interconnected, focusing on actions, associations, dependencies, or similarities.\n",
      "  - Clearly define the relationships, ensuring accurate directionality that reflects the logical or functional dependencies among entities.\n",
      "\n",
      "Objective: Produce a detailed and comprehensive ontology that captures the full spectrum of chemistry-related entities, data properties, and object properties mentioned in the text, along with their interrelations, reflecting both broad concepts and intricate details specific to the chemistry domain.\n",
      "\n",
      "2024/11/22 15:49:47 INFO dspy.teleprompt.mipro_optimizer_v2: 1: Carefully read the provided text from chemistry research papers to construct a detailed ontology. Your task is to identify all chemistry-related entities, data properties, and object properties by following these steps:\n",
      "\n",
      "1. **Extract Chemistry-Related Entities**:\n",
      "   - Identify key nouns and technical terms that signify chemistry concepts such as molecules, reactions, or compounds.\n",
      "   - Capture entities at varying levels of detail, from general chemical categories to specific molecular structures.\n",
      "   - Ensure entity names are specific and meaningful, avoiding redundancy and overly generic terms.\n",
      "\n",
      "2. **Identify Data Properties**:\n",
      "   - Extract characteristics or attributes of the entities that can be classified as data properties, focusing on value-based attributes.\n",
      "   - Define each data property clearly, ensuring it accurately describes an entity's attribute.\n",
      "\n",
      "3. **Establish Object Properties**:\n",
      "   - Examine the text to identify relationships between entities, ensuring each relationship is captured accurately.\n",
      "   - Analyze interactions between entities to determine interconnections, focusing on actions, dependencies, or similarities.\n",
      "   - Define relationships clearly, reflecting logical or functional dependencies.\n",
      "\n",
      "Your goal is to produce a comprehensive ontology that captures the chemistry-related entities, data properties, and object properties mentioned in the text, along with their interrelations. Aim to reflect both broad concepts and detailed specifics unique to the chemistry domain.\n",
      "\n",
      "2024/11/22 15:49:47 INFO dspy.teleprompt.mipro_optimizer_v2: 2: Imagine you are a leading chemist tasked with presenting a groundbreaking research paper at an international conference. Your goal is to impress a panel of experts by showcasing a comprehensive ontology of chemistry-related entities, data properties, and object properties derived from cutting-edge research texts. Analyze the provided text meticulously to identify all relevant chemical concepts, ensuring your ontology captures both the broad and intricate details of the chemistry domain. Extract significant nouns, technical terms, and relationships to create a detailed representation that highlights your deep understanding and innovative thinking in chemistry. Your success depends on producing a detailed ontology that reflects the full spectrum of entities and their interrelations, demonstrating your expertise and paving the way for future scientific advancements.\n",
      "\n",
      "2024/11/22 15:49:47 INFO dspy.teleprompt.mipro_optimizer_v2: 3: You are a chemistry research analyst tasked with constructing a detailed ontology from academic texts. Your goal is to identify and categorize all chemistry-related entities, data properties, and object properties within the text. Follow these steps:\n",
      "\n",
      "1. **Entity Extraction**:\n",
      "   - Identify significant nouns, proper nouns, and technical terms that represent chemistry-related concepts such as molecules, reactions, compounds, and processes.\n",
      "   - Capture entities at various levels of detail, from broad chemical categories to specific molecular structures, ensuring a comprehensive representation.\n",
      "   - Assign specific names to entities to convey their meaning without additional context, avoiding overly generic terms.\n",
      "   - Consolidate similar entities to prevent redundancy, ensuring each entity represents a distinct concept at an appropriate level of granularity.\n",
      "\n",
      "2. **Data Property Identification**:\n",
      "   - Extract attributes or characteristics of the identified entities that qualify as data properties, ensuring these are value-based and not entities themselves.\n",
      "   - Clearly define each data property to accurately describe an attribute of an entity.\n",
      "\n",
      "3. **Object Property Establishment**:\n",
      "   - Examine the text to identify all relationships between entities, capturing details about interactions, associations, dependencies, or similarities.\n",
      "   - Define these relationships clearly, ensuring accurate directionality that reflects the logical or functional dependencies among entities.\n",
      "\n",
      "Your objective is to produce a comprehensive ontology that captures the spectrum of chemistry-related entities and their interrelations, reflecting both broad concepts and intricate details specific to the chemistry domain.\n",
      "\n",
      "2024/11/22 15:49:47 INFO dspy.teleprompt.mipro_optimizer_v2: 4: Carefully read the provided text from chemistry research papers and analyze it to construct a detailed ontology. Your task is to identify and categorize all chemistry-related entities, data properties, and object properties. Follow these steps:\n",
      "\n",
      "1. **Extract Chemistry-Related Entities**: Identify significant nouns, proper nouns, and technical terms that denote chemistry concepts such as molecules, reactions, or processes. Capture entities at various detail levels, ensuring specificity and avoiding redundancy.\n",
      "\n",
      "2. **Identify Data Properties**: Extract and clearly define attributes or characteristics of these entities that are value-based, ensuring they describe attributes accurately.\n",
      "\n",
      "3. **Establish Object Properties**: Examine the text to identify relationships between entities, capturing interactions and dependencies. Define these relationships with precise directionality reflecting logical or functional dependencies.\n",
      "\n",
      "Your objective is to produce a comprehensive ontology that encapsulates the chemistry-related entities, data properties, and object properties, highlighting both broad concepts and intricate details within the chemistry domain.\n",
      "\n",
      "2024/11/22 15:49:47 INFO dspy.teleprompt.mipro_optimizer_v2: 5: You are a chemistry ontology expert tasked with analyzing text from research papers in the field of chemistry. Your goal is to identify and extract all relevant chemistry-related entities, data properties, and object properties to form a comprehensive ontological framework. Follow these steps:\n",
      "\n",
      "1. **Extract Chemistry-Related Entities**:\n",
      "   - Identify significant nouns, proper nouns, and technical terms that represent chemistry-related concepts, such as molecules, reactions, compounds, or processes.\n",
      "   - Capture entities at varying levels of detail, from broad categories to specific molecular structures, ensuring a comprehensive representation.\n",
      "   - Choose names for entities that are specific and meaningful without additional context, avoiding generic terms.\n",
      "   - Consolidate similar entities to prevent redundancy, ensuring each entity represents a distinct concept at appropriate granularity.\n",
      "\n",
      "2. **Identify Data Properties**:\n",
      "   - Extract attributes or characteristics of the identified entities that can be classified as data properties, ensuring they are value-based and not entities themselves.\n",
      "   - Clearly define each data property, ensuring it accurately describes an attribute of an entity.\n",
      "\n",
      "3. **Establish Object Properties**:\n",
      "   - Examine the text to identify relationships between entities, ensuring each relationship is captured with accurate details about interactions.\n",
      "   - Analyze the context and interactions to determine how entities are interconnected, focusing on actions, associations, dependencies, or similarities.\n",
      "   - Clearly define relationships, ensuring accurate directionality that reflects logical or functional dependencies among entities.\n",
      "\n",
      "Objective: Produce a detailed ontology that captures the full spectrum of chemistry-related entities, data properties, and object properties mentioned in the text, reflecting both broad concepts and intricate details specific to the chemistry domain.\n",
      "\n",
      "2024/11/22 15:49:47 INFO dspy.teleprompt.mipro_optimizer_v2: 6: You are a chemistry researcher tasked with analyzing scientific texts to construct a detailed ontology. Your goal is to identify and organize all chemistry-related entities, data properties, and object properties within the text. Follow these steps to systematically extract the information:\n",
      "\n",
      "1. Extract Chemistry-Related Entities:\n",
      "   - Identify all significant nouns, proper nouns, and technical terminologies representing chemistry-related concepts, such as molecules, reactions, compounds, and processes.\n",
      "   - Capture entities across different levels of detail, from broad chemical categories to specific molecular structures, ensuring a comprehensive representation of the subject.\n",
      "   - Choose specific names for entities that clearly indicate their meaning without additional context, avoiding overly generic terms.\n",
      "   - Consolidate similar entities to avoid redundancy, ensuring each represents a distinct concept at appropriate granularity levels.\n",
      "\n",
      "2. Identify Data Properties:\n",
      "   - Extract attributes or characteristics of the identified entities that can be classified as data properties, ensuring they are value-based and not entities themselves.\n",
      "   - Clearly define each data property, ensuring it accurately describes an attribute of an entity.\n",
      "\n",
      "3. Establish Object Properties:\n",
      "   - Examine the text to identify all relationships between entities, ensuring each relationship is captured with accurate details about the interactions.\n",
      "   - Analyze the context and interactions between the identified entities to determine how they are interconnected, focusing on actions, associations, dependencies, or similarities.\n",
      "   - Clearly define the relationships, ensuring accurate directionality that reflects the logical or functional dependencies among entities.\n",
      "\n",
      "Your objective is to produce a detailed and comprehensive ontology that captures the full spectrum of chemistry-related entities, data properties, and object properties mentioned in the text, along with their interrelations, reflecting both broad concepts and intricate details specific to the chemistry domain.\n",
      "\n",
      "2024/11/22 15:49:47 INFO dspy.teleprompt.mipro_optimizer_v2: 7: Imagine you are an expert chemist tasked with developing a comprehensive ontology for a high-profile international research project. Your objective is to meticulously analyze the provided text from chemistry research papers to extract all chemistry-related entities, data properties, and object properties. This ontology will serve as a critical foundation for advancing scientific understanding and innovation in the field. \n",
      "\n",
      "Follow these precise steps to ensure accuracy and completeness:\n",
      "\n",
      "1. **Extract Chemistry-Related Entities**:\n",
      "   - Identify and list all significant nouns, proper nouns, and technical terms that represent key chemistry concepts, such as molecules, reactions, compounds, or processes.\n",
      "   - Capture entities at varying levels of specificity, including broad categories and detailed molecular structures, to ensure a comprehensive representation.\n",
      "   - Ensure entity names are specific and meaningful without requiring additional context, avoiding generic terms.\n",
      "   - Consolidate similar entities to minimize redundancy, ensuring each represents a distinct concept at the appropriate level of detail.\n",
      "\n",
      "2. **Identify Data Properties**:\n",
      "   - Extract attributes or characteristics of the entities that can be classified as data properties. These should be value-based and not entities themselves.\n",
      "   - Provide clear definitions for each data property, ensuring it accurately describes an attribute of an entity.\n",
      "\n",
      "3. **Establish Object Properties**:\n",
      "   - Examine the text carefully to identify all relationships between entities, capturing details about their interactions.\n",
      "   - Analyze the context and interactions between entities to determine their connections, focusing on actions, associations, dependencies, or similarities.\n",
      "   - Clearly define each relationship, ensuring it reflects the logical or functional dependencies among entities with accurate directionality.\n",
      "\n",
      "Your goal is to produce a detailed and comprehensive ontology that captures the full spectrum of chemistry-related entities, data properties, and object properties in the text, along with their interrelations. This ontology should reflect both broad concepts and intricate details specific to the chemistry domain, contributing to the project's success.\n",
      "\n",
      "2024/11/22 15:49:47 INFO dspy.teleprompt.mipro_optimizer_v2: 8: Imagine you are a scientist tasked with developing a comprehensive ontological database for an international chemistry research consortium. Your role is crucial, as the accuracy and completeness of this ontology will directly impact the research and development of new chemical compounds and reactions. Analyze the provided text from chemistry research papers meticulously to identify all chemistry-related entities, data properties, and object properties within an ontological framework.\n",
      "\n",
      "Follow these Step-by-Step Analysis:\n",
      "\n",
      "1. Extract Chemistry-Related Entities:\n",
      "   - Identify all significant nouns, proper nouns, and technical terminologies that represent chemistry-related concepts, such as molecules, reactions, compounds, processes, or any substantial entities.\n",
      "   - Ensure that you capture entities across different levels of detail, from broad chemical categories to specific molecular structures, to create a comprehensive representation of the subject matter.\n",
      "   - Choose names for entities that are specific enough to indicate their meaning without additional context, avoiding overly generic terms.\n",
      "   - Consolidate similar entities to avoid redundancy, ensuring each represents a distinct concept at appropriate granularity levels.\n",
      "\n",
      "2. Identify Data Properties:\n",
      "   - Extract attributes or characteristics of the identified entities that can be classified as data properties, ensuring they are value-based and not entities themselves.\n",
      "   - Clearly define each data property, ensuring it accurately describes an attribute of an entity.\n",
      "\n",
      "3. Establish Object Properties:\n",
      "   - Carefully examine the text to identify all relationships between entities, ensuring each relationship is correctly captured with accurate details about the interactions.\n",
      "   - Analyze the context and interactions between the identified entities to determine how they are interconnected, focusing on actions, associations, dependencies, or similarities.\n",
      "   - Clearly define the relationships, ensuring accurate directionality that reflects the logical or functional dependencies among entities.\n",
      "\n",
      "Objective: Produce a detailed and comprehensive ontology that captures the full spectrum of chemistry-related entities, data properties, and object properties mentioned in the text, along with their interrelations. Your work will play a vital role in advancing scientific understanding and innovation within the chemistry domain.\n",
      "\n",
      "2024/11/22 15:49:47 INFO dspy.teleprompt.mipro_optimizer_v2: 9: Carefully examine the provided text from chemistry research papers to extract and identify all relevant chemistry-related entities, data properties, and object properties, and organize them within an ontological framework. \n",
      "\n",
      "Follow these detailed steps:\n",
      "\n",
      "1. **Extract Chemistry-Related Entities:**\n",
      "   - Identify significant nouns, proper nouns, and technical terms that represent key chemistry concepts, such as molecules, reactions, compounds, and processes.\n",
      "   - Capture entities at various levels of detail, from broad chemical categories to specific molecular structures, to ensure a comprehensive understanding of the subject matter.\n",
      "   - Assign specific names to entities that convey their meaning without needing additional context, avoiding generic terms.\n",
      "   - Consolidate entities to eliminate redundancy, ensuring each entity represents a distinct concept with appropriate granularity.\n",
      "\n",
      "2. **Identify Data Properties:**\n",
      "   - Extract characteristics or attributes of the identified entities that can be classified as data properties, ensuring these are value-based and not entities themselves.\n",
      "   - Define each data property clearly, ensuring it accurately describes an entity's attribute.\n",
      "\n",
      "3. **Establish Object Properties:**\n",
      "   - Analyze the text to identify all relationships between entities, ensuring each interaction is captured accurately.\n",
      "   - Examine the context and interactions to determine how entities are interconnected, focusing on actions, dependencies, associations, or similarities.\n",
      "   - Clearly define relationships, ensuring the directionality reflects logical or functional dependencies among entities.\n",
      "\n",
      "The goal is to produce a detailed ontology capturing the full range of chemistry-related entities, data properties, and object properties mentioned in the text, along with their interrelations, reflecting both broad concepts and intricate details specific to the chemistry domain.\n",
      "\n",
      "2024/11/22 15:49:47 INFO dspy.teleprompt.mipro_optimizer_v2: 10: Imagine you are tasked with presenting a comprehensive and precise ontology of a chemistry research paper to a panel of leading scientists in the field. Your goal is to impress them with your ability to extract and categorize all relevant chemistry-related entities, data properties, and object properties. Analyze the provided text meticulously to identify significant nouns, proper nouns, and technical terms representing chemistry concepts such as molecules, reactions, compounds, and processes. Capture entities at various levels of detail and ensure each one is distinct, avoiding redundancy. Identify attributes of these entities as data properties and define them clearly. Examine the relationships between entities to establish object properties, ensuring accurate representation of interactions, dependencies, and associations. Your objective is to produce a detailed ontology that not only captures the broad concepts but also the intricate details specific to the chemistry domain, reflecting a thorough understanding of the text's content.\n",
      "\n",
      "2024/11/22 15:49:47 INFO dspy.teleprompt.mipro_optimizer_v2: 11: Examine the text provided from chemistry research papers to systematically extract and organize chemistry-related entities, data properties, and object properties into a structured ontology. Begin by identifying key entities such as molecules, reactions, and compounds, ensuring each is distinct and accurately named. Next, determine the data properties, which are attributes of these entities, and clearly define them. Finally, establish object properties by analyzing the relationships and interactions between entities, capturing these connections with precise directionality. The goal is to create a comprehensive ontology that encapsulates the full range of chemistry-related concepts and their interrelations, facilitating a deeper understanding of the subject matter.\n",
      "\n",
      "2024/11/22 15:49:47 INFO dspy.teleprompt.mipro_optimizer_v2: 12: Carefully analyze the provided text from chemistry research papers to construct a detailed ontological framework. Your task is to identify and categorize all relevant chemistry-related entities, data properties, and object properties. \n",
      "\n",
      "Follow these steps for a thorough analysis:\n",
      "\n",
      "1. **Extract Chemistry-Related Entities**:\n",
      "   - Identify all significant nouns, proper nouns, and technical terms that denote chemistry concepts, such as molecules, reactions, compounds, and processes.\n",
      "   - Capture entities at various levels of detail, from broad categories to specific molecular structures, ensuring a comprehensive representation.\n",
      "   - Use specific names for entities to convey clear meaning without additional context, avoiding generic terms.\n",
      "   - Consolidate similar entities to avoid redundancy, ensuring each represents a distinct concept at the appropriate level of granularity.\n",
      "\n",
      "2. **Identify Data Properties**:\n",
      "   - Extract attributes or characteristics of the entities that qualify as data properties, ensuring they are value-based and not entities themselves.\n",
      "   - Clearly define each data property to accurately describe an attribute of an entity.\n",
      "\n",
      "3. **Establish Object Properties**:\n",
      "   - Examine the text to identify all relationships between entities, ensuring each relationship is captured with precise details about the interactions.\n",
      "   - Analyze the context and interactions to determine how entities are interconnected, focusing on actions, associations, dependencies, or similarities.\n",
      "   - Clearly define the relationships, ensuring accurate directionality that reflects the logical or functional dependencies among entities.\n",
      "\n",
      "Objective: Develop a comprehensive ontology that reflects the full range of chemistry-related entities, data properties, and object properties in the text, capturing both broad concepts and intricate details specific to the chemistry domain.\n",
      "\n",
      "2024/11/22 15:49:47 INFO dspy.teleprompt.mipro_optimizer_v2: 13: Please analyze the given text from chemistry research papers and construct a detailed ontology by identifying the following elements:\n",
      "\n",
      "1. **Chemistry-Related Entities**: Extract and list all significant nouns, proper nouns, and technical terms that represent chemistry-related concepts such as molecules, reactions, compounds, and processes. Ensure these entities are captured at various levels of detail for a comprehensive representation, and avoid redundancy by consolidating similar entities.\n",
      "\n",
      "2. **Data Properties**: Identify and define attributes or characteristics of the extracted entities that qualify as data properties. These should be value-based descriptions that accurately detail an attribute of an entity.\n",
      "\n",
      "3. **Object Properties**: Determine and define the relationships between the entities, focusing on interactions such as actions, dependencies, or associations. Ensure these relationships are captured with accurate details and reflect the logical or functional dependencies among entities.\n",
      "\n",
      "Your goal is to produce a comprehensive ontology that effectively captures and represents the entities, data properties, and object properties within the text, highlighting both broad and intricate chemistry concepts and their interrelations.\n",
      "\n",
      "2024/11/22 15:49:47 INFO dspy.teleprompt.mipro_optimizer_v2: 14: Please analyze the given chemistry research text to meticulously identify and categorize all relevant chemistry-related entities, data properties, and object properties within an ontological framework. Follow these detailed steps:\n",
      "\n",
      "1. **Extract Chemistry-Related Entities**: \n",
      "   - Identify and list all significant nouns, proper nouns, and technical terms that represent key chemistry concepts such as molecules, reactions, compounds, and processes.\n",
      "   - Capture entities across various levels of detail, from broad chemical categories to specific molecular structures, ensuring a comprehensive depiction of the subject matter.\n",
      "   - Assign specific names to entities that convey their meaning without needing additional context, avoiding generic terms.\n",
      "   - Merge similar entities to prevent redundancy, ensuring each represents a unique concept at suitable granularity levels.\n",
      "\n",
      "2. **Identify Data Properties**:\n",
      "   - Extract attributes or characteristics of the identified entities that qualify as data properties, ensuring they are value-based and not entities themselves.\n",
      "   - Clearly define each data property to accurately describe an entity's attribute.\n",
      "\n",
      "3. **Establish Object Properties**:\n",
      "   - Examine the text to identify all relationships between entities, capturing precise details about their interactions.\n",
      "   - Analyze the context to determine how entities are interconnected, focusing on actions, associations, dependencies, or similarities.\n",
      "   - Clearly define these relationships, ensuring they reflect accurate directionality and logical or functional dependencies among entities.\n",
      "\n",
      "The goal is to create a detailed and comprehensive ontology that encapsulates the chemistry-related entities, data properties, and object properties mentioned, along with their interrelations. This ontology should reflect both broad concepts and intricate details specific to the chemistry field.\n",
      "\n",
      "2024/11/22 15:49:47 INFO dspy.teleprompt.mipro_optimizer_v2: 15: Carefully examine the given text from chemistry research papers to construct a detailed ontology by identifying all relevant chemistry-related entities, data properties, and object properties. Follow a structured process:\n",
      "\n",
      "1. **Extract Chemistry-Related Entities**:\n",
      "   - Identify significant nouns, proper nouns, and technical terms representing chemical concepts like molecules, reactions, and compounds.\n",
      "   - Capture entities at various detail levels, from general categories to specific molecular structures, ensuring clarity and specificity.\n",
      "   - Avoid redundancy by consolidating similar entities, ensuring each entity represents a distinct and meaningful concept.\n",
      "\n",
      "2. **Identify Data Properties**:\n",
      "   - Extract and define attributes or characteristics of entities that qualify as data properties, ensuring they are descriptive and not entities themselves.\n",
      "\n",
      "3. **Establish Object Properties**:\n",
      "   - Identify and define relationships between entities, ensuring these interactions are accurately captured and reflect logical dependencies or associations.\n",
      "   - Consider the context to determine how entities are interconnected, focusing on interactions like reactions or dependencies.\n",
      "\n",
      "The goal is to create a comprehensive ontology that captures the full spectrum of chemistry-related concepts, their attributes, and interrelations, providing a nuanced understanding of the chemistry domain.\n",
      "\n",
      "2024/11/22 15:49:47 INFO dspy.teleprompt.mipro_optimizer_v2: 16: Please read the provided chemistry text and extract all relevant chemistry-related entities, data properties, and object properties. Follow these steps for analysis:\n",
      "\n",
      "1. **Entity Extraction**: Identify and list significant nouns, proper nouns, and technical terms that represent key chemistry concepts such as molecules, reactions, compounds, or processes. Ensure specificity in naming to avoid ambiguity.\n",
      "\n",
      "2. **Data Property Identification**: Determine attributes or characteristics of these entities that are value-based and describe an entity's attribute. Clearly define each data property.\n",
      "\n",
      "3. **Object Property Establishment**: Identify and describe relationships between entities, focusing on interactions such as actions, associations, or dependencies. Define these relationships with clear directionality that reflects logical or functional dependencies.\n",
      "\n",
      "Your goal is to construct a comprehensive ontology that includes all identified entities, data properties, and object properties, capturing the full scope of the chemistry concepts and their interconnections described in the text.\n",
      "\n",
      "2024/11/22 15:49:47 INFO dspy.teleprompt.mipro_optimizer_v2: 17: Carefully read the provided text extracted from chemistry research papers and perform a comprehensive analysis to construct an ontology. Your task is to identify and categorize all chemistry-related entities, data properties, and object properties as follows:\n",
      "\n",
      "1. **Extract Chemistry-Related Entities**: \n",
      "   - Identify and list all significant nouns, proper nouns, and technical terms that denote chemistry-related concepts such as molecules, reactions, compounds, processes, or any notable entities.\n",
      "   - Ensure these entities cover a range of detail, from general chemical categories to specific molecular structures, to form a holistic representation of the content.\n",
      "   - Select names for these entities that are precise and self-explanatory, avoiding generic terms that lack context.\n",
      "   - Consolidate similar entities to avoid redundancy, ensuring each entity represents a unique concept at the appropriate level of granularity.\n",
      "\n",
      "2. **Identify Data Properties**: \n",
      "   - Extract and define attributes or characteristics of the identified entities that qualify as data properties, ensuring they are value-based and not entities themselves.\n",
      "   - Clearly define each data property to accurately describe an attribute or quality of an entity.\n",
      "\n",
      "3. **Establish Object Properties**: \n",
      "   - Examine the text to identify all relationships between entities, ensuring each relationship is accurately captured with detailed interaction information.\n",
      "   - Analyze the context and interactions among the identified entities to understand how they are interconnected, focusing on actions, associations, dependencies, or similarities.\n",
      "   - Clearly define these relationships, ensuring the directionality accurately reflects the logical or functional dependencies among the entities.\n",
      "\n",
      "Your objective is to produce a detailed and comprehensive ontology that encapsulates the spectrum of chemistry-related entities, data properties, and object properties mentioned in the text, along with their interrelations, capturing both broad concepts and specific details pertinent to the chemistry domain.\n",
      "\n",
      "2024/11/22 15:49:47 INFO dspy.teleprompt.mipro_optimizer_v2: 18: Carefully analyze the provided text from chemistry research papers to construct a detailed ontology by identifying all relevant chemistry-related entities, data properties, and object properties. Follow these steps for a comprehensive analysis:\n",
      "\n",
      "1. **Extract Chemistry-Related Entities**:\n",
      "   - Identify and list all significant nouns, proper nouns, and technical terms that denote chemistry-related concepts such as molecules, reactions, compounds, processes, or other key entities.\n",
      "   - Ensure a thorough capture of entities at various levels of detail, ranging from broad chemical categories to specific molecular structures, to form a complete representation of the subject matter.\n",
      "   - Assign specific and meaningful names to entities to convey their significance without needing additional context, avoiding generic terms.\n",
      "   - Consolidate similar entities to prevent redundancy, ensuring each entity distinctly represents a concept at appropriate levels of granularity.\n",
      "\n",
      "2. **Identify Data Properties**:\n",
      "   - Extract and define attributes or characteristics of the identified entities that qualify as data properties, ensuring they are value-based and distinct from entities.\n",
      "   - Clearly articulate each data property to accurately describe an attribute of an entity.\n",
      "\n",
      "3. **Establish Object Properties**:\n",
      "   - Thoroughly examine the text to identify all possible relationships between entities, ensuring each relationship is captured with precise details about the interactions.\n",
      "   - Analyze the context and interrelations between identified entities, focusing on actions, associations, dependencies, or similarities.\n",
      "   - Clearly define these relationships, ensuring accurate directionality that reflects the logical or functional dependencies among entities.\n",
      "\n",
      "**Objective**: Develop a comprehensive and detailed ontology that encapsulates the full range of chemistry-related entities, data properties, and object properties mentioned in the text, along with their interrelations, to reflect both broad concepts and intricate details specific to the chemistry domain.\n",
      "\n",
      "2024/11/22 15:49:47 INFO dspy.teleprompt.mipro_optimizer_v2: 19: You are a chemistry researcher tasked with analyzing text from research papers to construct a comprehensive ontology. Your goal is to identify all chemistry-related entities, data properties, and object properties within the text. Follow these steps to ensure a detailed representation:\n",
      "\n",
      "1. **Extract Chemistry-Related Entities**: Identify significant nouns, proper nouns, and technical terminologies that represent chemistry-related concepts, such as molecules, reactions, compounds, and processes. Capture entities across different levels of detail, from broad chemical categories to specific molecular structures, ensuring specificity and avoiding redundancy.\n",
      "\n",
      "2. **Identify Data Properties**: Extract attributes or characteristics of the identified entities that can be classified as data properties. Ensure these are value-based and clearly define each data property to accurately describe an attribute of an entity.\n",
      "\n",
      "3. **Establish Object Properties**: Examine the text to identify all relationships between entities, capturing interactions, associations, dependencies, or similarities. Define these relationships clearly, ensuring accurate directionality that reflects logical or functional dependencies among entities.\n",
      "\n",
      "Your objective is to produce a detailed and comprehensive ontology that captures the full spectrum of chemistry-related entities, data properties, and object properties mentioned in the text, along with their interrelations, reflecting both broad concepts and intricate details specific to the chemistry domain.\n",
      "\n",
      "2024/11/22 15:49:47 INFO dspy.teleprompt.mipro_optimizer_v2: 20: Using the provided text from chemistry research papers, construct a detailed ontology by identifying all relevant chemistry-related entities, data properties, and object properties. Follow these steps for a thorough analysis:\n",
      "\n",
      "1. **Extract Chemistry-Related Entities**:\n",
      "   - Pinpoint all significant nouns, proper nouns, and technical terms that signify chemistry concepts like molecules, reactions, and processes.\n",
      "   - Capture entities at various detail levels, from broad chemical categories to specific molecular structures, ensuring a comprehensive representation.\n",
      "   - Select precise names for entities to convey their meaning clearly without extra context, avoiding overly generic terms.\n",
      "   - Merge similar entities to avoid redundancy, ensuring each represents a distinct concept at appropriate granularity levels.\n",
      "\n",
      "2. **Identify Data Properties**:\n",
      "   - Extract characteristics of the identified entities that qualify as data properties, ensuring they are value-based rather than entities themselves.\n",
      "   - Define each data property clearly, ensuring it accurately describes an attribute of an entity.\n",
      "\n",
      "3. **Establish Object Properties**:\n",
      "   - Scrutinize the text to identify all relationships between entities, ensuring each relationship is accurately captured with details about the interactions.\n",
      "   - Examine the context and interactions between entities to determine their interconnections, focusing on actions, associations, dependencies, or similarities.\n",
      "   - Define the relationships clearly, ensuring accurate directionality that reflects the logical or functional dependencies among entities.\n",
      "\n",
      "Your objective is to produce a comprehensive ontology that captures the full range of chemistry-related entities, data properties, and object properties mentioned in the text, along with their interrelations. This ontology should reflect both broad concepts and intricate details specific to the chemistry domain, facilitating its use in further analysis or integration into larger knowledge systems.\n",
      "\n",
      "2024/11/22 15:49:47 INFO dspy.teleprompt.mipro_optimizer_v2: 21: You are an expert in chemistry ontology extraction. Your task is to analyze the provided text from chemistry research papers and identify all chemistry-related entities, data properties, and object properties within an ontological framework. Follow these step-by-step instructions:\n",
      "\n",
      "1. Extract Chemistry-Related Entities:\n",
      "   - Identify significant nouns, proper nouns, and technical terms that represent chemistry-related concepts, such as molecules, reactions, compounds, processes, or any substantial entities.\n",
      "   - Capture entities across different levels of detail, from broad chemical categories to specific molecular structures, to create a comprehensive representation of the subject matter.\n",
      "   - Choose specific names for entities to ensure clarity without requiring additional context, avoiding overly generic terms.\n",
      "   - Consolidate similar entities to avoid redundancy, ensuring each represents a distinct concept at appropriate granularity levels.\n",
      "\n",
      "2. Identify Data Properties:\n",
      "   - Extract attributes or characteristics of the identified entities that can be classified as data properties, ensuring they are value-based and not entities themselves.\n",
      "   - Clearly define each data property to accurately describe an attribute of an entity.\n",
      "\n",
      "3. Establish Object Properties:\n",
      "   - Examine the text to identify all relationships between entities, ensuring each relationship is captured with accurate details about the interactions.\n",
      "   - Analyze the context and interactions between the entities to determine their interconnections, focusing on actions, associations, dependencies, or similarities.\n",
      "   - Clearly define the relationships, ensuring accurate directionality that reflects the logical or functional dependencies among entities.\n",
      "\n",
      "Objective: Produce a detailed and comprehensive ontology that captures the full spectrum of chemistry-related entities, data properties, and object properties mentioned in the text, along with their interrelations, reflecting both broad concepts and intricate details specific to the chemistry domain.\n",
      "\n",
      "2024/11/22 15:49:47 INFO dspy.teleprompt.mipro_optimizer_v2: 22: You are a chemistry researcher tasked with analyzing text from research papers to construct a detailed ontology. Your goal is to identify all chemistry-related entities, data properties, and object properties within an ontological framework. Follow these steps:\n",
      "\n",
      "1. Extract Chemistry-Related Entities:\n",
      "   - Identify significant nouns, proper nouns, and technical terminologies that represent chemistry-related concepts, such as molecules, reactions, compounds, and processes.\n",
      "   - Capture entities across various levels of detail, from broad chemical categories to specific molecular structures, ensuring a comprehensive representation of the subject matter.\n",
      "   - Choose specific names for entities that convey their meaning without additional context, avoiding overly generic terms.\n",
      "   - Consolidate similar entities to avoid redundancy, ensuring each represents a distinct concept at appropriate granularity levels.\n",
      "\n",
      "2. Identify Data Properties:\n",
      "   - Extract attributes or characteristics of the identified entities that can be classified as data properties, ensuring they are value-based and not entities themselves.\n",
      "   - Clearly define each data property to accurately describe an attribute of an entity.\n",
      "\n",
      "3. Establish Object Properties:\n",
      "   - Examine the text to identify all relationships between entities, capturing interactions, dependencies, or associations accurately.\n",
      "   - Analyze the context and interactions between entities to determine how they are interconnected, focusing on actions, associations, dependencies, or similarities.\n",
      "   - Clearly define the relationships, ensuring accurate directionality that reflects the logical or functional dependencies among entities.\n",
      "\n",
      "Objective: Produce a detailed and comprehensive ontology that captures the full spectrum of chemistry-related entities, data properties, and object properties mentioned in the text, along with their interrelations, reflecting both broad concepts and intricate details specific to the chemistry domain.\n",
      "\n",
      "2024/11/22 15:49:47 INFO dspy.teleprompt.mipro_optimizer_v2: 23: Imagine you are a scientist tasked with constructing a comprehensive ontology from a chemistry research paper that will be used to enhance an AI system's understanding of chemical interactions. Your goal is to meticulously identify and extract all chemistry-related entities, data properties, and object properties from the text. This ontology will serve as a critical component in developing advanced AI models for chemical research, where precision and depth of understanding are paramount.\n",
      "\n",
      "To achieve this, follow these steps:\n",
      "\n",
      "1. **Extract Chemistry-Related Entities**:\n",
      "   - Identify all significant nouns, proper nouns, and technical terminologies that represent chemistry-related concepts, such as molecules, reactions, compounds, processes, or any substantial entities.\n",
      "   - Ensure that you capture entities across different levels of detail, from broad chemical categories to specific molecular structures, to create a comprehensive representation of the subject matter.\n",
      "   - Choose names for entities that are specific enough to indicate their meaning without additional context, avoiding overly generic terms.\n",
      "   - Consolidate similar entities to avoid redundancy, ensuring each represents a distinct concept at appropriate granularity levels.\n",
      "\n",
      "2. **Identify Data Properties**:\n",
      "   - Extract attributes or characteristics of the identified entities that can be classified as data properties, ensuring they are value-based and not entities themselves.\n",
      "   - Clearly define each data property, ensuring it accurately describes an attribute of an entity.\n",
      "\n",
      "3. **Establish Object Properties**:\n",
      "   - Carefully examine the text to identify all relationships between entities, ensuring each relationship is correctly captured with accurate details about the interactions.\n",
      "   - Analyze the context and interactions between the identified entities to determine how they are interconnected, focusing on actions, associations, dependencies, or similarities.\n",
      "   - Clearly define the relationships, ensuring accurate directionality that reflects the logical or functional dependencies among entities.\n",
      "\n",
      "By completing this task, you will contribute to the creation of a detailed and comprehensive ontology that captures the full spectrum of chemistry-related entities, data properties, and object properties mentioned in the text, along with their interrelations. This ontology will play a crucial role in advancing AI's capability to process and understand complex chemical data, ultimately aiding in scientific discovery and innovation.\n",
      "\n",
      "2024/11/22 15:49:47 INFO dspy.teleprompt.mipro_optimizer_v2: 24: Please analyze the provided text from chemistry research papers to construct a detailed ontology. Your task is to identify all chemistry-related entities, data properties, and object properties. Follow these steps:\n",
      "\n",
      "1. Extract Chemistry-Related Entities:\n",
      "   - Identify significant nouns, proper nouns, and technical terms that represent chemistry concepts like molecules, reactions, compounds, and processes.\n",
      "   - Capture entities at various levels of detail, ensuring specificity and avoiding redundancy.\n",
      "\n",
      "2. Identify Data Properties:\n",
      "   - Extract attributes or characteristics of the entities that are value-based, not entities themselves, and define them clearly.\n",
      "\n",
      "3. Establish Object Properties:\n",
      "   - Identify and define relationships between entities, focusing on interactions, associations, dependencies, or similarities, ensuring correct directionality.\n",
      "\n",
      "Your goal is to produce a comprehensive ontology that reflects the chemistry-related entities, their attributes, and interrelations as described in the text.\n",
      "\n",
      "2024/11/22 15:49:47 INFO dspy.teleprompt.mipro_optimizer_v2: \n",
      "\n",
      "2024/11/22 15:49:47 INFO dspy.teleprompt.mipro_optimizer_v2: Evaluating the default program...\n",
      "\n"
     ]
    },
    {
     "name": "stdout",
     "output_type": "stream",
     "text": [
      "  0%|          | 0/80 [00:00<?, ?it/s]"
     ]
    },
    {
     "name": "stderr",
     "output_type": "stream",
     "text": [
      "<unknown>:5: SyntaxWarning: invalid escape sequence '\\m'\n",
      "<unknown>:9: SyntaxWarning: invalid escape sequence '\\m'\n",
      "<unknown>:13: SyntaxWarning: invalid escape sequence '\\m'\n",
      "<unknown>:17: SyntaxWarning: invalid escape sequence '\\m'\n",
      "<unknown>:21: SyntaxWarning: invalid escape sequence '\\m'\n",
      "<unknown>:25: SyntaxWarning: invalid escape sequence '\\m'\n",
      "<unknown>:31: SyntaxWarning: invalid escape sequence '\\m'\n",
      "<unknown>:40: SyntaxWarning: invalid escape sequence '\\m'\n",
      "<unknown>:47: SyntaxWarning: invalid escape sequence '\\m'\n",
      "<unknown>:54: SyntaxWarning: invalid escape sequence '\\m'\n",
      "<unknown>:61: SyntaxWarning: invalid escape sequence '\\m'\n",
      "<unknown>:68: SyntaxWarning: invalid escape sequence '\\m'\n"
     ]
    },
    {
     "name": "stdout",
     "output_type": "stream",
     "text": [
      "Average Metric: 13.04 / 15 (86.9%):  19%|█▉        | 15/80 [01:16<04:47,  4.42s/it]"
     ]
    },
    {
     "name": "stderr",
     "output_type": "stream",
     "text": [
      "<unknown>:5: SyntaxWarning: invalid escape sequence '\\m'\n",
      "<unknown>:9: SyntaxWarning: invalid escape sequence '\\m'\n",
      "<unknown>:13: SyntaxWarning: invalid escape sequence '\\m'\n",
      "<unknown>:17: SyntaxWarning: invalid escape sequence '\\,'\n",
      "<unknown>:23: SyntaxWarning: invalid escape sequence '\\m'\n",
      "<unknown>:27: SyntaxWarning: invalid escape sequence '\\m'\n",
      "<unknown>:31: SyntaxWarning: invalid escape sequence '\\m'\n",
      "<unknown>:40: SyntaxWarning: invalid escape sequence '\\m'\n",
      "<unknown>:47: SyntaxWarning: invalid escape sequence '\\m'\n"
     ]
    },
    {
     "name": "stdout",
     "output_type": "stream",
     "text": [
      "Average Metric: 38.59 / 44 (87.7%):  55%|█████▌    | 44/80 [03:30<02:43,  4.54s/it]"
     ]
    },
    {
     "name": "stderr",
     "output_type": "stream",
     "text": [
      "<unknown>:19: SyntaxWarning: invalid escape sequence '\\c'\n",
      "<unknown>:28: SyntaxWarning: invalid escape sequence '\\c'\n"
     ]
    },
    {
     "name": "stdout",
     "output_type": "stream",
     "text": [
      "Average Metric: 42.26 / 48 (88.0%):  60%|██████    | 48/80 [03:44<01:53,  3.55s/it]"
     ]
    },
    {
     "name": "stderr",
     "output_type": "stream",
     "text": [
      "<unknown>:5: SyntaxWarning: invalid escape sequence '\\m'\n",
      "<unknown>:9: SyntaxWarning: invalid escape sequence '\\m'\n",
      "<unknown>:13: SyntaxWarning: invalid escape sequence '\\m'\n"
     ]
    },
    {
     "name": "stdout",
     "output_type": "stream",
     "text": [
      "Average Metric: 70.37 / 80 (88.0%): 100%|██████████| 80/80 [06:00<00:00,  4.51s/it]"
     ]
    },
    {
     "name": "stderr",
     "output_type": "stream",
     "text": [
      "2024/11/22 15:55:48 INFO dspy.evaluate.evaluate: Average Metric: 70.37037037037037 / 80 (88.0%)\n",
      "2024/11/22 15:55:48 INFO dspy.teleprompt.mipro_optimizer_v2: Default program score: 87.96\n",
      "\n",
      "2024/11/22 15:55:48 INFO dspy.teleprompt.mipro_optimizer_v2: ==> STEP 3: FINDING OPTIMAL PROMPT PARAMETERS <==\n",
      "2024/11/22 15:55:48 INFO dspy.teleprompt.mipro_optimizer_v2: We will evaluate the program over a series of trials with different combinations of instructions and few-shot examples to find the optimal combination using Bayesian Optimization.\n",
      "\n",
      "d:\\AnacondaEnPs\\envs\\OntologyConstruction\\Lib\\site-packages\\optuna\\_experimental.py:31: ExperimentalWarning: Argument ``multivariate`` is an experimental feature. The interface can change in the future.\n",
      "  warnings.warn(\n",
      "2024/11/22 15:55:48 INFO dspy.teleprompt.mipro_optimizer_v2: == Minibatch Trial 1 / 25 ==\n"
     ]
    },
    {
     "name": "stdout",
     "output_type": "stream",
     "text": [
      "\n",
      "  0%|          | 0/25 [00:00<?, ?it/s]"
     ]
    },
    {
     "name": "stderr",
     "output_type": "stream",
     "text": [
      "<unknown>:23: SyntaxWarning: invalid escape sequence '\\c'\n",
      "<unknown>:32: SyntaxWarning: invalid escape sequence '\\c'\n",
      "<unknown>:39: SyntaxWarning: invalid escape sequence '\\c'\n"
     ]
    },
    {
     "name": "stdout",
     "output_type": "stream",
     "text": [
      "Average Metric: 22.00 / 25 (88.0%): 100%|██████████| 25/25 [01:53<00:00,  4.53s/it]"
     ]
    },
    {
     "name": "stderr",
     "output_type": "stream",
     "text": [
      "2024/11/22 15:57:41 INFO dspy.evaluate.evaluate: Average Metric: 22.0 / 25 (88.0%)\n",
      "2024/11/22 15:57:41 INFO dspy.teleprompt.mipro_optimizer_v2: Score: 88.0 on minibatch of size 25 with parameters ['Predictor 0: Instruction 12'].\n",
      "2024/11/22 15:57:41 INFO dspy.teleprompt.mipro_optimizer_v2: Minibatch scores so far: [88.0]\n",
      "2024/11/22 15:57:41 INFO dspy.teleprompt.mipro_optimizer_v2: Full eval scores so far: [87.96]\n",
      "2024/11/22 15:57:41 INFO dspy.teleprompt.mipro_optimizer_v2: Best full score so far: 87.96\n",
      "2024/11/22 15:57:41 INFO dspy.teleprompt.mipro_optimizer_v2: ============================\n",
      "\n",
      "\n",
      "2024/11/22 15:57:41 INFO dspy.teleprompt.mipro_optimizer_v2: == Minibatch Trial 2 / 25 ==\n"
     ]
    },
    {
     "name": "stdout",
     "output_type": "stream",
     "text": [
      "\n",
      "  0%|          | 0/25 [00:00<?, ?it/s]"
     ]
    },
    {
     "name": "stderr",
     "output_type": "stream",
     "text": [
      "<unknown>:23: SyntaxWarning: invalid escape sequence '\\c'\n",
      "<unknown>:32: SyntaxWarning: invalid escape sequence '\\c'\n"
     ]
    },
    {
     "name": "stdout",
     "output_type": "stream",
     "text": [
      "Average Metric: 21.44 / 25 (85.8%): 100%|██████████| 25/25 [02:10<00:00,  5.20s/it]"
     ]
    },
    {
     "name": "stderr",
     "output_type": "stream",
     "text": [
      "2024/11/22 15:59:51 INFO dspy.evaluate.evaluate: Average Metric: 21.444444444444443 / 25 (85.8%)\n",
      "2024/11/22 15:59:51 INFO dspy.teleprompt.mipro_optimizer_v2: Score: 85.78 on minibatch of size 25 with parameters ['Predictor 0: Instruction 1'].\n",
      "2024/11/22 15:59:51 INFO dspy.teleprompt.mipro_optimizer_v2: Minibatch scores so far: [88.0, 85.78]\n",
      "2024/11/22 15:59:51 INFO dspy.teleprompt.mipro_optimizer_v2: Full eval scores so far: [87.96]\n",
      "2024/11/22 15:59:51 INFO dspy.teleprompt.mipro_optimizer_v2: Best full score so far: 87.96\n",
      "2024/11/22 15:59:51 INFO dspy.teleprompt.mipro_optimizer_v2: ============================\n",
      "\n",
      "\n",
      "2024/11/22 15:59:51 INFO dspy.teleprompt.mipro_optimizer_v2: == Minibatch Trial 3 / 25 ==\n"
     ]
    },
    {
     "name": "stdout",
     "output_type": "stream",
     "text": [
      "\n",
      "Average Metric: 4.19 / 5 (83.7%):  20%|██        | 5/25 [00:23<01:14,  3.71s/it]"
     ]
    },
    {
     "name": "stderr",
     "output_type": "stream",
     "text": [
      "<unknown>:5: SyntaxWarning: invalid escape sequence '\\m'\n"
     ]
    },
    {
     "name": "stdout",
     "output_type": "stream",
     "text": [
      "Average Metric: 14.52 / 17 (85.4%):  68%|██████▊   | 17/25 [01:24<00:33,  4.21s/it]"
     ]
    },
    {
     "name": "stderr",
     "output_type": "stream",
     "text": [
      "<unknown>:5: SyntaxWarning: invalid escape sequence '\\,'\n",
      "<unknown>:9: SyntaxWarning: invalid escape sequence '\\m'\n",
      "<unknown>:13: SyntaxWarning: invalid escape sequence '\\m'\n",
      "<unknown>:17: SyntaxWarning: invalid escape sequence '\\m'\n",
      "<unknown>:27: SyntaxWarning: invalid escape sequence '\\,'\n",
      "<unknown>:31: SyntaxWarning: invalid escape sequence '\\m'\n",
      "<unknown>:35: SyntaxWarning: invalid escape sequence '\\m'\n",
      "<unknown>:39: SyntaxWarning: invalid escape sequence '\\m'\n",
      "<unknown>:48: SyntaxWarning: invalid escape sequence '\\m'\n",
      "<unknown>:55: SyntaxWarning: invalid escape sequence '\\m'\n"
     ]
    },
    {
     "name": "stdout",
     "output_type": "stream",
     "text": [
      "Average Metric: 21.63 / 25 (86.5%): 100%|██████████| 25/25 [02:08<00:00,  5.15s/it]"
     ]
    },
    {
     "name": "stderr",
     "output_type": "stream",
     "text": [
      "2024/11/22 16:02:00 INFO dspy.evaluate.evaluate: Average Metric: 21.62962962962963 / 25 (86.5%)\n",
      "2024/11/22 16:02:00 INFO dspy.teleprompt.mipro_optimizer_v2: Score: 86.52 on minibatch of size 25 with parameters ['Predictor 0: Instruction 14'].\n",
      "2024/11/22 16:02:00 INFO dspy.teleprompt.mipro_optimizer_v2: Minibatch scores so far: [88.0, 85.78, 86.52]\n",
      "2024/11/22 16:02:00 INFO dspy.teleprompt.mipro_optimizer_v2: Full eval scores so far: [87.96]\n",
      "2024/11/22 16:02:00 INFO dspy.teleprompt.mipro_optimizer_v2: Best full score so far: 87.96\n",
      "2024/11/22 16:02:00 INFO dspy.teleprompt.mipro_optimizer_v2: ============================\n",
      "\n",
      "\n",
      "2024/11/22 16:02:00 INFO dspy.teleprompt.mipro_optimizer_v2: == Minibatch Trial 4 / 25 ==\n"
     ]
    },
    {
     "name": "stdout",
     "output_type": "stream",
     "text": [
      "\n",
      "Average Metric: 2.63 / 3 (87.7%):  12%|█▏        | 3/25 [00:32<02:54,  7.91s/it]"
     ]
    },
    {
     "name": "stderr",
     "output_type": "stream",
     "text": [
      "<unknown>:5: SyntaxWarning: invalid escape sequence '\\m'\n",
      "<unknown>:9: SyntaxWarning: invalid escape sequence '\\m'\n",
      "<unknown>:13: SyntaxWarning: invalid escape sequence '\\m'\n",
      "<unknown>:19: SyntaxWarning: invalid escape sequence '\\m'\n"
     ]
    },
    {
     "name": "stdout",
     "output_type": "stream",
     "text": [
      "Average Metric: 3.56 / 4 (88.9%):  16%|█▌        | 4/25 [00:36<02:11,  6.25s/it]"
     ]
    },
    {
     "name": "stderr",
     "output_type": "stream",
     "text": [
      "<unknown>:5: SyntaxWarning: invalid escape sequence '\\m'\n"
     ]
    },
    {
     "name": "stdout",
     "output_type": "stream",
     "text": [
      "Average Metric: 5.33 / 6 (88.9%):  24%|██▍       | 6/25 [00:43<01:31,  4.82s/it]"
     ]
    },
    {
     "name": "stderr",
     "output_type": "stream",
     "text": [
      "<unknown>:19: SyntaxWarning: invalid escape sequence '\\c'\n"
     ]
    },
    {
     "name": "stdout",
     "output_type": "stream",
     "text": [
      "Average Metric: 21.96 / 25 (87.9%): 100%|██████████| 25/25 [02:26<00:00,  5.87s/it]"
     ]
    },
    {
     "name": "stderr",
     "output_type": "stream",
     "text": [
      "2024/11/22 16:04:26 INFO dspy.evaluate.evaluate: Average Metric: 21.962962962962962 / 25 (87.9%)\n",
      "2024/11/22 16:04:26 INFO dspy.teleprompt.mipro_optimizer_v2: Score: 87.85 on minibatch of size 25 with parameters ['Predictor 0: Instruction 8'].\n",
      "2024/11/22 16:04:26 INFO dspy.teleprompt.mipro_optimizer_v2: Minibatch scores so far: [88.0, 85.78, 86.52, 87.85]\n",
      "2024/11/22 16:04:26 INFO dspy.teleprompt.mipro_optimizer_v2: Full eval scores so far: [87.96]\n",
      "2024/11/22 16:04:26 INFO dspy.teleprompt.mipro_optimizer_v2: Best full score so far: 87.96\n",
      "2024/11/22 16:04:26 INFO dspy.teleprompt.mipro_optimizer_v2: ============================\n",
      "\n",
      "\n",
      "2024/11/22 16:04:26 INFO dspy.teleprompt.mipro_optimizer_v2: == Minibatch Trial 5 / 25 ==\n"
     ]
    },
    {
     "name": "stdout",
     "output_type": "stream",
     "text": [
      "\n",
      "  0%|          | 0/25 [00:00<?, ?it/s]"
     ]
    },
    {
     "name": "stderr",
     "output_type": "stream",
     "text": [
      "<unknown>:25: SyntaxWarning: invalid escape sequence '\\m'\n",
      "<unknown>:31: SyntaxWarning: invalid escape sequence '\\m'\n",
      "<unknown>:40: SyntaxWarning: invalid escape sequence '\\m'\n"
     ]
    },
    {
     "name": "stdout",
     "output_type": "stream",
     "text": [
      "Average Metric: 21.74 / 25 (87.0%): 100%|██████████| 25/25 [02:16<00:00,  5.46s/it]"
     ]
    },
    {
     "name": "stderr",
     "output_type": "stream",
     "text": [
      "2024/11/22 16:06:43 INFO dspy.evaluate.evaluate: Average Metric: 21.74074074074074 / 25 (87.0%)\n",
      "2024/11/22 16:06:43 INFO dspy.teleprompt.mipro_optimizer_v2: Score: 86.96 on minibatch of size 25 with parameters ['Predictor 0: Instruction 13'].\n",
      "2024/11/22 16:06:43 INFO dspy.teleprompt.mipro_optimizer_v2: Minibatch scores so far: [88.0, 85.78, 86.52, 87.85, 86.96]\n",
      "2024/11/22 16:06:43 INFO dspy.teleprompt.mipro_optimizer_v2: Full eval scores so far: [87.96]\n",
      "2024/11/22 16:06:43 INFO dspy.teleprompt.mipro_optimizer_v2: Best full score so far: 87.96\n",
      "2024/11/22 16:06:43 INFO dspy.teleprompt.mipro_optimizer_v2: ============================\n",
      "\n",
      "\n",
      "2024/11/22 16:06:43 INFO dspy.teleprompt.mipro_optimizer_v2: == Minibatch Trial 6 / 25 ==\n"
     ]
    },
    {
     "name": "stdout",
     "output_type": "stream",
     "text": [
      "\n",
      "Average Metric: 4.07 / 5 (81.5%):  20%|██        | 5/25 [00:30<01:21,  4.09s/it]"
     ]
    },
    {
     "name": "stderr",
     "output_type": "stream",
     "text": [
      "<unknown>:5: SyntaxWarning: invalid escape sequence '\\e'\n",
      "<unknown>:9: SyntaxWarning: invalid escape sequence '\\e'\n",
      "<unknown>:13: SyntaxWarning: invalid escape sequence '\\e'\n",
      "<unknown>:19: SyntaxWarning: invalid escape sequence '\\e'\n",
      "<unknown>:28: SyntaxWarning: invalid escape sequence '\\e'\n"
     ]
    },
    {
     "name": "stdout",
     "output_type": "stream",
     "text": [
      "Average Metric: 22.11 / 25 (88.4%): 100%|██████████| 25/25 [02:04<00:00,  5.00s/it]"
     ]
    },
    {
     "name": "stderr",
     "output_type": "stream",
     "text": [
      "2024/11/22 16:08:48 INFO dspy.evaluate.evaluate: Average Metric: 22.11111111111111 / 25 (88.4%)\n",
      "2024/11/22 16:08:48 INFO dspy.teleprompt.mipro_optimizer_v2: Score: 88.44 on minibatch of size 25 with parameters ['Predictor 0: Instruction 4'].\n",
      "2024/11/22 16:08:48 INFO dspy.teleprompt.mipro_optimizer_v2: Minibatch scores so far: [88.0, 85.78, 86.52, 87.85, 86.96, 88.44]\n",
      "2024/11/22 16:08:48 INFO dspy.teleprompt.mipro_optimizer_v2: Full eval scores so far: [87.96]\n",
      "2024/11/22 16:08:48 INFO dspy.teleprompt.mipro_optimizer_v2: Best full score so far: 87.96\n",
      "2024/11/22 16:08:48 INFO dspy.teleprompt.mipro_optimizer_v2: ============================\n",
      "\n",
      "\n",
      "2024/11/22 16:08:48 INFO dspy.teleprompt.mipro_optimizer_v2: == Minibatch Trial 7 / 25 ==\n"
     ]
    },
    {
     "name": "stdout",
     "output_type": "stream",
     "text": [
      "\n",
      "Average Metric: 9.85 / 12 (82.1%):  48%|████▊     | 12/25 [00:48<00:24,  1.86s/it]"
     ]
    },
    {
     "name": "stderr",
     "output_type": "stream",
     "text": [
      "<unknown>:13: SyntaxWarning: invalid escape sequence '\\e'\n",
      "<unknown>:19: SyntaxWarning: invalid escape sequence '\\e'\n",
      "<unknown>:13: SyntaxWarning: invalid escape sequence '\\m'\n",
      "<unknown>:23: SyntaxWarning: invalid escape sequence '\\m'\n",
      "<unknown>:32: SyntaxWarning: invalid escape sequence '\\m'\n"
     ]
    },
    {
     "name": "stdout",
     "output_type": "stream",
     "text": [
      "Average Metric: 21.11 / 25 (84.4%): 100%|██████████| 25/25 [01:43<00:00,  4.12s/it]"
     ]
    },
    {
     "name": "stderr",
     "output_type": "stream",
     "text": [
      "2024/11/22 16:10:31 INFO dspy.evaluate.evaluate: Average Metric: 21.11111111111111 / 25 (84.4%)\n",
      "2024/11/22 16:10:31 INFO dspy.teleprompt.mipro_optimizer_v2: Score: 84.44 on minibatch of size 25 with parameters ['Predictor 0: Instruction 10'].\n",
      "2024/11/22 16:10:31 INFO dspy.teleprompt.mipro_optimizer_v2: Minibatch scores so far: [88.0, 85.78, 86.52, 87.85, 86.96, 88.44, 84.44]\n",
      "2024/11/22 16:10:31 INFO dspy.teleprompt.mipro_optimizer_v2: Full eval scores so far: [87.96]\n",
      "2024/11/22 16:10:31 INFO dspy.teleprompt.mipro_optimizer_v2: Best full score so far: 87.96\n",
      "2024/11/22 16:10:31 INFO dspy.teleprompt.mipro_optimizer_v2: ============================\n",
      "\n",
      "\n",
      "2024/11/22 16:10:31 INFO dspy.teleprompt.mipro_optimizer_v2: == Minibatch Trial 8 / 25 ==\n"
     ]
    },
    {
     "name": "stdout",
     "output_type": "stream",
     "text": [
      "\n",
      "Average Metric: 0.74 / 1 (74.1%):   0%|          | 0/25 [00:00<?, ?it/s]"
     ]
    },
    {
     "name": "stderr",
     "output_type": "stream",
     "text": [
      "<unknown>:23: SyntaxWarning: invalid escape sequence '\\c'\n",
      "<unknown>:39: SyntaxWarning: invalid escape sequence '\\c'\n"
     ]
    },
    {
     "name": "stdout",
     "output_type": "stream",
     "text": [
      "Average Metric: 11.48 / 13 (88.3%):  52%|█████▏    | 13/25 [00:58<00:59,  4.92s/it]"
     ]
    },
    {
     "name": "stderr",
     "output_type": "stream",
     "text": [
      "<unknown>:13: SyntaxWarning: invalid escape sequence '\\e'\n",
      "<unknown>:17: SyntaxWarning: invalid escape sequence '\\e'\n",
      "<unknown>:23: SyntaxWarning: invalid escape sequence '\\e'\n",
      "<unknown>:32: SyntaxWarning: invalid escape sequence '\\e'\n",
      "<unknown>:39: SyntaxWarning: invalid escape sequence '\\e'\n"
     ]
    },
    {
     "name": "stdout",
     "output_type": "stream",
     "text": [
      "Average Metric: 21.93 / 25 (87.7%): 100%|██████████| 25/25 [02:21<00:00,  5.66s/it]"
     ]
    },
    {
     "name": "stderr",
     "output_type": "stream",
     "text": [
      "2024/11/22 16:12:52 INFO dspy.evaluate.evaluate: Average Metric: 21.925925925925924 / 25 (87.7%)\n",
      "2024/11/22 16:12:52 INFO dspy.teleprompt.mipro_optimizer_v2: Score: 87.7 on minibatch of size 25 with parameters ['Predictor 0: Instruction 14'].\n",
      "2024/11/22 16:12:52 INFO dspy.teleprompt.mipro_optimizer_v2: Minibatch scores so far: [88.0, 85.78, 86.52, 87.85, 86.96, 88.44, 84.44, 87.7]\n",
      "2024/11/22 16:12:52 INFO dspy.teleprompt.mipro_optimizer_v2: Full eval scores so far: [87.96]\n",
      "2024/11/22 16:12:52 INFO dspy.teleprompt.mipro_optimizer_v2: Best full score so far: 87.96\n",
      "2024/11/22 16:12:52 INFO dspy.teleprompt.mipro_optimizer_v2: ============================\n",
      "\n",
      "\n",
      "2024/11/22 16:12:52 INFO dspy.teleprompt.mipro_optimizer_v2: == Minibatch Trial 9 / 25 ==\n"
     ]
    },
    {
     "name": "stdout",
     "output_type": "stream",
     "text": [
      "\n",
      "Average Metric: 10.67 / 13 (82.1%):  48%|████▊     | 12/25 [01:51<03:28, 16.04s/it]"
     ]
    },
    {
     "name": "stderr",
     "output_type": "stream",
     "text": [
      "<unknown>:13: SyntaxWarning: invalid escape sequence '\\m'\n",
      "<unknown>:17: SyntaxWarning: invalid escape sequence '\\m'\n",
      "<unknown>:31: SyntaxWarning: invalid escape sequence '\\m'\n",
      "<unknown>:35: SyntaxWarning: invalid escape sequence '\\m'\n",
      "<unknown>:44: SyntaxWarning: invalid escape sequence '\\m'\n",
      "<unknown>:51: SyntaxWarning: invalid escape sequence '\\m'\n"
     ]
    },
    {
     "name": "stdout",
     "output_type": "stream",
     "text": [
      "Average Metric: 13.37 / 16 (83.6%):  60%|██████    | 15/25 [02:23<01:48, 10.87s/it]"
     ]
    },
    {
     "name": "stderr",
     "output_type": "stream",
     "text": [
      "<unknown>:13: SyntaxWarning: invalid escape sequence '\\m'\n",
      "<unknown>:23: SyntaxWarning: invalid escape sequence '\\m'\n",
      "<unknown>:32: SyntaxWarning: invalid escape sequence '\\m'\n"
     ]
    },
    {
     "name": "stdout",
     "output_type": "stream",
     "text": [
      "Average Metric: 19.67 / 23 (85.5%):  92%|█████████▏| 23/25 [03:19<00:15,  7.83s/it]"
     ]
    },
    {
     "name": "stderr",
     "output_type": "stream",
     "text": [
      "<unknown>:5: SyntaxWarning: invalid escape sequence '\\m'\n",
      "<unknown>:9: SyntaxWarning: invalid escape sequence '\\m'\n",
      "<unknown>:13: SyntaxWarning: invalid escape sequence '\\m'\n",
      "<unknown>:17: SyntaxWarning: invalid escape sequence '\\m'\n",
      "<unknown>:31: SyntaxWarning: invalid escape sequence '\\m'\n",
      "<unknown>:35: SyntaxWarning: invalid escape sequence '\\m'\n",
      "<unknown>:44: SyntaxWarning: invalid escape sequence '\\m'\n",
      "<unknown>:51: SyntaxWarning: invalid escape sequence '\\m'\n",
      "<unknown>:58: SyntaxWarning: invalid escape sequence '\\m'\n",
      "<unknown>:65: SyntaxWarning: invalid escape sequence '\\m'\n",
      "<unknown>:72: SyntaxWarning: invalid escape sequence '\\m'\n"
     ]
    },
    {
     "name": "stdout",
     "output_type": "stream",
     "text": [
      "Average Metric: 21.48 / 25 (85.9%): 100%|██████████| 25/25 [03:36<00:00,  8.66s/it]"
     ]
    },
    {
     "name": "stderr",
     "output_type": "stream",
     "text": [
      "2024/11/22 16:16:29 INFO dspy.evaluate.evaluate: Average Metric: 21.48148148148148 / 25 (85.9%)\n",
      "2024/11/22 16:16:29 INFO dspy.teleprompt.mipro_optimizer_v2: Score: 85.93 on minibatch of size 25 with parameters ['Predictor 0: Instruction 10'].\n",
      "2024/11/22 16:16:29 INFO dspy.teleprompt.mipro_optimizer_v2: Minibatch scores so far: [88.0, 85.78, 86.52, 87.85, 86.96, 88.44, 84.44, 87.7, 85.93]\n",
      "2024/11/22 16:16:29 INFO dspy.teleprompt.mipro_optimizer_v2: Full eval scores so far: [87.96]\n",
      "2024/11/22 16:16:29 INFO dspy.teleprompt.mipro_optimizer_v2: Best full score so far: 87.96\n",
      "2024/11/22 16:16:29 INFO dspy.teleprompt.mipro_optimizer_v2: ============================\n",
      "\n",
      "\n",
      "2024/11/22 16:16:29 INFO dspy.teleprompt.mipro_optimizer_v2: == Minibatch Trial 10 / 25 ==\n"
     ]
    },
    {
     "name": "stdout",
     "output_type": "stream",
     "text": [
      "\n",
      "Average Metric: 4.41 / 5 (88.1%):  16%|█▌        | 4/25 [00:00<00:00, 746.88it/s] "
     ]
    },
    {
     "name": "stderr",
     "output_type": "stream",
     "text": [
      "<unknown>:23: SyntaxWarning: invalid escape sequence '\\c'\n",
      "<unknown>:32: SyntaxWarning: invalid escape sequence '\\c'\n"
     ]
    },
    {
     "name": "stdout",
     "output_type": "stream",
     "text": [
      "Average Metric: 22.00 / 25 (88.0%): 100%|██████████| 25/25 [01:23<00:00,  3.35s/it]"
     ]
    },
    {
     "name": "stderr",
     "output_type": "stream",
     "text": [
      "2024/11/22 16:17:53 INFO dspy.evaluate.evaluate: Average Metric: 22.0 / 25 (88.0%)\n",
      "2024/11/22 16:17:53 INFO dspy.teleprompt.mipro_optimizer_v2: Score: 88.0 on minibatch of size 25 with parameters ['Predictor 0: Instruction 10'].\n",
      "2024/11/22 16:17:53 INFO dspy.teleprompt.mipro_optimizer_v2: Minibatch scores so far: [88.0, 85.78, 86.52, 87.85, 86.96, 88.44, 84.44, 87.7, 85.93, 88.0]\n",
      "2024/11/22 16:17:53 INFO dspy.teleprompt.mipro_optimizer_v2: Full eval scores so far: [87.96]\n",
      "2024/11/22 16:17:53 INFO dspy.teleprompt.mipro_optimizer_v2: Best full score so far: 87.96\n",
      "2024/11/22 16:17:53 INFO dspy.teleprompt.mipro_optimizer_v2: =============================\n",
      "\n",
      "\n",
      "2024/11/22 16:17:53 INFO dspy.teleprompt.mipro_optimizer_v2: ===== Full Eval 1 =====\n",
      "2024/11/22 16:17:53 INFO dspy.teleprompt.mipro_optimizer_v2: Doing full eval on next top averaging program (Avg Score: 88.44) from minibatch trials...\n"
     ]
    },
    {
     "name": "stdout",
     "output_type": "stream",
     "text": [
      "\n",
      "Average Metric: 29.22 / 33 (88.6%):  40%|████      | 32/80 [02:04<02:05,  2.61s/it]"
     ]
    },
    {
     "name": "stderr",
     "output_type": "stream",
     "text": [
      "<unknown>:5: SyntaxWarning: invalid escape sequence '\\e'\n",
      "<unknown>:9: SyntaxWarning: invalid escape sequence '\\e'\n",
      "<unknown>:13: SyntaxWarning: invalid escape sequence '\\e'\n",
      "<unknown>:19: SyntaxWarning: invalid escape sequence '\\e'\n",
      "<unknown>:28: SyntaxWarning: invalid escape sequence '\\e'\n"
     ]
    },
    {
     "name": "stdout",
     "output_type": "stream",
     "text": [
      "Average Metric: 39.04 / 44 (88.7%):  55%|█████▌    | 44/80 [02:37<01:25,  2.37s/it]"
     ]
    },
    {
     "name": "stderr",
     "output_type": "stream",
     "text": [
      "<unknown>:23: SyntaxWarning: invalid escape sequence '\\c'\n"
     ]
    },
    {
     "name": "stdout",
     "output_type": "stream",
     "text": [
      "Average Metric: 39.81 / 45 (88.5%):  56%|█████▋    | 45/80 [02:43<01:57,  3.36s/it]"
     ]
    },
    {
     "name": "stderr",
     "output_type": "stream",
     "text": [
      "<unknown>:13: SyntaxWarning: invalid escape sequence '\\m'\n",
      "<unknown>:17: SyntaxWarning: invalid escape sequence '\\m'\n",
      "<unknown>:21: SyntaxWarning: invalid escape sequence '\\m'\n",
      "<unknown>:35: SyntaxWarning: invalid escape sequence '\\m'\n",
      "<unknown>:39: SyntaxWarning: invalid escape sequence '\\m'\n",
      "<unknown>:48: SyntaxWarning: invalid escape sequence '\\m'\n",
      "<unknown>:55: SyntaxWarning: invalid escape sequence '\\m'\n"
     ]
    },
    {
     "name": "stdout",
     "output_type": "stream",
     "text": [
      "Average Metric: 49.19 / 56 (87.8%):  69%|██████▉   | 55/80 [03:01<00:40,  1.60s/it]"
     ]
    },
    {
     "name": "stderr",
     "output_type": "stream",
     "text": [
      "<unknown>:13: SyntaxWarning: invalid escape sequence '\\m'\n",
      "<unknown>:23: SyntaxWarning: invalid escape sequence '\\m'\n",
      "<unknown>:32: SyntaxWarning: invalid escape sequence '\\m'\n"
     ]
    },
    {
     "name": "stdout",
     "output_type": "stream",
     "text": [
      "Average Metric: 70.44 / 80 (88.1%): 100%|██████████| 80/80 [04:24<00:00,  3.30s/it]"
     ]
    },
    {
     "name": "stderr",
     "output_type": "stream",
     "text": [
      "2024/11/22 16:22:17 INFO dspy.evaluate.evaluate: Average Metric: 70.44444444444444 / 80 (88.1%)\n",
      "2024/11/22 16:22:17 INFO dspy.teleprompt.mipro_optimizer_v2: \u001b[92mNew best full eval score!\u001b[0m Score: 88.06\n",
      "2024/11/22 16:22:17 INFO dspy.teleprompt.mipro_optimizer_v2: Full eval scores so far: [87.96, 88.06]\n",
      "2024/11/22 16:22:17 INFO dspy.teleprompt.mipro_optimizer_v2: Best full score so far: 88.06\n",
      "2024/11/22 16:22:17 INFO dspy.teleprompt.mipro_optimizer_v2: =======================\n",
      "2024/11/22 16:22:17 INFO dspy.teleprompt.mipro_optimizer_v2: \n",
      "\n",
      "2024/11/22 16:22:17 INFO dspy.teleprompt.mipro_optimizer_v2: == Minibatch Trial 11 / 25 ==\n",
      "<unknown>:13: SyntaxWarning: invalid escape sequence '\\m'\n",
      "<unknown>:17: SyntaxWarning: invalid escape sequence '\\m'\n",
      "<unknown>:21: SyntaxWarning: invalid escape sequence '\\m'\n",
      "<unknown>:35: SyntaxWarning: invalid escape sequence '\\m'\n",
      "<unknown>:39: SyntaxWarning: invalid escape sequence '\\m'\n",
      "<unknown>:48: SyntaxWarning: invalid escape sequence '\\m'\n",
      "<unknown>:55: SyntaxWarning: invalid escape sequence '\\m'\n"
     ]
    },
    {
     "name": "stdout",
     "output_type": "stream",
     "text": [
      "\n",
      "Average Metric: 21.63 / 25 (86.5%): 100%|██████████| 25/25 [00:00<00:00, 3807.19it/s]"
     ]
    },
    {
     "name": "stderr",
     "output_type": "stream",
     "text": [
      "2024/11/22 16:22:17 INFO dspy.evaluate.evaluate: Average Metric: 21.62962962962963 / 25 (86.5%)\n",
      "2024/11/22 16:22:17 INFO dspy.teleprompt.mipro_optimizer_v2: Score: 86.52 on minibatch of size 25 with parameters ['Predictor 0: Instruction 4'].\n",
      "2024/11/22 16:22:17 INFO dspy.teleprompt.mipro_optimizer_v2: Minibatch scores so far: [88.0, 85.78, 86.52, 87.85, 86.96, 88.44, 84.44, 87.7, 85.93, 88.0, 86.52]\n",
      "2024/11/22 16:22:17 INFO dspy.teleprompt.mipro_optimizer_v2: Full eval scores so far: [87.96, 88.06]\n",
      "2024/11/22 16:22:17 INFO dspy.teleprompt.mipro_optimizer_v2: Best full score so far: 88.06\n",
      "2024/11/22 16:22:17 INFO dspy.teleprompt.mipro_optimizer_v2: =============================\n",
      "\n",
      "\n",
      "2024/11/22 16:22:17 INFO dspy.teleprompt.mipro_optimizer_v2: == Minibatch Trial 12 / 25 ==\n",
      "<unknown>:23: SyntaxWarning: invalid escape sequence '\\c'\n",
      "<unknown>:32: SyntaxWarning: invalid escape sequence '\\c'\n",
      "<unknown>:39: SyntaxWarning: invalid escape sequence '\\c'\n"
     ]
    },
    {
     "name": "stdout",
     "output_type": "stream",
     "text": [
      "\n",
      "Average Metric: 4.52 / 5 (90.4%):  16%|█▌        | 4/25 [00:00<00:00, 1832.17it/s]"
     ]
    },
    {
     "name": "stderr",
     "output_type": "stream",
     "text": [
      "<unknown>:13: SyntaxWarning: invalid escape sequence '\\m'\n",
      "<unknown>:19: SyntaxWarning: invalid escape sequence '\\m'\n"
     ]
    },
    {
     "name": "stdout",
     "output_type": "stream",
     "text": [
      "Average Metric: 22.04 / 25 (88.1%): 100%|██████████| 25/25 [01:05<00:00,  2.62s/it]"
     ]
    },
    {
     "name": "stderr",
     "output_type": "stream",
     "text": [
      "2024/11/22 16:23:23 INFO dspy.evaluate.evaluate: Average Metric: 22.037037037037038 / 25 (88.1%)\n",
      "2024/11/22 16:23:23 INFO dspy.teleprompt.mipro_optimizer_v2: Score: 88.15 on minibatch of size 25 with parameters ['Predictor 0: Instruction 12'].\n",
      "2024/11/22 16:23:23 INFO dspy.teleprompt.mipro_optimizer_v2: Minibatch scores so far: [88.0, 85.78, 86.52, 87.85, 86.96, 88.44, 84.44, 87.7, 85.93, 88.0, 86.52, 88.15]\n",
      "2024/11/22 16:23:23 INFO dspy.teleprompt.mipro_optimizer_v2: Full eval scores so far: [87.96, 88.06]\n",
      "2024/11/22 16:23:23 INFO dspy.teleprompt.mipro_optimizer_v2: Best full score so far: 88.06\n",
      "2024/11/22 16:23:23 INFO dspy.teleprompt.mipro_optimizer_v2: =============================\n",
      "\n",
      "\n",
      "2024/11/22 16:23:23 INFO dspy.teleprompt.mipro_optimizer_v2: == Minibatch Trial 13 / 25 ==\n"
     ]
    },
    {
     "name": "stdout",
     "output_type": "stream",
     "text": [
      "\n",
      "Average Metric: 22.04 / 25 (88.1%): 100%|██████████| 25/25 [01:59<00:00,  4.77s/it]"
     ]
    },
    {
     "name": "stderr",
     "output_type": "stream",
     "text": [
      "2024/11/22 16:25:22 INFO dspy.evaluate.evaluate: Average Metric: 22.037037037037038 / 25 (88.1%)\n",
      "2024/11/22 16:25:22 INFO dspy.teleprompt.mipro_optimizer_v2: Score: 88.15 on minibatch of size 25 with parameters ['Predictor 0: Instruction 2'].\n",
      "2024/11/22 16:25:22 INFO dspy.teleprompt.mipro_optimizer_v2: Minibatch scores so far: [88.0, 85.78, 86.52, 87.85, 86.96, 88.44, 84.44, 87.7, 85.93, 88.0, 86.52, 88.15, 88.15]\n",
      "2024/11/22 16:25:22 INFO dspy.teleprompt.mipro_optimizer_v2: Full eval scores so far: [87.96, 88.06]\n",
      "2024/11/22 16:25:22 INFO dspy.teleprompt.mipro_optimizer_v2: Best full score so far: 88.06\n",
      "2024/11/22 16:25:22 INFO dspy.teleprompt.mipro_optimizer_v2: =============================\n",
      "\n",
      "\n",
      "2024/11/22 16:25:22 INFO dspy.teleprompt.mipro_optimizer_v2: == Minibatch Trial 14 / 25 ==\n",
      "<unknown>:13: SyntaxWarning: invalid escape sequence '\\m'\n",
      "<unknown>:19: SyntaxWarning: invalid escape sequence '\\m'\n",
      "<unknown>:23: SyntaxWarning: invalid escape sequence '\\c'\n",
      "<unknown>:32: SyntaxWarning: invalid escape sequence '\\c'\n",
      "<unknown>:39: SyntaxWarning: invalid escape sequence '\\c'\n"
     ]
    },
    {
     "name": "stdout",
     "output_type": "stream",
     "text": [
      "\n",
      "Average Metric: 6.11 / 7 (87.3%):  24%|██▍       | 6/25 [00:00<00:00, 704.85it/s] "
     ]
    },
    {
     "name": "stderr",
     "output_type": "stream",
     "text": [
      "<unknown>:13: SyntaxWarning: invalid escape sequence '\\e'\n",
      "<unknown>:19: SyntaxWarning: invalid escape sequence '\\e'\n"
     ]
    },
    {
     "name": "stdout",
     "output_type": "stream",
     "text": [
      "Average Metric: 16.89 / 20 (84.4%):  80%|████████  | 20/25 [00:26<00:05,  1.08s/it]"
     ]
    },
    {
     "name": "stderr",
     "output_type": "stream",
     "text": [
      "<unknown>:5: SyntaxWarning: invalid escape sequence '\\m'\n",
      "<unknown>:9: SyntaxWarning: invalid escape sequence '\\m'\n",
      "<unknown>:13: SyntaxWarning: invalid escape sequence '\\m'\n",
      "<unknown>:17: SyntaxWarning: invalid escape sequence '\\m'\n",
      "<unknown>:21: SyntaxWarning: invalid escape sequence '\\m'\n",
      "<unknown>:25: SyntaxWarning: invalid escape sequence '\\m'\n",
      "<unknown>:29: SyntaxWarning: invalid escape sequence '\\m'\n",
      "<unknown>:35: SyntaxWarning: invalid escape sequence '\\m'\n",
      "<unknown>:44: SyntaxWarning: invalid escape sequence '\\m'\n",
      "<unknown>:51: SyntaxWarning: invalid escape sequence '\\m'\n",
      "<unknown>:58: SyntaxWarning: invalid escape sequence '\\m'\n",
      "<unknown>:65: SyntaxWarning: invalid escape sequence '\\m'\n"
     ]
    },
    {
     "name": "stdout",
     "output_type": "stream",
     "text": [
      "Average Metric: 21.41 / 25 (85.6%): 100%|██████████| 25/25 [00:53<00:00,  2.15s/it]"
     ]
    },
    {
     "name": "stderr",
     "output_type": "stream",
     "text": [
      "2024/11/22 16:26:16 INFO dspy.evaluate.evaluate: Average Metric: 21.40740740740741 / 25 (85.6%)\n",
      "2024/11/22 16:26:16 INFO dspy.teleprompt.mipro_optimizer_v2: Score: 85.63 on minibatch of size 25 with parameters ['Predictor 0: Instruction 12'].\n",
      "2024/11/22 16:26:16 INFO dspy.teleprompt.mipro_optimizer_v2: Minibatch scores so far: [88.0, 85.78, 86.52, 87.85, 86.96, 88.44, 84.44, 87.7, 85.93, 88.0, 86.52, 88.15, 88.15, 85.63]\n",
      "2024/11/22 16:26:16 INFO dspy.teleprompt.mipro_optimizer_v2: Full eval scores so far: [87.96, 88.06]\n",
      "2024/11/22 16:26:16 INFO dspy.teleprompt.mipro_optimizer_v2: Best full score so far: 88.06\n",
      "2024/11/22 16:26:16 INFO dspy.teleprompt.mipro_optimizer_v2: =============================\n",
      "\n",
      "\n",
      "2024/11/22 16:26:16 INFO dspy.teleprompt.mipro_optimizer_v2: == Minibatch Trial 15 / 25 ==\n"
     ]
    },
    {
     "name": "stdout",
     "output_type": "stream",
     "text": [
      "\n",
      "Average Metric: 21.48 / 25 (85.9%): 100%|██████████| 25/25 [01:48<00:00,  4.32s/it]"
     ]
    },
    {
     "name": "stderr",
     "output_type": "stream",
     "text": [
      "2024/11/22 16:28:04 INFO dspy.evaluate.evaluate: Average Metric: 21.48148148148148 / 25 (85.9%)\n",
      "2024/11/22 16:28:04 INFO dspy.teleprompt.mipro_optimizer_v2: Score: 85.93 on minibatch of size 25 with parameters ['Predictor 0: Instruction 9'].\n",
      "2024/11/22 16:28:04 INFO dspy.teleprompt.mipro_optimizer_v2: Minibatch scores so far: [88.0, 85.78, 86.52, 87.85, 86.96, 88.44, 84.44, 87.7, 85.93, 88.0, 86.52, 88.15, 88.15, 85.63, 85.93]\n",
      "2024/11/22 16:28:04 INFO dspy.teleprompt.mipro_optimizer_v2: Full eval scores so far: [87.96, 88.06]\n",
      "2024/11/22 16:28:04 INFO dspy.teleprompt.mipro_optimizer_v2: Best full score so far: 88.06\n",
      "2024/11/22 16:28:04 INFO dspy.teleprompt.mipro_optimizer_v2: =============================\n",
      "\n",
      "\n",
      "2024/11/22 16:28:04 INFO dspy.teleprompt.mipro_optimizer_v2: == Minibatch Trial 16 / 25 ==\n"
     ]
    },
    {
     "name": "stdout",
     "output_type": "stream",
     "text": [
      "\n",
      "Average Metric: 5.33 / 6 (88.9%):  24%|██▍       | 6/25 [00:29<00:51,  2.72s/it]"
     ]
    },
    {
     "name": "stderr",
     "output_type": "stream",
     "text": [
      "<unknown>:5: SyntaxWarning: invalid escape sequence '\\m'\n",
      "<unknown>:9: SyntaxWarning: invalid escape sequence '\\m'\n",
      "<unknown>:13: SyntaxWarning: invalid escape sequence '\\m'\n",
      "<unknown>:17: SyntaxWarning: invalid escape sequence '\\m'\n",
      "<unknown>:21: SyntaxWarning: invalid escape sequence '\\m'\n",
      "<unknown>:25: SyntaxWarning: invalid escape sequence '\\m'\n",
      "<unknown>:31: SyntaxWarning: invalid escape sequence '\\m'\n",
      "<unknown>:40: SyntaxWarning: invalid escape sequence '\\m'\n",
      "<unknown>:47: SyntaxWarning: invalid escape sequence '\\m'\n",
      "<unknown>:54: SyntaxWarning: invalid escape sequence '\\m'\n",
      "<unknown>:61: SyntaxWarning: invalid escape sequence '\\m'\n",
      "<unknown>:68: SyntaxWarning: invalid escape sequence '\\m'\n"
     ]
    },
    {
     "name": "stdout",
     "output_type": "stream",
     "text": [
      "Average Metric: 21.30 / 25 (85.2%): 100%|██████████| 25/25 [01:49<00:00,  4.38s/it]"
     ]
    },
    {
     "name": "stderr",
     "output_type": "stream",
     "text": [
      "2024/11/22 16:29:53 INFO dspy.evaluate.evaluate: Average Metric: 21.296296296296298 / 25 (85.2%)\n",
      "2024/11/22 16:29:53 INFO dspy.teleprompt.mipro_optimizer_v2: Score: 85.19 on minibatch of size 25 with parameters ['Predictor 0: Instruction 18'].\n",
      "2024/11/22 16:29:53 INFO dspy.teleprompt.mipro_optimizer_v2: Minibatch scores so far: [88.0, 85.78, 86.52, 87.85, 86.96, 88.44, 84.44, 87.7, 85.93, 88.0, 86.52, 88.15, 88.15, 85.63, 85.93, 85.19]\n",
      "2024/11/22 16:29:53 INFO dspy.teleprompt.mipro_optimizer_v2: Full eval scores so far: [87.96, 88.06]\n",
      "2024/11/22 16:29:53 INFO dspy.teleprompt.mipro_optimizer_v2: Best full score so far: 88.06\n",
      "2024/11/22 16:29:53 INFO dspy.teleprompt.mipro_optimizer_v2: =============================\n",
      "\n",
      "\n",
      "2024/11/22 16:29:53 INFO dspy.teleprompt.mipro_optimizer_v2: == Minibatch Trial 17 / 25 ==\n"
     ]
    },
    {
     "name": "stdout",
     "output_type": "stream",
     "text": [
      "\n",
      "Average Metric: 11.56 / 13 (88.9%):  52%|█████▏    | 13/25 [01:03<00:51,  4.29s/it]"
     ]
    },
    {
     "name": "stderr",
     "output_type": "stream",
     "text": [
      "<unknown>:5: SyntaxWarning: invalid escape sequence '\\,'\n",
      "<unknown>:13: SyntaxWarning: invalid escape sequence '\\,'\n",
      "<unknown>:21: SyntaxWarning: invalid escape sequence '\\,'\n",
      "<unknown>:27: SyntaxWarning: invalid escape sequence '\\,'\n",
      "<unknown>:35: SyntaxWarning: invalid escape sequence '\\,'\n",
      "<unknown>:39: SyntaxWarning: invalid escape sequence '\\,'\n",
      "<unknown>:48: SyntaxWarning: invalid escape sequence '\\,'\n"
     ]
    },
    {
     "name": "stdout",
     "output_type": "stream",
     "text": [
      "Average Metric: 18.59 / 21 (88.5%):  84%|████████▍ | 21/25 [01:28<00:10,  2.61s/it]"
     ]
    },
    {
     "name": "stderr",
     "output_type": "stream",
     "text": [
      "<unknown>:5: SyntaxWarning: invalid escape sequence '\\m'\n",
      "<unknown>:11: SyntaxWarning: invalid escape sequence '\\m'\n",
      "<unknown>:15: SyntaxWarning: invalid escape sequence '\\c'\n",
      "<unknown>:19: SyntaxWarning: invalid escape sequence '\\c'\n",
      "<unknown>:23: SyntaxWarning: invalid escape sequence '\\;'\n"
     ]
    },
    {
     "name": "stdout",
     "output_type": "stream",
     "text": [
      "Average Metric: 22.07 / 25 (88.3%): 100%|██████████| 25/25 [01:47<00:00,  4.29s/it]"
     ]
    },
    {
     "name": "stderr",
     "output_type": "stream",
     "text": [
      "2024/11/22 16:31:41 INFO dspy.evaluate.evaluate: Average Metric: 22.074074074074073 / 25 (88.3%)\n",
      "2024/11/22 16:31:41 INFO dspy.teleprompt.mipro_optimizer_v2: Score: 88.3 on minibatch of size 25 with parameters ['Predictor 0: Instruction 11'].\n",
      "2024/11/22 16:31:41 INFO dspy.teleprompt.mipro_optimizer_v2: Minibatch scores so far: [88.0, 85.78, 86.52, 87.85, 86.96, 88.44, 84.44, 87.7, 85.93, 88.0, 86.52, 88.15, 88.15, 85.63, 85.93, 85.19, 88.3]\n",
      "2024/11/22 16:31:41 INFO dspy.teleprompt.mipro_optimizer_v2: Full eval scores so far: [87.96, 88.06]\n",
      "2024/11/22 16:31:41 INFO dspy.teleprompt.mipro_optimizer_v2: Best full score so far: 88.06\n",
      "2024/11/22 16:31:41 INFO dspy.teleprompt.mipro_optimizer_v2: =============================\n",
      "\n",
      "\n",
      "2024/11/22 16:31:41 INFO dspy.teleprompt.mipro_optimizer_v2: == Minibatch Trial 18 / 25 ==\n",
      "<unknown>:23: SyntaxWarning: invalid escape sequence '\\c'\n"
     ]
    },
    {
     "name": "stdout",
     "output_type": "stream",
     "text": [
      "\n",
      "Average Metric: 21.59 / 25 (86.4%): 100%|██████████| 25/25 [00:00<00:00, 4162.01it/s]"
     ]
    },
    {
     "name": "stderr",
     "output_type": "stream",
     "text": [
      "2024/11/22 16:31:41 INFO dspy.evaluate.evaluate: Average Metric: 21.59259259259259 / 25 (86.4%)\n",
      "2024/11/22 16:31:41 INFO dspy.teleprompt.mipro_optimizer_v2: Score: 86.37 on minibatch of size 25 with parameters ['Predictor 0: Instruction 4'].\n",
      "2024/11/22 16:31:41 INFO dspy.teleprompt.mipro_optimizer_v2: Minibatch scores so far: [88.0, 85.78, 86.52, 87.85, 86.96, 88.44, 84.44, 87.7, 85.93, 88.0, 86.52, 88.15, 88.15, 85.63, 85.93, 85.19, 88.3, 86.37]\n",
      "2024/11/22 16:31:41 INFO dspy.teleprompt.mipro_optimizer_v2: Full eval scores so far: [87.96, 88.06]\n",
      "2024/11/22 16:31:41 INFO dspy.teleprompt.mipro_optimizer_v2: Best full score so far: 88.06\n",
      "2024/11/22 16:31:41 INFO dspy.teleprompt.mipro_optimizer_v2: =============================\n",
      "\n",
      "\n",
      "2024/11/22 16:31:41 INFO dspy.teleprompt.mipro_optimizer_v2: == Minibatch Trial 19 / 25 ==\n"
     ]
    },
    {
     "name": "stdout",
     "output_type": "stream",
     "text": [
      "\n",
      "Average Metric: 2.52 / 3 (84.0%):   8%|▊         | 2/25 [00:00<00:00, 2075.87it/s]"
     ]
    },
    {
     "name": "stderr",
     "output_type": "stream",
     "text": [
      "<unknown>:5: SyntaxWarning: invalid escape sequence '\\m'\n",
      "<unknown>:9: SyntaxWarning: invalid escape sequence '\\m'\n",
      "<unknown>:13: SyntaxWarning: invalid escape sequence '\\m'\n",
      "<unknown>:17: SyntaxWarning: invalid escape sequence '\\m'\n",
      "<unknown>:23: SyntaxWarning: invalid escape sequence '\\m'\n",
      "<unknown>:32: SyntaxWarning: invalid escape sequence '\\m'\n",
      "<unknown>:39: SyntaxWarning: invalid escape sequence '\\m'\n",
      "<unknown>:46: SyntaxWarning: invalid escape sequence '\\m'\n"
     ]
    },
    {
     "name": "stdout",
     "output_type": "stream",
     "text": [
      "Average Metric: 17.04 / 21 (81.1%):  84%|████████▍ | 21/25 [00:53<00:05,  1.37s/it]"
     ]
    },
    {
     "name": "stderr",
     "output_type": "stream",
     "text": [
      "<unknown>:13: SyntaxWarning: invalid escape sequence '\\m'\n",
      "<unknown>:17: SyntaxWarning: invalid escape sequence '\\m'\n",
      "<unknown>:31: SyntaxWarning: invalid escape sequence '\\m'\n",
      "<unknown>:35: SyntaxWarning: invalid escape sequence '\\m'\n"
     ]
    },
    {
     "name": "stdout",
     "output_type": "stream",
     "text": [
      "Average Metric: 20.70 / 25 (82.8%): 100%|██████████| 25/25 [01:10<00:00,  2.82s/it]"
     ]
    },
    {
     "name": "stderr",
     "output_type": "stream",
     "text": [
      "2024/11/22 16:32:51 INFO dspy.evaluate.evaluate: Average Metric: 20.703703703703702 / 25 (82.8%)\n",
      "2024/11/22 16:32:51 INFO dspy.teleprompt.mipro_optimizer_v2: Score: 82.81 on minibatch of size 25 with parameters ['Predictor 0: Instruction 11'].\n",
      "2024/11/22 16:32:51 INFO dspy.teleprompt.mipro_optimizer_v2: Minibatch scores so far: [88.0, 85.78, 86.52, 87.85, 86.96, 88.44, 84.44, 87.7, 85.93, 88.0, 86.52, 88.15, 88.15, 85.63, 85.93, 85.19, 88.3, 86.37, 82.81]\n",
      "2024/11/22 16:32:51 INFO dspy.teleprompt.mipro_optimizer_v2: Full eval scores so far: [87.96, 88.06]\n",
      "2024/11/22 16:32:51 INFO dspy.teleprompt.mipro_optimizer_v2: Best full score so far: 88.06\n",
      "2024/11/22 16:32:51 INFO dspy.teleprompt.mipro_optimizer_v2: =============================\n",
      "\n",
      "\n",
      "2024/11/22 16:32:51 INFO dspy.teleprompt.mipro_optimizer_v2: == Minibatch Trial 20 / 25 ==\n"
     ]
    },
    {
     "name": "stdout",
     "output_type": "stream",
     "text": [
      "\n",
      "Average Metric: 14.67 / 17 (86.3%):  68%|██████▊   | 17/25 [01:20<00:24,  3.09s/it]"
     ]
    },
    {
     "name": "stderr",
     "output_type": "stream",
     "text": [
      "<unknown>:25: SyntaxWarning: invalid escape sequence '\\m'\n",
      "<unknown>:31: SyntaxWarning: invalid escape sequence '\\m'\n",
      "<unknown>:40: SyntaxWarning: invalid escape sequence '\\m'\n"
     ]
    },
    {
     "name": "stdout",
     "output_type": "stream",
     "text": [
      "Average Metric: 21.85 / 25 (87.4%): 100%|██████████| 25/25 [02:07<00:00,  5.11s/it]"
     ]
    },
    {
     "name": "stderr",
     "output_type": "stream",
     "text": [
      "2024/11/22 16:34:59 INFO dspy.evaluate.evaluate: Average Metric: 21.85185185185185 / 25 (87.4%)\n",
      "2024/11/22 16:34:59 INFO dspy.teleprompt.mipro_optimizer_v2: Score: 87.41 on minibatch of size 25 with parameters ['Predictor 0: Instruction 23'].\n",
      "2024/11/22 16:34:59 INFO dspy.teleprompt.mipro_optimizer_v2: Minibatch scores so far: [88.0, 85.78, 86.52, 87.85, 86.96, 88.44, 84.44, 87.7, 85.93, 88.0, 86.52, 88.15, 88.15, 85.63, 85.93, 85.19, 88.3, 86.37, 82.81, 87.41]\n",
      "2024/11/22 16:34:59 INFO dspy.teleprompt.mipro_optimizer_v2: Full eval scores so far: [87.96, 88.06]\n",
      "2024/11/22 16:34:59 INFO dspy.teleprompt.mipro_optimizer_v2: Best full score so far: 88.06\n",
      "2024/11/22 16:34:59 INFO dspy.teleprompt.mipro_optimizer_v2: =============================\n",
      "\n",
      "\n",
      "2024/11/22 16:34:59 INFO dspy.teleprompt.mipro_optimizer_v2: ===== Full Eval 2 =====\n",
      "2024/11/22 16:34:59 INFO dspy.teleprompt.mipro_optimizer_v2: Doing full eval on next top averaging program (Avg Score: 88.15) from minibatch trials...\n"
     ]
    },
    {
     "name": "stdout",
     "output_type": "stream",
     "text": [
      "\n",
      "Average Metric: 2.74 / 3 (91.4%):   2%|▎         | 2/80 [00:00<00:00, 1842.03it/s]"
     ]
    },
    {
     "name": "stderr",
     "output_type": "stream",
     "text": [
      "<unknown>:5: SyntaxWarning: invalid escape sequence '\\m'\n",
      "<unknown>:9: SyntaxWarning: invalid escape sequence '\\m'\n",
      "<unknown>:13: SyntaxWarning: invalid escape sequence '\\m'\n",
      "<unknown>:17: SyntaxWarning: invalid escape sequence '\\m'\n",
      "<unknown>:21: SyntaxWarning: invalid escape sequence '\\m'\n",
      "<unknown>:25: SyntaxWarning: invalid escape sequence '\\m'\n",
      "<unknown>:31: SyntaxWarning: invalid escape sequence '\\m'\n",
      "<unknown>:40: SyntaxWarning: invalid escape sequence '\\m'\n",
      "<unknown>:47: SyntaxWarning: invalid escape sequence '\\m'\n",
      "<unknown>:54: SyntaxWarning: invalid escape sequence '\\m'\n",
      "<unknown>:61: SyntaxWarning: invalid escape sequence '\\m'\n",
      "<unknown>:68: SyntaxWarning: invalid escape sequence '\\m'\n"
     ]
    },
    {
     "name": "stdout",
     "output_type": "stream",
     "text": [
      "Average Metric: 10.67 / 12 (88.9%):  14%|█▍        | 11/80 [00:27<02:11,  1.90s/it]"
     ]
    },
    {
     "name": "stderr",
     "output_type": "stream",
     "text": [
      "<unknown>:19: SyntaxWarning: invalid escape sequence '\\('\n",
      "<unknown>:23: SyntaxWarning: invalid escape sequence '\\('\n"
     ]
    },
    {
     "name": "stdout",
     "output_type": "stream",
     "text": [
      "Average Metric: 39.33 / 44 (89.4%):  55%|█████▌    | 44/80 [02:16<02:23,  3.98s/it]"
     ]
    },
    {
     "name": "stderr",
     "output_type": "stream",
     "text": [
      "<unknown>:23: SyntaxWarning: invalid escape sequence '\\c'\n"
     ]
    },
    {
     "name": "stdout",
     "output_type": "stream",
     "text": [
      "Average Metric: 40.26 / 45 (89.5%):  56%|█████▋    | 45/80 [02:24<03:05,  5.30s/it]"
     ]
    },
    {
     "name": "stderr",
     "output_type": "stream",
     "text": [
      "<unknown>:13: SyntaxWarning: invalid escape sequence '\\m'\n",
      "<unknown>:17: SyntaxWarning: invalid escape sequence '\\m'\n",
      "<unknown>:21: SyntaxWarning: invalid escape sequence '\\m'\n",
      "<unknown>:35: SyntaxWarning: invalid escape sequence '\\m'\n",
      "<unknown>:39: SyntaxWarning: invalid escape sequence '\\m'\n"
     ]
    },
    {
     "name": "stdout",
     "output_type": "stream",
     "text": [
      "Average Metric: 46.59 / 52 (89.6%):  65%|██████▌   | 52/80 [02:39<01:11,  2.55s/it]"
     ]
    },
    {
     "name": "stderr",
     "output_type": "stream",
     "text": [
      "<unknown>:21: SyntaxWarning: invalid escape sequence '\\m'\n",
      "<unknown>:27: SyntaxWarning: invalid escape sequence '\\m'\n"
     ]
    },
    {
     "name": "stdout",
     "output_type": "stream",
     "text": [
      "Average Metric: 52.78 / 59 (89.5%):  74%|███████▍  | 59/80 [03:01<00:53,  2.57s/it]"
     ]
    },
    {
     "name": "stderr",
     "output_type": "stream",
     "text": [
      "<unknown>:5: SyntaxWarning: invalid escape sequence '\\,'\n",
      "<unknown>:9: SyntaxWarning: invalid escape sequence '\\ '\n",
      "<unknown>:13: SyntaxWarning: invalid escape sequence '\\m'\n",
      "<unknown>:17: SyntaxWarning: invalid escape sequence '\\m'\n",
      "<unknown>:23: SyntaxWarning: invalid escape sequence '\\,'\n",
      "<unknown>:27: SyntaxWarning: invalid escape sequence '\\ '\n",
      "<unknown>:31: SyntaxWarning: invalid escape sequence '\\,'\n",
      "<unknown>:35: SyntaxWarning: invalid escape sequence '\\,'\n",
      "<unknown>:51: SyntaxWarning: invalid escape sequence '\\m'\n"
     ]
    },
    {
     "name": "stdout",
     "output_type": "stream",
     "text": [
      "Average Metric: 71.33 / 80 (89.2%): 100%|██████████| 80/80 [03:52<00:00,  2.91s/it]"
     ]
    },
    {
     "name": "stderr",
     "output_type": "stream",
     "text": [
      "2024/11/22 16:38:52 INFO dspy.evaluate.evaluate: Average Metric: 71.33333333333333 / 80 (89.2%)\n",
      "2024/11/22 16:38:52 INFO dspy.teleprompt.mipro_optimizer_v2: \u001b[92mNew best full eval score!\u001b[0m Score: 89.17\n",
      "2024/11/22 16:38:52 INFO dspy.teleprompt.mipro_optimizer_v2: Full eval scores so far: [87.96, 88.06, 89.17]\n",
      "2024/11/22 16:38:52 INFO dspy.teleprompt.mipro_optimizer_v2: Best full score so far: 89.17\n",
      "2024/11/22 16:38:52 INFO dspy.teleprompt.mipro_optimizer_v2: =======================\n",
      "2024/11/22 16:38:52 INFO dspy.teleprompt.mipro_optimizer_v2: \n",
      "\n",
      "2024/11/22 16:38:52 INFO dspy.teleprompt.mipro_optimizer_v2: == Minibatch Trial 21 / 25 ==\n"
     ]
    },
    {
     "name": "stdout",
     "output_type": "stream",
     "text": [
      "\n",
      "  0%|          | 0/25 [00:00<?, ?it/s]"
     ]
    },
    {
     "name": "stderr",
     "output_type": "stream",
     "text": [
      "<unknown>:5: SyntaxWarning: invalid escape sequence '\\m'\n",
      "<unknown>:9: SyntaxWarning: invalid escape sequence '\\m'\n",
      "<unknown>:13: SyntaxWarning: invalid escape sequence '\\m'\n",
      "<unknown>:17: SyntaxWarning: invalid escape sequence '\\m'\n",
      "<unknown>:27: SyntaxWarning: invalid escape sequence '\\m'\n"
     ]
    },
    {
     "name": "stdout",
     "output_type": "stream",
     "text": [
      "Average Metric: 17.00 / 19 (89.5%):  76%|███████▌  | 19/25 [01:44<00:25,  4.19s/it]"
     ]
    },
    {
     "name": "stderr",
     "output_type": "stream",
     "text": [
      "<unknown>:9: SyntaxWarning: invalid escape sequence '\\m'\n"
     ]
    },
    {
     "name": "stdout",
     "output_type": "stream",
     "text": [
      "Average Metric: 22.26 / 25 (89.0%): 100%|██████████| 25/25 [02:08<00:00,  5.15s/it]"
     ]
    },
    {
     "name": "stderr",
     "output_type": "stream",
     "text": [
      "2024/11/22 16:41:01 INFO dspy.evaluate.evaluate: Average Metric: 22.25925925925926 / 25 (89.0%)\n",
      "2024/11/22 16:41:01 INFO dspy.teleprompt.mipro_optimizer_v2: Score: 89.04 on minibatch of size 25 with parameters ['Predictor 0: Instruction 17'].\n",
      "2024/11/22 16:41:01 INFO dspy.teleprompt.mipro_optimizer_v2: Minibatch scores so far: [88.0, 85.78, 86.52, 87.85, 86.96, 88.44, 84.44, 87.7, 85.93, 88.0, 86.52, 88.15, 88.15, 85.63, 85.93, 85.19, 88.3, 86.37, 82.81, 87.41, 89.04]\n",
      "2024/11/22 16:41:01 INFO dspy.teleprompt.mipro_optimizer_v2: Full eval scores so far: [87.96, 88.06, 89.17]\n",
      "2024/11/22 16:41:01 INFO dspy.teleprompt.mipro_optimizer_v2: Best full score so far: 89.17\n",
      "2024/11/22 16:41:01 INFO dspy.teleprompt.mipro_optimizer_v2: =============================\n",
      "\n",
      "\n",
      "2024/11/22 16:41:01 INFO dspy.teleprompt.mipro_optimizer_v2: == Minibatch Trial 22 / 25 ==\n",
      "<unknown>:5: SyntaxWarning: invalid escape sequence '\\m'\n",
      "<unknown>:9: SyntaxWarning: invalid escape sequence '\\m'\n",
      "<unknown>:13: SyntaxWarning: invalid escape sequence '\\m'\n",
      "<unknown>:17: SyntaxWarning: invalid escape sequence '\\m'\n",
      "<unknown>:27: SyntaxWarning: invalid escape sequence '\\m'\n"
     ]
    },
    {
     "name": "stdout",
     "output_type": "stream",
     "text": [
      "\n",
      "Average Metric: 3.52 / 4 (88.0%):  12%|█▏        | 3/25 [00:00<00:00, 1579.97it/s]"
     ]
    },
    {
     "name": "stderr",
     "output_type": "stream",
     "text": [
      "<unknown>:23: SyntaxWarning: invalid escape sequence '\\c'\n",
      "<unknown>:32: SyntaxWarning: invalid escape sequence '\\c'\n",
      "<unknown>:13: SyntaxWarning: invalid escape sequence '\\m'\n",
      "<unknown>:17: SyntaxWarning: invalid escape sequence '\\m'\n",
      "<unknown>:21: SyntaxWarning: invalid escape sequence '\\m'\n",
      "<unknown>:35: SyntaxWarning: invalid escape sequence '\\m'\n",
      "<unknown>:39: SyntaxWarning: invalid escape sequence '\\m'\n",
      "<unknown>:19: SyntaxWarning: invalid escape sequence '\\m'\n",
      "<unknown>:23: SyntaxWarning: invalid escape sequence '\\m'\n"
     ]
    },
    {
     "name": "stdout",
     "output_type": "stream",
     "text": [
      "Average Metric: 22.44 / 25 (89.8%): 100%|██████████| 25/25 [01:19<00:00,  3.18s/it]"
     ]
    },
    {
     "name": "stderr",
     "output_type": "stream",
     "text": [
      "2024/11/22 16:42:20 INFO dspy.evaluate.evaluate: Average Metric: 22.444444444444443 / 25 (89.8%)\n",
      "2024/11/22 16:42:20 INFO dspy.teleprompt.mipro_optimizer_v2: Score: 89.78 on minibatch of size 25 with parameters ['Predictor 0: Instruction 17'].\n",
      "2024/11/22 16:42:20 INFO dspy.teleprompt.mipro_optimizer_v2: Minibatch scores so far: [88.0, 85.78, 86.52, 87.85, 86.96, 88.44, 84.44, 87.7, 85.93, 88.0, 86.52, 88.15, 88.15, 85.63, 85.93, 85.19, 88.3, 86.37, 82.81, 87.41, 89.04, 89.78]\n",
      "2024/11/22 16:42:20 INFO dspy.teleprompt.mipro_optimizer_v2: Full eval scores so far: [87.96, 88.06, 89.17]\n",
      "2024/11/22 16:42:20 INFO dspy.teleprompt.mipro_optimizer_v2: Best full score so far: 89.17\n",
      "2024/11/22 16:42:20 INFO dspy.teleprompt.mipro_optimizer_v2: =============================\n",
      "\n",
      "\n",
      "2024/11/22 16:42:20 INFO dspy.teleprompt.mipro_optimizer_v2: == Minibatch Trial 23 / 25 ==\n"
     ]
    },
    {
     "name": "stdout",
     "output_type": "stream",
     "text": [
      "\n",
      "Average Metric: 9.78 / 11 (88.9%):  40%|████      | 10/25 [00:26<00:58,  3.89s/it]"
     ]
    },
    {
     "name": "stderr",
     "output_type": "stream",
     "text": [
      "<unknown>:9: SyntaxWarning: invalid escape sequence '\\m'\n"
     ]
    },
    {
     "name": "stdout",
     "output_type": "stream",
     "text": [
      "Average Metric: 14.26 / 16 (89.1%):  60%|██████    | 15/25 [00:28<00:15,  1.53s/it]"
     ]
    },
    {
     "name": "stderr",
     "output_type": "stream",
     "text": [
      "<unknown>:5: SyntaxWarning: invalid escape sequence '\\m'\n",
      "<unknown>:9: SyntaxWarning: invalid escape sequence '\\m'\n",
      "<unknown>:13: SyntaxWarning: invalid escape sequence '\\m'\n",
      "<unknown>:27: SyntaxWarning: invalid escape sequence '\\m'\n",
      "<unknown>:31: SyntaxWarning: invalid escape sequence '\\m'\n",
      "<unknown>:35: SyntaxWarning: invalid escape sequence '\\m'\n"
     ]
    },
    {
     "name": "stdout",
     "output_type": "stream",
     "text": [
      "Average Metric: 15.04 / 17 (88.5%):  68%|██████▊   | 17/25 [00:33<00:11,  1.45s/it]"
     ]
    },
    {
     "name": "stderr",
     "output_type": "stream",
     "text": [
      "<unknown>:13: SyntaxWarning: invalid escape sequence '\\m'\n",
      "<unknown>:19: SyntaxWarning: invalid escape sequence '\\m'\n"
     ]
    },
    {
     "name": "stdout",
     "output_type": "stream",
     "text": [
      "Average Metric: 22.11 / 25 (88.4%): 100%|██████████| 25/25 [01:01<00:00,  2.44s/it]"
     ]
    },
    {
     "name": "stderr",
     "output_type": "stream",
     "text": [
      "2024/11/22 16:43:21 INFO dspy.evaluate.evaluate: Average Metric: 22.11111111111111 / 25 (88.4%)\n",
      "2024/11/22 16:43:21 INFO dspy.teleprompt.mipro_optimizer_v2: Score: 88.44 on minibatch of size 25 with parameters ['Predictor 0: Instruction 17'].\n",
      "2024/11/22 16:43:21 INFO dspy.teleprompt.mipro_optimizer_v2: Minibatch scores so far: [88.0, 85.78, 86.52, 87.85, 86.96, 88.44, 84.44, 87.7, 85.93, 88.0, 86.52, 88.15, 88.15, 85.63, 85.93, 85.19, 88.3, 86.37, 82.81, 87.41, 89.04, 89.78, 88.44]\n",
      "2024/11/22 16:43:21 INFO dspy.teleprompt.mipro_optimizer_v2: Full eval scores so far: [87.96, 88.06, 89.17]\n",
      "2024/11/22 16:43:21 INFO dspy.teleprompt.mipro_optimizer_v2: Best full score so far: 89.17\n",
      "2024/11/22 16:43:21 INFO dspy.teleprompt.mipro_optimizer_v2: =============================\n",
      "\n",
      "\n",
      "2024/11/22 16:43:21 INFO dspy.teleprompt.mipro_optimizer_v2: == Minibatch Trial 24 / 25 ==\n",
      "<unknown>:13: SyntaxWarning: invalid escape sequence '\\m'\n",
      "<unknown>:17: SyntaxWarning: invalid escape sequence '\\m'\n",
      "<unknown>:21: SyntaxWarning: invalid escape sequence '\\m'\n",
      "<unknown>:35: SyntaxWarning: invalid escape sequence '\\m'\n",
      "<unknown>:39: SyntaxWarning: invalid escape sequence '\\m'\n",
      "<unknown>:5: SyntaxWarning: invalid escape sequence '\\m'\n",
      "<unknown>:9: SyntaxWarning: invalid escape sequence '\\m'\n",
      "<unknown>:13: SyntaxWarning: invalid escape sequence '\\m'\n",
      "<unknown>:17: SyntaxWarning: invalid escape sequence '\\m'\n",
      "<unknown>:27: SyntaxWarning: invalid escape sequence '\\m'\n",
      "<unknown>:5: SyntaxWarning: invalid escape sequence '\\m'\n",
      "<unknown>:9: SyntaxWarning: invalid escape sequence '\\m'\n",
      "<unknown>:13: SyntaxWarning: invalid escape sequence '\\m'\n",
      "<unknown>:27: SyntaxWarning: invalid escape sequence '\\m'\n",
      "<unknown>:31: SyntaxWarning: invalid escape sequence '\\m'\n",
      "<unknown>:35: SyntaxWarning: invalid escape sequence '\\m'\n",
      "<unknown>:13: SyntaxWarning: invalid escape sequence '\\m'\n",
      "<unknown>:19: SyntaxWarning: invalid escape sequence '\\m'\n"
     ]
    },
    {
     "name": "stdout",
     "output_type": "stream",
     "text": [
      "\n",
      "Average Metric: 22.30 / 25 (89.2%): 100%|██████████| 25/25 [01:00<00:00,  2.41s/it] "
     ]
    },
    {
     "name": "stderr",
     "output_type": "stream",
     "text": [
      "2024/11/22 16:44:22 INFO dspy.evaluate.evaluate: Average Metric: 22.296296296296298 / 25 (89.2%)\n",
      "2024/11/22 16:44:22 INFO dspy.teleprompt.mipro_optimizer_v2: Score: 89.19 on minibatch of size 25 with parameters ['Predictor 0: Instruction 17'].\n",
      "2024/11/22 16:44:22 INFO dspy.teleprompt.mipro_optimizer_v2: Minibatch scores so far: [88.0, 85.78, 86.52, 87.85, 86.96, 88.44, 84.44, 87.7, 85.93, 88.0, 86.52, 88.15, 88.15, 85.63, 85.93, 85.19, 88.3, 86.37, 82.81, 87.41, 89.04, 89.78, 88.44, 89.19]\n",
      "2024/11/22 16:44:22 INFO dspy.teleprompt.mipro_optimizer_v2: Full eval scores so far: [87.96, 88.06, 89.17]\n",
      "2024/11/22 16:44:22 INFO dspy.teleprompt.mipro_optimizer_v2: Best full score so far: 89.17\n",
      "2024/11/22 16:44:22 INFO dspy.teleprompt.mipro_optimizer_v2: =============================\n",
      "\n",
      "\n",
      "2024/11/22 16:44:22 INFO dspy.teleprompt.mipro_optimizer_v2: == Minibatch Trial 25 / 25 ==\n",
      "<unknown>:13: SyntaxWarning: invalid escape sequence '\\m'\n",
      "<unknown>:19: SyntaxWarning: invalid escape sequence '\\m'\n",
      "<unknown>:23: SyntaxWarning: invalid escape sequence '\\m'\n",
      "<unknown>:19: SyntaxWarning: invalid escape sequence '\\m'\n",
      "<unknown>:5: SyntaxWarning: invalid escape sequence '\\m'\n",
      "<unknown>:9: SyntaxWarning: invalid escape sequence '\\m'\n",
      "<unknown>:13: SyntaxWarning: invalid escape sequence '\\m'\n",
      "<unknown>:17: SyntaxWarning: invalid escape sequence '\\m'\n",
      "<unknown>:27: SyntaxWarning: invalid escape sequence '\\m'\n",
      "<unknown>:13: SyntaxWarning: invalid escape sequence '\\m'\n",
      "<unknown>:17: SyntaxWarning: invalid escape sequence '\\m'\n",
      "<unknown>:21: SyntaxWarning: invalid escape sequence '\\m'\n",
      "<unknown>:35: SyntaxWarning: invalid escape sequence '\\m'\n",
      "<unknown>:39: SyntaxWarning: invalid escape sequence '\\m'\n"
     ]
    },
    {
     "name": "stdout",
     "output_type": "stream",
     "text": [
      "\n",
      "Average Metric: 22.11 / 25 (88.4%): 100%|██████████| 25/25 [00:42<00:00,  1.70s/it] "
     ]
    },
    {
     "name": "stderr",
     "output_type": "stream",
     "text": [
      "2024/11/22 16:45:04 INFO dspy.evaluate.evaluate: Average Metric: 22.11111111111111 / 25 (88.4%)\n",
      "2024/11/22 16:45:04 INFO dspy.teleprompt.mipro_optimizer_v2: Score: 88.44 on minibatch of size 25 with parameters ['Predictor 0: Instruction 17'].\n",
      "2024/11/22 16:45:04 INFO dspy.teleprompt.mipro_optimizer_v2: Minibatch scores so far: [88.0, 85.78, 86.52, 87.85, 86.96, 88.44, 84.44, 87.7, 85.93, 88.0, 86.52, 88.15, 88.15, 85.63, 85.93, 85.19, 88.3, 86.37, 82.81, 87.41, 89.04, 89.78, 88.44, 89.19, 88.44]\n",
      "2024/11/22 16:45:04 INFO dspy.teleprompt.mipro_optimizer_v2: Full eval scores so far: [87.96, 88.06, 89.17]\n",
      "2024/11/22 16:45:04 INFO dspy.teleprompt.mipro_optimizer_v2: Best full score so far: 89.17\n",
      "2024/11/22 16:45:04 INFO dspy.teleprompt.mipro_optimizer_v2: =============================\n",
      "\n",
      "\n",
      "2024/11/22 16:45:04 INFO dspy.teleprompt.mipro_optimizer_v2: ===== Full Eval 3 =====\n",
      "2024/11/22 16:45:04 INFO dspy.teleprompt.mipro_optimizer_v2: Doing full eval on next top averaging program (Avg Score: 88.978) from minibatch trials...\n",
      "<unknown>:13: SyntaxWarning: invalid escape sequence '\\m'\n",
      "<unknown>:19: SyntaxWarning: invalid escape sequence '\\m'\n",
      "<unknown>:19: SyntaxWarning: invalid escape sequence '\\m'\n",
      "<unknown>:23: SyntaxWarning: invalid escape sequence '\\m'\n",
      "<unknown>:5: SyntaxWarning: invalid escape sequence '\\m'\n",
      "<unknown>:9: SyntaxWarning: invalid escape sequence '\\m'\n",
      "<unknown>:13: SyntaxWarning: invalid escape sequence '\\m'\n",
      "<unknown>:27: SyntaxWarning: invalid escape sequence '\\m'\n",
      "<unknown>:31: SyntaxWarning: invalid escape sequence '\\m'\n",
      "<unknown>:35: SyntaxWarning: invalid escape sequence '\\m'\n"
     ]
    },
    {
     "name": "stdout",
     "output_type": "stream",
     "text": [
      "\n",
      "Average Metric: 26.81 / 30 (89.4%):  36%|███▋      | 29/80 [00:00<00:00, 671.64it/s]"
     ]
    },
    {
     "name": "stderr",
     "output_type": "stream",
     "text": [
      "<unknown>:5: SyntaxWarning: invalid escape sequence '\\m'\n",
      "<unknown>:9: SyntaxWarning: invalid escape sequence '\\m'\n",
      "<unknown>:13: SyntaxWarning: invalid escape sequence '\\m'\n",
      "<unknown>:17: SyntaxWarning: invalid escape sequence '\\m'\n",
      "<unknown>:21: SyntaxWarning: invalid escape sequence '\\m'\n",
      "<unknown>:27: SyntaxWarning: invalid escape sequence '\\m'\n",
      "<unknown>:31: SyntaxWarning: invalid escape sequence '\\m'\n",
      "<unknown>:40: SyntaxWarning: invalid escape sequence '\\m'\n",
      "<unknown>:47: SyntaxWarning: invalid escape sequence '\\m'\n",
      "<unknown>:54: SyntaxWarning: invalid escape sequence '\\m'\n",
      "<unknown>:61: SyntaxWarning: invalid escape sequence '\\m'\n"
     ]
    },
    {
     "name": "stdout",
     "output_type": "stream",
     "text": [
      "Average Metric: 40.26 / 46 (87.5%):  56%|█████▋    | 45/80 [00:22<00:20,  1.74it/s] "
     ]
    },
    {
     "name": "stderr",
     "output_type": "stream",
     "text": [
      "<unknown>:5: SyntaxWarning: invalid escape sequence '\\m'\n",
      "<unknown>:9: SyntaxWarning: invalid escape sequence '\\m'\n",
      "<unknown>:13: SyntaxWarning: invalid escape sequence '\\m'\n",
      "<unknown>:17: SyntaxWarning: invalid escape sequence '\\m'\n",
      "<unknown>:27: SyntaxWarning: invalid escape sequence '\\m'\n",
      "<unknown>:23: SyntaxWarning: invalid escape sequence '\\c'\n",
      "<unknown>:32: SyntaxWarning: invalid escape sequence '\\c'\n",
      "<unknown>:13: SyntaxWarning: invalid escape sequence '\\m'\n",
      "<unknown>:17: SyntaxWarning: invalid escape sequence '\\m'\n",
      "<unknown>:21: SyntaxWarning: invalid escape sequence '\\m'\n",
      "<unknown>:35: SyntaxWarning: invalid escape sequence '\\m'\n",
      "<unknown>:39: SyntaxWarning: invalid escape sequence '\\m'\n"
     ]
    },
    {
     "name": "stdout",
     "output_type": "stream",
     "text": [
      "Average Metric: 41.19 / 47 (87.6%):  59%|█████▉    | 47/80 [00:23<00:12,  2.55it/s]"
     ]
    },
    {
     "name": "stderr",
     "output_type": "stream",
     "text": [
      "<unknown>:11: SyntaxWarning: invalid escape sequence '\\m'\n"
     ]
    },
    {
     "name": "stdout",
     "output_type": "stream",
     "text": [
      "Average Metric: 65.63 / 75 (87.5%):  92%|█████████▎| 74/80 [00:48<00:05,  1.18it/s]"
     ]
    },
    {
     "name": "stderr",
     "output_type": "stream",
     "text": [
      "<unknown>:9: SyntaxWarning: invalid escape sequence '\\m'\n"
     ]
    },
    {
     "name": "stdout",
     "output_type": "stream",
     "text": [
      "Average Metric: 70.15 / 80 (87.7%): 100%|██████████| 80/80 [01:11<00:00,  1.11it/s]"
     ]
    },
    {
     "name": "stderr",
     "output_type": "stream",
     "text": [
      "2024/11/22 16:46:16 INFO dspy.evaluate.evaluate: Average Metric: 70.14814814814815 / 80 (87.7%)\n",
      "2024/11/22 16:46:16 INFO dspy.teleprompt.mipro_optimizer_v2: Full eval scores so far: [87.96, 88.06, 89.17, 87.69]\n",
      "2024/11/22 16:46:16 INFO dspy.teleprompt.mipro_optimizer_v2: Best full score so far: 89.17\n",
      "2024/11/22 16:46:16 INFO dspy.teleprompt.mipro_optimizer_v2: =======================\n",
      "2024/11/22 16:46:16 INFO dspy.teleprompt.mipro_optimizer_v2: \n",
      "\n",
      "2024/11/22 16:46:16 INFO dspy.teleprompt.mipro_optimizer_v2: Returning best identified program with score 89.17!\n"
     ]
    },
    {
     "name": "stdout",
     "output_type": "stream",
     "text": [
      "\n"
     ]
    }
   ],
   "source": [
    "\n",
    "\n",
    "zeroshot_optimized_program = teleprompter.compile(\n",
    "    ChemOntology(),\n",
    "    trainset=trainset,\n",
    "    max_bootstrapped_demos=0, # ZERO FEW-SHOT EXAMPLES\n",
    "    max_labeled_demos=0, # ZERO FEW-SHOT EXAMPLES\n",
    "    requires_permission_to_run=False,\n",
    ")\n"
   ]
  },
  {
   "cell_type": "code",
   "execution_count": 48,
   "metadata": {},
   "outputs": [],
   "source": [
    "\n",
    "# Save optimize program for future use\n",
    "zeroshot_optimized_program.save(f\"medium_100trainset_v1\")\n"
   ]
  },
  {
   "cell_type": "code",
   "execution_count": 49,
   "metadata": {},
   "outputs": [
    {
     "name": "stdout",
     "output_type": "stream",
     "text": [
      "  0%|          | 0/20 [00:00<?, ?it/s]"
     ]
    },
    {
     "name": "stderr",
     "output_type": "stream",
     "text": [
      "<unknown>:5: SyntaxWarning: invalid escape sequence '\\m'\n"
     ]
    },
    {
     "name": "stdout",
     "output_type": "stream",
     "text": [
      "Average Metric: 12.22 / 14 (87.3%):  70%|███████   | 14/20 [00:47<00:12,  2.12s/it]"
     ]
    },
    {
     "name": "stderr",
     "output_type": "stream",
     "text": [
      "<unknown>:13: SyntaxWarning: invalid escape sequence '\\m'\n"
     ]
    },
    {
     "name": "stdout",
     "output_type": "stream",
     "text": [
      "Average Metric: 13.15 / 15 (87.7%):  75%|███████▌  | 15/20 [00:50<00:11,  2.30s/it]"
     ]
    },
    {
     "name": "stderr",
     "output_type": "stream",
     "text": [
      "<unknown>:5: SyntaxWarning: invalid escape sequence '\\!'\n",
      "<unknown>:9: SyntaxWarning: invalid escape sequence '\\!'\n",
      "<unknown>:23: SyntaxWarning: invalid escape sequence '\\!'\n"
     ]
    },
    {
     "name": "stdout",
     "output_type": "stream",
     "text": [
      "Average Metric: 15.81 / 20 (79.1%): 100%|██████████| 20/20 [01:11<00:00,  3.58s/it]"
     ]
    },
    {
     "name": "stderr",
     "output_type": "stream",
     "text": [
      "2024/11/22 16:54:52 INFO dspy.evaluate.evaluate: Average Metric: 15.814814814814815 / 20 (79.1%)\n"
     ]
    },
    {
     "name": "stdout",
     "output_type": "stream",
     "text": [
      "\n"
     ]
    },
    {
     "data": {
      "text/html": [
       "<div>\n",
       "<style scoped>\n",
       "    .dataframe tbody tr th:only-of-type {\n",
       "        vertical-align: middle;\n",
       "    }\n",
       "\n",
       "    .dataframe tbody tr th {\n",
       "        vertical-align: top;\n",
       "    }\n",
       "\n",
       "    .dataframe thead th {\n",
       "        text-align: right;\n",
       "    }\n",
       "</style>\n",
       "<table border=\"1\" class=\"dataframe\">\n",
       "  <thead>\n",
       "    <tr style=\"text-align: right;\">\n",
       "      <th></th>\n",
       "      <th>context</th>\n",
       "      <th>reasoning</th>\n",
       "      <th>ontology</th>\n",
       "      <th>metric</th>\n",
       "    </tr>\n",
       "  </thead>\n",
       "  <tbody>\n",
       "    <tr>\n",
       "      <th>0</th>\n",
       "      <td>To some, stoichiometry is no more exciting than the law of conserv...</td>\n",
       "      <td>The text discusses the concept of stoichiometry and its importance...</td>\n",
       "      <td>entities=[Entity(name='Stoichiometry', information='Stoichiometry ...</td>\n",
       "      <td>✔️ [0.889]</td>\n",
       "    </tr>\n",
       "    <tr>\n",
       "      <th>1</th>\n",
       "      <td>If a glass tube that is open at both ends stands upright in a cont...</td>\n",
       "      <td>The text describes a physical experiment involving a glass tube an...</td>\n",
       "      <td>entities=[Entity(name='Glass_Tube', information='A glass tube that...</td>\n",
       "      <td>✔️ [0.889]</td>\n",
       "    </tr>\n",
       "    <tr>\n",
       "      <th>2</th>\n",
       "      <td>This is the Schrodinger equation of a free particle moving in one ...</td>\n",
       "      <td>The text describes a scenario involving a particle subjected to a ...</td>\n",
       "      <td>entities=[Entity(name='Particle', information='A particle moving i...</td>\n",
       "      <td>✔️ [0.889]</td>\n",
       "    </tr>\n",
       "    <tr>\n",
       "      <th>3</th>\n",
       "      <td>It is interesting to note that the nitrogen atom also shows little...</td>\n",
       "      <td>The text discusses the stability of the nitrogen atom and its anio...</td>\n",
       "      <td>entities=[Entity(name='Nitrogen_Atom(N)', information='The nitroge...</td>\n",
       "      <td>✔️ [0.926]</td>\n",
       "    </tr>\n",
       "    <tr>\n",
       "      <th>4</th>\n",
       "      <td>generally the central focus of a problem is the conversion of a ma...</td>\n",
       "      <td>The text discusses the process of converting mass in grams to mole...</td>\n",
       "      <td>entities=[Entity(name='Mass', information='Mass is a measure of th...</td>\n",
       "      <td>✔️ [0.926]</td>\n",
       "    </tr>\n",
       "    <tr>\n",
       "      <th>5</th>\n",
       "      <td>The three subatomic particles considered in this section are the o...</td>\n",
       "      <td>The text discusses subatomic particles, specifically electrons, ne...</td>\n",
       "      <td>entities=[Entity(name='Electron', information='The electron is bel...</td>\n",
       "      <td>✔️ [0.704]</td>\n",
       "    </tr>\n",
       "    <tr>\n",
       "      <th>6</th>\n",
       "      <td>As a result of experiments of the type just described, we find tha...</td>\n",
       "      <td>The text describes a phenomenon related to the photoelectric effec...</td>\n",
       "      <td>entities=[Entity(name='StoppingVoltage(Vs)', information='The stop...</td>\n",
       "      <td>✔️ [0.741]</td>\n",
       "    </tr>\n",
       "    <tr>\n",
       "      <th>7</th>\n",
       "      <td>of blood. Estimates of BAC can be obtained from breath samples by ...</td>\n",
       "      <td>The text discusses the estimation of Blood Alcohol Concentration (...</td>\n",
       "      <td>entities=[Entity(name='Blood Alcohol Concentration(BAC)', informat...</td>\n",
       "      <td>✔️ [0.889]</td>\n",
       "    </tr>\n",
       "    <tr>\n",
       "      <th>8</th>\n",
       "      <td>Electrostatic potential maps are a powerful way of displaying the ...</td>\n",
       "      <td>The text discusses the concept of electrostatic potential maps and...</td>\n",
       "      <td>entities=[Entity(name='Electrostatic Potential Map', information='...</td>\n",
       "      <td>✔️ [0.889]</td>\n",
       "    </tr>\n",
       "    <tr>\n",
       "      <th>9</th>\n",
       "      <td>Our major undertaking in this section will be to describe the thre...</td>\n",
       "      <td>The text discusses the three-dimensional probability density distr...</td>\n",
       "      <td>entities=[Entity(name='Hydrogen Atom', information='The hydrogen a...</td>\n",
       "      <td>✔️ [0.926]</td>\n",
       "    </tr>\n",
       "  </tbody>\n",
       "</table>\n",
       "</div>"
      ],
      "text/plain": [
       "                                                                 context  \\\n",
       "0  To some, stoichiometry is no more exciting than the law of conserv...   \n",
       "1  If a glass tube that is open at both ends stands upright in a cont...   \n",
       "2  This is the Schrodinger equation of a free particle moving in one ...   \n",
       "3  It is interesting to note that the nitrogen atom also shows little...   \n",
       "4  generally the central focus of a problem is the conversion of a ma...   \n",
       "5  The three subatomic particles considered in this section are the o...   \n",
       "6  As a result of experiments of the type just described, we find tha...   \n",
       "7  of blood. Estimates of BAC can be obtained from breath samples by ...   \n",
       "8  Electrostatic potential maps are a powerful way of displaying the ...   \n",
       "9  Our major undertaking in this section will be to describe the thre...   \n",
       "\n",
       "                                                               reasoning  \\\n",
       "0  The text discusses the concept of stoichiometry and its importance...   \n",
       "1  The text describes a physical experiment involving a glass tube an...   \n",
       "2  The text describes a scenario involving a particle subjected to a ...   \n",
       "3  The text discusses the stability of the nitrogen atom and its anio...   \n",
       "4  The text discusses the process of converting mass in grams to mole...   \n",
       "5  The text discusses subatomic particles, specifically electrons, ne...   \n",
       "6  The text describes a phenomenon related to the photoelectric effec...   \n",
       "7  The text discusses the estimation of Blood Alcohol Concentration (...   \n",
       "8  The text discusses the concept of electrostatic potential maps and...   \n",
       "9  The text discusses the three-dimensional probability density distr...   \n",
       "\n",
       "                                                                ontology  \\\n",
       "0  entities=[Entity(name='Stoichiometry', information='Stoichiometry ...   \n",
       "1  entities=[Entity(name='Glass_Tube', information='A glass tube that...   \n",
       "2  entities=[Entity(name='Particle', information='A particle moving i...   \n",
       "3  entities=[Entity(name='Nitrogen_Atom(N)', information='The nitroge...   \n",
       "4  entities=[Entity(name='Mass', information='Mass is a measure of th...   \n",
       "5  entities=[Entity(name='Electron', information='The electron is bel...   \n",
       "6  entities=[Entity(name='StoppingVoltage(Vs)', information='The stop...   \n",
       "7  entities=[Entity(name='Blood Alcohol Concentration(BAC)', informat...   \n",
       "8  entities=[Entity(name='Electrostatic Potential Map', information='...   \n",
       "9  entities=[Entity(name='Hydrogen Atom', information='The hydrogen a...   \n",
       "\n",
       "       metric  \n",
       "0  ✔️ [0.889]  \n",
       "1  ✔️ [0.889]  \n",
       "2  ✔️ [0.889]  \n",
       "3  ✔️ [0.926]  \n",
       "4  ✔️ [0.926]  \n",
       "5  ✔️ [0.704]  \n",
       "6  ✔️ [0.741]  \n",
       "7  ✔️ [0.889]  \n",
       "8  ✔️ [0.889]  \n",
       "9  ✔️ [0.926]  "
      ]
     },
     "metadata": {},
     "output_type": "display_data"
    },
    {
     "data": {
      "text/html": [
       "\n",
       "                <div style='\n",
       "                    text-align: center;\n",
       "                    font-size: 16px;\n",
       "                    font-weight: bold;\n",
       "                    color: #555;\n",
       "                    margin: 10px 0;'>\n",
       "                    ... 10 more rows not displayed ...\n",
       "                </div>\n",
       "                "
      ],
      "text/plain": [
       "<IPython.core.display.HTML object>"
      ]
     },
     "metadata": {},
     "output_type": "display_data"
    },
    {
     "data": {
      "text/plain": [
       "79.07"
      ]
     },
     "execution_count": 49,
     "metadata": {},
     "output_type": "execute_result"
    }
   ],
   "source": [
    "evaluate(zeroshot_optimized_program, devset=devset, metric=metric)"
   ]
  },
  {
   "cell_type": "code",
   "execution_count": 139,
   "metadata": {},
   "outputs": [],
   "source": [
    "zeroshot_optimized_program = ChemOntology()\n",
    "zeroshot_optimized_program.load(f\"medium_100trainset_v1\")\n"
   ]
  },
  {
   "cell_type": "code",
   "execution_count": 143,
   "metadata": {},
   "outputs": [],
   "source": [
    "tests = [\"\"\"\n",
    "###### How electron donation and withdrawal change chemical shifts  \\nWe can get an idea of the effect of electron distribution by looking at a series of benzene rings\\nwith the same substituent in the 1 and 4 positions. This pattern makes all four hydrogens on\\nthe ring identical. Here are a few compounds listed in order of chemical shift: largest shift\\n(lowest fi eld; most deshielded) fi rst. Conjugation is shown by the usual curly arrows, and\\ninductive effects by a straight arrow by the side of the group. Only one hydrogen atom and\\none set of arrows are shown. \n",
    "\"\"\",\n",
    "\"\"\"\n",
    "\\nConjugation, as discussed in\\nChapter 7, is felt through π bonds,\\nwhile inductive effects are the\\nresult of electron withdrawal or\\ndonation felt simply by polarization\\nof the σ bonds of the molecule.\\nSee p. 135.  \\nthe effect of electron-withdrawing groups\\nby conjugation  \\nby inductive effects  \\n**H**  \\n**O**  \\n**O**  \\n**HO**  \\n**N**  \\nδH 8.48 δH 8.10 **C** δH 8.10 δH 8.07 δH 7.78  \\n**N**  \\n**O**  \\n**O**  \\n**OH**  \\n**C**  \\n**N**  \\n**O**  \\n**H**  \\n**F** **F**  \\n**F**  \\nThe largest shifts come from groups that withdraw electrons by conjugation. \n",
    "\"\"\",\n",
    "\"\"\"\n",
    "Nitro is the\\nmost powerful—this should not surprise you as we saw the same in non-aromatic compounds\\nin both [13]C and [1]H NMR spectra. Then come the carbonyl and nitrile group followed by groups\\nshowing simple inductive withdrawal. CF3 is an important example of this kind of group—\\nthree fl uorine atoms combine to exert a powerful effect.  \\n-----  \\nIn the middle of our sequence, around the position of benzene itself at 7.27 ppm, come\\nthe halogens, whose inductive electron withdrawal and lone pair donation are nearly\\nbalanced.  \\nbalance between withdrawal by inductive effect and donation of lone pairs by conjugation  \\n**I** δH 7.40 **Br** δH 7.32 δH 7.27 **Cl** δH 7.24 **F** δH 7.00  \\n**I**  \\n**Br**  \\n**Cl**  \\n**F**  \n",
    "\"\"\",\n",
    "\"\"\"\n",
    "\\nAlkyl groups are weak inductive donators, but the groups which give the most shielding—\\nperhaps surprisingly—are those containing the electronegative atoms O and N. Despite being\\ninductively electron withdrawing (the C–O and C–N σ bonds are polarized with δ + C), on\\nbalance conjugation of their lone pairs with the ring (as you saw on p. 278) makes them net\\nelectron donors. They increase the shielding at the ring hydrogens. \n",
    "\"\"\",\n",
    "\"\"\"\n",
    "Amino groups are the best.\\nNote that one nitrogen-based functional group (NO2) is the best electron withdrawer while\\nanother (NH2) is the best electron donor.  \\nthe effect of electron-donating groups  \\nby inductive effect  \\nbalance between withdrawal by inductive effect and donation\\nof lone pairs by conjugation—electron donation wins  \\n**H**  \\nδH 7.03  \\n**H**  \\n**H**  \\n**CH3**  \\nδH 6.80 **O**  \\n**H** **H**  \\nδH 6.59 **N**  \\n**H**  \\nδH 6.35  \\n**H**  \\n**H**  \\n**CH3**  \\n**O**  \\n**CH3**  \\n**H**  \\n**H**  \\n**N**  \\n**O**  \\nδH 7.27  \\n**H**  \\n**H**  \\nδH 7.27  \\nδH 5.68  \\n**H**  \\n**H**  \\nδH 5.68  \\n**O**  \\nδH 6.0  \\n**H**  \\n**H**  \\nδH 7.0  \\nδH 4.65  \\n**H**  \\n**H**  \\nδH 6.35  \\nAs far as the donors with lone pairs are concerned (the halogens plus O and N), two factors\\nare important—the size of the lone pairs and the electronegativity of the element. \n",
    "\"\"\",\n",
    "\"\"\"\n",
    "If we look\\nat the four halides at the top of this page the lone pairs are in 2p (F), 3p (Cl), 4p (Br), and 5p (I)\\norbitals. In all cases the orbitals on the benzene ring are 2p so the fl uorine orbital is of the\\nright size to interact well and the others too large. Even though fl uorine is the most electronegative, it is still the best donor. The others don’t pull so much electron density away, but\\nthey can’t give so much back either.\\nIf we compare the fi rst row of the p block elements—F, OH, and NH2—all have lone pairs\\nin 2p orbitals so now electronegativity is the only variable. As you would expect, the most\\nelectronegative element, F, is now the weakest donor.\n",
    "\"\"\"\n",
    "]\n",
    "\n"
   ]
  },
  {
   "cell_type": "code",
   "execution_count": 145,
   "metadata": {},
   "outputs": [
    {
     "name": "stdout",
     "output_type": "stream",
     "text": [
      "Entities:\n",
      "  - Name: Electron Donation\n",
      "    Information: Electron donation refers to the process by which an electron-rich species donates electrons to another species, affecting chemical shifts.\n",
      "  - Name: Electron Withdrawal\n",
      "    Information: Electron withdrawal is the process by which an electron-deficient species attracts electrons from another species, affecting chemical shifts.\n",
      "  - Name: Chemical Shift\n",
      "    Information: Chemical shift is a change in the resonant frequency of a nucleus due to the electronic environment, often measured in NMR spectroscopy.\n",
      "  - Name: Benzene Ring\n",
      "    Information: A benzene ring is a cyclic hydrocarbon with alternating double bonds, often used as a model to study electron distribution effects.\n",
      "  - Name: Substituent\n",
      "    Information: A substituent is an atom or group of atoms that replaces hydrogen in a hydrocarbon, affecting the chemical properties of the molecule.\n",
      "  - Name: Conjugation\n",
      "    Information: Conjugation refers to the overlap of p-orbitals across adjacent single and multiple bonds, affecting electron distribution and chemical shifts.\n",
      "  - Name: Inductive Effect\n",
      "    Information: The inductive effect is the transmission of charge through a chain of atoms in a molecule by electrostatic induction, affecting electron distribution.\n",
      "\n",
      "Data Properties:\n",
      "  - Name: Chemical_Shift_Value\n",
      "    Information: The chemical shift value indicates the position of a hydrogen atom in a benzene ring with substituents, measured in parts per million (ppm).\n",
      "\n",
      "Object Properties:\n",
      "  - Name: affects_chemical_shift\n",
      "    Domain: Electron Donation\n",
      "    Range: Chemical Shift\n",
      "    Restriction: some\n",
      "    Information: Electron donation affects the chemical shift of hydrogen atoms in a benzene ring.\n",
      "  - Name: affects_chemical_shift\n",
      "    Domain: Electron Withdrawal\n",
      "    Range: Chemical Shift\n",
      "    Restriction: some\n",
      "    Information: Electron withdrawal affects the chemical shift of hydrogen atoms in a benzene ring.\n",
      "  - Name: has_substituent\n",
      "    Domain: Benzene Ring\n",
      "    Range: Substituent\n",
      "    Restriction: some\n",
      "    Information: A benzene ring can have substituents at specific positions, affecting its chemical properties.\n",
      "  - Name: involves_conjugation\n",
      "    Domain: Benzene Ring\n",
      "    Range: Conjugation\n",
      "    Restriction: some\n",
      "    Information: Conjugation involves the overlap of p-orbitals in a benzene ring, affecting electron distribution.\n",
      "  - Name: involves_inductive_effect\n",
      "    Domain: Benzene Ring\n",
      "    Range: Inductive Effect\n",
      "    Restriction: some\n",
      "    Information: The inductive effect involves the transmission of charge through a benzene ring, affecting electron distribution.\n",
      "Entities:\n",
      "  - Name: Conjugation\n",
      "    Information: Conjugation is felt through π bonds and involves the interaction of electron clouds in adjacent p orbitals.\n",
      "  - Name: Inductive_Effect\n",
      "    Information: Inductive effects are the result of electron withdrawal or donation felt by polarization of the σ bonds of the molecule.\n",
      "  - Name: Electron_Withdrawing_Group\n",
      "    Information: Electron-withdrawing groups affect chemical shifts by withdrawing electrons through conjugation or inductive effects.\n",
      "  - Name: Hydrogen(H)\n",
      "    Information: Hydrogen is a chemical element with the symbol H.\n",
      "  - Name: Oxygen(O)\n",
      "    Information: Oxygen is a chemical element with the symbol O.\n",
      "  - Name: Nitrogen(N)\n",
      "    Information: Nitrogen is a chemical element with the symbol N.\n",
      "  - Name: Carbon(C)\n",
      "    Information: Carbon is a chemical element with the symbol C.\n",
      "  - Name: Fluorine(F)\n",
      "    Information: Fluorine is a chemical element with the symbol F.\n",
      "  - Name: Hydroxyl(OH)\n",
      "    Information: Hydroxyl is a functional group consisting of an oxygen atom bonded to a hydrogen atom.\n",
      "\n",
      "Data Properties:\n",
      "  - Name: Chemical_Shift\n",
      "    Information: Chemical shifts (δH values) are indicative of the environment around hydrogen atoms in a molecule, influenced by electron-withdrawing groups.\n",
      "\n",
      "Object Properties:\n",
      "  - Name: influences\n",
      "    Domain: Electron_Withdrawing_Group\n",
      "    Range: Chemical_Shift\n",
      "    Restriction: some\n",
      "    Information: Electron-withdrawing groups influence chemical shifts by withdrawing electrons through conjugation or inductive effects.\n",
      "  - Name: involves\n",
      "    Domain: Conjugation\n",
      "    Range: Electron_Withdrawing_Group\n",
      "    Restriction: some\n",
      "    Information: Conjugation involves electron-withdrawing groups that affect chemical shifts.\n",
      "  - Name: involves\n",
      "    Domain: Inductive_Effect\n",
      "    Range: Electron_Withdrawing_Group\n",
      "    Restriction: some\n",
      "    Information: Inductive effects involve electron-withdrawing groups that affect chemical shifts.\n",
      "Entities:\n",
      "  - Name: Nitro\n",
      "    Information: Nitro is the most powerful group in terms of electron withdrawal in both [13]C and [1]H NMR spectra.\n",
      "  - Name: Carbonyl\n",
      "    Information: Carbonyl is a chemical group that follows Nitro in terms of electron withdrawal power.\n",
      "  - Name: Nitrile\n",
      "    Information: Nitrile is a chemical group that follows Nitro in terms of electron withdrawal power.\n",
      "  - Name: CF3\n",
      "    Information: CF3 is a group with three fluorine atoms that exerts a powerful inductive withdrawal effect.\n",
      "  - Name: Iodine(I)\n",
      "    Information: Iodine is a halogen with a δH value of 7.40 in NMR spectra.\n",
      "  - Name: Bromine(Br)\n",
      "    Information: Bromine is a halogen with a δH value of 7.32 in NMR spectra.\n",
      "  - Name: Chlorine(Cl)\n",
      "    Information: Chlorine is a halogen with a δH value of 7.24 in NMR spectra.\n",
      "  - Name: Fluorine(F)\n",
      "    Information: Fluorine is a halogen with a δH value of 7.00 in NMR spectra.\n",
      "\n",
      "Data Properties:\n",
      "  - Name: delta_H_value\n",
      "    Information: The δH value represents the chemical shift in NMR spectra for halogens.\n",
      "\n",
      "Object Properties:\n",
      "  - Name: exerts_inductive_withdrawal\n",
      "    Domain: CF3\n",
      "    Range: Nitro\n",
      "    Restriction: some\n",
      "    Information: CF3 exerts a powerful inductive withdrawal effect similar to Nitro.\n",
      "  - Name: has_electron_withdrawal_power\n",
      "    Domain: Carbonyl\n",
      "    Range: Nitro\n",
      "    Restriction: some\n",
      "    Information: Carbonyl has electron withdrawal power following Nitro.\n",
      "  - Name: has_electron_withdrawal_power\n",
      "    Domain: Nitrile\n",
      "    Range: Nitro\n",
      "    Restriction: some\n",
      "    Information: Nitrile has electron withdrawal power following Nitro.\n",
      "  - Name: has_delta_H_value\n",
      "    Domain: Iodine(I)\n",
      "    Range: delta_H_value\n",
      "    Restriction: only\n",
      "    Information: Iodine has a δH value of 7.40 in NMR spectra.\n",
      "  - Name: has_delta_H_value\n",
      "    Domain: Bromine(Br)\n",
      "    Range: delta_H_value\n",
      "    Restriction: only\n",
      "    Information: Bromine has a δH value of 7.32 in NMR spectra.\n",
      "  - Name: has_delta_H_value\n",
      "    Domain: Chlorine(Cl)\n",
      "    Range: delta_H_value\n",
      "    Restriction: only\n",
      "    Information: Chlorine has a δH value of 7.24 in NMR spectra.\n",
      "  - Name: has_delta_H_value\n",
      "    Domain: Fluorine(F)\n",
      "    Range: delta_H_value\n",
      "    Restriction: only\n",
      "    Information: Fluorine has a δH value of 7.00 in NMR spectra.\n",
      "Entities:\n",
      "  - Name: Alkyl groups\n",
      "    Information: Alkyl groups are weak inductive donators.\n",
      "  - Name: Electronegative atoms\n",
      "    Information: Electronegative atoms like O and N are part of groups that give the most shielding.\n",
      "  - Name: Oxygen (O)\n",
      "    Information: Oxygen is an electronegative atom involved in electron withdrawing and donating effects.\n",
      "  - Name: Nitrogen (N)\n",
      "    Information: Nitrogen is an electronegative atom involved in electron withdrawing and donating effects.\n",
      "  - Name: Ring hydrogens\n",
      "    Information: Ring hydrogens experience increased shielding due to the presence of certain groups.\n",
      "\n",
      "Data Properties:\n",
      "  - Name: inductive_donating\n",
      "    Information: Alkyl groups are weak inductive donators.\n",
      "  - Name: electron_withdrawing\n",
      "    Information: The C–O and C–N σ bonds are polarized with δ + C, making them inductively electron withdrawing.\n",
      "  - Name: net_electron_donors\n",
      "    Information: Despite being inductively electron withdrawing, conjugation of lone pairs with the ring makes them net electron donors.\n",
      "  - Name: increased_shielding\n",
      "    Information: Electronegative atoms increase the shielding at the ring hydrogens.\n",
      "\n",
      "Object Properties:\n",
      "  - Name: conjugation_with_ring\n",
      "    Domain: Electronegative atoms\n",
      "    Range: Ring hydrogens\n",
      "    Restriction: some\n",
      "    Information: Conjugation of lone pairs with the ring makes electronegative atoms net electron donors, increasing shielding at the ring hydrogens.\n",
      "Entities:\n",
      "  - Name: Amino Group(NH2)\n",
      "    Information: The amino group (NH2) is described as the best electron donor.\n",
      "  - Name: Nitro Group(NO2)\n",
      "    Information: The nitro group (NO2) is described as the best electron withdrawer.\n",
      "  - Name: Inductive Effect\n",
      "    Information: The inductive effect is mentioned as a process affecting electron donation and withdrawal.\n",
      "  - Name: Conjugation\n",
      "    Information: Conjugation is mentioned as a process where lone pairs are donated.\n",
      "  - Name: Nitrogen(N)\n",
      "    Information: Nitrogen is mentioned as an element with lone pairs that can donate electrons.\n",
      "  - Name: Oxygen(O)\n",
      "    Information: Oxygen is mentioned as an element with lone pairs that can donate electrons.\n",
      "  - Name: Hydrogen(H)\n",
      "    Information: Hydrogen atoms are mentioned with specific chemical shifts in NMR spectroscopy.\n",
      "\n",
      "Data Properties:\n",
      "  - Name: Chemical_Shift_7.03\n",
      "    Information: The chemical shift δH 7.03 is associated with a hydrogen atom.\n",
      "  - Name: Chemical_Shift_6.80\n",
      "    Information: The chemical shift δH 6.80 is associated with a hydrogen atom.\n",
      "  - Name: Chemical_Shift_6.59\n",
      "    Information: The chemical shift δH 6.59 is associated with a hydrogen atom.\n",
      "  - Name: Chemical_Shift_6.35\n",
      "    Information: The chemical shift δH 6.35 is associated with a hydrogen atom.\n",
      "  - Name: Chemical_Shift_7.27\n",
      "    Information: The chemical shift δH 7.27 is associated with a hydrogen atom.\n",
      "  - Name: Chemical_Shift_5.68\n",
      "    Information: The chemical shift δH 5.68 is associated with a hydrogen atom.\n",
      "  - Name: Chemical_Shift_6.0\n",
      "    Information: The chemical shift δH 6.0 is associated with a hydrogen atom.\n",
      "  - Name: Chemical_Shift_4.65\n",
      "    Information: The chemical shift δH 4.65 is associated with a hydrogen atom.\n",
      "\n",
      "Object Properties:\n",
      "  - Name: donates_electrons\n",
      "    Domain: Amino Group(NH2)\n",
      "    Range: Inductive Effect\n",
      "    Restriction: some\n",
      "    Information: The amino group donates electrons by inductive effect.\n",
      "  - Name: withdraws_electrons\n",
      "    Domain: Nitro Group(NO2)\n",
      "    Range: Inductive Effect\n",
      "    Restriction: some\n",
      "    Information: The nitro group withdraws electrons by inductive effect.\n",
      "  - Name: donates_lone_pairs\n",
      "    Domain: Nitrogen(N)\n",
      "    Range: Conjugation\n",
      "    Restriction: some\n",
      "    Information: Nitrogen donates lone pairs by conjugation.\n",
      "  - Name: donates_lone_pairs\n",
      "    Domain: Oxygen(O)\n",
      "    Range: Conjugation\n",
      "    Restriction: some\n",
      "    Information: Oxygen donates lone pairs by conjugation.\n",
      "Entities:\n",
      "  - Name: Fluorine(F)\n",
      "    Information: Fluorine is a halide with lone pairs in 2p orbitals and is the most electronegative element discussed.\n",
      "  - Name: Chlorine(Cl)\n",
      "    Information: Chlorine is a halide with lone pairs in 3p orbitals.\n",
      "  - Name: Bromine(Br)\n",
      "    Information: Bromine is a halide with lone pairs in 4p orbitals.\n",
      "  - Name: Iodine(I)\n",
      "    Information: Iodine is a halide with lone pairs in 5p orbitals.\n",
      "  - Name: Benzene_Ring\n",
      "    Information: The benzene ring has orbitals in 2p.\n",
      "  - Name: Hydroxyl(OH)\n",
      "    Information: Hydroxyl is a group with lone pairs in 2p orbitals.\n",
      "  - Name: Amino(NH2)\n",
      "    Information: Amino is a group with lone pairs in 2p orbitals.\n",
      "\n",
      "Data Properties:\n",
      "  - Name: Orbital_Type\n",
      "    Information: The orbital type for Fluorine is 2p, for Chlorine is 3p, for Bromine is 4p, and for Iodine is 5p.\n",
      "  - Name: Electronegativity\n",
      "    Information: Fluorine is the most electronegative element among the halides and p block elements discussed.\n",
      "\n",
      "Object Properties:\n",
      "  - Name: interacts_with\n",
      "    Domain: Fluorine(F)\n",
      "    Range: Benzene_Ring\n",
      "    Restriction: some\n",
      "    Information: Fluorine interacts well with the benzene ring due to its orbital size being the right size to interact.\n",
      "  - Name: interacts_with\n",
      "    Domain: Chlorine(Cl)\n",
      "    Range: Benzene_Ring\n",
      "    Restriction: some\n",
      "    Information: Chlorine interacts with the benzene ring, but its orbital is too large for optimal interaction.\n",
      "  - Name: interacts_with\n",
      "    Domain: Bromine(Br)\n",
      "    Range: Benzene_Ring\n",
      "    Restriction: some\n",
      "    Information: Bromine interacts with the benzene ring, but its orbital is too large for optimal interaction.\n",
      "  - Name: interacts_with\n",
      "    Domain: Iodine(I)\n",
      "    Range: Benzene_Ring\n",
      "    Restriction: some\n",
      "    Information: Iodine interacts with the benzene ring, but its orbital is too large for optimal interaction.\n",
      "  - Name: donor_strength\n",
      "    Domain: Fluorine(F)\n",
      "    Range: Benzene_Ring\n",
      "    Restriction: only\n",
      "    Information: Fluorine is the best donor despite being the most electronegative.\n",
      "  - Name: donor_strength\n",
      "    Domain: Hydroxyl(OH)\n",
      "    Range: Benzene_Ring\n",
      "    Restriction: only\n",
      "    Information: Hydroxyl is a donor with lone pairs in 2p orbitals.\n",
      "  - Name: donor_strength\n",
      "    Domain: Amino(NH2)\n",
      "    Range: Benzene_Ring\n",
      "    Restriction: only\n",
      "    Information: Amino is a donor with lone pairs in 2p orbitals.\n"
     ]
    }
   ],
   "source": [
    "for test in tests:\n",
    "    print(ontology_to_string(zeroshot_optimized_program(test).ontology))\n",
    "\n",
    "\n",
    "\n"
   ]
  },
  {
   "cell_type": "code",
   "execution_count": 153,
   "metadata": {},
   "outputs": [
    {
     "name": "stdout",
     "output_type": "stream",
     "text": [
      "\n",
      "Entity Accuracy Score: 5\n",
      "Data Property Correctness Score: 4\n",
      "Object Property Completeness Score: 3\n",
      "Ontology Structure Score: 4\n",
      "Overall Score: 8\n",
      "\n",
      "Total Score: 24\n",
      "Percentage Score: 88.89%\n",
      "\n",
      "Reason:\n",
      "entity accuracy: \n",
      "data property correctness: The ontology lacks explicit capture of dependencies for the chemical shift value, which affects the assessment score.\n",
      "object property completeness: The ontology lacks object property chains and inverse relationships, and the use of 'some' restrictions may not fully capture the specificity of interactions.\n",
      "ontology structure: \n",
      "overall score: \n",
      "\n",
      "\n",
      "Entity Accuracy Score: 4\n",
      "Data Property Correctness Score: 4\n",
      "Object Property Completeness Score: 3\n",
      "Ontology Structure Score: 4\n",
      "Overall Score: 6\n",
      "\n",
      "Total Score: 21\n",
      "Percentage Score: 77.78%\n",
      "\n",
      "Reason:\n",
      "entity accuracy: The ontology does not fully capture an appropriate chemical classification hierarchy, which prevents it from achieving a perfect score.\n",
      "data property correctness: The ontology lacks explicit mention of the range of δH values, which is a minor inconsistency.\n",
      "object property completeness: The ontology lacks object property chains and inverse relationships, and the use of relationship restrictions is limited.\n",
      "ontology structure: \n",
      "overall score: The ontology is mostly accurate and valid but lacks some specific details and context for full comprehensiveness and knowledge independence.\n",
      "\n",
      "\n",
      "Entity Accuracy Score: 3\n",
      "Data Property Correctness Score: 5\n",
      "Object Property Completeness Score: 3\n",
      "Ontology Structure Score: 4\n",
      "Overall Score: 6\n",
      "\n",
      "Total Score: 21\n",
      "Percentage Score: 77.78%\n",
      "\n",
      "Reason:\n",
      "entity accuracy: The ontology is well-structured in terms of naming and definition but lacks clarity in some relationships and does not explicitly capture a hierarchical classification of chemical entities.\n",
      "data property correctness: \n",
      "object property completeness: The ontology lacks object property chains and inverse relationships, and the application of relationship restrictions could be improved.\n",
      "ontology structure: \n",
      "overall score: The ontology extraction is mostly accurate and aligns well with chemical expertise, but it misses some nuanced information about the balance of effects for halogens, affecting its comprehensiveness and knowledge independence.\n",
      "\n",
      "\n",
      "Entity Accuracy Score: 5\n",
      "Data Property Correctness Score: 4\n",
      "Object Property Completeness Score: 3\n",
      "Ontology Structure Score: 4\n",
      "Overall Score: 7\n",
      "\n",
      "Total Score: 23\n",
      "Percentage Score: 85.19%\n",
      "\n",
      "Reason:\n",
      "entity accuracy: \n",
      "data property correctness: The ontology lacks specification of units and ranges for data properties, which is necessary for full chemical validity.\n",
      "object property completeness: The ontology partially meets the criteria, capturing key interactions and valid domain-range specifications, but lacks complexity in property chains and inverse relationships.\n",
      "ontology structure: \n",
      "overall score: The ontology is nearly perfect but requires slight context for full understanding, affecting knowledge independence.\n",
      "\n",
      "\n",
      "Entity Accuracy Score: 5\n",
      "Data Property Correctness Score: 4\n",
      "Object Property Completeness Score: 3\n",
      "Ontology Structure Score: 4\n",
      "Overall Score: 6\n",
      "\n",
      "Total Score: 22\n",
      "Percentage Score: 81.48%\n",
      "\n",
      "Reason:\n",
      "entity accuracy: \n",
      "data property correctness: The ontology lacks explicit capture of dependencies between chemical shifts and molecular environments or structural contexts.\n",
      "object property completeness: The ontology lacks object property chains and inverse relationships, which are necessary for a full score.\n",
      "ontology structure: \n",
      "overall score: The ontology extraction is mostly accurate and aligns well with chemical expertise, but it lacks some comprehensiveness and could be more independent of the source text context.\n",
      "\n",
      "\n",
      "Entity Accuracy Score: 3\n",
      "Data Property Correctness Score: 3\n",
      "Object Property Completeness Score: 2\n",
      "Ontology Structure Score: 3\n",
      "Overall Score: 8\n",
      "\n",
      "Total Score: 19\n",
      "Percentage Score: 70.37%\n",
      "\n",
      "Reason:\n",
      "entity accuracy: The ontology accurately names and defines entities and avoids redundancy, but it lacks a comprehensive representation of entity relationships and hierarchy, particularly in capturing the nuances of donor strength changes among p block elements.\n",
      "data property correctness: The ontology lacks specification of units and ranges for data properties, and dependencies between properties are not clearly captured.\n",
      "object property completeness: The ontology captures some key interactions and has valid domain and range specifications, but it lacks accurate relationship restrictions, complex process representation, and inverse relationships.\n",
      "ontology structure: The ontology lacks differentiation in the donor strength context for Fluorine, affecting cross-reference accuracy.\n",
      "overall score: \n",
      "\n"
     ]
    }
   ],
   "source": [
    "for test in tests:\n",
    "    print(metric(dspy.Prediction(context=test),zeroshot_optimized_program(test), verbose=True))\n"
   ]
  },
  {
   "cell_type": "code",
   "execution_count": 14,
   "metadata": {},
   "outputs": [],
   "source": [
    "from dspy.primitives.assertions import assert_transform_module, backtrack_handler\n",
    "from dspy.predict import Retry"
   ]
  },
  {
   "cell_type": "code",
   "execution_count": 15,
   "metadata": {},
   "outputs": [],
   "source": [
    "def my_backtrack_handler(func):\n",
    "    return backtrack_handler(func, max_backtracks=5)"
   ]
  },
  {
   "cell_type": "code",
   "execution_count": 16,
   "metadata": {},
   "outputs": [],
   "source": [
    "from autonogy_constructor.signatures import ExtractOntologyElements, ExtractOntologyProperties\n",
    "class ChemOntologyWithElementsAssertions(dspy.Module):\n",
    "    def __init__(self):\n",
    "        super().__init__()\n",
    "\n",
    "        self.elements_extractor = dspy.ChainOfThought(ExtractOntologyElements)\n",
    "        \n",
    "\n",
    "        self.assessor = Assessment(assertions=True)\n",
    "    \n",
    "    def forward(self, context):\n",
    "        elements = self.elements_extractor(text=context)\n",
    "        assertions, score_info = self.assessor(assessed_text=context, assessment_ontology=elements.ontology_elements)\n",
    "        qualified = [x[0] for x in assertions.values()]\n",
    "        suggestion = [x[1] for x in assertions.values()]\n",
    "        dspy.Suggest(all(qualified),\"\".join(suggestion),target_module=self.elements_extractor)\n",
    "\n",
    "        return dspy.Prediction(context=context, ontology_elements=elements.ontology_elements, score_info=score_info)\n",
    "class ChemOntologyWithPropertiesAssertions(dspy.Module):\n",
    "    def __init__(self):\n",
    "        super().__init__()\n",
    "\n",
    "        self.properties_extractor = dspy.ChainOfThought(ExtractOntologyProperties)\n",
    "\n",
    "        self.assessor = Assessment(assertions=True)\n",
    "\n",
    "    def forward(self, context, elements):\n",
    "        properties = self.properties_extractor(text=context, existing_ontology_elements=elements.ontology_elements)\n",
    "        assertions, score_info = self.assessor(assessed_text=context, assessment_ontology=properties.ontology_properties)\n",
    "        qualified = [x[0] for x in assertions.values()]\n",
    "        suggestion = [x[1] for x in assertions.values()]\n",
    "        dspy.Suggest(all(qualified),\"\".join(suggestion),target_module=self.properties_extractor)\n",
    "        return dspy.Prediction(context=context, ontology_elements=elements.ontology_elements, ontology_properties=properties.ontology_properties, score_info=score_info)\n",
    "\n"
   ]
  },
  {
   "cell_type": "code",
   "execution_count": 17,
   "metadata": {},
   "outputs": [
    {
     "name": "stderr",
     "output_type": "stream",
     "text": [
      "2024/11/26 22:25:35 INFO dspy.primitives.assertions: SuggestionFailed: The ontology misses capturing some specific examples and details from the text, such as the specific chemical shifts and the role of lone pairs in electron donation. Additionally, the ontology lacks a hierarchy or relationships between entities, which would support future expansion and integration with other ontologies and enhance applicability across different chemical subdomains. To improve, the ontology should include these specific details and establish relationships between entities to better reflect the text's content and support broader applicability.The ontology does not include any subclass-superclass relationships, despite the text implying hierarchical relationships among chemical groups (e.g., electron-withdrawing vs. electron-donating groups). To improve, the ontology should establish a class hierarchy that reflects these relationships, such as creating a superclass for \"Electron-Influencing Groups\" with subclasses for \"Electron-Withdrawing Groups\" and \"Electron-Donating Groups,\" and further subclassing based on specific functional groups.The ontology does not define any disjoint class relationships, despite the text implying potential disjoint relationships between electron-donating and electron-withdrawing groups. To improve, the ontology should explicitly define disjoint classes for these mutually exclusive chemical concepts, ensuring that they reflect real chemical incompatibilities and support chemical reasoning and inference.\n",
      "2024/11/26 22:25:35 INFO dspy.primitives.assertions: SuggestionFailed: The ontology does not fully capture the nuanced balance between electron donation and withdrawal by halogens, which is a key concept in the text. To improve, the ontology could include entities or relationships that specifically address this balance, enhancing its applicability across different chemical subdomains.- Class hierarchies align with valid chemical taxonomies: 0 points (The ontology does not fully align with the chemical taxonomies implied in the text, such as the distinction between inductive and conjugative effects.)\n",
      "- Subclass relationships are logically sound and chemically meaningful: 1 point\n",
      "- Multiple inheritance is used appropriately where needed: 0 points (The ontology does not use multiple inheritance for halogens, which have both electron-withdrawing and donating properties.)\n",
      "- Class hierarchies cover all granularity levels: 0 points (The ontology does not cover the granularity of different types of electron-withdrawing or donating effects.)\n",
      "- Hierarchical relationships are stated or implied in the text: 1 point\n",
      "- Superclass-subclass pairs maintain consistent semantic meaning: 1 point\n",
      "- No circular or contradictory hierarchical relationships: 1 point\n",
      "\n",
      "To improve the ontology, consider adding multiple inheritance for entities like halogens, and further distinguishing between different types of electron-withdrawing and donating effects. Additionally, ensure that the ontology fully captures the hierarchical relationships implied in the text.The ontology lacks disjoint class relationships, which are implied in the text. Specifically, electron-donating groups and electron-withdrawing groups should be disjoint classes, as they represent mutually exclusive functions. To improve, the ontology should explicitly define these disjoint relationships to better reflect the chemical reasoning and ensure logical consistency.\n",
      "2024/11/26 22:25:35 INFO dspy.primitives.assertions: SuggestionFailed: The ontology does not fully meet the criterion of being effectively applicable across different chemical subdomains. To improve, the ontology could include entities and relationships that address electron effects in non-aromatic systems or other chemical environments, enhancing its versatility and applicability in broader chemical contexts.- Class hierarchies do not fully align with valid chemical taxonomies as implied by the text.\n",
      "- Subclass relationships are not fully logically sound or chemically meaningful, as they do not capture all nuances of electron-withdrawing and donating effects.\n",
      "- Multiple inheritance is not used where it might be appropriate, such as for halogens.\n",
      "- Class hierarchies do not cover all granularity levels, missing distinctions between inductive and conjugative effects.\n",
      "- Hierarchical relationships are not fully stated or implied in the ontology.\n",
      "- Superclass-subclass pairs are not consistently semantically meaningful, as they do not capture all relationships suggested by the text.\n",
      "\n",
      "To improve, the ontology should incorporate more detailed subclass relationships that reflect the different types of electron-withdrawing and donating effects, use multiple inheritance where appropriate, and ensure that all hierarchical relationships suggested by the text are represented.The ontology lacks disjoint class relationships, which are implied in the text. Specifically, electron-donating groups and electron-withdrawing groups should be disjoint, as they represent mutually exclusive chemical behaviors. To improve, the ontology should explicitly define these disjoint relationships to reflect real chemical incompatibilities and support chemical reasoning.\n"
     ]
    },
    {
     "name": "stdout",
     "output_type": "stream",
     "text": [
      "elements\n",
      "Entities:\n",
      "  - Name: Benzene Ring\n",
      "    Information: A benzene ring is a cyclic hydrocarbon with a formula C6H6, known for its aromatic properties.\n",
      "  - Name: Nitro\n",
      "    Information: Nitro is a chemical group known for being a powerful electron-withdrawing group by conjugation.\n",
      "  - Name: Carbonyl\n",
      "    Information: Carbonyl is a functional group composed of a carbon atom double-bonded to an oxygen atom, known for electron-withdrawing properties.\n",
      "  - Name: Nitrile\n",
      "    Information: Nitrile is a functional group containing a carbon triple-bonded to a nitrogen atom, known for electron-withdrawing properties.\n",
      "  - Name: CF3\n",
      "    Information: CF3 is a trifluoromethyl group known for its strong electron-withdrawing inductive effect.\n",
      "  - Name: Halogens\n",
      "    Information: Halogens are a group of elements including Iodine (I), Bromine (Br), Chlorine (Cl), and Fluorine (F), known for their electron-withdrawing and lone pair donation effects.\n",
      "  - Name: Alkyl Groups\n",
      "    Information: Alkyl groups are hydrocarbon chains that act as weak inductive electron donors.\n",
      "  - Name: NO2\n",
      "    Information: NO2 is a nitrogen-based functional group known as the best electron withdrawer.\n",
      "  - Name: NH2\n",
      "    Information: NH2 is an amino group known as the best electron donor.\n",
      "  - Name: Conjugation\n",
      "    Information: Conjugation is a process where electron donation or withdrawal is felt through π bonds.\n",
      "  - Name: Inductive Effect\n",
      "    Information: Inductive effect is a process where electron donation or withdrawal is felt through polarization of σ bonds.\n",
      "\n",
      "Entity Hierarchy:\n",
      "\n",
      "Disjoint Classes:\n",
      "elements\n",
      "Entities:\n",
      "  - Name: Benzene Ring\n",
      "    Information: A benzene ring is a cyclic hydrocarbon with a formula C6H6, known for its aromatic properties.\n",
      "  - Name: Nitro\n",
      "    Information: Nitro is a chemical group known for being a powerful electron-withdrawing group by conjugation.\n",
      "  - Name: Carbonyl\n",
      "    Information: Carbonyl is a functional group composed of a carbon atom double-bonded to an oxygen atom, known for electron-withdrawing properties.\n",
      "  - Name: Nitrile\n",
      "    Information: Nitrile is a functional group containing a carbon triple-bonded to a nitrogen atom, known for electron-withdrawing properties.\n",
      "  - Name: CF3\n",
      "    Information: CF3 is a trifluoromethyl group known for its strong electron-withdrawing inductive effect.\n",
      "  - Name: Halogens\n",
      "    Information: Halogens are a group of elements including Iodine (I), Bromine (Br), Chlorine (Cl), and Fluorine (F), known for their electron-withdrawing and lone pair donation effects.\n",
      "  - Name: Alkyl Groups\n",
      "    Information: Alkyl groups are hydrocarbon chains that act as weak inductive electron donors.\n",
      "  - Name: NO2\n",
      "    Information: NO2 is a nitrogen-based functional group known as the best electron withdrawer.\n",
      "  - Name: NH2\n",
      "    Information: NH2 is an amino group known as the best electron donor.\n",
      "  - Name: Conjugation\n",
      "    Information: Conjugation is a process where electron donation or withdrawal is felt through π bonds.\n",
      "  - Name: Inductive Effect\n",
      "    Information: Inductive effect is a process where electron donation or withdrawal is felt through polarization of σ bonds.\n",
      "  - Name: Electron-Influencing Groups\n",
      "    Information: Groups that affect electron distribution in molecules, either by donating or withdrawing electrons.\n",
      "  - Name: Electron-Withdrawing Groups\n",
      "    Information: Groups that withdraw electrons from a molecule, affecting its electron distribution.\n",
      "  - Name: Electron-Donating Groups\n",
      "    Information: Groups that donate electrons to a molecule, affecting its electron distribution.\n",
      "\n",
      "Entity Hierarchy:\n",
      "  - Subclass: Electron-Withdrawing Groups\n",
      "    Superclass: Electron-Influencing Groups\n",
      "    Information: Electron-withdrawing groups are a subclass of electron-influencing groups that withdraw electrons.\n",
      "  - Subclass: Electron-Donating Groups\n",
      "    Superclass: Electron-Influencing Groups\n",
      "    Information: Electron-donating groups are a subclass of electron-influencing groups that donate electrons.\n",
      "  - Subclass: Nitro\n",
      "    Superclass: Electron-Withdrawing Groups\n",
      "    Information: Nitro is a specific type of electron-withdrawing group.\n",
      "  - Subclass: Carbonyl\n",
      "    Superclass: Electron-Withdrawing Groups\n",
      "    Information: Carbonyl is a specific type of electron-withdrawing group.\n",
      "  - Subclass: Nitrile\n",
      "    Superclass: Electron-Withdrawing Groups\n",
      "    Information: Nitrile is a specific type of electron-withdrawing group.\n",
      "  - Subclass: CF3\n",
      "    Superclass: Electron-Withdrawing Groups\n",
      "    Information: CF3 is a specific type of electron-withdrawing group.\n",
      "  - Subclass: \n",
      "    Superclass: \n",
      "    Information: None\n",
      "\n",
      "Disjoint Classes:\n",
      "elements\n",
      "Entities:\n",
      "  - Name: Benzene Ring\n",
      "    Information: A benzene ring is a cyclic hydrocarbon with a formula C6H6, known for its aromatic properties.\n",
      "  - Name: Nitro\n",
      "    Information: Nitro is a chemical group known for being a powerful electron-withdrawing group by conjugation.\n",
      "  - Name: Carbonyl\n",
      "    Information: Carbonyl is a functional group composed of a carbon atom double-bonded to an oxygen atom, known for electron-withdrawing properties.\n",
      "  - Name: Nitrile\n",
      "    Information: Nitrile is a functional group containing a carbon triple-bonded to a nitrogen atom, known for electron-withdrawing properties.\n",
      "  - Name: CF3\n",
      "    Information: CF3 is a trifluoromethyl group known for its strong electron-withdrawing inductive effect.\n",
      "  - Name: Halogens\n",
      "    Information: Halogens are a group of elements including Iodine (I), Bromine (Br), Chlorine (Cl), and Fluorine (F), known for their electron-withdrawing and lone pair donation effects.\n",
      "  - Name: Alkyl Groups\n",
      "    Information: Alkyl groups are hydrocarbon chains that act as weak inductive electron donors.\n",
      "  - Name: NO2\n",
      "    Information: NO2 is a nitrogen-based functional group known as the best electron withdrawer.\n",
      "  - Name: NH2\n",
      "    Information: NH2 is an amino group known as the best electron donor.\n",
      "  - Name: Conjugation\n",
      "    Information: Conjugation is a process where electron donation or withdrawal is felt through π bonds.\n",
      "  - Name: Inductive Effect\n",
      "    Information: Inductive effect is a process where electron donation or withdrawal is felt through polarization of σ bonds.\n",
      "  - Name: Electron-Influencing Groups\n",
      "    Information: Groups that affect electron distribution in molecules, either by donating or withdrawing electrons.\n",
      "  - Name: Electron-Withdrawing Groups\n",
      "    Information: Groups that withdraw electrons from a molecule, affecting its electron distribution.\n",
      "  - Name: Electron-Donating Groups\n",
      "    Information: Groups that donate electrons to a molecule, affecting its electron distribution.\n",
      "\n",
      "Entity Hierarchy:\n",
      "  - Subclass: Electron-Withdrawing Groups\n",
      "    Superclass: Electron-Influencing Groups\n",
      "    Information: Electron-withdrawing groups are a subclass of electron-influencing groups that withdraw electrons.\n",
      "  - Subclass: Electron-Donating Groups\n",
      "    Superclass: Electron-Influencing Groups\n",
      "    Information: Electron-donating groups are a subclass of electron-influencing groups that donate electrons.\n",
      "  - Subclass: Nitro\n",
      "    Superclass: Electron-Withdrawing Groups\n",
      "    Information: Nitro is a specific type of electron-withdrawing group.\n",
      "  - Subclass: Carbonyl\n",
      "    Superclass: Electron-Withdrawing Groups\n",
      "    Information: Carbonyl is a specific type of electron-withdrawing group.\n",
      "  - Subclass: Nitrile\n",
      "    Superclass: Electron-Withdrawing Groups\n",
      "    Information: Nitrile is a specific type of electron-withdrawing group.\n",
      "  - Subclass: \n",
      "    Superclass: \n",
      "    Information: None\n",
      "\n",
      "Disjoint Classes:\n",
      "elements\n",
      "Entities:\n",
      "  - Name: Benzene Ring\n",
      "    Information: A benzene ring is a cyclic hydrocarbon with a formula C6H6, known for its aromatic properties.\n",
      "  - Name: Nitro\n",
      "    Information: Nitro is a chemical group known for being a powerful electron-withdrawing group by conjugation.\n",
      "  - Name: Carbonyl\n",
      "    Information: Carbonyl is a functional group composed of a carbon atom double-bonded to an oxygen atom, known for electron-withdrawing properties.\n",
      "  - Name: Nitrile\n",
      "    Information: Nitrile is a functional group containing a carbon triple-bonded to a nitrogen atom, known for electron-withdrawing properties.\n",
      "  - Name: CF3\n",
      "    Information: CF3 is a trifluoromethyl group known for its strong electron-withdrawing inductive effect.\n",
      "  - Name: Halogens\n",
      "    Information: Halogens are a group of elements including Iodine (I), Bromine (Br), Chlorine (Cl), and Fluorine (F), known for their electron-withdrawing and lone pair donation effects.\n",
      "  - Name: Alkyl Groups\n",
      "    Information: Alkyl groups are hydrocarbon chains that act as weak inductive electron donors.\n",
      "  - Name: NO2\n",
      "    Information: NO2 is a nitrogen-based functional group known as the best electron withdrawer.\n",
      "  - Name: NH2\n",
      "    Information: NH2 is an amino group known as the best electron donor.\n",
      "  - Name: Conjugation\n",
      "    Information: Conjugation is a process where electron donation or withdrawal is felt through π bonds.\n",
      "  - Name: Inductive Effect\n",
      "    Information: Inductive effect is a process where electron donation or withdrawal is felt through polarization of σ bonds.\n",
      "  - Name: Electron-Influencing Groups\n",
      "    Information: Groups that affect electron distribution in molecules, either by donating or withdrawing electrons.\n",
      "  - Name: Electron-Withdrawing Groups\n",
      "    Information: Groups that withdraw electrons from a molecule, affecting its electron distribution.\n",
      "  - Name: Electron-Donating Groups\n",
      "    Information: Groups that donate electrons to a molecule, affecting its electron distribution.\n",
      "\n",
      "Entity Hierarchy:\n",
      "  - Subclass: Electron-Withdrawing Groups\n",
      "    Superclass: Electron-Influencing Groups\n",
      "    Information: Electron-withdrawing groups are a subclass of electron-influencing groups that withdraw electrons.\n",
      "  - Subclass: Electron-Donating Groups\n",
      "    Superclass: Electron-Influencing Groups\n",
      "    Information: Electron-donating groups are a subclass of electron-influencing groups that donate electrons.\n",
      "  - Subclass: Nitro\n",
      "    Superclass: Electron-Withdrawing Groups\n",
      "    Information: Nitro is a specific type of electron-withdrawing group.\n",
      "  - Subclass: Carbonyl\n",
      "    Superclass: Electron-Withdrawing Groups\n",
      "    Information: Carbonyl is a specific type of electron-withdrawing group.\n",
      "  - Subclass: Nitrile\n",
      "    Superclass: \n",
      "    Information: None\n",
      "\n",
      "Disjoint Classes:\n"
     ]
    },
    {
     "name": "stderr",
     "output_type": "stream",
     "text": [
      "2024/11/26 22:26:36 INFO dspy.primitives.assertions: SuggestionFailed: The ontology may not be fully applicable across different chemical subdomains, as it focuses primarily on electron donation and withdrawal in aromatic systems. To improve, the ontology could include entities and relationships that address electron effects in non-aromatic systems or other chemical contexts, enhancing its applicability across a broader range of chemical subdomains.The ontology fails to fully align with valid chemical taxonomies, as seen with the missing superclass relationship for \"Nitrile.\" Subclass relationships are not entirely sound, and multiple inheritance is not utilized where needed. The ontology does not cover all granularity levels, missing specific details for electron-withdrawing and donating groups. Improvements include adding missing superclass relationships, considering multiple inheritance for elements like halogens, and expanding the hierarchy to cover all relevant granularity levels.The ontology lacks disjoint class relationships, which are necessary to represent the mutually exclusive nature of electron-withdrawing and electron-donating groups as described in the text. To improve, the ontology should include disjoint class assertions between Electron-Withdrawing Groups and Electron-Donating Groups to reflect their distinct and incompatible roles in chemical interactions.\n"
     ]
    },
    {
     "name": "stdout",
     "output_type": "stream",
     "text": [
      "elements\n",
      "Entities:\n",
      "  - Name: Benzene Ring\n",
      "    Information: A benzene ring is a cyclic hydrocarbon with a formula C6H6, known for its aromatic properties.\n",
      "  - Name: Nitro\n",
      "    Information: Nitro is a chemical group known for being a powerful electron-withdrawing group by conjugation.\n",
      "  - Name: Carbonyl\n",
      "    Information: Carbonyl is a functional group composed of a carbon atom double-bonded to an oxygen atom, known for electron-withdrawing properties.\n",
      "  - Name: Nitrile\n",
      "    Information: Nitrile is a functional group containing a carbon triple-bonded to a nitrogen atom, known for electron-withdrawing properties.\n",
      "  - Name: CF3\n",
      "    Information: CF3 is a trifluoromethyl group known for its strong electron-withdrawing inductive effect.\n",
      "  - Name: Halogens\n",
      "    Information: Halogens are a group of elements including Iodine (I), Bromine (Br), Chlorine (Cl), and Fluorine (F), known for their electron-withdrawing and lone pair donation effects.\n",
      "  - Name: Alkyl Groups\n",
      "    Information: Alkyl groups are hydrocarbon chains that act as weak inductive electron donors.\n",
      "  - Name: NO2\n",
      "    Information: NO2 is a nitrogen-based functional group known as the best electron withdrawer.\n",
      "  - Name: NH2\n",
      "    Information: NH2 is an amino group known as the best electron donor.\n",
      "  - Name: Conjugation\n",
      "    Information: Conjugation is a process where electron donation or withdrawal is felt through π bonds.\n",
      "  - Name: Inductive Effect\n",
      "    Information: Inductive effect is a process where electron donation or withdrawal is felt through polarization of σ bonds.\n",
      "  - Name: Electron-Influencing Groups\n",
      "    Information: Groups that affect electron distribution in molecules, either by donating or withdrawing electrons.\n",
      "  - Name: Electron-Withdrawing Groups\n",
      "    Information: Groups that withdraw electrons from a molecule, affecting its electron distribution.\n",
      "  - Name: Electron-Donating Groups\n",
      "    Information: Groups that donate electrons to a molecule, affecting its electron distribution.\n",
      "\n",
      "Entity Hierarchy:\n",
      "  - Subclass: Electron-Withdrawing Groups\n",
      "    Superclass: Electron-Influencing Groups\n",
      "    Information: Electron-withdrawing groups are a subclass of electron-influencing groups that withdraw electrons.\n",
      "  - Subclass: Electron-Donating Groups\n",
      "    Superclass: Electron-Influencing Groups\n",
      "    Information: Electron-donating groups are a subclass of electron-influencing groups that donate electrons.\n",
      "  - Subclass: Nitro\n",
      "    Superclass: Electron-Withdrawing Groups\n",
      "    Information: Nitro is a specific type of electron-withdrawing group.\n",
      "  - Subclass: Carbonyl\n",
      "    Superclass: Electron-Withdrawing Groups\n",
      "    Information: Carbonyl is a specific type of electron-withdrawing group.\n",
      "  - Subclass: \n",
      "    Superclass: \n",
      "    Information: None\n",
      "\n",
      "Disjoint Classes:\n"
     ]
    },
    {
     "name": "stderr",
     "output_type": "stream",
     "text": [
      "2024/11/26 22:27:29 INFO dspy.primitives.assertions: SuggestionFailed: - Entities are not fully consolidated, with some redundancy present (e.g., NO2 and Nitro).\n",
      "- The ontology lacks explicit design features that support future expansion and integration with other ontologies.\n",
      "- The ontology does not clearly demonstrate applicability across different chemical subdomains.\n",
      "\n",
      "To improve, the ontology should consolidate redundant entities, establish a more robust hierarchical structure, and include relationships that facilitate integration and applicability across various chemical contexts.- Class hierarchies align with valid chemical taxonomies: The ontology partially aligns with chemical taxonomies but is incomplete.\n",
      "- Subclass relationships are logically sound and chemically meaningful: The existing subclass relationships are sound.\n",
      "- Multiple inheritance is used appropriately where needed: The ontology does not utilize multiple inheritance where it could be applicable.\n",
      "- Class hierarchies cover all granularity levels: The ontology lacks coverage of specific elements within groups like halogens.\n",
      "- Hierarchical relationships are stated or implied in the text: The text implies more hierarchical relationships than are present in the ontology.\n",
      "- Superclass-subclass pairs maintain consistent semantic meaning: The existing pairs maintain consistent meaning.\n",
      "- No circular or contradictory hierarchical relationships: There are no circular or contradictory relationships.\n",
      "\n",
      "To improve, the ontology should include more detailed subclass relationships, such as specific elements within halogens, and consider multiple inheritance for groups with dual roles in electron donation and withdrawal.The ontology does not define any disjoint class relationships, despite the text implying that certain groups (e.g., electron-donating vs. electron-withdrawing) are mutually exclusive. To improve, the ontology should explicitly define disjoint classes for electron-donating and electron-withdrawing groups, reflecting their chemical incompatibilities and supporting logical reasoning.\n",
      "2024/11/26 22:27:54 INFO dspy.primitives.assertions: SuggestionFailed: The ontology may not be fully applicable across different chemical subdomains, as it focuses primarily on electron donation and withdrawal in aromatic systems. To improve, the ontology could include entities and relationships that address electron effects in non-aromatic systems or other chemical contexts, enhancing its applicability across a broader range of chemical subdomains.The ontology fails to fully align with valid chemical taxonomies, as seen with the missing superclass relationship for \"Nitrile.\" Subclass relationships are not entirely sound, and multiple inheritance is not utilized where needed. The ontology does not cover all granularity levels, missing specific details for electron-withdrawing and donating groups. Improvements include adding missing superclass relationships, considering multiple inheritance for elements like halogens, and expanding the hierarchy to cover all relevant granularity levels.The ontology lacks disjoint class relationships, which are necessary to represent the mutually exclusive nature of electron-withdrawing and electron-donating groups as described in the text. To improve, the ontology should include disjoint class assertions between Electron-Withdrawing Groups and Electron-Donating Groups to reflect their distinct and incompatible roles in chemical interactions.\n"
     ]
    },
    {
     "name": "stdout",
     "output_type": "stream",
     "text": [
      "elements\n",
      "Entities:\n",
      "  - Name: Benzene Ring\n",
      "    Information: A benzene ring is a cyclic hydrocarbon with a formula C6H6, known for its aromatic properties.\n",
      "  - Name: Nitro\n",
      "    Information: Nitro is a chemical group known for being a powerful electron-withdrawing group by conjugation.\n",
      "  - Name: Carbonyl\n",
      "    Information: Carbonyl is a functional group composed of a carbon atom double-bonded to an oxygen atom, known for electron-withdrawing properties.\n",
      "  - Name: Nitrile\n",
      "    Information: Nitrile is a functional group containing a carbon triple-bonded to a nitrogen atom, known for electron-withdrawing properties.\n",
      "  - Name: CF3\n",
      "    Information: CF3 is a trifluoromethyl group known for its strong electron-withdrawing inductive effect.\n",
      "  - Name: Halogens\n",
      "    Information: Halogens are a group of elements including Iodine (I), Bromine (Br), Chlorine (Cl), and Fluorine (F), known for their electron-withdrawing and lone pair donation effects.\n",
      "  - Name: Alkyl Groups\n",
      "    Information: Alkyl groups are hydrocarbon chains that act as weak inductive electron donors.\n",
      "  - Name: NO2\n",
      "    Information: NO2 is a nitrogen-based functional group known as the best electron withdrawer.\n",
      "  - Name: NH2\n",
      "    Information: NH2 is an amino group known as the best electron donor.\n",
      "  - Name: Conjugation\n",
      "    Information: Conjugation is a process where electron donation or withdrawal is felt through π bonds.\n",
      "  - Name: Inductive Effect\n",
      "    Information: Inductive effect is a process where electron donation or withdrawal is felt through polarization of σ bonds.\n",
      "  - Name: Electron-Influencing Groups\n",
      "    Information: Groups that affect electron distribution in molecules, either by donating or withdrawing electrons.\n",
      "  - Name: Electron-Withdrawing Groups\n",
      "    Information: Groups that withdraw electrons from a molecule, affecting its electron distribution.\n",
      "  - Name: Electron-Donating Groups\n",
      "    Information: Groups that donate electrons to a molecule, affecting its electron distribution.\n",
      "\n",
      "Entity Hierarchy:\n",
      "  - Subclass: Electron-Withdrawing Groups\n",
      "    Superclass: Electron-Influencing Groups\n",
      "    Information: Electron-withdrawing groups are a subclass of electron-influencing groups that withdraw electrons.\n",
      "  - Subclass: Electron-Donating Groups\n",
      "    Superclass: Electron-Influencing Groups\n",
      "    Information: Electron-donating groups are a subclass of electron-influencing groups that donate electrons.\n",
      "  - Subclass: Nitro\n",
      "    Superclass: Electron-Withdrawing Groups\n",
      "    Information: Nitro is a specific type of electron-withdrawing group.\n",
      "  - Subclass: Carbonyl\n",
      "    Superclass: Electron-Withdrawing Groups\n",
      "    Information: Carbonyl is a specific type of electron-withdrawing group.\n",
      "  - Subclass: Nitrile\n",
      "    Superclass: \n",
      "    Information: None\n",
      "\n",
      "Disjoint Classes:\n"
     ]
    },
    {
     "ename": "KeyboardInterrupt",
     "evalue": "",
     "output_type": "error",
     "traceback": [
      "\u001b[1;31m---------------------------------------------------------------------------\u001b[0m",
      "\u001b[1;31mKeyboardInterrupt\u001b[0m                         Traceback (most recent call last)",
      "Cell \u001b[1;32mIn[17], line 4\u001b[0m\n\u001b[0;32m      2\u001b[0m chemonto_with_properties_assertions \u001b[38;5;241m=\u001b[39m assert_transform_module(ChemOntologyWithPropertiesAssertions()\u001b[38;5;241m.\u001b[39mmap_named_predictors(Retry), my_backtrack_handler) \n\u001b[0;32m      3\u001b[0m temp \u001b[38;5;241m=\u001b[39m chemonto_with_elements_assertions(test_context)\n\u001b[1;32m----> 4\u001b[0m \u001b[43mchemonto_with_properties_assertions\u001b[49m\u001b[43m(\u001b[49m\u001b[43mtest_context\u001b[49m\u001b[43m,\u001b[49m\u001b[43m \u001b[49m\u001b[43mtemp\u001b[49m\u001b[43m)\u001b[49m\n\u001b[0;32m      5\u001b[0m \u001b[38;5;66;03m# print(ontology_elements_to_string(chemonto_with_elements_assertions(test_context).ontology_elements))\u001b[39;00m\n\u001b[0;32m      6\u001b[0m \u001b[38;5;66;03m# print(ontology_properties_to_string(chemonto_with_properties_assertions(test_context, chemonto_with_elements_assertions(test_context)).ontology_properties))\u001b[39;00m\n\u001b[0;32m      7\u001b[0m \u001b[38;5;66;03m# print(chemonto_with_properties_assertions(test_context, chemonto_with_elements_assertions(test_context)).score_info)\u001b[39;00m\n",
      "File \u001b[1;32md:\\AnacondaEnPs\\envs\\OntologyConstruction\\Lib\\site-packages\\dspy\\utils\\callback.py:202\u001b[0m, in \u001b[0;36mwith_callbacks.<locals>.wrapper\u001b[1;34m(instance, *args, **kwargs)\u001b[0m\n\u001b[0;32m    200\u001b[0m \u001b[38;5;66;03m# If no callbacks are provided, just call the function\u001b[39;00m\n\u001b[0;32m    201\u001b[0m \u001b[38;5;28;01mif\u001b[39;00m \u001b[38;5;129;01mnot\u001b[39;00m callbacks:\n\u001b[1;32m--> 202\u001b[0m     \u001b[38;5;28;01mreturn\u001b[39;00m \u001b[43mfn\u001b[49m\u001b[43m(\u001b[49m\u001b[43minstance\u001b[49m\u001b[43m,\u001b[49m\u001b[43m \u001b[49m\u001b[38;5;241;43m*\u001b[39;49m\u001b[43margs\u001b[49m\u001b[43m,\u001b[49m\u001b[43m \u001b[49m\u001b[38;5;241;43m*\u001b[39;49m\u001b[38;5;241;43m*\u001b[39;49m\u001b[43mkwargs\u001b[49m\u001b[43m)\u001b[49m\n\u001b[0;32m    204\u001b[0m \u001b[38;5;66;03m# Generate call ID as the unique identifier for the call, this is useful for instrumentation.\u001b[39;00m\n\u001b[0;32m    205\u001b[0m call_id \u001b[38;5;241m=\u001b[39m uuid\u001b[38;5;241m.\u001b[39muuid4()\u001b[38;5;241m.\u001b[39mhex\n",
      "File \u001b[1;32md:\\AnacondaEnPs\\envs\\OntologyConstruction\\Lib\\site-packages\\dspy\\primitives\\program.py:24\u001b[0m, in \u001b[0;36mModule.__call__\u001b[1;34m(self, *args, **kwargs)\u001b[0m\n\u001b[0;32m     22\u001b[0m \u001b[38;5;129m@with_callbacks\u001b[39m\n\u001b[0;32m     23\u001b[0m \u001b[38;5;28;01mdef\u001b[39;00m \u001b[38;5;21m__call__\u001b[39m(\u001b[38;5;28mself\u001b[39m, \u001b[38;5;241m*\u001b[39margs, \u001b[38;5;241m*\u001b[39m\u001b[38;5;241m*\u001b[39mkwargs):\n\u001b[1;32m---> 24\u001b[0m     \u001b[38;5;28;01mreturn\u001b[39;00m \u001b[38;5;28;43mself\u001b[39;49m\u001b[38;5;241;43m.\u001b[39;49m\u001b[43mforward\u001b[49m\u001b[43m(\u001b[49m\u001b[38;5;241;43m*\u001b[39;49m\u001b[43margs\u001b[49m\u001b[43m,\u001b[49m\u001b[43m \u001b[49m\u001b[38;5;241;43m*\u001b[39;49m\u001b[38;5;241;43m*\u001b[39;49m\u001b[43mkwargs\u001b[49m\u001b[43m)\u001b[49m\n",
      "File \u001b[1;32md:\\AnacondaEnPs\\envs\\OntologyConstruction\\Lib\\site-packages\\dspy\\primitives\\assertions.py:300\u001b[0m, in \u001b[0;36mhandle_assert_forward.<locals>.forward\u001b[1;34m(self, *args, **kwargs)\u001b[0m\n\u001b[0;32m    297\u001b[0m     dspy\u001b[38;5;241m.\u001b[39msettings\u001b[38;5;241m.\u001b[39mconfigure(bypass_assert\u001b[38;5;241m=\u001b[39margs_to_vals[\u001b[38;5;124m\"\u001b[39m\u001b[38;5;124mbypass_assert\u001b[39m\u001b[38;5;124m\"\u001b[39m])\n\u001b[0;32m    299\u001b[0m wrapped_forward \u001b[38;5;241m=\u001b[39m assertion_handler(\u001b[38;5;28mself\u001b[39m\u001b[38;5;241m.\u001b[39m_forward, \u001b[38;5;241m*\u001b[39m\u001b[38;5;241m*\u001b[39mhandler_args)\n\u001b[1;32m--> 300\u001b[0m \u001b[38;5;28;01mreturn\u001b[39;00m \u001b[43mwrapped_forward\u001b[49m\u001b[43m(\u001b[49m\u001b[38;5;241;43m*\u001b[39;49m\u001b[43margs\u001b[49m\u001b[43m,\u001b[49m\u001b[43m \u001b[49m\u001b[38;5;241;43m*\u001b[39;49m\u001b[38;5;241;43m*\u001b[39;49m\u001b[43mkwargs\u001b[49m\u001b[43m)\u001b[49m\n",
      "File \u001b[1;32md:\\AnacondaEnPs\\envs\\OntologyConstruction\\Lib\\site-packages\\dspy\\primitives\\assertions.py:222\u001b[0m, in \u001b[0;36mbacktrack_handler.<locals>.wrapper\u001b[1;34m(*args, **kwargs)\u001b[0m\n\u001b[0;32m    220\u001b[0m \u001b[38;5;28;01mtry\u001b[39;00m:\n\u001b[0;32m    221\u001b[0m     dsp\u001b[38;5;241m.\u001b[39msettings\u001b[38;5;241m.\u001b[39mtrace\u001b[38;5;241m.\u001b[39mclear()\n\u001b[1;32m--> 222\u001b[0m     result \u001b[38;5;241m=\u001b[39m \u001b[43mfunc\u001b[49m\u001b[43m(\u001b[49m\u001b[38;5;241;43m*\u001b[39;49m\u001b[43margs\u001b[49m\u001b[43m,\u001b[49m\u001b[43m \u001b[49m\u001b[38;5;241;43m*\u001b[39;49m\u001b[38;5;241;43m*\u001b[39;49m\u001b[43mkwargs\u001b[49m\u001b[43m)\u001b[49m\n\u001b[0;32m    223\u001b[0m     \u001b[38;5;28;01mbreak\u001b[39;00m\n\u001b[0;32m    224\u001b[0m \u001b[38;5;28;01mexcept\u001b[39;00m (DSPySuggestionError, DSPyAssertionError) \u001b[38;5;28;01mas\u001b[39;00m e:\n",
      "Cell \u001b[1;32mIn[16], line 28\u001b[0m, in \u001b[0;36mChemOntologyWithPropertiesAssertions.forward\u001b[1;34m(self, context, elements)\u001b[0m\n\u001b[0;32m     27\u001b[0m \u001b[38;5;28;01mdef\u001b[39;00m \u001b[38;5;21mforward\u001b[39m(\u001b[38;5;28mself\u001b[39m, context, elements):\n\u001b[1;32m---> 28\u001b[0m     properties \u001b[38;5;241m=\u001b[39m \u001b[38;5;28;43mself\u001b[39;49m\u001b[38;5;241;43m.\u001b[39;49m\u001b[43mproperties_extractor\u001b[49m\u001b[43m(\u001b[49m\u001b[43mtext\u001b[49m\u001b[38;5;241;43m=\u001b[39;49m\u001b[43mcontext\u001b[49m\u001b[43m,\u001b[49m\u001b[43m \u001b[49m\u001b[43mexisting_ontology_elements\u001b[49m\u001b[38;5;241;43m=\u001b[39;49m\u001b[43melements\u001b[49m\u001b[38;5;241;43m.\u001b[39;49m\u001b[43montology_elements\u001b[49m\u001b[43m)\u001b[49m\n\u001b[0;32m     29\u001b[0m     assertions, score_info \u001b[38;5;241m=\u001b[39m \u001b[38;5;28mself\u001b[39m\u001b[38;5;241m.\u001b[39massessor(assessed_text\u001b[38;5;241m=\u001b[39mcontext, assessment_ontology\u001b[38;5;241m=\u001b[39mproperties\u001b[38;5;241m.\u001b[39montology_properties)\n\u001b[0;32m     30\u001b[0m     qualified \u001b[38;5;241m=\u001b[39m [x[\u001b[38;5;241m0\u001b[39m] \u001b[38;5;28;01mfor\u001b[39;00m x \u001b[38;5;129;01min\u001b[39;00m assertions\u001b[38;5;241m.\u001b[39mvalues()]\n",
      "File \u001b[1;32md:\\AnacondaEnPs\\envs\\OntologyConstruction\\Lib\\site-packages\\dspy\\predict\\retry.py:64\u001b[0m, in \u001b[0;36mRetry.__call__\u001b[1;34m(self, **kwargs)\u001b[0m\n\u001b[0;32m     62\u001b[0m     pred \u001b[38;5;241m=\u001b[39m \u001b[38;5;28mself\u001b[39m\u001b[38;5;241m.\u001b[39mforward(\u001b[38;5;241m*\u001b[39m\u001b[38;5;241m*\u001b[39mkwargs)\n\u001b[0;32m     63\u001b[0m \u001b[38;5;28;01melse\u001b[39;00m:\n\u001b[1;32m---> 64\u001b[0m     pred \u001b[38;5;241m=\u001b[39m \u001b[38;5;28;43mself\u001b[39;49m\u001b[38;5;241;43m.\u001b[39;49m\u001b[43mmodule\u001b[49m\u001b[43m(\u001b[49m\u001b[38;5;241;43m*\u001b[39;49m\u001b[38;5;241;43m*\u001b[39;49m\u001b[43mkwargs\u001b[49m\u001b[43m)\u001b[49m\n\u001b[0;32m     66\u001b[0m \u001b[38;5;66;03m# now pop multiple reserved keys\u001b[39;00m\n\u001b[0;32m     67\u001b[0m \u001b[38;5;66;03m# NOTE(shangyin) past_outputs seems not useful to include in demos,\u001b[39;00m\n\u001b[0;32m     68\u001b[0m \u001b[38;5;66;03m# therefore dropped\u001b[39;00m\n\u001b[0;32m     69\u001b[0m \u001b[38;5;28;01mfor\u001b[39;00m key \u001b[38;5;129;01min\u001b[39;00m [\u001b[38;5;124m\"\u001b[39m\u001b[38;5;124m_trace\u001b[39m\u001b[38;5;124m\"\u001b[39m, \u001b[38;5;124m\"\u001b[39m\u001b[38;5;124mdemos\u001b[39m\u001b[38;5;124m\"\u001b[39m, \u001b[38;5;124m\"\u001b[39m\u001b[38;5;124msignature\u001b[39m\u001b[38;5;124m\"\u001b[39m, \u001b[38;5;124m\"\u001b[39m\u001b[38;5;124mnew_signature\u001b[39m\u001b[38;5;124m\"\u001b[39m, \u001b[38;5;124m\"\u001b[39m\u001b[38;5;124mconfig\u001b[39m\u001b[38;5;124m\"\u001b[39m, \u001b[38;5;124m\"\u001b[39m\u001b[38;5;124mlm\u001b[39m\u001b[38;5;124m\"\u001b[39m, \u001b[38;5;124m\"\u001b[39m\u001b[38;5;124mpast_outputs\u001b[39m\u001b[38;5;124m\"\u001b[39m]:\n",
      "File \u001b[1;32md:\\AnacondaEnPs\\envs\\OntologyConstruction\\Lib\\site-packages\\dspy\\utils\\callback.py:202\u001b[0m, in \u001b[0;36mwith_callbacks.<locals>.wrapper\u001b[1;34m(instance, *args, **kwargs)\u001b[0m\n\u001b[0;32m    200\u001b[0m \u001b[38;5;66;03m# If no callbacks are provided, just call the function\u001b[39;00m\n\u001b[0;32m    201\u001b[0m \u001b[38;5;28;01mif\u001b[39;00m \u001b[38;5;129;01mnot\u001b[39;00m callbacks:\n\u001b[1;32m--> 202\u001b[0m     \u001b[38;5;28;01mreturn\u001b[39;00m \u001b[43mfn\u001b[49m\u001b[43m(\u001b[49m\u001b[43minstance\u001b[49m\u001b[43m,\u001b[49m\u001b[43m \u001b[49m\u001b[38;5;241;43m*\u001b[39;49m\u001b[43margs\u001b[49m\u001b[43m,\u001b[49m\u001b[43m \u001b[49m\u001b[38;5;241;43m*\u001b[39;49m\u001b[38;5;241;43m*\u001b[39;49m\u001b[43mkwargs\u001b[49m\u001b[43m)\u001b[49m\n\u001b[0;32m    204\u001b[0m \u001b[38;5;66;03m# Generate call ID as the unique identifier for the call, this is useful for instrumentation.\u001b[39;00m\n\u001b[0;32m    205\u001b[0m call_id \u001b[38;5;241m=\u001b[39m uuid\u001b[38;5;241m.\u001b[39muuid4()\u001b[38;5;241m.\u001b[39mhex\n",
      "File \u001b[1;32md:\\AnacondaEnPs\\envs\\OntologyConstruction\\Lib\\site-packages\\dspy\\predict\\predict.py:154\u001b[0m, in \u001b[0;36mPredict.__call__\u001b[1;34m(self, **kwargs)\u001b[0m\n\u001b[0;32m    152\u001b[0m \u001b[38;5;129m@with_callbacks\u001b[39m\n\u001b[0;32m    153\u001b[0m \u001b[38;5;28;01mdef\u001b[39;00m \u001b[38;5;21m__call__\u001b[39m(\u001b[38;5;28mself\u001b[39m, \u001b[38;5;241m*\u001b[39m\u001b[38;5;241m*\u001b[39mkwargs):\n\u001b[1;32m--> 154\u001b[0m     \u001b[38;5;28;01mreturn\u001b[39;00m \u001b[38;5;28;43mself\u001b[39;49m\u001b[38;5;241;43m.\u001b[39;49m\u001b[43mforward\u001b[49m\u001b[43m(\u001b[49m\u001b[38;5;241;43m*\u001b[39;49m\u001b[38;5;241;43m*\u001b[39;49m\u001b[43mkwargs\u001b[49m\u001b[43m)\u001b[49m\n",
      "File \u001b[1;32md:\\AnacondaEnPs\\envs\\OntologyConstruction\\Lib\\site-packages\\dspy\\predict\\predict.py:188\u001b[0m, in \u001b[0;36mPredict.forward\u001b[1;34m(self, **kwargs)\u001b[0m\n\u001b[0;32m    185\u001b[0m \u001b[38;5;28;01mimport\u001b[39;00m \u001b[38;5;21;01mdspy\u001b[39;00m\n\u001b[0;32m    187\u001b[0m \u001b[38;5;28;01mif\u001b[39;00m \u001b[38;5;28misinstance\u001b[39m(lm, dspy\u001b[38;5;241m.\u001b[39mLM):\n\u001b[1;32m--> 188\u001b[0m     completions \u001b[38;5;241m=\u001b[39m \u001b[43mv2_5_generate\u001b[49m\u001b[43m(\u001b[49m\u001b[43mlm\u001b[49m\u001b[43m,\u001b[49m\u001b[43m \u001b[49m\u001b[43mconfig\u001b[49m\u001b[43m,\u001b[49m\u001b[43m \u001b[49m\u001b[43msignature\u001b[49m\u001b[43m,\u001b[49m\u001b[43m \u001b[49m\u001b[43mdemos\u001b[49m\u001b[43m,\u001b[49m\u001b[43m \u001b[49m\u001b[43mkwargs\u001b[49m\u001b[43m,\u001b[49m\u001b[43m \u001b[49m\u001b[43m_parse_values\u001b[49m\u001b[38;5;241;43m=\u001b[39;49m\u001b[38;5;28;43mself\u001b[39;49m\u001b[38;5;241;43m.\u001b[39;49m\u001b[43m_parse_values\u001b[49m\u001b[43m)\u001b[49m\n\u001b[0;32m    189\u001b[0m \u001b[38;5;28;01melse\u001b[39;00m:\n\u001b[0;32m    190\u001b[0m     warn_once(\n\u001b[0;32m    191\u001b[0m         \u001b[38;5;124m\"\u001b[39m\u001b[38;5;130;01m\\t\u001b[39;00m\u001b[38;5;124m*** In DSPy 2.5, all LM clients except `dspy.LM` are deprecated, \u001b[39m\u001b[38;5;124m\"\u001b[39m\n\u001b[0;32m    192\u001b[0m         \u001b[38;5;124m\"\u001b[39m\u001b[38;5;124munderperform, and are about to be deleted. ***\u001b[39m\u001b[38;5;130;01m\\n\u001b[39;00m\u001b[38;5;124m\"\u001b[39m\n\u001b[1;32m   (...)\u001b[0m\n\u001b[0;32m    197\u001b[0m         \u001b[38;5;124m\"\u001b[39m\u001b[38;5;124m \u001b[39m\u001b[38;5;130;01m\\t\u001b[39;00m\u001b[38;5;130;01m\\t\u001b[39;00m\u001b[38;5;124mhttps://github.com/stanfordnlp/dspy/blob/main/examples/migration.ipynb\u001b[39m\u001b[38;5;124m\"\u001b[39m\n\u001b[0;32m    198\u001b[0m     )\n",
      "File \u001b[1;32md:\\AnacondaEnPs\\envs\\OntologyConstruction\\Lib\\site-packages\\dspy\\predict\\predict.py:295\u001b[0m, in \u001b[0;36mv2_5_generate\u001b[1;34m(lm, lm_kwargs, signature, demos, inputs, _parse_values)\u001b[0m\n\u001b[0;32m    291\u001b[0m \u001b[38;5;28;01mimport\u001b[39;00m \u001b[38;5;21;01mdspy\u001b[39;00m\n\u001b[0;32m    293\u001b[0m adapter \u001b[38;5;241m=\u001b[39m dspy\u001b[38;5;241m.\u001b[39msettings\u001b[38;5;241m.\u001b[39madapter \u001b[38;5;129;01mor\u001b[39;00m dspy\u001b[38;5;241m.\u001b[39mChatAdapter()\n\u001b[1;32m--> 295\u001b[0m \u001b[38;5;28;01mreturn\u001b[39;00m \u001b[43madapter\u001b[49m\u001b[43m(\u001b[49m\n\u001b[0;32m    296\u001b[0m \u001b[43m    \u001b[49m\u001b[43mlm\u001b[49m\u001b[43m,\u001b[49m\u001b[43m \u001b[49m\u001b[43mlm_kwargs\u001b[49m\u001b[38;5;241;43m=\u001b[39;49m\u001b[43mlm_kwargs\u001b[49m\u001b[43m,\u001b[49m\u001b[43m \u001b[49m\u001b[43msignature\u001b[49m\u001b[38;5;241;43m=\u001b[39;49m\u001b[43msignature\u001b[49m\u001b[43m,\u001b[49m\u001b[43m \u001b[49m\u001b[43mdemos\u001b[49m\u001b[38;5;241;43m=\u001b[39;49m\u001b[43mdemos\u001b[49m\u001b[43m,\u001b[49m\u001b[43m \u001b[49m\u001b[43minputs\u001b[49m\u001b[38;5;241;43m=\u001b[39;49m\u001b[43minputs\u001b[49m\u001b[43m,\u001b[49m\u001b[43m \u001b[49m\u001b[43m_parse_values\u001b[49m\u001b[38;5;241;43m=\u001b[39;49m\u001b[43m_parse_values\u001b[49m\n\u001b[0;32m    297\u001b[0m \u001b[43m\u001b[49m\u001b[43m)\u001b[49m\n",
      "File \u001b[1;32md:\\AnacondaEnPs\\envs\\OntologyConstruction\\Lib\\site-packages\\dspy\\adapters\\base.py:20\u001b[0m, in \u001b[0;36mAdapter.__call__\u001b[1;34m(self, lm, lm_kwargs, signature, demos, inputs, _parse_values)\u001b[0m\n\u001b[0;32m     17\u001b[0m inputs_ \u001b[38;5;241m=\u001b[39m \u001b[38;5;28mself\u001b[39m\u001b[38;5;241m.\u001b[39mformat(signature, demos, inputs)\n\u001b[0;32m     18\u001b[0m inputs_ \u001b[38;5;241m=\u001b[39m \u001b[38;5;28mdict\u001b[39m(prompt\u001b[38;5;241m=\u001b[39minputs_) \u001b[38;5;28;01mif\u001b[39;00m \u001b[38;5;28misinstance\u001b[39m(inputs_, \u001b[38;5;28mstr\u001b[39m) \u001b[38;5;28;01melse\u001b[39;00m \u001b[38;5;28mdict\u001b[39m(messages\u001b[38;5;241m=\u001b[39minputs_)\n\u001b[1;32m---> 20\u001b[0m outputs \u001b[38;5;241m=\u001b[39m \u001b[43mlm\u001b[49m\u001b[43m(\u001b[49m\u001b[38;5;241;43m*\u001b[39;49m\u001b[38;5;241;43m*\u001b[39;49m\u001b[43minputs_\u001b[49m\u001b[43m,\u001b[49m\u001b[43m \u001b[49m\u001b[38;5;241;43m*\u001b[39;49m\u001b[38;5;241;43m*\u001b[39;49m\u001b[43mlm_kwargs\u001b[49m\u001b[43m)\u001b[49m\n\u001b[0;32m     21\u001b[0m values \u001b[38;5;241m=\u001b[39m []\n\u001b[0;32m     23\u001b[0m \u001b[38;5;28;01mtry\u001b[39;00m:\n",
      "File \u001b[1;32md:\\AnacondaEnPs\\envs\\OntologyConstruction\\Lib\\site-packages\\dspy\\utils\\callback.py:202\u001b[0m, in \u001b[0;36mwith_callbacks.<locals>.wrapper\u001b[1;34m(instance, *args, **kwargs)\u001b[0m\n\u001b[0;32m    200\u001b[0m \u001b[38;5;66;03m# If no callbacks are provided, just call the function\u001b[39;00m\n\u001b[0;32m    201\u001b[0m \u001b[38;5;28;01mif\u001b[39;00m \u001b[38;5;129;01mnot\u001b[39;00m callbacks:\n\u001b[1;32m--> 202\u001b[0m     \u001b[38;5;28;01mreturn\u001b[39;00m \u001b[43mfn\u001b[49m\u001b[43m(\u001b[49m\u001b[43minstance\u001b[49m\u001b[43m,\u001b[49m\u001b[43m \u001b[49m\u001b[38;5;241;43m*\u001b[39;49m\u001b[43margs\u001b[49m\u001b[43m,\u001b[49m\u001b[43m \u001b[49m\u001b[38;5;241;43m*\u001b[39;49m\u001b[38;5;241;43m*\u001b[39;49m\u001b[43mkwargs\u001b[49m\u001b[43m)\u001b[49m\n\u001b[0;32m    204\u001b[0m \u001b[38;5;66;03m# Generate call ID as the unique identifier for the call, this is useful for instrumentation.\u001b[39;00m\n\u001b[0;32m    205\u001b[0m call_id \u001b[38;5;241m=\u001b[39m uuid\u001b[38;5;241m.\u001b[39muuid4()\u001b[38;5;241m.\u001b[39mhex\n",
      "File \u001b[1;32md:\\AnacondaEnPs\\envs\\OntologyConstruction\\Lib\\site-packages\\dspy\\clients\\lm.py:94\u001b[0m, in \u001b[0;36mLM.__call__\u001b[1;34m(self, prompt, messages, **kwargs)\u001b[0m\n\u001b[0;32m     91\u001b[0m \u001b[38;5;28;01melse\u001b[39;00m:\n\u001b[0;32m     92\u001b[0m     completion \u001b[38;5;241m=\u001b[39m cached_litellm_text_completion \u001b[38;5;28;01mif\u001b[39;00m cache \u001b[38;5;28;01melse\u001b[39;00m litellm_text_completion\n\u001b[1;32m---> 94\u001b[0m response \u001b[38;5;241m=\u001b[39m \u001b[43mcompletion\u001b[49m\u001b[43m(\u001b[49m\n\u001b[0;32m     95\u001b[0m \u001b[43m    \u001b[49m\u001b[43mrequest\u001b[49m\u001b[38;5;241;43m=\u001b[39;49m\u001b[43mujson\u001b[49m\u001b[38;5;241;43m.\u001b[39;49m\u001b[43mdumps\u001b[49m\u001b[43m(\u001b[49m\u001b[38;5;28;43mdict\u001b[39;49m\u001b[43m(\u001b[49m\u001b[43mmodel\u001b[49m\u001b[38;5;241;43m=\u001b[39;49m\u001b[38;5;28;43mself\u001b[39;49m\u001b[38;5;241;43m.\u001b[39;49m\u001b[43mmodel\u001b[49m\u001b[43m,\u001b[49m\u001b[43m \u001b[49m\u001b[43mmessages\u001b[49m\u001b[38;5;241;43m=\u001b[39;49m\u001b[43mmessages\u001b[49m\u001b[43m,\u001b[49m\u001b[43m \u001b[49m\u001b[38;5;241;43m*\u001b[39;49m\u001b[38;5;241;43m*\u001b[39;49m\u001b[43mkwargs\u001b[49m\u001b[43m)\u001b[49m\u001b[43m)\u001b[49m\u001b[43m,\u001b[49m\n\u001b[0;32m     96\u001b[0m \u001b[43m    \u001b[49m\u001b[43mnum_retries\u001b[49m\u001b[38;5;241;43m=\u001b[39;49m\u001b[38;5;28;43mself\u001b[39;49m\u001b[38;5;241;43m.\u001b[39;49m\u001b[43mnum_retries\u001b[49m\u001b[43m,\u001b[49m\n\u001b[0;32m     97\u001b[0m \u001b[43m\u001b[49m\u001b[43m)\u001b[49m\n\u001b[0;32m     98\u001b[0m outputs \u001b[38;5;241m=\u001b[39m [c\u001b[38;5;241m.\u001b[39mmessage\u001b[38;5;241m.\u001b[39mcontent \u001b[38;5;28;01mif\u001b[39;00m \u001b[38;5;28mhasattr\u001b[39m(c, \u001b[38;5;124m\"\u001b[39m\u001b[38;5;124mmessage\u001b[39m\u001b[38;5;124m\"\u001b[39m) \u001b[38;5;28;01melse\u001b[39;00m c[\u001b[38;5;124m\"\u001b[39m\u001b[38;5;124mtext\u001b[39m\u001b[38;5;124m\"\u001b[39m] \u001b[38;5;28;01mfor\u001b[39;00m c \u001b[38;5;129;01min\u001b[39;00m response[\u001b[38;5;124m\"\u001b[39m\u001b[38;5;124mchoices\u001b[39m\u001b[38;5;124m\"\u001b[39m]]\n\u001b[0;32m    100\u001b[0m \u001b[38;5;66;03m# Logging, with removed api key & where `cost` is None on cache hit.\u001b[39;00m\n",
      "File \u001b[1;32md:\\AnacondaEnPs\\envs\\OntologyConstruction\\Lib\\site-packages\\dspy\\clients\\lm.py:217\u001b[0m, in \u001b[0;36mcached_litellm_completion\u001b[1;34m(request, num_retries)\u001b[0m\n\u001b[0;32m    215\u001b[0m \u001b[38;5;129m@functools\u001b[39m\u001b[38;5;241m.\u001b[39mlru_cache(maxsize\u001b[38;5;241m=\u001b[39m\u001b[38;5;28;01mNone\u001b[39;00m)\n\u001b[0;32m    216\u001b[0m \u001b[38;5;28;01mdef\u001b[39;00m \u001b[38;5;21mcached_litellm_completion\u001b[39m(request, num_retries: \u001b[38;5;28mint\u001b[39m):\n\u001b[1;32m--> 217\u001b[0m     \u001b[38;5;28;01mreturn\u001b[39;00m \u001b[43mlitellm_completion\u001b[49m\u001b[43m(\u001b[49m\n\u001b[0;32m    218\u001b[0m \u001b[43m        \u001b[49m\u001b[43mrequest\u001b[49m\u001b[43m,\u001b[49m\n\u001b[0;32m    219\u001b[0m \u001b[43m        \u001b[49m\u001b[43mcache\u001b[49m\u001b[38;5;241;43m=\u001b[39;49m\u001b[43m{\u001b[49m\u001b[38;5;124;43m\"\u001b[39;49m\u001b[38;5;124;43mno-cache\u001b[39;49m\u001b[38;5;124;43m\"\u001b[39;49m\u001b[43m:\u001b[49m\u001b[43m \u001b[49m\u001b[38;5;28;43;01mFalse\u001b[39;49;00m\u001b[43m,\u001b[49m\u001b[43m \u001b[49m\u001b[38;5;124;43m\"\u001b[39;49m\u001b[38;5;124;43mno-store\u001b[39;49m\u001b[38;5;124;43m\"\u001b[39;49m\u001b[43m:\u001b[49m\u001b[43m \u001b[49m\u001b[38;5;28;43;01mFalse\u001b[39;49;00m\u001b[43m}\u001b[49m\u001b[43m,\u001b[49m\n\u001b[0;32m    220\u001b[0m \u001b[43m        \u001b[49m\u001b[43mnum_retries\u001b[49m\u001b[38;5;241;43m=\u001b[39;49m\u001b[43mnum_retries\u001b[49m\u001b[43m,\u001b[49m\n\u001b[0;32m    221\u001b[0m \u001b[43m    \u001b[49m\u001b[43m)\u001b[49m\n",
      "File \u001b[1;32md:\\AnacondaEnPs\\envs\\OntologyConstruction\\Lib\\site-packages\\dspy\\clients\\lm.py:226\u001b[0m, in \u001b[0;36mlitellm_completion\u001b[1;34m(request, num_retries, cache)\u001b[0m\n\u001b[0;32m    224\u001b[0m \u001b[38;5;28;01mdef\u001b[39;00m \u001b[38;5;21mlitellm_completion\u001b[39m(request, num_retries: \u001b[38;5;28mint\u001b[39m, cache\u001b[38;5;241m=\u001b[39m{\u001b[38;5;124m\"\u001b[39m\u001b[38;5;124mno-cache\u001b[39m\u001b[38;5;124m\"\u001b[39m: \u001b[38;5;28;01mTrue\u001b[39;00m, \u001b[38;5;124m\"\u001b[39m\u001b[38;5;124mno-store\u001b[39m\u001b[38;5;124m\"\u001b[39m: \u001b[38;5;28;01mTrue\u001b[39;00m}):\n\u001b[0;32m    225\u001b[0m     kwargs \u001b[38;5;241m=\u001b[39m ujson\u001b[38;5;241m.\u001b[39mloads(request)\n\u001b[1;32m--> 226\u001b[0m     \u001b[38;5;28;01mreturn\u001b[39;00m \u001b[43mlitellm\u001b[49m\u001b[38;5;241;43m.\u001b[39;49m\u001b[43mcompletion\u001b[49m\u001b[43m(\u001b[49m\n\u001b[0;32m    227\u001b[0m \u001b[43m        \u001b[49m\u001b[43mnum_retries\u001b[49m\u001b[38;5;241;43m=\u001b[39;49m\u001b[43mnum_retries\u001b[49m\u001b[43m,\u001b[49m\n\u001b[0;32m    228\u001b[0m \u001b[43m        \u001b[49m\u001b[43mcache\u001b[49m\u001b[38;5;241;43m=\u001b[39;49m\u001b[43mcache\u001b[49m\u001b[43m,\u001b[49m\n\u001b[0;32m    229\u001b[0m \u001b[43m        \u001b[49m\u001b[38;5;241;43m*\u001b[39;49m\u001b[38;5;241;43m*\u001b[39;49m\u001b[43mkwargs\u001b[49m\u001b[43m,\u001b[49m\n\u001b[0;32m    230\u001b[0m \u001b[43m    \u001b[49m\u001b[43m)\u001b[49m\n",
      "File \u001b[1;32md:\\AnacondaEnPs\\envs\\OntologyConstruction\\Lib\\site-packages\\litellm\\utils.py:903\u001b[0m, in \u001b[0;36mclient.<locals>.wrapper\u001b[1;34m(*args, **kwargs)\u001b[0m\n\u001b[0;32m    901\u001b[0m         print_verbose(\u001b[38;5;124mf\u001b[39m\u001b[38;5;124m\"\u001b[39m\u001b[38;5;124mError while checking max token limit: \u001b[39m\u001b[38;5;132;01m{\u001b[39;00m\u001b[38;5;28mstr\u001b[39m(e)\u001b[38;5;132;01m}\u001b[39;00m\u001b[38;5;124m\"\u001b[39m)\n\u001b[0;32m    902\u001b[0m \u001b[38;5;66;03m# MODEL CALL\u001b[39;00m\n\u001b[1;32m--> 903\u001b[0m result \u001b[38;5;241m=\u001b[39m \u001b[43moriginal_function\u001b[49m\u001b[43m(\u001b[49m\u001b[38;5;241;43m*\u001b[39;49m\u001b[43margs\u001b[49m\u001b[43m,\u001b[49m\u001b[43m \u001b[49m\u001b[38;5;241;43m*\u001b[39;49m\u001b[38;5;241;43m*\u001b[39;49m\u001b[43mkwargs\u001b[49m\u001b[43m)\u001b[49m\n\u001b[0;32m    904\u001b[0m end_time \u001b[38;5;241m=\u001b[39m datetime\u001b[38;5;241m.\u001b[39mdatetime\u001b[38;5;241m.\u001b[39mnow()\n\u001b[0;32m    905\u001b[0m \u001b[38;5;28;01mif\u001b[39;00m \u001b[38;5;124m\"\u001b[39m\u001b[38;5;124mstream\u001b[39m\u001b[38;5;124m\"\u001b[39m \u001b[38;5;129;01min\u001b[39;00m kwargs \u001b[38;5;129;01mand\u001b[39;00m kwargs[\u001b[38;5;124m\"\u001b[39m\u001b[38;5;124mstream\u001b[39m\u001b[38;5;124m\"\u001b[39m] \u001b[38;5;129;01mis\u001b[39;00m \u001b[38;5;28;01mTrue\u001b[39;00m:\n",
      "File \u001b[1;32md:\\AnacondaEnPs\\envs\\OntologyConstruction\\Lib\\site-packages\\litellm\\main.py:1570\u001b[0m, in \u001b[0;36mcompletion\u001b[1;34m(model, messages, timeout, temperature, top_p, n, stream, stream_options, stop, max_completion_tokens, max_tokens, modalities, audio, presence_penalty, frequency_penalty, logit_bias, user, response_format, seed, tools, tool_choice, logprobs, top_logprobs, parallel_tool_calls, deployment_id, extra_headers, functions, function_call, base_url, api_version, api_key, model_list, **kwargs)\u001b[0m\n\u001b[0;32m   1550\u001b[0m         response \u001b[38;5;241m=\u001b[39m openai_o1_chat_completions\u001b[38;5;241m.\u001b[39mcompletion(\n\u001b[0;32m   1551\u001b[0m             model\u001b[38;5;241m=\u001b[39mmodel,\n\u001b[0;32m   1552\u001b[0m             messages\u001b[38;5;241m=\u001b[39mmessages,\n\u001b[1;32m   (...)\u001b[0m\n\u001b[0;32m   1567\u001b[0m             custom_llm_provider\u001b[38;5;241m=\u001b[39mcustom_llm_provider,\n\u001b[0;32m   1568\u001b[0m         )\n\u001b[0;32m   1569\u001b[0m     \u001b[38;5;28;01melse\u001b[39;00m:\n\u001b[1;32m-> 1570\u001b[0m         response \u001b[38;5;241m=\u001b[39m \u001b[43mopenai_chat_completions\u001b[49m\u001b[38;5;241;43m.\u001b[39;49m\u001b[43mcompletion\u001b[49m\u001b[43m(\u001b[49m\n\u001b[0;32m   1571\u001b[0m \u001b[43m            \u001b[49m\u001b[43mmodel\u001b[49m\u001b[38;5;241;43m=\u001b[39;49m\u001b[43mmodel\u001b[49m\u001b[43m,\u001b[49m\n\u001b[0;32m   1572\u001b[0m \u001b[43m            \u001b[49m\u001b[43mmessages\u001b[49m\u001b[38;5;241;43m=\u001b[39;49m\u001b[43mmessages\u001b[49m\u001b[43m,\u001b[49m\n\u001b[0;32m   1573\u001b[0m \u001b[43m            \u001b[49m\u001b[43mheaders\u001b[49m\u001b[38;5;241;43m=\u001b[39;49m\u001b[43mheaders\u001b[49m\u001b[43m,\u001b[49m\n\u001b[0;32m   1574\u001b[0m \u001b[43m            \u001b[49m\u001b[43mmodel_response\u001b[49m\u001b[38;5;241;43m=\u001b[39;49m\u001b[43mmodel_response\u001b[49m\u001b[43m,\u001b[49m\n\u001b[0;32m   1575\u001b[0m \u001b[43m            \u001b[49m\u001b[43mprint_verbose\u001b[49m\u001b[38;5;241;43m=\u001b[39;49m\u001b[43mprint_verbose\u001b[49m\u001b[43m,\u001b[49m\n\u001b[0;32m   1576\u001b[0m \u001b[43m            \u001b[49m\u001b[43mapi_key\u001b[49m\u001b[38;5;241;43m=\u001b[39;49m\u001b[43mapi_key\u001b[49m\u001b[43m,\u001b[49m\n\u001b[0;32m   1577\u001b[0m \u001b[43m            \u001b[49m\u001b[43mapi_base\u001b[49m\u001b[38;5;241;43m=\u001b[39;49m\u001b[43mapi_base\u001b[49m\u001b[43m,\u001b[49m\n\u001b[0;32m   1578\u001b[0m \u001b[43m            \u001b[49m\u001b[43macompletion\u001b[49m\u001b[38;5;241;43m=\u001b[39;49m\u001b[43macompletion\u001b[49m\u001b[43m,\u001b[49m\n\u001b[0;32m   1579\u001b[0m \u001b[43m            \u001b[49m\u001b[43mlogging_obj\u001b[49m\u001b[38;5;241;43m=\u001b[39;49m\u001b[43mlogging\u001b[49m\u001b[43m,\u001b[49m\n\u001b[0;32m   1580\u001b[0m \u001b[43m            \u001b[49m\u001b[43moptional_params\u001b[49m\u001b[38;5;241;43m=\u001b[39;49m\u001b[43moptional_params\u001b[49m\u001b[43m,\u001b[49m\n\u001b[0;32m   1581\u001b[0m \u001b[43m            \u001b[49m\u001b[43mlitellm_params\u001b[49m\u001b[38;5;241;43m=\u001b[39;49m\u001b[43mlitellm_params\u001b[49m\u001b[43m,\u001b[49m\n\u001b[0;32m   1582\u001b[0m \u001b[43m            \u001b[49m\u001b[43mlogger_fn\u001b[49m\u001b[38;5;241;43m=\u001b[39;49m\u001b[43mlogger_fn\u001b[49m\u001b[43m,\u001b[49m\n\u001b[0;32m   1583\u001b[0m \u001b[43m            \u001b[49m\u001b[43mtimeout\u001b[49m\u001b[38;5;241;43m=\u001b[39;49m\u001b[43mtimeout\u001b[49m\u001b[43m,\u001b[49m\u001b[43m  \u001b[49m\u001b[38;5;66;43;03m# type: ignore\u001b[39;49;00m\n\u001b[0;32m   1584\u001b[0m \u001b[43m            \u001b[49m\u001b[43mcustom_prompt_dict\u001b[49m\u001b[38;5;241;43m=\u001b[39;49m\u001b[43mcustom_prompt_dict\u001b[49m\u001b[43m,\u001b[49m\n\u001b[0;32m   1585\u001b[0m \u001b[43m            \u001b[49m\u001b[43mclient\u001b[49m\u001b[38;5;241;43m=\u001b[39;49m\u001b[43mclient\u001b[49m\u001b[43m,\u001b[49m\u001b[43m  \u001b[49m\u001b[38;5;66;43;03m# pass AsyncOpenAI, OpenAI client\u001b[39;49;00m\n\u001b[0;32m   1586\u001b[0m \u001b[43m            \u001b[49m\u001b[43morganization\u001b[49m\u001b[38;5;241;43m=\u001b[39;49m\u001b[43morganization\u001b[49m\u001b[43m,\u001b[49m\n\u001b[0;32m   1587\u001b[0m \u001b[43m            \u001b[49m\u001b[43mcustom_llm_provider\u001b[49m\u001b[38;5;241;43m=\u001b[39;49m\u001b[43mcustom_llm_provider\u001b[49m\u001b[43m,\u001b[49m\n\u001b[0;32m   1588\u001b[0m \u001b[43m        \u001b[49m\u001b[43m)\u001b[49m\n\u001b[0;32m   1589\u001b[0m \u001b[38;5;28;01mexcept\u001b[39;00m \u001b[38;5;167;01mException\u001b[39;00m \u001b[38;5;28;01mas\u001b[39;00m e:\n\u001b[0;32m   1590\u001b[0m     \u001b[38;5;66;03m## LOGGING - log the original exception returned\u001b[39;00m\n\u001b[0;32m   1591\u001b[0m     logging\u001b[38;5;241m.\u001b[39mpost_call(\n\u001b[0;32m   1592\u001b[0m         \u001b[38;5;28minput\u001b[39m\u001b[38;5;241m=\u001b[39mmessages,\n\u001b[0;32m   1593\u001b[0m         api_key\u001b[38;5;241m=\u001b[39mapi_key,\n\u001b[0;32m   1594\u001b[0m         original_response\u001b[38;5;241m=\u001b[39m\u001b[38;5;28mstr\u001b[39m(e),\n\u001b[0;32m   1595\u001b[0m         additional_args\u001b[38;5;241m=\u001b[39m{\u001b[38;5;124m\"\u001b[39m\u001b[38;5;124mheaders\u001b[39m\u001b[38;5;124m\"\u001b[39m: headers},\n\u001b[0;32m   1596\u001b[0m     )\n",
      "File \u001b[1;32md:\\AnacondaEnPs\\envs\\OntologyConstruction\\Lib\\site-packages\\litellm\\llms\\OpenAI\\openai.py:790\u001b[0m, in \u001b[0;36mOpenAIChatCompletion.completion\u001b[1;34m(self, model_response, timeout, optional_params, logging_obj, model, messages, print_verbose, api_key, api_base, acompletion, litellm_params, logger_fn, headers, custom_prompt_dict, client, organization, custom_llm_provider, drop_params)\u001b[0m\n\u001b[0;32m    777\u001b[0m \u001b[38;5;66;03m## LOGGING\u001b[39;00m\n\u001b[0;32m    778\u001b[0m logging_obj\u001b[38;5;241m.\u001b[39mpre_call(\n\u001b[0;32m    779\u001b[0m     \u001b[38;5;28minput\u001b[39m\u001b[38;5;241m=\u001b[39mmessages,\n\u001b[0;32m    780\u001b[0m     api_key\u001b[38;5;241m=\u001b[39mopenai_client\u001b[38;5;241m.\u001b[39mapi_key,\n\u001b[1;32m   (...)\u001b[0m\n\u001b[0;32m    786\u001b[0m     },\n\u001b[0;32m    787\u001b[0m )\n\u001b[0;32m    789\u001b[0m headers, response \u001b[38;5;241m=\u001b[39m (\n\u001b[1;32m--> 790\u001b[0m     \u001b[38;5;28;43mself\u001b[39;49m\u001b[38;5;241;43m.\u001b[39;49m\u001b[43mmake_sync_openai_chat_completion_request\u001b[49m\u001b[43m(\u001b[49m\n\u001b[0;32m    791\u001b[0m \u001b[43m        \u001b[49m\u001b[43mopenai_client\u001b[49m\u001b[38;5;241;43m=\u001b[39;49m\u001b[43mopenai_client\u001b[49m\u001b[43m,\u001b[49m\n\u001b[0;32m    792\u001b[0m \u001b[43m        \u001b[49m\u001b[43mdata\u001b[49m\u001b[38;5;241;43m=\u001b[39;49m\u001b[43mdata\u001b[49m\u001b[43m,\u001b[49m\n\u001b[0;32m    793\u001b[0m \u001b[43m        \u001b[49m\u001b[43mtimeout\u001b[49m\u001b[38;5;241;43m=\u001b[39;49m\u001b[43mtimeout\u001b[49m\u001b[43m,\u001b[49m\n\u001b[0;32m    794\u001b[0m \u001b[43m    \u001b[49m\u001b[43m)\u001b[49m\n\u001b[0;32m    795\u001b[0m )\n\u001b[0;32m    797\u001b[0m logging_obj\u001b[38;5;241m.\u001b[39mmodel_call_details[\u001b[38;5;124m\"\u001b[39m\u001b[38;5;124mresponse_headers\u001b[39m\u001b[38;5;124m\"\u001b[39m] \u001b[38;5;241m=\u001b[39m headers\n\u001b[0;32m    798\u001b[0m stringified_response \u001b[38;5;241m=\u001b[39m response\u001b[38;5;241m.\u001b[39mmodel_dump()\n",
      "File \u001b[1;32md:\\AnacondaEnPs\\envs\\OntologyConstruction\\Lib\\site-packages\\litellm\\llms\\OpenAI\\openai.py:631\u001b[0m, in \u001b[0;36mOpenAIChatCompletion.make_sync_openai_chat_completion_request\u001b[1;34m(self, openai_client, data, timeout)\u001b[0m\n\u001b[0;32m    629\u001b[0m raw_response \u001b[38;5;241m=\u001b[39m \u001b[38;5;28;01mNone\u001b[39;00m\n\u001b[0;32m    630\u001b[0m \u001b[38;5;28;01mtry\u001b[39;00m:\n\u001b[1;32m--> 631\u001b[0m     raw_response \u001b[38;5;241m=\u001b[39m \u001b[43mopenai_client\u001b[49m\u001b[38;5;241;43m.\u001b[39;49m\u001b[43mchat\u001b[49m\u001b[38;5;241;43m.\u001b[39;49m\u001b[43mcompletions\u001b[49m\u001b[38;5;241;43m.\u001b[39;49m\u001b[43mwith_raw_response\u001b[49m\u001b[38;5;241;43m.\u001b[39;49m\u001b[43mcreate\u001b[49m\u001b[43m(\u001b[49m\n\u001b[0;32m    632\u001b[0m \u001b[43m        \u001b[49m\u001b[38;5;241;43m*\u001b[39;49m\u001b[38;5;241;43m*\u001b[39;49m\u001b[43mdata\u001b[49m\u001b[43m,\u001b[49m\u001b[43m \u001b[49m\u001b[43mtimeout\u001b[49m\u001b[38;5;241;43m=\u001b[39;49m\u001b[43mtimeout\u001b[49m\n\u001b[0;32m    633\u001b[0m \u001b[43m    \u001b[49m\u001b[43m)\u001b[49m\n\u001b[0;32m    635\u001b[0m     \u001b[38;5;28;01mif\u001b[39;00m \u001b[38;5;28mhasattr\u001b[39m(raw_response, \u001b[38;5;124m\"\u001b[39m\u001b[38;5;124mheaders\u001b[39m\u001b[38;5;124m\"\u001b[39m):\n\u001b[0;32m    636\u001b[0m         headers \u001b[38;5;241m=\u001b[39m \u001b[38;5;28mdict\u001b[39m(raw_response\u001b[38;5;241m.\u001b[39mheaders)\n",
      "File \u001b[1;32md:\\AnacondaEnPs\\envs\\OntologyConstruction\\Lib\\site-packages\\openai\\_legacy_response.py:356\u001b[0m, in \u001b[0;36mto_raw_response_wrapper.<locals>.wrapped\u001b[1;34m(*args, **kwargs)\u001b[0m\n\u001b[0;32m    352\u001b[0m extra_headers[RAW_RESPONSE_HEADER] \u001b[38;5;241m=\u001b[39m \u001b[38;5;124m\"\u001b[39m\u001b[38;5;124mtrue\u001b[39m\u001b[38;5;124m\"\u001b[39m\n\u001b[0;32m    354\u001b[0m kwargs[\u001b[38;5;124m\"\u001b[39m\u001b[38;5;124mextra_headers\u001b[39m\u001b[38;5;124m\"\u001b[39m] \u001b[38;5;241m=\u001b[39m extra_headers\n\u001b[1;32m--> 356\u001b[0m \u001b[38;5;28;01mreturn\u001b[39;00m cast(LegacyAPIResponse[R], \u001b[43mfunc\u001b[49m\u001b[43m(\u001b[49m\u001b[38;5;241;43m*\u001b[39;49m\u001b[43margs\u001b[49m\u001b[43m,\u001b[49m\u001b[43m \u001b[49m\u001b[38;5;241;43m*\u001b[39;49m\u001b[38;5;241;43m*\u001b[39;49m\u001b[43mkwargs\u001b[49m\u001b[43m)\u001b[49m)\n",
      "File \u001b[1;32md:\\AnacondaEnPs\\envs\\OntologyConstruction\\Lib\\site-packages\\openai\\_utils\\_utils.py:275\u001b[0m, in \u001b[0;36mrequired_args.<locals>.inner.<locals>.wrapper\u001b[1;34m(*args, **kwargs)\u001b[0m\n\u001b[0;32m    273\u001b[0m             msg \u001b[38;5;241m=\u001b[39m \u001b[38;5;124mf\u001b[39m\u001b[38;5;124m\"\u001b[39m\u001b[38;5;124mMissing required argument: \u001b[39m\u001b[38;5;132;01m{\u001b[39;00mquote(missing[\u001b[38;5;241m0\u001b[39m])\u001b[38;5;132;01m}\u001b[39;00m\u001b[38;5;124m\"\u001b[39m\n\u001b[0;32m    274\u001b[0m     \u001b[38;5;28;01mraise\u001b[39;00m \u001b[38;5;167;01mTypeError\u001b[39;00m(msg)\n\u001b[1;32m--> 275\u001b[0m \u001b[38;5;28;01mreturn\u001b[39;00m \u001b[43mfunc\u001b[49m\u001b[43m(\u001b[49m\u001b[38;5;241;43m*\u001b[39;49m\u001b[43margs\u001b[49m\u001b[43m,\u001b[49m\u001b[43m \u001b[49m\u001b[38;5;241;43m*\u001b[39;49m\u001b[38;5;241;43m*\u001b[39;49m\u001b[43mkwargs\u001b[49m\u001b[43m)\u001b[49m\n",
      "File \u001b[1;32md:\\AnacondaEnPs\\envs\\OntologyConstruction\\Lib\\site-packages\\openai\\resources\\chat\\completions.py:829\u001b[0m, in \u001b[0;36mCompletions.create\u001b[1;34m(self, messages, model, audio, frequency_penalty, function_call, functions, logit_bias, logprobs, max_completion_tokens, max_tokens, metadata, modalities, n, parallel_tool_calls, prediction, presence_penalty, response_format, seed, service_tier, stop, store, stream, stream_options, temperature, tool_choice, tools, top_logprobs, top_p, user, extra_headers, extra_query, extra_body, timeout)\u001b[0m\n\u001b[0;32m    788\u001b[0m \u001b[38;5;129m@required_args\u001b[39m([\u001b[38;5;124m\"\u001b[39m\u001b[38;5;124mmessages\u001b[39m\u001b[38;5;124m\"\u001b[39m, \u001b[38;5;124m\"\u001b[39m\u001b[38;5;124mmodel\u001b[39m\u001b[38;5;124m\"\u001b[39m], [\u001b[38;5;124m\"\u001b[39m\u001b[38;5;124mmessages\u001b[39m\u001b[38;5;124m\"\u001b[39m, \u001b[38;5;124m\"\u001b[39m\u001b[38;5;124mmodel\u001b[39m\u001b[38;5;124m\"\u001b[39m, \u001b[38;5;124m\"\u001b[39m\u001b[38;5;124mstream\u001b[39m\u001b[38;5;124m\"\u001b[39m])\n\u001b[0;32m    789\u001b[0m \u001b[38;5;28;01mdef\u001b[39;00m \u001b[38;5;21mcreate\u001b[39m(\n\u001b[0;32m    790\u001b[0m     \u001b[38;5;28mself\u001b[39m,\n\u001b[1;32m   (...)\u001b[0m\n\u001b[0;32m    826\u001b[0m     timeout: \u001b[38;5;28mfloat\u001b[39m \u001b[38;5;241m|\u001b[39m httpx\u001b[38;5;241m.\u001b[39mTimeout \u001b[38;5;241m|\u001b[39m \u001b[38;5;28;01mNone\u001b[39;00m \u001b[38;5;241m|\u001b[39m NotGiven \u001b[38;5;241m=\u001b[39m NOT_GIVEN,\n\u001b[0;32m    827\u001b[0m ) \u001b[38;5;241m-\u001b[39m\u001b[38;5;241m>\u001b[39m ChatCompletion \u001b[38;5;241m|\u001b[39m Stream[ChatCompletionChunk]:\n\u001b[0;32m    828\u001b[0m     validate_response_format(response_format)\n\u001b[1;32m--> 829\u001b[0m     \u001b[38;5;28;01mreturn\u001b[39;00m \u001b[38;5;28;43mself\u001b[39;49m\u001b[38;5;241;43m.\u001b[39;49m\u001b[43m_post\u001b[49m\u001b[43m(\u001b[49m\n\u001b[0;32m    830\u001b[0m \u001b[43m        \u001b[49m\u001b[38;5;124;43m\"\u001b[39;49m\u001b[38;5;124;43m/chat/completions\u001b[39;49m\u001b[38;5;124;43m\"\u001b[39;49m\u001b[43m,\u001b[49m\n\u001b[0;32m    831\u001b[0m \u001b[43m        \u001b[49m\u001b[43mbody\u001b[49m\u001b[38;5;241;43m=\u001b[39;49m\u001b[43mmaybe_transform\u001b[49m\u001b[43m(\u001b[49m\n\u001b[0;32m    832\u001b[0m \u001b[43m            \u001b[49m\u001b[43m{\u001b[49m\n\u001b[0;32m    833\u001b[0m \u001b[43m                \u001b[49m\u001b[38;5;124;43m\"\u001b[39;49m\u001b[38;5;124;43mmessages\u001b[39;49m\u001b[38;5;124;43m\"\u001b[39;49m\u001b[43m:\u001b[49m\u001b[43m \u001b[49m\u001b[43mmessages\u001b[49m\u001b[43m,\u001b[49m\n\u001b[0;32m    834\u001b[0m \u001b[43m                \u001b[49m\u001b[38;5;124;43m\"\u001b[39;49m\u001b[38;5;124;43mmodel\u001b[39;49m\u001b[38;5;124;43m\"\u001b[39;49m\u001b[43m:\u001b[49m\u001b[43m \u001b[49m\u001b[43mmodel\u001b[49m\u001b[43m,\u001b[49m\n\u001b[0;32m    835\u001b[0m \u001b[43m                \u001b[49m\u001b[38;5;124;43m\"\u001b[39;49m\u001b[38;5;124;43maudio\u001b[39;49m\u001b[38;5;124;43m\"\u001b[39;49m\u001b[43m:\u001b[49m\u001b[43m \u001b[49m\u001b[43maudio\u001b[49m\u001b[43m,\u001b[49m\n\u001b[0;32m    836\u001b[0m \u001b[43m                \u001b[49m\u001b[38;5;124;43m\"\u001b[39;49m\u001b[38;5;124;43mfrequency_penalty\u001b[39;49m\u001b[38;5;124;43m\"\u001b[39;49m\u001b[43m:\u001b[49m\u001b[43m \u001b[49m\u001b[43mfrequency_penalty\u001b[49m\u001b[43m,\u001b[49m\n\u001b[0;32m    837\u001b[0m \u001b[43m                \u001b[49m\u001b[38;5;124;43m\"\u001b[39;49m\u001b[38;5;124;43mfunction_call\u001b[39;49m\u001b[38;5;124;43m\"\u001b[39;49m\u001b[43m:\u001b[49m\u001b[43m \u001b[49m\u001b[43mfunction_call\u001b[49m\u001b[43m,\u001b[49m\n\u001b[0;32m    838\u001b[0m \u001b[43m                \u001b[49m\u001b[38;5;124;43m\"\u001b[39;49m\u001b[38;5;124;43mfunctions\u001b[39;49m\u001b[38;5;124;43m\"\u001b[39;49m\u001b[43m:\u001b[49m\u001b[43m \u001b[49m\u001b[43mfunctions\u001b[49m\u001b[43m,\u001b[49m\n\u001b[0;32m    839\u001b[0m \u001b[43m                \u001b[49m\u001b[38;5;124;43m\"\u001b[39;49m\u001b[38;5;124;43mlogit_bias\u001b[39;49m\u001b[38;5;124;43m\"\u001b[39;49m\u001b[43m:\u001b[49m\u001b[43m \u001b[49m\u001b[43mlogit_bias\u001b[49m\u001b[43m,\u001b[49m\n\u001b[0;32m    840\u001b[0m \u001b[43m                \u001b[49m\u001b[38;5;124;43m\"\u001b[39;49m\u001b[38;5;124;43mlogprobs\u001b[39;49m\u001b[38;5;124;43m\"\u001b[39;49m\u001b[43m:\u001b[49m\u001b[43m \u001b[49m\u001b[43mlogprobs\u001b[49m\u001b[43m,\u001b[49m\n\u001b[0;32m    841\u001b[0m \u001b[43m                \u001b[49m\u001b[38;5;124;43m\"\u001b[39;49m\u001b[38;5;124;43mmax_completion_tokens\u001b[39;49m\u001b[38;5;124;43m\"\u001b[39;49m\u001b[43m:\u001b[49m\u001b[43m \u001b[49m\u001b[43mmax_completion_tokens\u001b[49m\u001b[43m,\u001b[49m\n\u001b[0;32m    842\u001b[0m \u001b[43m                \u001b[49m\u001b[38;5;124;43m\"\u001b[39;49m\u001b[38;5;124;43mmax_tokens\u001b[39;49m\u001b[38;5;124;43m\"\u001b[39;49m\u001b[43m:\u001b[49m\u001b[43m \u001b[49m\u001b[43mmax_tokens\u001b[49m\u001b[43m,\u001b[49m\n\u001b[0;32m    843\u001b[0m \u001b[43m                \u001b[49m\u001b[38;5;124;43m\"\u001b[39;49m\u001b[38;5;124;43mmetadata\u001b[39;49m\u001b[38;5;124;43m\"\u001b[39;49m\u001b[43m:\u001b[49m\u001b[43m \u001b[49m\u001b[43mmetadata\u001b[49m\u001b[43m,\u001b[49m\n\u001b[0;32m    844\u001b[0m \u001b[43m                \u001b[49m\u001b[38;5;124;43m\"\u001b[39;49m\u001b[38;5;124;43mmodalities\u001b[39;49m\u001b[38;5;124;43m\"\u001b[39;49m\u001b[43m:\u001b[49m\u001b[43m \u001b[49m\u001b[43mmodalities\u001b[49m\u001b[43m,\u001b[49m\n\u001b[0;32m    845\u001b[0m \u001b[43m                \u001b[49m\u001b[38;5;124;43m\"\u001b[39;49m\u001b[38;5;124;43mn\u001b[39;49m\u001b[38;5;124;43m\"\u001b[39;49m\u001b[43m:\u001b[49m\u001b[43m \u001b[49m\u001b[43mn\u001b[49m\u001b[43m,\u001b[49m\n\u001b[0;32m    846\u001b[0m \u001b[43m                \u001b[49m\u001b[38;5;124;43m\"\u001b[39;49m\u001b[38;5;124;43mparallel_tool_calls\u001b[39;49m\u001b[38;5;124;43m\"\u001b[39;49m\u001b[43m:\u001b[49m\u001b[43m \u001b[49m\u001b[43mparallel_tool_calls\u001b[49m\u001b[43m,\u001b[49m\n\u001b[0;32m    847\u001b[0m \u001b[43m                \u001b[49m\u001b[38;5;124;43m\"\u001b[39;49m\u001b[38;5;124;43mprediction\u001b[39;49m\u001b[38;5;124;43m\"\u001b[39;49m\u001b[43m:\u001b[49m\u001b[43m \u001b[49m\u001b[43mprediction\u001b[49m\u001b[43m,\u001b[49m\n\u001b[0;32m    848\u001b[0m \u001b[43m                \u001b[49m\u001b[38;5;124;43m\"\u001b[39;49m\u001b[38;5;124;43mpresence_penalty\u001b[39;49m\u001b[38;5;124;43m\"\u001b[39;49m\u001b[43m:\u001b[49m\u001b[43m \u001b[49m\u001b[43mpresence_penalty\u001b[49m\u001b[43m,\u001b[49m\n\u001b[0;32m    849\u001b[0m \u001b[43m                \u001b[49m\u001b[38;5;124;43m\"\u001b[39;49m\u001b[38;5;124;43mresponse_format\u001b[39;49m\u001b[38;5;124;43m\"\u001b[39;49m\u001b[43m:\u001b[49m\u001b[43m \u001b[49m\u001b[43mresponse_format\u001b[49m\u001b[43m,\u001b[49m\n\u001b[0;32m    850\u001b[0m \u001b[43m                \u001b[49m\u001b[38;5;124;43m\"\u001b[39;49m\u001b[38;5;124;43mseed\u001b[39;49m\u001b[38;5;124;43m\"\u001b[39;49m\u001b[43m:\u001b[49m\u001b[43m \u001b[49m\u001b[43mseed\u001b[49m\u001b[43m,\u001b[49m\n\u001b[0;32m    851\u001b[0m \u001b[43m                \u001b[49m\u001b[38;5;124;43m\"\u001b[39;49m\u001b[38;5;124;43mservice_tier\u001b[39;49m\u001b[38;5;124;43m\"\u001b[39;49m\u001b[43m:\u001b[49m\u001b[43m \u001b[49m\u001b[43mservice_tier\u001b[49m\u001b[43m,\u001b[49m\n\u001b[0;32m    852\u001b[0m \u001b[43m                \u001b[49m\u001b[38;5;124;43m\"\u001b[39;49m\u001b[38;5;124;43mstop\u001b[39;49m\u001b[38;5;124;43m\"\u001b[39;49m\u001b[43m:\u001b[49m\u001b[43m \u001b[49m\u001b[43mstop\u001b[49m\u001b[43m,\u001b[49m\n\u001b[0;32m    853\u001b[0m \u001b[43m                \u001b[49m\u001b[38;5;124;43m\"\u001b[39;49m\u001b[38;5;124;43mstore\u001b[39;49m\u001b[38;5;124;43m\"\u001b[39;49m\u001b[43m:\u001b[49m\u001b[43m \u001b[49m\u001b[43mstore\u001b[49m\u001b[43m,\u001b[49m\n\u001b[0;32m    854\u001b[0m \u001b[43m                \u001b[49m\u001b[38;5;124;43m\"\u001b[39;49m\u001b[38;5;124;43mstream\u001b[39;49m\u001b[38;5;124;43m\"\u001b[39;49m\u001b[43m:\u001b[49m\u001b[43m \u001b[49m\u001b[43mstream\u001b[49m\u001b[43m,\u001b[49m\n\u001b[0;32m    855\u001b[0m \u001b[43m                \u001b[49m\u001b[38;5;124;43m\"\u001b[39;49m\u001b[38;5;124;43mstream_options\u001b[39;49m\u001b[38;5;124;43m\"\u001b[39;49m\u001b[43m:\u001b[49m\u001b[43m \u001b[49m\u001b[43mstream_options\u001b[49m\u001b[43m,\u001b[49m\n\u001b[0;32m    856\u001b[0m \u001b[43m                \u001b[49m\u001b[38;5;124;43m\"\u001b[39;49m\u001b[38;5;124;43mtemperature\u001b[39;49m\u001b[38;5;124;43m\"\u001b[39;49m\u001b[43m:\u001b[49m\u001b[43m \u001b[49m\u001b[43mtemperature\u001b[49m\u001b[43m,\u001b[49m\n\u001b[0;32m    857\u001b[0m \u001b[43m                \u001b[49m\u001b[38;5;124;43m\"\u001b[39;49m\u001b[38;5;124;43mtool_choice\u001b[39;49m\u001b[38;5;124;43m\"\u001b[39;49m\u001b[43m:\u001b[49m\u001b[43m \u001b[49m\u001b[43mtool_choice\u001b[49m\u001b[43m,\u001b[49m\n\u001b[0;32m    858\u001b[0m \u001b[43m                \u001b[49m\u001b[38;5;124;43m\"\u001b[39;49m\u001b[38;5;124;43mtools\u001b[39;49m\u001b[38;5;124;43m\"\u001b[39;49m\u001b[43m:\u001b[49m\u001b[43m \u001b[49m\u001b[43mtools\u001b[49m\u001b[43m,\u001b[49m\n\u001b[0;32m    859\u001b[0m \u001b[43m                \u001b[49m\u001b[38;5;124;43m\"\u001b[39;49m\u001b[38;5;124;43mtop_logprobs\u001b[39;49m\u001b[38;5;124;43m\"\u001b[39;49m\u001b[43m:\u001b[49m\u001b[43m \u001b[49m\u001b[43mtop_logprobs\u001b[49m\u001b[43m,\u001b[49m\n\u001b[0;32m    860\u001b[0m \u001b[43m                \u001b[49m\u001b[38;5;124;43m\"\u001b[39;49m\u001b[38;5;124;43mtop_p\u001b[39;49m\u001b[38;5;124;43m\"\u001b[39;49m\u001b[43m:\u001b[49m\u001b[43m \u001b[49m\u001b[43mtop_p\u001b[49m\u001b[43m,\u001b[49m\n\u001b[0;32m    861\u001b[0m \u001b[43m                \u001b[49m\u001b[38;5;124;43m\"\u001b[39;49m\u001b[38;5;124;43muser\u001b[39;49m\u001b[38;5;124;43m\"\u001b[39;49m\u001b[43m:\u001b[49m\u001b[43m \u001b[49m\u001b[43muser\u001b[49m\u001b[43m,\u001b[49m\n\u001b[0;32m    862\u001b[0m \u001b[43m            \u001b[49m\u001b[43m}\u001b[49m\u001b[43m,\u001b[49m\n\u001b[0;32m    863\u001b[0m \u001b[43m            \u001b[49m\u001b[43mcompletion_create_params\u001b[49m\u001b[38;5;241;43m.\u001b[39;49m\u001b[43mCompletionCreateParams\u001b[49m\u001b[43m,\u001b[49m\n\u001b[0;32m    864\u001b[0m \u001b[43m        \u001b[49m\u001b[43m)\u001b[49m\u001b[43m,\u001b[49m\n\u001b[0;32m    865\u001b[0m \u001b[43m        \u001b[49m\u001b[43moptions\u001b[49m\u001b[38;5;241;43m=\u001b[39;49m\u001b[43mmake_request_options\u001b[49m\u001b[43m(\u001b[49m\n\u001b[0;32m    866\u001b[0m \u001b[43m            \u001b[49m\u001b[43mextra_headers\u001b[49m\u001b[38;5;241;43m=\u001b[39;49m\u001b[43mextra_headers\u001b[49m\u001b[43m,\u001b[49m\u001b[43m \u001b[49m\u001b[43mextra_query\u001b[49m\u001b[38;5;241;43m=\u001b[39;49m\u001b[43mextra_query\u001b[49m\u001b[43m,\u001b[49m\u001b[43m \u001b[49m\u001b[43mextra_body\u001b[49m\u001b[38;5;241;43m=\u001b[39;49m\u001b[43mextra_body\u001b[49m\u001b[43m,\u001b[49m\u001b[43m \u001b[49m\u001b[43mtimeout\u001b[49m\u001b[38;5;241;43m=\u001b[39;49m\u001b[43mtimeout\u001b[49m\n\u001b[0;32m    867\u001b[0m \u001b[43m        \u001b[49m\u001b[43m)\u001b[49m\u001b[43m,\u001b[49m\n\u001b[0;32m    868\u001b[0m \u001b[43m        \u001b[49m\u001b[43mcast_to\u001b[49m\u001b[38;5;241;43m=\u001b[39;49m\u001b[43mChatCompletion\u001b[49m\u001b[43m,\u001b[49m\n\u001b[0;32m    869\u001b[0m \u001b[43m        \u001b[49m\u001b[43mstream\u001b[49m\u001b[38;5;241;43m=\u001b[39;49m\u001b[43mstream\u001b[49m\u001b[43m \u001b[49m\u001b[38;5;129;43;01mor\u001b[39;49;00m\u001b[43m \u001b[49m\u001b[38;5;28;43;01mFalse\u001b[39;49;00m\u001b[43m,\u001b[49m\n\u001b[0;32m    870\u001b[0m \u001b[43m        \u001b[49m\u001b[43mstream_cls\u001b[49m\u001b[38;5;241;43m=\u001b[39;49m\u001b[43mStream\u001b[49m\u001b[43m[\u001b[49m\u001b[43mChatCompletionChunk\u001b[49m\u001b[43m]\u001b[49m\u001b[43m,\u001b[49m\n\u001b[0;32m    871\u001b[0m \u001b[43m    \u001b[49m\u001b[43m)\u001b[49m\n",
      "File \u001b[1;32md:\\AnacondaEnPs\\envs\\OntologyConstruction\\Lib\\site-packages\\openai\\_base_client.py:1278\u001b[0m, in \u001b[0;36mSyncAPIClient.post\u001b[1;34m(self, path, cast_to, body, options, files, stream, stream_cls)\u001b[0m\n\u001b[0;32m   1264\u001b[0m \u001b[38;5;28;01mdef\u001b[39;00m \u001b[38;5;21mpost\u001b[39m(\n\u001b[0;32m   1265\u001b[0m     \u001b[38;5;28mself\u001b[39m,\n\u001b[0;32m   1266\u001b[0m     path: \u001b[38;5;28mstr\u001b[39m,\n\u001b[1;32m   (...)\u001b[0m\n\u001b[0;32m   1273\u001b[0m     stream_cls: \u001b[38;5;28mtype\u001b[39m[_StreamT] \u001b[38;5;241m|\u001b[39m \u001b[38;5;28;01mNone\u001b[39;00m \u001b[38;5;241m=\u001b[39m \u001b[38;5;28;01mNone\u001b[39;00m,\n\u001b[0;32m   1274\u001b[0m ) \u001b[38;5;241m-\u001b[39m\u001b[38;5;241m>\u001b[39m ResponseT \u001b[38;5;241m|\u001b[39m _StreamT:\n\u001b[0;32m   1275\u001b[0m     opts \u001b[38;5;241m=\u001b[39m FinalRequestOptions\u001b[38;5;241m.\u001b[39mconstruct(\n\u001b[0;32m   1276\u001b[0m         method\u001b[38;5;241m=\u001b[39m\u001b[38;5;124m\"\u001b[39m\u001b[38;5;124mpost\u001b[39m\u001b[38;5;124m\"\u001b[39m, url\u001b[38;5;241m=\u001b[39mpath, json_data\u001b[38;5;241m=\u001b[39mbody, files\u001b[38;5;241m=\u001b[39mto_httpx_files(files), \u001b[38;5;241m*\u001b[39m\u001b[38;5;241m*\u001b[39moptions\n\u001b[0;32m   1277\u001b[0m     )\n\u001b[1;32m-> 1278\u001b[0m     \u001b[38;5;28;01mreturn\u001b[39;00m cast(ResponseT, \u001b[38;5;28;43mself\u001b[39;49m\u001b[38;5;241;43m.\u001b[39;49m\u001b[43mrequest\u001b[49m\u001b[43m(\u001b[49m\u001b[43mcast_to\u001b[49m\u001b[43m,\u001b[49m\u001b[43m \u001b[49m\u001b[43mopts\u001b[49m\u001b[43m,\u001b[49m\u001b[43m \u001b[49m\u001b[43mstream\u001b[49m\u001b[38;5;241;43m=\u001b[39;49m\u001b[43mstream\u001b[49m\u001b[43m,\u001b[49m\u001b[43m \u001b[49m\u001b[43mstream_cls\u001b[49m\u001b[38;5;241;43m=\u001b[39;49m\u001b[43mstream_cls\u001b[49m\u001b[43m)\u001b[49m)\n",
      "File \u001b[1;32md:\\AnacondaEnPs\\envs\\OntologyConstruction\\Lib\\site-packages\\openai\\_base_client.py:955\u001b[0m, in \u001b[0;36mSyncAPIClient.request\u001b[1;34m(self, cast_to, options, remaining_retries, stream, stream_cls)\u001b[0m\n\u001b[0;32m    952\u001b[0m \u001b[38;5;28;01melse\u001b[39;00m:\n\u001b[0;32m    953\u001b[0m     retries_taken \u001b[38;5;241m=\u001b[39m \u001b[38;5;241m0\u001b[39m\n\u001b[1;32m--> 955\u001b[0m \u001b[38;5;28;01mreturn\u001b[39;00m \u001b[38;5;28;43mself\u001b[39;49m\u001b[38;5;241;43m.\u001b[39;49m\u001b[43m_request\u001b[49m\u001b[43m(\u001b[49m\n\u001b[0;32m    956\u001b[0m \u001b[43m    \u001b[49m\u001b[43mcast_to\u001b[49m\u001b[38;5;241;43m=\u001b[39;49m\u001b[43mcast_to\u001b[49m\u001b[43m,\u001b[49m\n\u001b[0;32m    957\u001b[0m \u001b[43m    \u001b[49m\u001b[43moptions\u001b[49m\u001b[38;5;241;43m=\u001b[39;49m\u001b[43moptions\u001b[49m\u001b[43m,\u001b[49m\n\u001b[0;32m    958\u001b[0m \u001b[43m    \u001b[49m\u001b[43mstream\u001b[49m\u001b[38;5;241;43m=\u001b[39;49m\u001b[43mstream\u001b[49m\u001b[43m,\u001b[49m\n\u001b[0;32m    959\u001b[0m \u001b[43m    \u001b[49m\u001b[43mstream_cls\u001b[49m\u001b[38;5;241;43m=\u001b[39;49m\u001b[43mstream_cls\u001b[49m\u001b[43m,\u001b[49m\n\u001b[0;32m    960\u001b[0m \u001b[43m    \u001b[49m\u001b[43mretries_taken\u001b[49m\u001b[38;5;241;43m=\u001b[39;49m\u001b[43mretries_taken\u001b[49m\u001b[43m,\u001b[49m\n\u001b[0;32m    961\u001b[0m \u001b[43m\u001b[49m\u001b[43m)\u001b[49m\n",
      "File \u001b[1;32md:\\AnacondaEnPs\\envs\\OntologyConstruction\\Lib\\site-packages\\openai\\_base_client.py:991\u001b[0m, in \u001b[0;36mSyncAPIClient._request\u001b[1;34m(self, cast_to, options, retries_taken, stream, stream_cls)\u001b[0m\n\u001b[0;32m    988\u001b[0m log\u001b[38;5;241m.\u001b[39mdebug(\u001b[38;5;124m\"\u001b[39m\u001b[38;5;124mSending HTTP Request: \u001b[39m\u001b[38;5;132;01m%s\u001b[39;00m\u001b[38;5;124m \u001b[39m\u001b[38;5;132;01m%s\u001b[39;00m\u001b[38;5;124m\"\u001b[39m, request\u001b[38;5;241m.\u001b[39mmethod, request\u001b[38;5;241m.\u001b[39murl)\n\u001b[0;32m    990\u001b[0m \u001b[38;5;28;01mtry\u001b[39;00m:\n\u001b[1;32m--> 991\u001b[0m     response \u001b[38;5;241m=\u001b[39m \u001b[38;5;28;43mself\u001b[39;49m\u001b[38;5;241;43m.\u001b[39;49m\u001b[43m_client\u001b[49m\u001b[38;5;241;43m.\u001b[39;49m\u001b[43msend\u001b[49m\u001b[43m(\u001b[49m\n\u001b[0;32m    992\u001b[0m \u001b[43m        \u001b[49m\u001b[43mrequest\u001b[49m\u001b[43m,\u001b[49m\n\u001b[0;32m    993\u001b[0m \u001b[43m        \u001b[49m\u001b[43mstream\u001b[49m\u001b[38;5;241;43m=\u001b[39;49m\u001b[43mstream\u001b[49m\u001b[43m \u001b[49m\u001b[38;5;129;43;01mor\u001b[39;49;00m\u001b[43m \u001b[49m\u001b[38;5;28;43mself\u001b[39;49m\u001b[38;5;241;43m.\u001b[39;49m\u001b[43m_should_stream_response_body\u001b[49m\u001b[43m(\u001b[49m\u001b[43mrequest\u001b[49m\u001b[38;5;241;43m=\u001b[39;49m\u001b[43mrequest\u001b[49m\u001b[43m)\u001b[49m\u001b[43m,\u001b[49m\n\u001b[0;32m    994\u001b[0m \u001b[43m        \u001b[49m\u001b[38;5;241;43m*\u001b[39;49m\u001b[38;5;241;43m*\u001b[39;49m\u001b[43mkwargs\u001b[49m\u001b[43m,\u001b[49m\n\u001b[0;32m    995\u001b[0m \u001b[43m    \u001b[49m\u001b[43m)\u001b[49m\n\u001b[0;32m    996\u001b[0m \u001b[38;5;28;01mexcept\u001b[39;00m httpx\u001b[38;5;241m.\u001b[39mTimeoutException \u001b[38;5;28;01mas\u001b[39;00m err:\n\u001b[0;32m    997\u001b[0m     log\u001b[38;5;241m.\u001b[39mdebug(\u001b[38;5;124m\"\u001b[39m\u001b[38;5;124mEncountered httpx.TimeoutException\u001b[39m\u001b[38;5;124m\"\u001b[39m, exc_info\u001b[38;5;241m=\u001b[39m\u001b[38;5;28;01mTrue\u001b[39;00m)\n",
      "File \u001b[1;32md:\\AnacondaEnPs\\envs\\OntologyConstruction\\Lib\\site-packages\\httpx\\_client.py:926\u001b[0m, in \u001b[0;36mClient.send\u001b[1;34m(self, request, stream, auth, follow_redirects)\u001b[0m\n\u001b[0;32m    922\u001b[0m \u001b[38;5;28mself\u001b[39m\u001b[38;5;241m.\u001b[39m_set_timeout(request)\n\u001b[0;32m    924\u001b[0m auth \u001b[38;5;241m=\u001b[39m \u001b[38;5;28mself\u001b[39m\u001b[38;5;241m.\u001b[39m_build_request_auth(request, auth)\n\u001b[1;32m--> 926\u001b[0m response \u001b[38;5;241m=\u001b[39m \u001b[38;5;28;43mself\u001b[39;49m\u001b[38;5;241;43m.\u001b[39;49m\u001b[43m_send_handling_auth\u001b[49m\u001b[43m(\u001b[49m\n\u001b[0;32m    927\u001b[0m \u001b[43m    \u001b[49m\u001b[43mrequest\u001b[49m\u001b[43m,\u001b[49m\n\u001b[0;32m    928\u001b[0m \u001b[43m    \u001b[49m\u001b[43mauth\u001b[49m\u001b[38;5;241;43m=\u001b[39;49m\u001b[43mauth\u001b[49m\u001b[43m,\u001b[49m\n\u001b[0;32m    929\u001b[0m \u001b[43m    \u001b[49m\u001b[43mfollow_redirects\u001b[49m\u001b[38;5;241;43m=\u001b[39;49m\u001b[43mfollow_redirects\u001b[49m\u001b[43m,\u001b[49m\n\u001b[0;32m    930\u001b[0m \u001b[43m    \u001b[49m\u001b[43mhistory\u001b[49m\u001b[38;5;241;43m=\u001b[39;49m\u001b[43m[\u001b[49m\u001b[43m]\u001b[49m\u001b[43m,\u001b[49m\n\u001b[0;32m    931\u001b[0m \u001b[43m\u001b[49m\u001b[43m)\u001b[49m\n\u001b[0;32m    932\u001b[0m \u001b[38;5;28;01mtry\u001b[39;00m:\n\u001b[0;32m    933\u001b[0m     \u001b[38;5;28;01mif\u001b[39;00m \u001b[38;5;129;01mnot\u001b[39;00m stream:\n",
      "File \u001b[1;32md:\\AnacondaEnPs\\envs\\OntologyConstruction\\Lib\\site-packages\\httpx\\_client.py:954\u001b[0m, in \u001b[0;36mClient._send_handling_auth\u001b[1;34m(self, request, auth, follow_redirects, history)\u001b[0m\n\u001b[0;32m    951\u001b[0m request \u001b[38;5;241m=\u001b[39m \u001b[38;5;28mnext\u001b[39m(auth_flow)\n\u001b[0;32m    953\u001b[0m \u001b[38;5;28;01mwhile\u001b[39;00m \u001b[38;5;28;01mTrue\u001b[39;00m:\n\u001b[1;32m--> 954\u001b[0m     response \u001b[38;5;241m=\u001b[39m \u001b[38;5;28;43mself\u001b[39;49m\u001b[38;5;241;43m.\u001b[39;49m\u001b[43m_send_handling_redirects\u001b[49m\u001b[43m(\u001b[49m\n\u001b[0;32m    955\u001b[0m \u001b[43m        \u001b[49m\u001b[43mrequest\u001b[49m\u001b[43m,\u001b[49m\n\u001b[0;32m    956\u001b[0m \u001b[43m        \u001b[49m\u001b[43mfollow_redirects\u001b[49m\u001b[38;5;241;43m=\u001b[39;49m\u001b[43mfollow_redirects\u001b[49m\u001b[43m,\u001b[49m\n\u001b[0;32m    957\u001b[0m \u001b[43m        \u001b[49m\u001b[43mhistory\u001b[49m\u001b[38;5;241;43m=\u001b[39;49m\u001b[43mhistory\u001b[49m\u001b[43m,\u001b[49m\n\u001b[0;32m    958\u001b[0m \u001b[43m    \u001b[49m\u001b[43m)\u001b[49m\n\u001b[0;32m    959\u001b[0m     \u001b[38;5;28;01mtry\u001b[39;00m:\n\u001b[0;32m    960\u001b[0m         \u001b[38;5;28;01mtry\u001b[39;00m:\n",
      "File \u001b[1;32md:\\AnacondaEnPs\\envs\\OntologyConstruction\\Lib\\site-packages\\httpx\\_client.py:991\u001b[0m, in \u001b[0;36mClient._send_handling_redirects\u001b[1;34m(self, request, follow_redirects, history)\u001b[0m\n\u001b[0;32m    988\u001b[0m \u001b[38;5;28;01mfor\u001b[39;00m hook \u001b[38;5;129;01min\u001b[39;00m \u001b[38;5;28mself\u001b[39m\u001b[38;5;241m.\u001b[39m_event_hooks[\u001b[38;5;124m\"\u001b[39m\u001b[38;5;124mrequest\u001b[39m\u001b[38;5;124m\"\u001b[39m]:\n\u001b[0;32m    989\u001b[0m     hook(request)\n\u001b[1;32m--> 991\u001b[0m response \u001b[38;5;241m=\u001b[39m \u001b[38;5;28;43mself\u001b[39;49m\u001b[38;5;241;43m.\u001b[39;49m\u001b[43m_send_single_request\u001b[49m\u001b[43m(\u001b[49m\u001b[43mrequest\u001b[49m\u001b[43m)\u001b[49m\n\u001b[0;32m    992\u001b[0m \u001b[38;5;28;01mtry\u001b[39;00m:\n\u001b[0;32m    993\u001b[0m     \u001b[38;5;28;01mfor\u001b[39;00m hook \u001b[38;5;129;01min\u001b[39;00m \u001b[38;5;28mself\u001b[39m\u001b[38;5;241m.\u001b[39m_event_hooks[\u001b[38;5;124m\"\u001b[39m\u001b[38;5;124mresponse\u001b[39m\u001b[38;5;124m\"\u001b[39m]:\n",
      "File \u001b[1;32md:\\AnacondaEnPs\\envs\\OntologyConstruction\\Lib\\site-packages\\httpx\\_client.py:1027\u001b[0m, in \u001b[0;36mClient._send_single_request\u001b[1;34m(self, request)\u001b[0m\n\u001b[0;32m   1022\u001b[0m     \u001b[38;5;28;01mraise\u001b[39;00m \u001b[38;5;167;01mRuntimeError\u001b[39;00m(\n\u001b[0;32m   1023\u001b[0m         \u001b[38;5;124m\"\u001b[39m\u001b[38;5;124mAttempted to send an async request with a sync Client instance.\u001b[39m\u001b[38;5;124m\"\u001b[39m\n\u001b[0;32m   1024\u001b[0m     )\n\u001b[0;32m   1026\u001b[0m \u001b[38;5;28;01mwith\u001b[39;00m request_context(request\u001b[38;5;241m=\u001b[39mrequest):\n\u001b[1;32m-> 1027\u001b[0m     response \u001b[38;5;241m=\u001b[39m \u001b[43mtransport\u001b[49m\u001b[38;5;241;43m.\u001b[39;49m\u001b[43mhandle_request\u001b[49m\u001b[43m(\u001b[49m\u001b[43mrequest\u001b[49m\u001b[43m)\u001b[49m\n\u001b[0;32m   1029\u001b[0m \u001b[38;5;28;01massert\u001b[39;00m \u001b[38;5;28misinstance\u001b[39m(response\u001b[38;5;241m.\u001b[39mstream, SyncByteStream)\n\u001b[0;32m   1031\u001b[0m response\u001b[38;5;241m.\u001b[39mrequest \u001b[38;5;241m=\u001b[39m request\n",
      "File \u001b[1;32md:\\AnacondaEnPs\\envs\\OntologyConstruction\\Lib\\site-packages\\httpx\\_transports\\default.py:236\u001b[0m, in \u001b[0;36mHTTPTransport.handle_request\u001b[1;34m(self, request)\u001b[0m\n\u001b[0;32m    223\u001b[0m req \u001b[38;5;241m=\u001b[39m httpcore\u001b[38;5;241m.\u001b[39mRequest(\n\u001b[0;32m    224\u001b[0m     method\u001b[38;5;241m=\u001b[39mrequest\u001b[38;5;241m.\u001b[39mmethod,\n\u001b[0;32m    225\u001b[0m     url\u001b[38;5;241m=\u001b[39mhttpcore\u001b[38;5;241m.\u001b[39mURL(\n\u001b[1;32m   (...)\u001b[0m\n\u001b[0;32m    233\u001b[0m     extensions\u001b[38;5;241m=\u001b[39mrequest\u001b[38;5;241m.\u001b[39mextensions,\n\u001b[0;32m    234\u001b[0m )\n\u001b[0;32m    235\u001b[0m \u001b[38;5;28;01mwith\u001b[39;00m map_httpcore_exceptions():\n\u001b[1;32m--> 236\u001b[0m     resp \u001b[38;5;241m=\u001b[39m \u001b[38;5;28;43mself\u001b[39;49m\u001b[38;5;241;43m.\u001b[39;49m\u001b[43m_pool\u001b[49m\u001b[38;5;241;43m.\u001b[39;49m\u001b[43mhandle_request\u001b[49m\u001b[43m(\u001b[49m\u001b[43mreq\u001b[49m\u001b[43m)\u001b[49m\n\u001b[0;32m    238\u001b[0m \u001b[38;5;28;01massert\u001b[39;00m \u001b[38;5;28misinstance\u001b[39m(resp\u001b[38;5;241m.\u001b[39mstream, typing\u001b[38;5;241m.\u001b[39mIterable)\n\u001b[0;32m    240\u001b[0m \u001b[38;5;28;01mreturn\u001b[39;00m Response(\n\u001b[0;32m    241\u001b[0m     status_code\u001b[38;5;241m=\u001b[39mresp\u001b[38;5;241m.\u001b[39mstatus,\n\u001b[0;32m    242\u001b[0m     headers\u001b[38;5;241m=\u001b[39mresp\u001b[38;5;241m.\u001b[39mheaders,\n\u001b[0;32m    243\u001b[0m     stream\u001b[38;5;241m=\u001b[39mResponseStream(resp\u001b[38;5;241m.\u001b[39mstream),\n\u001b[0;32m    244\u001b[0m     extensions\u001b[38;5;241m=\u001b[39mresp\u001b[38;5;241m.\u001b[39mextensions,\n\u001b[0;32m    245\u001b[0m )\n",
      "File \u001b[1;32md:\\AnacondaEnPs\\envs\\OntologyConstruction\\Lib\\site-packages\\httpcore\\_sync\\connection_pool.py:216\u001b[0m, in \u001b[0;36mConnectionPool.handle_request\u001b[1;34m(self, request)\u001b[0m\n\u001b[0;32m    213\u001b[0m         closing \u001b[38;5;241m=\u001b[39m \u001b[38;5;28mself\u001b[39m\u001b[38;5;241m.\u001b[39m_assign_requests_to_connections()\n\u001b[0;32m    215\u001b[0m     \u001b[38;5;28mself\u001b[39m\u001b[38;5;241m.\u001b[39m_close_connections(closing)\n\u001b[1;32m--> 216\u001b[0m     \u001b[38;5;28;01mraise\u001b[39;00m exc \u001b[38;5;28;01mfrom\u001b[39;00m \u001b[38;5;28;01mNone\u001b[39;00m\n\u001b[0;32m    218\u001b[0m \u001b[38;5;66;03m# Return the response. Note that in this case we still have to manage\u001b[39;00m\n\u001b[0;32m    219\u001b[0m \u001b[38;5;66;03m# the point at which the response is closed.\u001b[39;00m\n\u001b[0;32m    220\u001b[0m \u001b[38;5;28;01massert\u001b[39;00m \u001b[38;5;28misinstance\u001b[39m(response\u001b[38;5;241m.\u001b[39mstream, Iterable)\n",
      "File \u001b[1;32md:\\AnacondaEnPs\\envs\\OntologyConstruction\\Lib\\site-packages\\httpcore\\_sync\\connection_pool.py:196\u001b[0m, in \u001b[0;36mConnectionPool.handle_request\u001b[1;34m(self, request)\u001b[0m\n\u001b[0;32m    192\u001b[0m connection \u001b[38;5;241m=\u001b[39m pool_request\u001b[38;5;241m.\u001b[39mwait_for_connection(timeout\u001b[38;5;241m=\u001b[39mtimeout)\n\u001b[0;32m    194\u001b[0m \u001b[38;5;28;01mtry\u001b[39;00m:\n\u001b[0;32m    195\u001b[0m     \u001b[38;5;66;03m# Send the request on the assigned connection.\u001b[39;00m\n\u001b[1;32m--> 196\u001b[0m     response \u001b[38;5;241m=\u001b[39m \u001b[43mconnection\u001b[49m\u001b[38;5;241;43m.\u001b[39;49m\u001b[43mhandle_request\u001b[49m\u001b[43m(\u001b[49m\n\u001b[0;32m    197\u001b[0m \u001b[43m        \u001b[49m\u001b[43mpool_request\u001b[49m\u001b[38;5;241;43m.\u001b[39;49m\u001b[43mrequest\u001b[49m\n\u001b[0;32m    198\u001b[0m \u001b[43m    \u001b[49m\u001b[43m)\u001b[49m\n\u001b[0;32m    199\u001b[0m \u001b[38;5;28;01mexcept\u001b[39;00m ConnectionNotAvailable:\n\u001b[0;32m    200\u001b[0m     \u001b[38;5;66;03m# In some cases a connection may initially be available to\u001b[39;00m\n\u001b[0;32m    201\u001b[0m     \u001b[38;5;66;03m# handle a request, but then become unavailable.\u001b[39;00m\n\u001b[0;32m    202\u001b[0m     \u001b[38;5;66;03m#\u001b[39;00m\n\u001b[0;32m    203\u001b[0m     \u001b[38;5;66;03m# In this case we clear the connection and try again.\u001b[39;00m\n\u001b[0;32m    204\u001b[0m     pool_request\u001b[38;5;241m.\u001b[39mclear_connection()\n",
      "File \u001b[1;32md:\\AnacondaEnPs\\envs\\OntologyConstruction\\Lib\\site-packages\\httpcore\\_sync\\http_proxy.py:344\u001b[0m, in \u001b[0;36mTunnelHTTPConnection.handle_request\u001b[1;34m(self, request)\u001b[0m\n\u001b[0;32m    337\u001b[0m             \u001b[38;5;28mself\u001b[39m\u001b[38;5;241m.\u001b[39m_connection \u001b[38;5;241m=\u001b[39m HTTP11Connection(\n\u001b[0;32m    338\u001b[0m                 origin\u001b[38;5;241m=\u001b[39m\u001b[38;5;28mself\u001b[39m\u001b[38;5;241m.\u001b[39m_remote_origin,\n\u001b[0;32m    339\u001b[0m                 stream\u001b[38;5;241m=\u001b[39mstream,\n\u001b[0;32m    340\u001b[0m                 keepalive_expiry\u001b[38;5;241m=\u001b[39m\u001b[38;5;28mself\u001b[39m\u001b[38;5;241m.\u001b[39m_keepalive_expiry,\n\u001b[0;32m    341\u001b[0m             )\n\u001b[0;32m    343\u001b[0m         \u001b[38;5;28mself\u001b[39m\u001b[38;5;241m.\u001b[39m_connected \u001b[38;5;241m=\u001b[39m \u001b[38;5;28;01mTrue\u001b[39;00m\n\u001b[1;32m--> 344\u001b[0m \u001b[38;5;28;01mreturn\u001b[39;00m \u001b[38;5;28;43mself\u001b[39;49m\u001b[38;5;241;43m.\u001b[39;49m\u001b[43m_connection\u001b[49m\u001b[38;5;241;43m.\u001b[39;49m\u001b[43mhandle_request\u001b[49m\u001b[43m(\u001b[49m\u001b[43mrequest\u001b[49m\u001b[43m)\u001b[49m\n",
      "File \u001b[1;32md:\\AnacondaEnPs\\envs\\OntologyConstruction\\Lib\\site-packages\\httpcore\\_sync\\http11.py:143\u001b[0m, in \u001b[0;36mHTTP11Connection.handle_request\u001b[1;34m(self, request)\u001b[0m\n\u001b[0;32m    141\u001b[0m     \u001b[38;5;28;01mwith\u001b[39;00m Trace(\u001b[38;5;124m\"\u001b[39m\u001b[38;5;124mresponse_closed\u001b[39m\u001b[38;5;124m\"\u001b[39m, logger, request) \u001b[38;5;28;01mas\u001b[39;00m trace:\n\u001b[0;32m    142\u001b[0m         \u001b[38;5;28mself\u001b[39m\u001b[38;5;241m.\u001b[39m_response_closed()\n\u001b[1;32m--> 143\u001b[0m \u001b[38;5;28;01mraise\u001b[39;00m exc\n",
      "File \u001b[1;32md:\\AnacondaEnPs\\envs\\OntologyConstruction\\Lib\\site-packages\\httpcore\\_sync\\http11.py:113\u001b[0m, in \u001b[0;36mHTTP11Connection.handle_request\u001b[1;34m(self, request)\u001b[0m\n\u001b[0;32m    102\u001b[0m     \u001b[38;5;28;01mpass\u001b[39;00m\n\u001b[0;32m    104\u001b[0m \u001b[38;5;28;01mwith\u001b[39;00m Trace(\n\u001b[0;32m    105\u001b[0m     \u001b[38;5;124m\"\u001b[39m\u001b[38;5;124mreceive_response_headers\u001b[39m\u001b[38;5;124m\"\u001b[39m, logger, request, kwargs\n\u001b[0;32m    106\u001b[0m ) \u001b[38;5;28;01mas\u001b[39;00m trace:\n\u001b[0;32m    107\u001b[0m     (\n\u001b[0;32m    108\u001b[0m         http_version,\n\u001b[0;32m    109\u001b[0m         status,\n\u001b[0;32m    110\u001b[0m         reason_phrase,\n\u001b[0;32m    111\u001b[0m         headers,\n\u001b[0;32m    112\u001b[0m         trailing_data,\n\u001b[1;32m--> 113\u001b[0m     ) \u001b[38;5;241m=\u001b[39m \u001b[38;5;28;43mself\u001b[39;49m\u001b[38;5;241;43m.\u001b[39;49m\u001b[43m_receive_response_headers\u001b[49m\u001b[43m(\u001b[49m\u001b[38;5;241;43m*\u001b[39;49m\u001b[38;5;241;43m*\u001b[39;49m\u001b[43mkwargs\u001b[49m\u001b[43m)\u001b[49m\n\u001b[0;32m    114\u001b[0m     trace\u001b[38;5;241m.\u001b[39mreturn_value \u001b[38;5;241m=\u001b[39m (\n\u001b[0;32m    115\u001b[0m         http_version,\n\u001b[0;32m    116\u001b[0m         status,\n\u001b[0;32m    117\u001b[0m         reason_phrase,\n\u001b[0;32m    118\u001b[0m         headers,\n\u001b[0;32m    119\u001b[0m     )\n\u001b[0;32m    121\u001b[0m network_stream \u001b[38;5;241m=\u001b[39m \u001b[38;5;28mself\u001b[39m\u001b[38;5;241m.\u001b[39m_network_stream\n",
      "File \u001b[1;32md:\\AnacondaEnPs\\envs\\OntologyConstruction\\Lib\\site-packages\\httpcore\\_sync\\http11.py:186\u001b[0m, in \u001b[0;36mHTTP11Connection._receive_response_headers\u001b[1;34m(self, request)\u001b[0m\n\u001b[0;32m    183\u001b[0m timeout \u001b[38;5;241m=\u001b[39m timeouts\u001b[38;5;241m.\u001b[39mget(\u001b[38;5;124m\"\u001b[39m\u001b[38;5;124mread\u001b[39m\u001b[38;5;124m\"\u001b[39m, \u001b[38;5;28;01mNone\u001b[39;00m)\n\u001b[0;32m    185\u001b[0m \u001b[38;5;28;01mwhile\u001b[39;00m \u001b[38;5;28;01mTrue\u001b[39;00m:\n\u001b[1;32m--> 186\u001b[0m     event \u001b[38;5;241m=\u001b[39m \u001b[38;5;28;43mself\u001b[39;49m\u001b[38;5;241;43m.\u001b[39;49m\u001b[43m_receive_event\u001b[49m\u001b[43m(\u001b[49m\u001b[43mtimeout\u001b[49m\u001b[38;5;241;43m=\u001b[39;49m\u001b[43mtimeout\u001b[49m\u001b[43m)\u001b[49m\n\u001b[0;32m    187\u001b[0m     \u001b[38;5;28;01mif\u001b[39;00m \u001b[38;5;28misinstance\u001b[39m(event, h11\u001b[38;5;241m.\u001b[39mResponse):\n\u001b[0;32m    188\u001b[0m         \u001b[38;5;28;01mbreak\u001b[39;00m\n",
      "File \u001b[1;32md:\\AnacondaEnPs\\envs\\OntologyConstruction\\Lib\\site-packages\\httpcore\\_sync\\http11.py:224\u001b[0m, in \u001b[0;36mHTTP11Connection._receive_event\u001b[1;34m(self, timeout)\u001b[0m\n\u001b[0;32m    221\u001b[0m     event \u001b[38;5;241m=\u001b[39m \u001b[38;5;28mself\u001b[39m\u001b[38;5;241m.\u001b[39m_h11_state\u001b[38;5;241m.\u001b[39mnext_event()\n\u001b[0;32m    223\u001b[0m \u001b[38;5;28;01mif\u001b[39;00m event \u001b[38;5;129;01mis\u001b[39;00m h11\u001b[38;5;241m.\u001b[39mNEED_DATA:\n\u001b[1;32m--> 224\u001b[0m     data \u001b[38;5;241m=\u001b[39m \u001b[38;5;28;43mself\u001b[39;49m\u001b[38;5;241;43m.\u001b[39;49m\u001b[43m_network_stream\u001b[49m\u001b[38;5;241;43m.\u001b[39;49m\u001b[43mread\u001b[49m\u001b[43m(\u001b[49m\n\u001b[0;32m    225\u001b[0m \u001b[43m        \u001b[49m\u001b[38;5;28;43mself\u001b[39;49m\u001b[38;5;241;43m.\u001b[39;49m\u001b[43mREAD_NUM_BYTES\u001b[49m\u001b[43m,\u001b[49m\u001b[43m \u001b[49m\u001b[43mtimeout\u001b[49m\u001b[38;5;241;43m=\u001b[39;49m\u001b[43mtimeout\u001b[49m\n\u001b[0;32m    226\u001b[0m \u001b[43m    \u001b[49m\u001b[43m)\u001b[49m\n\u001b[0;32m    228\u001b[0m     \u001b[38;5;66;03m# If we feed this case through h11 we'll raise an exception like:\u001b[39;00m\n\u001b[0;32m    229\u001b[0m     \u001b[38;5;66;03m#\u001b[39;00m\n\u001b[0;32m    230\u001b[0m     \u001b[38;5;66;03m#     httpcore.RemoteProtocolError: can't handle event type\u001b[39;00m\n\u001b[1;32m   (...)\u001b[0m\n\u001b[0;32m    234\u001b[0m     \u001b[38;5;66;03m# perspective. Instead we handle this case distinctly and treat\u001b[39;00m\n\u001b[0;32m    235\u001b[0m     \u001b[38;5;66;03m# it as a ConnectError.\u001b[39;00m\n\u001b[0;32m    236\u001b[0m     \u001b[38;5;28;01mif\u001b[39;00m data \u001b[38;5;241m==\u001b[39m \u001b[38;5;124mb\u001b[39m\u001b[38;5;124m\"\u001b[39m\u001b[38;5;124m\"\u001b[39m \u001b[38;5;129;01mand\u001b[39;00m \u001b[38;5;28mself\u001b[39m\u001b[38;5;241m.\u001b[39m_h11_state\u001b[38;5;241m.\u001b[39mtheir_state \u001b[38;5;241m==\u001b[39m h11\u001b[38;5;241m.\u001b[39mSEND_RESPONSE:\n",
      "File \u001b[1;32md:\\AnacondaEnPs\\envs\\OntologyConstruction\\Lib\\site-packages\\httpcore\\_backends\\sync.py:126\u001b[0m, in \u001b[0;36mSyncStream.read\u001b[1;34m(self, max_bytes, timeout)\u001b[0m\n\u001b[0;32m    124\u001b[0m \u001b[38;5;28;01mwith\u001b[39;00m map_exceptions(exc_map):\n\u001b[0;32m    125\u001b[0m     \u001b[38;5;28mself\u001b[39m\u001b[38;5;241m.\u001b[39m_sock\u001b[38;5;241m.\u001b[39msettimeout(timeout)\n\u001b[1;32m--> 126\u001b[0m     \u001b[38;5;28;01mreturn\u001b[39;00m \u001b[38;5;28;43mself\u001b[39;49m\u001b[38;5;241;43m.\u001b[39;49m\u001b[43m_sock\u001b[49m\u001b[38;5;241;43m.\u001b[39;49m\u001b[43mrecv\u001b[49m\u001b[43m(\u001b[49m\u001b[43mmax_bytes\u001b[49m\u001b[43m)\u001b[49m\n",
      "File \u001b[1;32md:\\AnacondaEnPs\\envs\\OntologyConstruction\\Lib\\ssl.py:1285\u001b[0m, in \u001b[0;36mSSLSocket.recv\u001b[1;34m(self, buflen, flags)\u001b[0m\n\u001b[0;32m   1281\u001b[0m     \u001b[38;5;28;01mif\u001b[39;00m flags \u001b[38;5;241m!=\u001b[39m \u001b[38;5;241m0\u001b[39m:\n\u001b[0;32m   1282\u001b[0m         \u001b[38;5;28;01mraise\u001b[39;00m \u001b[38;5;167;01mValueError\u001b[39;00m(\n\u001b[0;32m   1283\u001b[0m             \u001b[38;5;124m\"\u001b[39m\u001b[38;5;124mnon-zero flags not allowed in calls to recv() on \u001b[39m\u001b[38;5;132;01m%s\u001b[39;00m\u001b[38;5;124m\"\u001b[39m \u001b[38;5;241m%\u001b[39m\n\u001b[0;32m   1284\u001b[0m             \u001b[38;5;28mself\u001b[39m\u001b[38;5;241m.\u001b[39m\u001b[38;5;18m__class__\u001b[39m)\n\u001b[1;32m-> 1285\u001b[0m     \u001b[38;5;28;01mreturn\u001b[39;00m \u001b[38;5;28;43mself\u001b[39;49m\u001b[38;5;241;43m.\u001b[39;49m\u001b[43mread\u001b[49m\u001b[43m(\u001b[49m\u001b[43mbuflen\u001b[49m\u001b[43m)\u001b[49m\n\u001b[0;32m   1286\u001b[0m \u001b[38;5;28;01melse\u001b[39;00m:\n\u001b[0;32m   1287\u001b[0m     \u001b[38;5;28;01mreturn\u001b[39;00m \u001b[38;5;28msuper\u001b[39m()\u001b[38;5;241m.\u001b[39mrecv(buflen, flags)\n",
      "File \u001b[1;32md:\\AnacondaEnPs\\envs\\OntologyConstruction\\Lib\\ssl.py:1140\u001b[0m, in \u001b[0;36mSSLSocket.read\u001b[1;34m(self, len, buffer)\u001b[0m\n\u001b[0;32m   1138\u001b[0m         \u001b[38;5;28;01mreturn\u001b[39;00m \u001b[38;5;28mself\u001b[39m\u001b[38;5;241m.\u001b[39m_sslobj\u001b[38;5;241m.\u001b[39mread(\u001b[38;5;28mlen\u001b[39m, buffer)\n\u001b[0;32m   1139\u001b[0m     \u001b[38;5;28;01melse\u001b[39;00m:\n\u001b[1;32m-> 1140\u001b[0m         \u001b[38;5;28;01mreturn\u001b[39;00m \u001b[38;5;28;43mself\u001b[39;49m\u001b[38;5;241;43m.\u001b[39;49m\u001b[43m_sslobj\u001b[49m\u001b[38;5;241;43m.\u001b[39;49m\u001b[43mread\u001b[49m\u001b[43m(\u001b[49m\u001b[38;5;28;43mlen\u001b[39;49m\u001b[43m)\u001b[49m\n\u001b[0;32m   1141\u001b[0m \u001b[38;5;28;01mexcept\u001b[39;00m SSLError \u001b[38;5;28;01mas\u001b[39;00m x:\n\u001b[0;32m   1142\u001b[0m     \u001b[38;5;28;01mif\u001b[39;00m x\u001b[38;5;241m.\u001b[39margs[\u001b[38;5;241m0\u001b[39m] \u001b[38;5;241m==\u001b[39m SSL_ERROR_EOF \u001b[38;5;129;01mand\u001b[39;00m \u001b[38;5;28mself\u001b[39m\u001b[38;5;241m.\u001b[39msuppress_ragged_eofs:\n",
      "\u001b[1;31mKeyboardInterrupt\u001b[0m: "
     ]
    }
   ],
   "source": [
    "chemonto_with_elements_assertions = assert_transform_module(ChemOntologyWithElementsAssertions().map_named_predictors(Retry), my_backtrack_handler) \n",
    "chemonto_with_properties_assertions = assert_transform_module(ChemOntologyWithPropertiesAssertions().map_named_predictors(Retry), my_backtrack_handler) \n",
    "temp = chemonto_with_elements_assertions(test_context)\n",
    "chemonto_with_properties_assertions(test_context, temp)\n",
    "# print(ontology_elements_to_string(chemonto_with_elements_assertions(test_context).ontology_elements))\n",
    "# print(ontology_properties_to_string(chemonto_with_properties_assertions(test_context, chemonto_with_elements_assertions(test_context)).ontology_properties))\n",
    "# print(chemonto_with_properties_assertions(test_context, chemonto_with_elements_assertions(test_context)).score_info)"
   ]
  },
  {
   "cell_type": "code",
   "execution_count": 15,
   "metadata": {},
   "outputs": [],
   "source": [
    "from dspy.evaluate import Evaluate\n",
    "\n",
    "evaluate = Evaluate(metric=metric, devset=devset_no_ontology, num_threads=8, display_progress=True, display_table=10)\n",
    "chemonto_with_assertions = assert_transform_module(ChemOntologyWithAssertions().map_named_predictors(Retry), backtrack_handler) "
   ]
  },
  {
   "cell_type": "code",
   "execution_count": 16,
   "metadata": {},
   "outputs": [
    {
     "name": "stderr",
     "output_type": "stream",
     "text": [
      "2024/11/23 20:24:43 INFO dspy.primitives.assertions: SuggestionFailed: entity: The ontology may not be effectively applied across different chemical subdomains, as it is specifically tailored to the interaction of alpha particles with foil, which is a very specific scenario. To improve, consider designing entities that can be generalized or adapted for broader applications in other chemical contexts.\n",
      "ontology_structure: - The ontology does not fully span all levels of chemical granularity, particularly the statistical nature of the interactions.\n",
      "- The semantic clarity could be improved by providing more precise definitions of behaviors.\n",
      "- Cross-references between the statistical data and behaviors are lacking, reducing the meaningfulness and accuracy of the ontology.\n",
      "\n",
      "To improve, the ontology should include more detailed entities or properties that reflect the statistical nature of the interactions and provide clearer definitions and cross-references to enhance clarity and accuracy.\n",
      "overall_content: - **Extraction Accuracy:** Improve by including the frequency of each behavior as described in the text.\n",
      "- **Comprehensiveness:** Enhance by capturing the frequency details of the behaviors.\n",
      "- **Knowledge Independence:** Clarify the term \"bounced back\" to ensure it is understood without needing the source text.\n",
      "\n"
     ]
    },
    {
     "name": "stdout",
     "output_type": "stream",
     "text": [
      "[5, 3, 5, 2, 17]\n",
      "reason_list\n",
      "assertions\n",
      "  0%|          | 0/3 [00:00<?, ?it/s]"
     ]
    },
    {
     "name": "stderr",
     "output_type": "stream",
     "text": [
      "2024/11/23 20:25:20 INFO dspy.primitives.assertions: SuggestionFailed: entity: The ontology is limited in its applicability across different chemical subdomains. To improve, it could include more general entities or properties that describe particle interactions with various materials, making it more versatile for different chemical contexts.\n",
      "object_property: The relationship restriction could be improved by specifying conditions or probabilities for each type of interaction, rather than using a general \"some\" restriction. This would enhance the precision of the ontology in reflecting the experimental observations.\n",
      "ontology_structure: - Entities span all levels of chemical granularity mentioned in the text: The ontology does not fully span all levels of chemical granularity, as it lacks specific details about the foil material and the experimental context.\n",
      "- Cross-references between concepts are meaningful and accurate: The ontology could improve by explicitly linking the behaviors to the underlying physical principles.\n",
      "\n"
     ]
    },
    {
     "name": "stdout",
     "output_type": "stream",
     "text": [
      "[5, 3, 4, 3, 21]\n",
      "reason_list\n",
      "assertions\n"
     ]
    },
    {
     "name": "stderr",
     "output_type": "stream",
     "text": [
      "2024/11/23 20:25:33 INFO dspy.primitives.assertions: SuggestionFailed: entity: The ontology is limited in its applicability across different chemical subdomains. To improve, it could include more general entities or properties that describe particle interactions with various materials, making it more versatile for different chemical contexts.\n",
      "object_property: The relationship restriction could be improved by specifying conditions or probabilities for each type of interaction, rather than using a general \"some\" restriction. This would enhance the precision of the ontology in reflecting the experimental observations.\n",
      "ontology_structure: - Entities span all levels of chemical granularity mentioned in the text: The ontology does not fully span all levels of chemical granularity, as it lacks specific details about the foil material and the experimental context.\n",
      "- Cross-references between concepts are meaningful and accurate: The ontology could improve by explicitly linking the behaviors to the underlying physical principles.\n",
      "\n"
     ]
    },
    {
     "name": "stdout",
     "output_type": "stream",
     "text": [
      "[5, 3, 4, 3, 21]\n",
      "reason_list\n",
      "assertions\n",
      "[5, 3, 4, 3, 21]\n",
      "0.8516666666666668\n",
      "Average Metric: 0.85 / 1 (85.2%):   0%|          | 0/3 [00:49<?, ?it/s][4, 3, 2, 2, 15]\n",
      "reason_list\n",
      "assertions\n"
     ]
    },
    {
     "name": "stderr",
     "output_type": "stream",
     "text": [
      "2024/11/23 20:25:33 INFO dspy.primitives.assertions: SuggestionFailed: entity: - The ontology does not capture concepts across all levels of abstraction, such as the broader context of redox reactions or specific reaction conditions.\n",
      "- There is no explicit indication of the entities' applicability across different chemical subdomains.\n",
      "object_property: - Object properties capture all key chemical interactions: Reaction_2 is missing product information.\n",
      "- Domain and range specifications only exist when necessary: Specifications are not necessary for clarity.\n",
      "- Relationship restrictions ('only'/'some') are properly applied: Unclear if 'some' is appropriate without context.\n",
      "ontology_structure: The ontology does not form a coherent chemical knowledge graph as it lacks the necessary chemical principles or constraints to explain the reactions' feasibility. It also does not maintain semantic clarity independent of the source text, and the cross-references between concepts are not meaningful or accurate in explaining the reactions' impossibility. To improve, the ontology should include additional properties or constraints that reflect the chemical principles governing the reactions, such as redox potentials, reaction conditions, or thermodynamic feasibility.\n",
      "overall_content: - **Extraction Accuracy (3 points)**: The ontology has minor errors in the extraction of object properties, particularly for reaction_2, where the products are not specified.\n",
      "- **Professional Validity (3 points)**: The ontology mostly aligns with chemical expertise but lacks completeness in reaction_2.\n",
      "- **Comprehensiveness (3 points)**: The ontology is missing key information about the products of reaction_2.\n",
      "- **Knowledge Independence (6 points)**: The entities are clear and understandable without the source text, but the object properties for reaction_2 are incomplete.\n",
      "\n"
     ]
    },
    {
     "name": "stdout",
     "output_type": "stream",
     "text": [
      "Average Metric: 0.85 / 1 (85.2%):  33%|███▎      | 1/3 [00:49<01:39, 49.79s/it]"
     ]
    },
    {
     "name": "stderr",
     "output_type": "stream",
     "text": [
      "2024/11/23 20:27:07 INFO dspy.primitives.assertions: SuggestionFailed: entity: The ontology does not explicitly demonstrate how it supports future expansion and integration with other ontologies, nor does it show applicability across different chemical subdomains. To improve, the ontology could include more generalized entities or relationships that facilitate integration and application in broader contexts.\n",
      "object_property: The ontology does not capture all key chemical interactions, particularly for reaction_2, which lacks any information. Additionally, the relationship restrictions are not consistently or clearly applied. To improve, the ontology should include detailed object properties for all reactions and ensure that relationship restrictions are justified and consistently applied.\n",
      "ontology_structure: - Properties and relationships do not form a coherent chemical knowledge graph. The ontology should include detailed object properties that define the interactions and reactions between entities.\n",
      "- Cross-references between concepts are not meaningful and accurate. The ontology should provide more information on how entities interact in the context of the reactions.\n",
      "overall_content: The ontology does not achieve full marks due to several shortcomings. For Extraction Accuracy, the lack of detailed information about reaction_2 is a minor error. Professional Validity is affected by the absence of conditions or explanations for the reactions' impossibility. Comprehensiveness is limited by missing key information about the reactions' feasibility. Knowledge Independence is hindered by insufficient detail in object properties, making them less understandable without the source text. Improvements could include adding detailed reaction conditions, explanations for reaction impossibility, and more comprehensive object property descriptions.\n",
      "\n"
     ]
    },
    {
     "name": "stdout",
     "output_type": "stream",
     "text": [
      "[4, 3, 3, 2, 12]\n",
      "reason_list\n",
      "assertions\n"
     ]
    },
    {
     "name": "stderr",
     "output_type": "stream",
     "text": [
      "2024/11/23 20:29:35 INFO dspy.primitives.assertions: SuggestionFailed: entity: The ontology does not explicitly demonstrate how it supports future expansion and integration with other ontologies, nor does it show applicability across different chemical subdomains. To improve, the ontology could include more generalized entities or relationships that facilitate integration and application in broader contexts.\n",
      "object_property: The ontology does not capture all key chemical interactions, particularly for reaction_2, which lacks any information. Additionally, the relationship restrictions are not consistently or clearly applied. To improve, the ontology should include detailed object properties for all reactions and ensure that relationship restrictions are justified and consistently applied.\n",
      "ontology_structure: - Properties and relationships do not form a coherent chemical knowledge graph. The ontology should include detailed object properties that define the interactions and reactions between entities.\n",
      "- Cross-references between concepts are not meaningful and accurate. The ontology should provide more information on how entities interact in the context of the reactions.\n",
      "overall_content: The ontology does not achieve full marks due to several shortcomings. For Extraction Accuracy, the lack of detailed information about reaction_2 is a minor error. Professional Validity is affected by the absence of conditions or explanations for the reactions' impossibility. Comprehensiveness is limited by missing key information about the reactions' feasibility. Knowledge Independence is hindered by insufficient detail in object properties, making them less understandable without the source text. Improvements could include adding detailed reaction conditions, explanations for reaction impossibility, and more comprehensive object property descriptions.\n",
      "\n"
     ]
    },
    {
     "name": "stdout",
     "output_type": "stream",
     "text": [
      "[4, 3, 3, 2, 12]\n",
      "reason_list\n",
      "assertions\n",
      "[4, 3, 3, 2, 12]\n",
      "0.6533333333333333\n",
      "Average Metric: 1.51 / 2 (75.2%):  33%|███▎      | 1/3 [04:51<01:39, 49.79s/it][6, 3, 3, 3, 18]\n",
      "reason_list\n",
      "assertions\n"
     ]
    },
    {
     "name": "stderr",
     "output_type": "stream",
     "text": [
      "2024/11/23 20:29:35 INFO dspy.primitives.assertions: SuggestionFailed: object_property: The ontology does not fully meet the criteria for domain and range specifications, as they are not always applied when necessary, particularly for the `correlates_with` property. Additionally, the relationship restrictions are not properly applied, as the use of 'some' is not always appropriate or clear. Improvements could include specifying the range for `correlates_with` to include the properties of elements and ensuring that all necessary domain and range specifications are included and clearly defined.\n",
      "ontology_structure: The ontology does not fully meet the criterion of forming a coherent chemical knowledge graph due to the undefined range in the \"correlates_with\" relationship. To improve, the range should be specified to ensure all relationships are well-defined and contribute to the coherence of the knowledge graph.\n",
      "overall_content: - **Extraction Accuracy**: The range for \"has_electron_configuration\" should include Orbital, PrincipalShell, and Subshell, not just Electron.\n",
      "- **Professional Validity**: The \"correlates_with\" property should specify a range, such as reactivity or atomic radius.\n",
      "- **Comprehensiveness**: Include specific rules of wave mechanics like the Pauli exclusion principle and Hund's rule.\n",
      "- **Knowledge Independence**: Some properties like \"expressed_as\" may require additional context for full understanding.\n",
      "\n"
     ]
    },
    {
     "name": "stdout",
     "output_type": "stream",
     "text": [
      "Average Metric: 1.51 / 2 (75.2%):  67%|██████▋   | 2/3 [04:51<02:42, 162.87s/it]"
     ]
    },
    {
     "name": "stderr",
     "output_type": "stream",
     "text": [
      "2024/11/23 20:30:45 INFO dspy.primitives.assertions: SuggestionFailed: object_property: The ontology does not fully capture all key chemical interactions related to electron configurations, such as electron pairing and energy level transitions. Additionally, the use of 'only' restrictions could improve the specificity of the relationships. To improve, the ontology should include properties for electron pairing and energy level transitions, and consider using 'only' restrictions where applicable.\n",
      "overall_content: - Extraction Accuracy: Misses explicit mention of \"electron configuration\" as an entity and could better define the range of \"has_electron_configuration\".\n",
      "- Professional Validity: Could expand on \"WaveMechanics\" to include specific rules.\n",
      "- Comprehensiveness: Lacks depth in capturing the full scope of electron configuration rules.\n",
      "- Knowledge Independence: Could benefit from more detailed definitions and examples.\n",
      "\n"
     ]
    },
    {
     "name": "stdout",
     "output_type": "stream",
     "text": [
      "[6, 3, 4, 4, 18]\n",
      "reason_list\n",
      "assertions\n"
     ]
    },
    {
     "name": "stderr",
     "output_type": "stream",
     "text": [
      "2024/11/23 20:32:06 INFO dspy.primitives.assertions: SuggestionFailed: object_property: The ontology does not capture all key chemical interactions, such as the correlation of electron configurations with physical and chemical properties. Additionally, the \"correlates_with\" property is incomplete, and the use of \"some\" in \"is_distributed_among\" may not fully capture the complexity of electron distribution. Improvements should include adding missing interactions and refining relationship restrictions.\n",
      "ontology_structure: The ontology loses a point because the properties and relationships do not form a fully coherent chemical knowledge graph. The \"correlates_with\" property is incomplete, lacking a proper range entity, which affects the coherence and completeness of the ontology. To improve, ensure all properties have complete and accurate domain and range specifications, and verify that all relationships are meaningful and accurately reflect the chemical concepts they are intended to represent.\n",
      "\n"
     ]
    },
    {
     "name": "stdout",
     "output_type": "stream",
     "text": [
      "[6, 3, 3, 3, 20]\n",
      "reason_list\n",
      "assertions\n",
      "[6, 3, 3, 3, 20]\n",
      "0.8366666666666667\n",
      "Average Metric: 2.34 / 3 (78.1%): 100%|██████████| 3/3 [07:23<00:00, 147.73s/it]"
     ]
    },
    {
     "name": "stderr",
     "output_type": "stream",
     "text": [
      "2024/11/23 20:32:06 INFO dspy.evaluate.evaluate: Average Metric: 2.341666666666667 / 3 (78.1%)\n"
     ]
    },
    {
     "name": "stdout",
     "output_type": "stream",
     "text": [
      "\n"
     ]
    },
    {
     "data": {
      "text/html": [
       "<div>\n",
       "<style scoped>\n",
       "    .dataframe tbody tr th:only-of-type {\n",
       "        vertical-align: middle;\n",
       "    }\n",
       "\n",
       "    .dataframe tbody tr th {\n",
       "        vertical-align: top;\n",
       "    }\n",
       "\n",
       "    .dataframe thead th {\n",
       "        text-align: right;\n",
       "    }\n",
       "</style>\n",
       "<table border=\"1\" class=\"dataframe\">\n",
       "  <thead>\n",
       "    <tr style=\"text-align: right;\">\n",
       "      <th></th>\n",
       "      <th>example_context</th>\n",
       "      <th>pred_context</th>\n",
       "      <th>ontology</th>\n",
       "      <th>score_info</th>\n",
       "      <th>metric</th>\n",
       "    </tr>\n",
       "  </thead>\n",
       "  <tbody>\n",
       "    <tr>\n",
       "      <th>0</th>\n",
       "      <td>· The majority of $\\alpha$ particles penetrated the foil undeflect...</td>\n",
       "      <td>· The majority of $\\alpha$ particles penetrated the foil undeflect...</td>\n",
       "      <td>entities=[Entity(name='Alpha_Particles', information='Alpha partic...</td>\n",
       "      <td>Entity Score: 0.8333333333333334 Data Property Score: 1.0 Object P...</td>\n",
       "      <td>✔️ [0.852]</td>\n",
       "    </tr>\n",
       "    <tr>\n",
       "      <th>1</th>\n",
       "      <td>34. Explain why these reactions cannot occur as written. (a) (b) ...</td>\n",
       "      <td>34. Explain why these reactions cannot occur as written. (a) (b) ...</td>\n",
       "      <td>entities=[Entity(name='Iron(III) ion (Fe^{3+}(aq))', information='...</td>\n",
       "      <td>Entity Score: 0.6666666666666666 Data Property Score: 1.0 Object P...</td>\n",
       "      <td>✔️ [0.653]</td>\n",
       "    </tr>\n",
       "    <tr>\n",
       "      <th>2</th>\n",
       "      <td>The electron configuration of an atom is a designation of how elec...</td>\n",
       "      <td>The electron configuration of an atom is a designation of how elec...</td>\n",
       "      <td>entities=[Entity(name='Atom', information='An atom is the basic un...</td>\n",
       "      <td>Entity Score: 1.0 Data Property Score: 1.0 Object Property Score: ...</td>\n",
       "      <td>✔️ [0.837]</td>\n",
       "    </tr>\n",
       "  </tbody>\n",
       "</table>\n",
       "</div>"
      ],
      "text/plain": [
       "                                                         example_context  \\\n",
       "0  · The majority of $\\alpha$ particles penetrated the foil undeflect...   \n",
       "1   34. Explain why these reactions cannot occur as written. (a) (b) ...   \n",
       "2  The electron configuration of an atom is a designation of how elec...   \n",
       "\n",
       "                                                            pred_context  \\\n",
       "0  · The majority of $\\alpha$ particles penetrated the foil undeflect...   \n",
       "1   34. Explain why these reactions cannot occur as written. (a) (b) ...   \n",
       "2  The electron configuration of an atom is a designation of how elec...   \n",
       "\n",
       "                                                                ontology  \\\n",
       "0  entities=[Entity(name='Alpha_Particles', information='Alpha partic...   \n",
       "1  entities=[Entity(name='Iron(III) ion (Fe^{3+}(aq))', information='...   \n",
       "2  entities=[Entity(name='Atom', information='An atom is the basic un...   \n",
       "\n",
       "                                                              score_info  \\\n",
       "0  Entity Score: 0.8333333333333334 Data Property Score: 1.0 Object P...   \n",
       "1  Entity Score: 0.6666666666666666 Data Property Score: 1.0 Object P...   \n",
       "2  Entity Score: 1.0 Data Property Score: 1.0 Object Property Score: ...   \n",
       "\n",
       "       metric  \n",
       "0  ✔️ [0.852]  \n",
       "1  ✔️ [0.653]  \n",
       "2  ✔️ [0.837]  "
      ]
     },
     "metadata": {},
     "output_type": "display_data"
    },
    {
     "data": {
      "text/plain": [
       "78.06"
      ]
     },
     "execution_count": 16,
     "metadata": {},
     "output_type": "execute_result"
    }
   ],
   "source": [
    "evaluate(chemonto_with_assertions)"
   ]
  },
  {
   "cell_type": "code",
   "execution_count": 21,
   "metadata": {},
   "outputs": [
    {
     "name": "stderr",
     "output_type": "stream",
     "text": [
      "  0%|          | 0/10 [00:00<?, ?it/s]2024/11/23 20:34:53 INFO dspy.primitives.assertions: SuggestionFailed: entity: The entities may not be applied effectively across different chemical subdomains without modification. To improve transferability, consider including more general definitions or categorizations that could apply to a variety of chemical reactions, regardless of the specific reactants or products involved.\n",
      "object_property: The ontology captures the interaction and products correctly, but the Domain for the 'produces' property should specify which entity produces the product. Additionally, domain specification for 'produces' could instead focus on both reactants as input entities, emphasizing their collective role in the reaction rather than attempting to apply without clarity to individual alignments.\n",
      "ontology_structure: - Entities do not span all levels of chemical granularity mentioned; \"mole\" is not explicitly an entity.\n",
      "- Definitions and usage of entities could be more detailed to represent roles beyond participation in reaction.\n",
      "overall_content: - Extraction Accuracy (3/6): Minor extraction omissions, particularly concerning ΔrH.\n",
      "- Professional Validity (6/6): Aligns well with chemical expertise on reaction details.\n",
      "- Comprehensiveness (3/6): Lacks complete detail on the enthalpy of reaction per mole.\n",
      "- Knowledge Independence (3/6): Some properties like ΔrH not fully elaborated for independent comprehension.\n",
      "\n"
     ]
    },
    {
     "name": "stdout",
     "output_type": "stream",
     "text": [
      "[5, 3, 4, 3, 15]\n",
      "reason_list\n",
      "assertions\n"
     ]
    },
    {
     "name": "stderr",
     "output_type": "stream",
     "text": [
      "2024/11/23 20:36:06 INFO dspy.primitives.assertions: SuggestionFailed: object_property: While the ontology correctly captures the chemical interactions and principles, the use of 'some' as the only restriction might suggest combinations beyond the specified stoichiometry of the chemical reaction, which could be made more precise with 'only' restrictions considering the defined context of fixed reactant amounts.\n",
      "overall_content: 1. **Extraction Accuracy (5/6):** High accuracy but missed emphasizing the unit of enthalpy change per mole as a critical detail.\n",
      "2. **Professional Validity (5/6):** Aligns well with scientific principles overall, requiring clearer separation of ΔrH as per mole.\n",
      "3. **Comprehensiveness (3/6):** Captures most elements, but deeper explication of ΔrH versus total enthalpy change could improve completeness.\n",
      "4. **Knowledge Independence (2/6):** Good independence but some aspects require text-based context for clear interpretation.\n",
      "\n"
     ]
    },
    {
     "name": "stdout",
     "output_type": "stream",
     "text": [
      "[6, 3, 4, 4, 15]\n",
      "reason_list\n",
      "assertions\n"
     ]
    },
    {
     "name": "stderr",
     "output_type": "stream",
     "text": [
      "2024/11/23 20:39:12 INFO dspy.primitives.assertions: SuggestionFailed: object_property: The object properties do capture some key chemical interactions, but there are points of enhancement, such as integrating the detailed mechanics of energy involvement and refining relationship restrictions. The current setup meets domain and range necessities and holds validity, yet could benefit from broader complexity acknowledgment in 'only' applications or chemical reaction intricacies involving energy changes more thoroughly.\n",
      "overall_content: There are slight inaccuracies in the representation of \"enthalpy_of_reaction_per_mole.\" The ontology could also enhance professional validity and comprehensiveness by specifying more details, especially conditions affecting the enthalpy change, and elaborating thoroughly on \"enthalpy_of_reaction_per_mole.\" Improving clarity in these areas would facilitate understanding and align better with expert-level chemistry.\n",
      "\n",
      " 10%|█         | 1/10 [05:08<46:19, 308.88s/it]"
     ]
    },
    {
     "name": "stdout",
     "output_type": "stream",
     "text": [
      "[6, 3, 3, 5, 19]\n",
      "reason_list\n",
      "assertions\n",
      "[6, 3, 3, 5, 19]\n",
      "0.9283333333333333\n"
     ]
    },
    {
     "name": "stderr",
     "output_type": "stream",
     "text": [
      "2024/11/23 20:40:18 INFO dspy.primitives.assertions: SuggestionFailed: entity: The ontology misses a full score due to redundancy in Object Properties, like the dual use of \"has_geometry\" for different entities without proper differentiation. To improve, it can introduce unique Object Property names for distinct contexts or explicitly delineate properties to avoid ambiguity.\n",
      "object_property: 1. Domain and range specifications, especially the use of 'Type: union', are not universally necessary and lack clarity. \n",
      "2. Existing domain and range specifications require further detail to ensure full chemical accuracy, potentially adjusting 'Type: union' to more specific options.\n",
      "3. The object property for `has_geometry` does not fully capture options like 'trigonal-planar' or other geometries beyond 'linear', meaning potential omissions in completeness.\n",
      "4. Consider standardizing the use of relationship restrictions for comprehensive chemical integrity.\n",
      "ontology_structure: - Entities span all levels of chemical granularity mentioned in the text: Partial, missing explicit definitions for critical entities 'Geometry' and 'Hybridization'.\n",
      "- Properties and relationships form a coherent chemical knowledge graph: Partial, requires more detailed and exhaustive mapping of all described entities.\n",
      "- Semantic clarity and independence: Insufficiently clear without text reference.\n",
      "- Consistency of definitions: Achieved, but needs more detailed connectivity.\n",
      "\n",
      "Suggestions for improvement include defining and incorporating specific entities for different geometrical results (e.g., Linear, Trigonal-planar, Tetrahedral) and hybridization states, ensuring that these are explicitly represented within the ontology.\n",
      "overall_content: - **Extraction Accuracy (4/6 points)**: Duplicate `has_geometry` object properties might need separate clarification instead of shared definitions to avoid redundancy.\n",
      "- **Comprehensiveness (4/6 points)**: There could be more explicit data properties describing orientations for full information extraction on molecular geometries.\n",
      "- **Knowledge Independence (3/6 points)**: Descriptions depend heavily on the source context, lacking independent entity comprehensibility.\n",
      "\n"
     ]
    },
    {
     "name": "stdout",
     "output_type": "stream",
     "text": [
      "[5, 3, 3, 3, 17]\n",
      "reason_list\n",
      "assertions\n"
     ]
    },
    {
     "name": "stderr",
     "output_type": "stream",
     "text": [
      "2024/11/23 20:41:02 ERROR dspy.teleprompt.bootstrap: Failed to run or to evaluate example Example({'context': 'According to VSEPR theory, in both structures (I) and (II) the electron-group geometry around $\\\\mathrm{N_{b}}$ is linear. This corre- sponds to $s p$ hybridization. In structure (I), the electron-group\\n\\n  geometry around $\\\\mathrm{{N_{a}}}$ is trigonal-planar, corresponding to\\n\\n $\\\\stackrel{\\\\smile}{s p^{2}}$ hybridization; in structure (Il), the electron-group geome- try around $\\\\mathrm{{N_{a}}}$ is tetrahedral, corresponding to $\\\\tilde{s}p^{3}$ hybridiza- tion. These hybridization schemes, the orbital overlaps, and the geometric structures of the two resonance structures are  indicated on the right. '}) (input_keys={'context'}) with <function metric at 0x000001C0619F4C20> due to 1 validation error for Ontology\n",
      "object_properties.2.name\n",
      "  Field required [type=missing, input_value={}, input_type=dict]\n",
      "    For further information visit https://errors.pydantic.dev/2.9/v/missing.\n",
      "<unknown>:33: SyntaxWarning: invalid escape sequence '\\m'\n",
      "<unknown>:37: SyntaxWarning: invalid escape sequence '\\m'\n",
      "<unknown>:41: SyntaxWarning: invalid escape sequence '\\m'\n",
      "<unknown>:45: SyntaxWarning: invalid escape sequence '\\m'\n",
      "<unknown>:49: SyntaxWarning: invalid escape sequence '\\m'\n",
      "<unknown>:53: SyntaxWarning: invalid escape sequence '\\m'\n",
      "2024/11/23 20:42:03 INFO dspy.primitives.assertions: SuggestionFailed: object_property: The ontology does not fully capture all key chemical interactions, specifically the interplay between hybridization and electron-group geometry, or potential interactions between different entities. To improve, additional object properties could be introduced to represent these interactions and enrich the ontology's completeness.\n",
      "\n"
     ]
    },
    {
     "name": "stdout",
     "output_type": "stream",
     "text": [
      "[6, 3, 4, 4, 24]\n",
      "reason_list\n",
      "assertions\n"
     ]
    },
    {
     "name": "stderr",
     "output_type": "stream",
     "text": [
      "2024/11/23 20:42:44 INFO dspy.primitives.assertions: SuggestionFailed: entity: The ontology meets all criteria except for definitive applicability across different chemical subdomains. To improve, it could include additional context or entities that relate to broader chemical applications or subdomains beyond the specific resonance structures and hybridization states described.\n",
      "object_property: The ontology meets most of the criteria, capturing key interactions and using valid chemical principles. However, there is a lack of clarity in the relationship between electron-group geometry and hybridization, which could be enhanced. Additionally, while the 'some' restriction is applied, the nuanced chemical relationship could be better articulated to improve chemical validity.\n",
      "\n"
     ]
    },
    {
     "name": "stdout",
     "output_type": "stream",
     "text": [
      "[5, 3, 4, 4, 22]\n",
      "reason_list\n",
      "assertions\n"
     ]
    },
    {
     "name": "stderr",
     "output_type": "stream",
     "text": [
      "2024/11/23 20:44:03 INFO dspy.primitives.assertions: SuggestionFailed: object_property: The ontology does not fully capture all key chemical interactions, as some connections to specific nitrogen atoms and resonance structures are missing. Domain and range specifications could be more precise, and relationship restrictions could be better applied to reflect the precise chemical contexts. Improvements could include defining more specific object properties for interactions directly involving resonance structures and nitrogen atoms, and applying more restrictive conditions where appropriate.\n",
      "overall_content: The ontology has minor errors in terminology and misses capturing the concept of resonance, which is essential for comprehensiveness. Additionally, some entities and properties might require context from the source text for full understanding, affecting knowledge independence.\n",
      "\n"
     ]
    },
    {
     "name": "stdout",
     "output_type": "stream",
     "text": [
      "[6, 3, 3, 4, 15]\n",
      "reason_list\n",
      "assertions\n"
     ]
    },
    {
     "name": "stderr",
     "output_type": "stream",
     "text": [
      " 20%|██        | 2/10 [10:29<42:06, 315.80s/it]"
     ]
    },
    {
     "name": "stdout",
     "output_type": "stream",
     "text": [
      "[4, 3, 4, 3, 24]\n",
      "0.8433333333333334\n"
     ]
    },
    {
     "name": "stderr",
     "output_type": "stream",
     "text": [
      "2024/11/23 20:45:13 INFO dspy.primitives.assertions: SuggestionFailed: entity: The ontology does not account for the broader application across various chemical subdomains beyond the specific system of sulfur and oxygen compounds, which limits its universal applicability.\n",
      "\n"
     ]
    },
    {
     "name": "stdout",
     "output_type": "stream",
     "text": [
      "[5, 3, 5, 4, 20]\n",
      "reason_list\n",
      "assertions\n"
     ]
    },
    {
     "name": "stderr",
     "output_type": "stream",
     "text": [
      "2024/11/23 20:46:07 INFO dspy.primitives.assertions: SuggestionFailed: entity: The ontology does not fully account for the potential redundancy when treating compounds only by mass properties, lacks an explicit framework supporting extensibility and integration with more comprehensive ontologies, and its application seems limited to this specific demonstration of Dalton's law rather than across chemical subdomains.\n",
      "ontology_structure: The ontology did not meet the following criteria:\n",
      "\n",
      "1. **Properties and relationships form a coherent chemical knowledge graph:** The properties could be refined for precision, particularly regarding 'illustrates_Dalton's_Law' and ensuring clear alignment with compounds and the chemical laws they're meant to illustrate.\n",
      "\n",
      "2. **The ontology maintains semantic clarity independent of source text:** The ontology needs greater detail, such as explicit mass ratio calculations aligned with Dalton's law, to maintain semantic clarity and completeness without requiring external context or assumptions from the reader.\n",
      "\n"
     ]
    },
    {
     "name": "stdout",
     "output_type": "stream",
     "text": [
      "[3, 3, 5, 3, 21]\n",
      "reason_list\n",
      "assertions\n"
     ]
    },
    {
     "name": "stderr",
     "output_type": "stream",
     "text": [
      "2024/11/23 20:46:51 INFO dspy.primitives.assertions: SuggestionFailed: entity: The ontology lacks a specific alignment with the detailed proportion aspects of Dalton's law, which is a missed opportunity to strengthen its linkage to core chemical principles. Including more explicit references to the exact mass ratios (i.e., showing how 0.998:1.497 compares in terms of small integer ratios) would improve its comprehensiveness and teaching utility.\n",
      "object_property: - Domain and range specifications only exist when necessary: This criterion is not fully met as the domain for `demonstrates_Dalton_law` is unnecessary and should focus on clarity of the relationship rather than existence.\n",
      "- Existing domain and range specifications are chemically valid: While they are related to the formation of compounds, they do not clearly cover all interactions or necessary chemical specificity.\n",
      "- Relationship restrictions are correctly understood, but they need more specificity in terms of possible interactions related to demonstrating Dalton's law properly and affordably.\n",
      "overall_content: Extraction Accuracy: 4/6. While entities and properties are initially extracted correctly, the failure to explicitly enumerate the quantitative aspect of Dalton's law is a significant oversight.\n",
      "\n",
      "Professional Validity: 5/6. There is a solid alignment with chemical principles, but missing detailed quantitative validation restricts its professional validity.\n",
      "\n",
      "Comprehensiveness: 3/6. The ontology fails to extract critical data related to Dalton’s law ratios, leading to incomplete representation of the text.\n",
      "\n",
      "Knowledge Independence: 4/6. Basic chemical relations are clear, but deeper understanding necessitates source text context, mainly due to missing explicit ratio calculations.\n",
      "\n",
      " 30%|███       | 3/10 [12:48<27:25, 235.00s/it]"
     ]
    },
    {
     "name": "stdout",
     "output_type": "stream",
     "text": [
      "[5, 3, 3, 5, 16]\n",
      "reason_list\n",
      "assertions\n",
      "[5, 3, 3, 5, 16]\n",
      "0.8700000000000001\n"
     ]
    },
    {
     "name": "stderr",
     "output_type": "stream",
     "text": [
      "2024/11/23 20:47:36 INFO dspy.primitives.assertions: SuggestionFailed: object_property: The ontology missed capturing all specific chemical interactions, for instance by not clearly defining the interaction between copper and oxygen atoms in copper oxides beyond mass percentage. To improve, provide properties explaining atomic ratios or direct interatomic relationships. Furthermore, simplify domain and range where unnecessary.\n",
      "ontology_structure: The ontology does not fully maintain semantic clarity independent of the source text. Context from the source is necessary to understand the relationships. Additionally, there is insufficient cross-referencing between concepts, which could be improved by explicitly detailing the connections and compositional ratios. Improving these areas would enhance its usefulness and coherence.\n",
      "overall_content: The ontology, while capturing most key entities and properties, fails to explicitly detail the required atomic ratios for \"Unknown Carbon Oxide\" and misses some details necessary for a completely accurate chemical interpretation. Enhancements should include specifying these ratios and ensuring all entity and property details align fully with chemical principles.\n",
      "\n"
     ]
    },
    {
     "name": "stdout",
     "output_type": "stream",
     "text": [
      "[6, 3, 3, 3, 17]\n",
      "reason_list\n",
      "assertions\n"
     ]
    },
    {
     "name": "stderr",
     "output_type": "stream",
     "text": [
      "2024/11/23 20:48:15 INFO dspy.primitives.assertions: SuggestionFailed: object_property: - Object properties are not comprehensive in capturing all possible chemical relationships, particularly missing additional interrelations between entities like Copper Oxide 1 and 2.\n",
      "- Domain specifications may not be entirely necessary for capturing chemistry-focused relationships; a more precise alignment with necessary domains could enhance clarity and alignment with principles.\n",
      "- With a broader inclusion of related chemical entities and explicit chemical reactions or states, improved relationships could emerge.\n",
      "ontology_structure: - Entities span all levels of chemical granularity mentioned in the text (1 point)\n",
      "- Properties and relationships do not form a fully coherent chemical knowledge graph (-1 point)\n",
      "- The ontology does not maintain semantic clarity independent of source text (-1 point)\n",
      "- Cross-references between concepts are not meaningful and accurate (-1 point)\n",
      "- Definitions and usage of entities are consistent throughout the ontology (1 point)\n",
      "\n",
      "To improve, the ontology should better articulate the compositional relationships and ensure cross-references reflect accurate chemical interconnections, especially between known and unknown oxides.\n",
      "overall_content: The ontology inaccurately relates the Unknown Carbon Oxide's composition to Carbon Monoxide without proper stoichiometric detailing. It lacks the full extraction of stoichiometric data necessary to evaluate the law of multiple proportions. To improve, explicitly calculate and express the elemental ratios, demonstrating the law of multiple proportions more clearly, and avoid incorrect linkages between different oxides unless proven in the text.\n",
      "\n"
     ]
    },
    {
     "name": "stdout",
     "output_type": "stream",
     "text": [
      "[6, 3, 3, 2, 12]\n",
      "reason_list\n",
      "assertions\n"
     ]
    },
    {
     "name": "stderr",
     "output_type": "stream",
     "text": [
      "2024/11/23 20:49:00 INFO dspy.primitives.assertions: SuggestionFailed: entity: Entities fail to capture full abstraction levels and are marginally expandable for broader ontology integration. Increasing abstraction with general concepts like \"metal oxide\" or \"binary compound,\" together with relational context (e.g., \"derives from\"), can address these gaps.\n",
      "object_property: The ontology does not capture all key chemical interactions specifically related to the law of multiple proportions for the copper and carbon oxides. Object properties do not completely reflect valid chemical principles, as they fail to establish clear compositional ratios. Domains and ranges are underdefined with their existence marked as false. This limits the ontology’s ability to accurately model potential interactions, and the use of 'some' as a relationship restriction is too vague to be meaningful. Suggestions for improvement include defining domain and range where applicable, ensuring object properties represent key chemical interactions, and using more precise restriction terms.\n",
      "ontology_structure: The ontology does not fully form a coherent knowledge graph as it lacks explicit relationships (object properties are absent or undefined for chemical bonds or ratio definitions). The semantic clarity of Copper Oxide 2 and the unknown carbon oxide requires contextual information from the text. Cross-references between similar compounds (e.g., between Copper Oxide 1 and Copper Oxide 2) could enhance meaning and accuracy. To improve, the ontology should explicitly define object properties that establish ratios and interconnections between compounds and enhance semantic independence by providing complete definitions within the ontology.\n",
      "overall_content: - **Extraction Accuracy:** Minor issues with how ratio information could be directly utilized or calculated.\n",
      "- **Professional Validity:** Slight misalignment with expected professional chemical extraction methods due to incomplete data contexts.\n",
      "- **Comprehensiveness:** Missing detailed ratios and chemical properties affects overall completeness.\n",
      "- **Knowledge Independence:** Reliance on source text for understanding some aspects.\n",
      "\n",
      " 40%|████      | 4/10 [14:56<19:17, 192.88s/it]"
     ]
    },
    {
     "name": "stdout",
     "output_type": "stream",
     "text": [
      "[4, 3, 1, 2, 14]\n",
      "reason_list\n",
      "assertions\n",
      "[4, 3, 1, 2, 14]\n",
      "0.59\n"
     ]
    },
    {
     "name": "stderr",
     "output_type": "stream",
     "text": [
      "2024/11/23 20:49:46 INFO dspy.primitives.assertions: SuggestionFailed: entity: - The ontology successfully identifies relevant entities with specific names but does not fully leverage structural characterizations useful for expansion in various chemical domains.\n",
      "- The ontology fails to integrate data with the defined ionization energy in practice, making it underutilized.\n",
      "- There is slight redundancy in entity representation of ions within isoelectronic series that could be optimized.\n",
      "data_property: The ontology correctly defines a data property for ionization energy as a value-based attribute, describing a single characteristic. However, it does not include explicit values for these energies, nor are they provided in the text. To improve, the ontology should include actual ionization energy values or ensure the text explicitly mentions them.\n",
      "object_property: The ontology does not apply the 'only' restriction where it clearly might be more suitable, suggesting improvement. The 'some' restriction should be changed to 'only' to reflect the comprehensive linear relationship between ionization energy and atomic number across the entire series.\n",
      "overall_content: - **Extraction Accuracy**: Score is 3 because extraction lacks specific ionization energy data crucial for full data property reliability.\n",
      "- **Comprehensiveness**: Score is 3 due to missing specific numerical ionization energies and the absence of representation for the linear relationship concept within the ontology itself.\n",
      "- **Knowledge Independence**: Score is 3 as detailed understanding of ionization energies requires the context of the source text.\n",
      "\n"
     ]
    },
    {
     "name": "stdout",
     "output_type": "stream",
     "text": [
      "[4, 2, 4, 4, 18]\n",
      "reason_list\n",
      "assertions\n"
     ]
    },
    {
     "name": "stderr",
     "output_type": "stream",
     "text": [
      "2024/11/23 20:50:31 INFO dspy.primitives.assertions: SuggestionFailed: entity: The entity names, like \"IsoelectronicSeries_1\", lack descriptive quality and specificity, which affects criteria 2. Additionally, while fundamental, the choice of naming may limit applicability and integration, impacting criteria 5 and 6. Improvements can include more informative naming conventions that clearly relate the series to their chemical context and intended use.\n",
      "data_property: The ontology meets the criteria for being a value-based attribute and describing a single measurable characteristic. However, it lacks explicit mention of the ionization energy values for the mentioned series. Providing these values within the ontology or text would complete the data property description, earning a higher score.\n",
      "object_property: - Object properties do not reflect valid chemical principles since the 'ionization energy' is improperly generalised without specified values for each series.\n",
      "- Existing domain and range specifications are not entirely chemically valid due to their generalized application, failing to link varied energy values to atomic numbers.\n",
      "\n",
      "To improve, separate data properties for ionization energies in each series should be included, capturing accuracy of individual ionization energies, and addressing range specifications specific to these distinct values rather than a generic placeholder.\n",
      "ontology_structure: The ontology does not include specific ionization energy values for each species, thus lacking granularity mentioned in the text. Improving this by adding actual ionization energy values will enhance consistency and provide a precise and comprehensive picture.\n",
      "overall_content: The ontology does not provide ionization energy values for the isoelectronic series, which are crucial for understanding the linear relationship demonstrated in the text. Adding these values would enhance both extraction accuracy and comprehensiveness. Furthermore, detailing the linear relationship more thoroughly, possibly with annotation or examples, could improve understanding and professional validity.\n",
      "\n"
     ]
    },
    {
     "name": "stdout",
     "output_type": "stream",
     "text": [
      "[4, 2, 3, 3, 16]\n",
      "reason_list\n",
      "assertions\n"
     ]
    },
    {
     "name": "stderr",
     "output_type": "stream",
     "text": [
      "2024/11/23 20:51:13 INFO dspy.primitives.assertions: SuggestionFailed: entity: The ontology does not appear to be easily applicable across different chemical subdomains. Improvement could include broadening definitions or creating additional entities that connect to other chemical properties or reactions, ensuring applicability beyond the specified linear relationship. Additionally, correcting type errors in entity names will improve specificity and accuracy as required in chemical representation.\n",
      "data_property: The ontology does not provide explicit ionization energy values which are absent in the text; hence, the third criterion is not met. To improve this, specific numerical values of ionization energies should be mentioned in the text and reflected in the ontology.\n",
      "overall_content: - **Extraction Accuracy:** Some data properties missing (specifically ionization energies) and lack of reference to the square root transformation; 2 points were deducted.\n",
      "- **Professional Validity:** Omitted details relating to the square root transformation of ionization energies affected chemical expertise alignment; 2 points were deducted.\n",
      "- **Comprehensiveness:** Missing specific details (e.g., transformation applied to ionization energies); 3 points were awarded.\n",
      "- **Knowledge Independence:** Some data requires background context to fully understand due to missing values and unspecified transformations; 4 points were deducted.\n",
      "\n",
      " 50%|█████     | 5/10 [17:09<14:16, 171.30s/it]"
     ]
    },
    {
     "name": "stdout",
     "output_type": "stream",
     "text": [
      "[5, 2, 5, 4, 13]\n",
      "reason_list\n",
      "assertions\n",
      "[5, 2, 5, 4, 13]\n",
      "0.8083333333333333\n"
     ]
    },
    {
     "name": "stderr",
     "output_type": "stream",
     "text": [
      "2024/11/23 20:51:59 INFO dspy.primitives.assertions: SuggestionFailed: object_property: The ontology does not fully identify all key chemical interactions, particularly in using \"required_mass\" which is more of a stoichiometric detail than a chemical interaction. It could be improved by refining the explanation and purpose of object properties to more accurately reflect relationships in chemical reactions, possibly introducing additional properties that capture stoichiometric dependencies instead of objective mass requirements.\n",
      "ontology_structure: The ontology lacks detailed conversion operations for quantities like kilograms needed for problem (b) and does not explicitly handle the intricacies of mass percent and density conversions, which are crucial for full alignment with the assessment text.\n",
      "overall_content: - **Extraction Accuracy:** The absence of balanced equation details and stoichiometry impacts overall accuracy. Improvement can be achieved by including these aspects in object properties.\n",
      "- **Professional Validity:** Including stoichiometric coefficients and ensuring all chemical principles needed for the calculations align with expertise will elevate this criterion.\n",
      "- **Comprehensiveness:** Complete the ontology by adding stoichiometric ratios and specifying the reaction's balanced equation within the entity relationships.\n",
      "- **Knowledge Independence:** Enhance the descriptions and definitions of properties such that their meaning and importance are understandable without relying on the problem context.\n",
      "\n"
     ]
    },
    {
     "name": "stdout",
     "output_type": "stream",
     "text": [
      "[6, 3, 3, 3, 12]\n",
      "reason_list\n",
      "assertions\n"
     ]
    },
    {
     "name": "stderr",
     "output_type": "stream",
     "text": [
      "2024/11/23 20:53:02 INFO dspy.primitives.assertions: SuggestionFailed: entity: The ontology does not include entities that capture all levels of abstraction required by the assessed text, specifically the quantification and conversion concepts necessary for solving the problem. To improve, incorporate entities for \"Molar Mass\", \"Mass Conversion\", and ensure clear definition of all calculation steps that align with real aspects of chemical problem-solving. Additionally, generalize entities to support a variety of calculations, fostering multi-domain applicability.\n",
      "object_property: The ontology receives a score of 4 because, while it effectively captures key chemical interactions and correctly applies domain and range specifications and restrictions, it is not fully comprehensive in detailing the complete scope of the reaction, particularly in capturing product formation and all interaction phases. Improvements could be made by including detailed object properties to encompass the resultant products and intermediate changes during the reaction.\n",
      "ontology_structure: The ontology did not maintain full semantic clarity independent of the source text. The cross-reference under the \"mass_conversion\" property is inconsistent, leading to a lack of semantic clarity. To improve, all property domains should match the entity labels accurately, and every property should have explicit information on its relationships and constraints. Furthermore, increasing the independence of the ontology by providing definitions that do not assume context from the problem description should be prioritized.\n",
      "overall_content: - **Extraction Accuracy**: Non-critical error in chemical name (HCi vs HCl) and lack of clarity in properties. Recommended improvement: Ensure consistency and accuracy in chemical terminology and clarify Data and Object Properties with precise domains and ranges.\n",
      "- **Professional Validity**: Deviations in expressing full chemical principles. Recommended improvement: Clearly address all chemical concepts with detailed explanations and correct missing mass conversion principles.\n",
      "- **Comprehensiveness**: Missing details for clear problem breakdown and essential calculations. Recommended improvement: Include explicit conversion data and distinct parts labeling for complete detail extraction.\n",
      "- **Knowledge Independence**: Some aspects require external context for understanding. Recommended improvement: Improve the description and example usage for independently understanding properties without the original text.\n",
      "\n"
     ]
    },
    {
     "name": "stdout",
     "output_type": "stream",
     "text": [
      "[4, 3, 4, 3, 12]\n",
      "reason_list\n",
      "assertions\n"
     ]
    },
    {
     "name": "stderr",
     "output_type": "stream",
     "text": [
      "2024/11/23 20:53:45 ERROR dspy.teleprompt.bootstrap: Failed to run or to evaluate example Example({'context': '(a) How many grams of $\\\\mathrm{{Ca}(O H)}_{2}$ are required to react completely with $415\\\\,\\\\mathrm{mL}$ of 0.477 M HCi? (b) How many kilograms of $\\\\mathrm{{Ca}(O H)}_{2}$ are required to react with $324~\\\\mathrm{{L}}$ of a HCl solution that is $24.28\\\\%$ HC1 by mass, and has a density of $1.12\\\\:\\\\mathrm{g/mL?}\\n\\n$ '}) (input_keys={'context'}) with <function metric at 0x000001C0619F4C20> due to 1 validation error for Ontology\n",
      "object_properties\n",
      "  Field required [type=missing, input_value={'entities': [{'name': 'C... Acid(HCl)': '324 L'}}]}, input_type=dict]\n",
      "    For further information visit https://errors.pydantic.dev/2.9/v/missing.\n",
      "2024/11/23 20:54:22 INFO dspy.primitives.assertions: SuggestionFailed: entity: The ontology does not fully capture concepts across all levels of abstraction, nor does it currently support future expansion or integration with other ontologies due to its lack of abstraction and broader chemical reaction context. To improve, the ontology could include broader categories like \"Chemical Reaction\" and \"Stoichiometry\" to enhance abstraction and integration capabilities.\n",
      "object_property: The relationship restrictions ('only'/'some') are not optimally used. Employing the \"only\" restriction or providing more precise stoichiometric constraints could improve the specificity and accuracy of the ontology in depicting the chemical interaction.\n",
      "ontology_structure: The ontology does not fully span all levels of chemical granularity mentioned in the text, specifically missing the balanced chemical reaction details. To improve, it should include stoichiometric coefficients and the resulting products to provide a complete picture of the chemical interactions.\n",
      "overall_content: - **Extraction Accuracy:** The formula \"HCi\" should be corrected to \"HCl,\" and the units for the mass of Ca(OH)₂ should be included.\n",
      "- **Professional Validity:** Minor impact due to the typo \"HCi.\"\n",
      "- **Comprehensiveness:** Missing units for mass and stoichiometry of the reaction.\n",
      "- **Knowledge Independence:** Context of problem-solving requirements is partially missing.\n",
      "\n"
     ]
    },
    {
     "name": "stdout",
     "output_type": "stream",
     "text": [
      "[4, 3, 4, 3, 18]\n",
      "reason_list\n",
      "assertions\n"
     ]
    },
    {
     "name": "stderr",
     "output_type": "stream",
     "text": [
      "2024/11/23 20:55:17 INFO dspy.primitives.assertions: SuggestionFailed: ontology_structure: The ontology misses the inclusion of a mass concept and an entity for the product of the reaction, which would provide a more comprehensive chemical understanding. Additionally, more detailed definitions could enhance the clarity and utility of the ontology.\n",
      "overall_content: - Extraction Accuracy: Deducted points due to critical error in representing HCl as \"HC1\".\n",
      "- Comprehensiveness: Deducted points as mass information, crucial for problem-solving, is not directly extracted.\n",
      "\n"
     ]
    },
    {
     "name": "stdout",
     "output_type": "stream",
     "text": [
      "[6, 3, 5, 3, 18]\n",
      "reason_list\n",
      "assertions\n"
     ]
    },
    {
     "name": "stderr",
     "output_type": "stream",
     "text": [
      "2024/11/23 20:56:15 INFO dspy.primitives.assertions: SuggestionFailed: object_property: The ontology failed to apply the relationship restriction precisely. A more appropriate restriction, such as 'exactly', would better reflect the fixed stoichiometry of the reaction Ca(OH)₂ + 2HCl → CaCl₂ + 2H₂O.\n",
      "\n"
     ]
    },
    {
     "name": "stdout",
     "output_type": "stream",
     "text": [
      "[6, 3, 4, 4, 21]\n",
      "reason_list\n",
      "assertions\n"
     ]
    },
    {
     "name": "stderr",
     "output_type": "stream",
     "text": [
      " 60%|██████    | 6/10 [22:39<15:01, 225.33s/it]"
     ]
    },
    {
     "name": "stdout",
     "output_type": "stream",
     "text": [
      "[6, 3, 4, 4, 21]\n",
      "0.9349999999999999\n"
     ]
    },
    {
     "name": "stderr",
     "output_type": "stream",
     "text": [
      "2024/11/23 20:57:16 INFO dspy.primitives.assertions: SuggestionFailed: entity: The ontology is currently narrowly focused on redox reactions and does not support future expansion well due to its specificity. It also lacks versatility for application across various chemical subdomains. To improve, consider including more generalized entities or relationships that could facilitate integration with broader chemical concepts and ontologies.\n",
      "data_property: The data property \"electric_charge\" in the ontology is indeed a value-based attribute, meeting the first criterion. It describes a single measurable characteristic, fulfilling the second criterion. However, the values of this data property are not explicitly present in the assessed text, as the text only discusses the balancing of electric charge conceptually without specifying explicit values.\n",
      "object_property: - Object properties do not capture all key chemical interactions fully as it lacks a connection to chemical entities undergoing oxidation and reduction (0/1 point).\n",
      "- Object properties reflect the valid chemical principle of electron placement indicative of oxidation or reduction (1/1 point).\n",
      "- Domain and range exist potentially without specific necessity at the level of entities provided, as they should include specifics about chemical species (0/1 point).\n",
      "- Existing domain and range specifications are abstractly correct but lack specific application to distinct chemical species (1/1 point).\n",
      "- Relationship restriction 'some' is correctly applied given its context (1/1 point).\n",
      "ontology_structure: The ontology lacks comprehensive cross-references between detailed chemical species or additional conditions affecting redox reactions. To improve, it could include more detailed connections between entities, such as specific roles of ions or molecules involved in each half-equation, and additional properties that represent practical aspects of these processes.\n",
      "overall_content: Extraction Accuracy (4/6): Minor improvements can be made by clarifying definitions and relationships for better precision.\n",
      "\n",
      "Professional Validity (4/6): General principles are captured, but lacks detailed descriptions, impacting comprehensive alignment with chemical expertise.\n",
      "\n",
      "Comprehensiveness (4/6): Slightly lacks nuanced information such as procedural steps and specific examples or conditions.\n",
      "\n",
      "Knowledge Independence (4/6): Generally adequate, but more clarity would enhance understanding independently from the source text.\n",
      "\n"
     ]
    },
    {
     "name": "stdout",
     "output_type": "stream",
     "text": [
      "[4, 2, 3, 3, 16]\n",
      "reason_list\n",
      "assertions\n"
     ]
    },
    {
     "name": "stderr",
     "output_type": "stream",
     "text": [
      "2024/11/23 20:58:21 INFO dspy.primitives.assertions: SuggestionFailed: entity: - To improve the ontology for future expansion, consider explicitly detailing how these entities could integrate with other processes like electrochemistry, which frequently involve redox reactions. \n",
      "- For broader applicability, include more context-specific entities or properties that define variables like state of matter or concentration, potentially influencing redox behavior across different chemical subdomains.\n",
      "data_property: The data property \"electric_charge\" is correctly defined and value-based, describing a single measurable characteristic of half-equations. However, the text does not explicitly state the values or examples of electric charge, leading to a missing point in the criteria for explicit value documentation.\n",
      "object_property: - Object properties do not capture all key chemical interactions in redox processes, such as changes in oxidation state or potential energy changes of electrons, which could provide a richer representation of the chemistry.\n",
      "- While chemically valid, the domain and range specifications do not fully exploit possible relationships between other chemical entities in redox reactions beyond just the electron.\n",
      "- The relationship restriction \"some\" is correct, but more specificity could be beneficial for complete chemical clarity and representation.\n",
      "overall_content: - Extraction Accuracy: The ontology captures the essential entities but needs to detail more on charge balancing specifics.\n",
      "- Comprehensiveness: Lacks depth in methodology and specific examples which are critical for full understanding.\n",
      "- Knowledge Independence: While entities are mostly clear, certain object properties should be more self-explanatory.\n",
      "\n"
     ]
    },
    {
     "name": "stdout",
     "output_type": "stream",
     "text": [
      "[4, 2, 3, 4, 15]\n",
      "reason_list\n",
      "assertions\n"
     ]
    },
    {
     "name": "stderr",
     "output_type": "stream",
     "text": [
      "2024/11/23 20:58:31 INFO dspy.primitives.assertions: SuggestionFailed: entity: - To improve the ontology for future expansion, consider explicitly detailing how these entities could integrate with other processes like electrochemistry, which frequently involve redox reactions. \n",
      "- For broader applicability, include more context-specific entities or properties that define variables like state of matter or concentration, potentially influencing redox behavior across different chemical subdomains.\n",
      "data_property: The data property \"electric_charge\" is correctly defined and value-based, describing a single measurable characteristic of half-equations. However, the text does not explicitly state the values or examples of electric charge, leading to a missing point in the criteria for explicit value documentation.\n",
      "object_property: - Object properties do not capture all key chemical interactions in redox processes, such as changes in oxidation state or potential energy changes of electrons, which could provide a richer representation of the chemistry.\n",
      "- While chemically valid, the domain and range specifications do not fully exploit possible relationships between other chemical entities in redox reactions beyond just the electron.\n",
      "- The relationship restriction \"some\" is correct, but more specificity could be beneficial for complete chemical clarity and representation.\n",
      "overall_content: - Extraction Accuracy: The ontology captures the essential entities but needs to detail more on charge balancing specifics.\n",
      "- Comprehensiveness: Lacks depth in methodology and specific examples which are critical for full understanding.\n",
      "- Knowledge Independence: While entities are mostly clear, certain object properties should be more self-explanatory.\n",
      "\n",
      " 70%|███████   | 7/10 [24:28<09:21, 187.10s/it]"
     ]
    },
    {
     "name": "stdout",
     "output_type": "stream",
     "text": [
      "[4, 2, 3, 4, 15]\n",
      "reason_list\n",
      "assertions\n",
      "[4, 2, 3, 4, 15]\n",
      "0.7116666666666667\n"
     ]
    },
    {
     "name": "stderr",
     "output_type": "stream",
     "text": [
      "2024/11/23 20:59:15 INFO dspy.primitives.assertions: SuggestionFailed: entity: - The entity design does not explicitly demonstrate support for future expansion and integration with other ontologies. To improve, consider defining entities and relationships that are more modular and easily extendable.\n",
      "- Entities are not shown to have clear applicability across different chemical subdomains. It can be improved by presenting examples or notes on how these entities could be extended or mapped to different subdomains or use cases.\n",
      "object_property: - Lacked detailed property for capturing electron sharing or transfer dynamics.\n",
      "- Did not explicitly account for polarity nuances in chemical principles tied to electronegativity.\n",
      "ontology_structure: - Entities do not span all levels of chemical granularity (Details about gradients and electron transfer are missing).\n",
      "- Semantic clarity is lacking due to insufficient distinction between bond types.\n",
      "overall_content: - Extraction Accuracy: 3 points. The description for HCl as hydrochloric acid rather than as a molecule in gaseous form introduces a minor but important inaccuracy.\n",
      "- Professional Validity: 3 points. The partial ionic nature of NaCl's bond is mentioned in the text, yet the ontology suggests it as purely nonuniform without acknowledging the covalent trait.\n",
      "- Comprehensiveness: 3 points. The ontology does not capture the electrostatic potential map and color details, which are significant parts of the provided text.\n",
      "- Knowledge Independence: 6 points. Most extracted data are sufficiently understandable; however, examples and further clarity would enhance independence.\n",
      "\n"
     ]
    },
    {
     "name": "stdout",
     "output_type": "stream",
     "text": [
      "[4, 3, 4, 3, 15]\n",
      "reason_list\n",
      "assertions\n"
     ]
    },
    {
     "name": "stderr",
     "output_type": "stream",
     "text": [
      "2024/11/23 20:59:59 INFO dspy.primitives.assertions: SuggestionFailed: object_property: The object's properties capture several, but not all, key chemical interactions described in the text (e.g., gradation of electron density). It's recommended to add specific object properties capturing subtle interactions like partial electron transfer, as mentioned in the text for a more comprehensive representation.\n",
      "\n"
     ]
    },
    {
     "name": "stdout",
     "output_type": "stream",
     "text": [
      "[6, 3, 4, 4, 20]\n",
      "reason_list\n",
      "assertions\n"
     ]
    },
    {
     "name": "stderr",
     "output_type": "stream",
     "text": [
      "2024/11/23 21:01:11 INFO dspy.primitives.assertions: SuggestionFailed: object_property: To improve the ontology, the following enhancements should be considered:\n",
      "\n",
      "- Introduce additional object properties or refine existing ones to include more detailed chemical interactions, such as partial charge interactions for polar compounds like HCl. \n",
      "\n",
      "- Consider simplifying domain and range classifications where they are not adding substantial value or necessary precision, focusing instead on flexibility to accommodate various chemical characteristics described in the text.\n",
      "\n",
      "- Incorporate enhancements based on the details found in the electrostatic potential maps and how they relate to electron charge distribution, to more accurately model the molecular behavior described in the assessed text.\n",
      "overall_content: Extraction Accuracy: Minor non-critical errors such as misalignment in property attribution for molecules.\n",
      "Professional Validity: Mostly scientifically valid, but nuances in representation of properties like 'ionic character' can be improved.\n",
      "Comprehensiveness: Misses capturing some detailed information from the text, like color specifics linked to potential map insight.\n",
      "Knowledge Independence: Contextual clarity can be improved to achieve a fully independent understanding of the concepts.\n",
      "\n",
      " 80%|████████  | 8/10 [27:08<06:47, 203.54s/it]"
     ]
    },
    {
     "name": "stdout",
     "output_type": "stream",
     "text": [
      "[6, 3, 3, 4, 16]\n",
      "reason_list\n",
      "assertions\n",
      "[6, 3, 3, 4, 16]\n",
      "0.8533333333333333\n",
      "Bootstrapped 8 full traces after 8 examples for up to 10 rounds, amounting to 10 attempts.\n"
     ]
    },
    {
     "name": "stderr",
     "output_type": "stream",
     "text": [
      "\n"
     ]
    }
   ],
   "source": [
    "from dspy.teleprompt import MIPROv2, BootstrapFewShot\n",
    "\n",
    "teleprompter = BootstrapFewShot(\n",
    "    metric=metric,\n",
    "    teacher_settings=dict(lm=teacher),\n",
    "    max_bootstrapped_demos=8,\n",
    "    max_labeled_demos=8,\n",
    "    max_rounds=10,\n",
    ")\n",
    "\n",
    "zeroshot_optimized_program = teleprompter.compile(\n",
    "    student = chemonto_with_assertions,\n",
    "    teacher = chemonto_with_assertions,\n",
    "    trainset=trainset_no_ontology,\n",
    "    # requires_permission_to_run=False,\n",
    "    # max_bootstrapped_demos=0, # ZERO FEW-SHOT EXAMPLES\n",
    "    # max_labeled_demos=0, # ZERO FEW-SHOT EXAMPLES\n",
    ")\n"
   ]
  },
  {
   "cell_type": "code",
   "execution_count": 22,
   "metadata": {},
   "outputs": [
    {
     "name": "stdout",
     "output_type": "stream",
     "text": [
      "  0%|          | 0/3 [00:00<?, ?it/s][6, 3, 5, 5, 21]\n",
      "reason_list\n",
      "assertions\n",
      "[5, 2, 4, 4, 18]\n",
      "0.8099999999999999\n",
      "Average Metric: 0.81 / 1 (81.0%):  33%|███▎      | 1/3 [01:11<02:22, 71.11s/it]"
     ]
    },
    {
     "name": "stderr",
     "output_type": "stream",
     "text": [
      "2024/11/23 21:03:48 INFO dspy.primitives.assertions: SuggestionFailed: object_property: To improve the ontology, the following enhancements should be considered:\n",
      "\n",
      "- Introduce additional object properties to capture specific chemical interactions, such as electron transfer or changes in oxidation states, which are crucial for understanding why the reactions cannot occur as written.\n",
      "\n",
      "- Simplify or remove unnecessary domain and range specifications for `participates_in` to focus on the essential chemical interactions.\n",
      "\n",
      "- Ensure that the `reaction_viability` property is supported by detailed explanations of thermodynamic, kinetic, or stoichiometric constraints that prevent the reactions from occurring.\n",
      "ontology_structure: The ontology captures the entities and their states but fails to form a coherent knowledge graph that explains the reactions' non-viability. It lacks semantic clarity and meaningful cross-references to chemical principles that would elucidate why the reactions cannot occur as written. To improve, the ontology should incorporate detailed explanations for the `reaction_viability` property and establish connections between entities and the reasons for reaction failure.\n",
      "overall_content: The ontology has minor errors in extraction accuracy and lacks detailed explanations for reaction viability, which affects professional validity and comprehensiveness. To improve, it should include detailed explanations of why the reactions are not viable and ensure all reactants and products are specified.\n",
      "\n"
     ]
    },
    {
     "name": "stdout",
     "output_type": "stream",
     "text": [
      "[6, 3, 3, 2, 19]\n",
      "reason_list\n",
      "assertions\n"
     ]
    },
    {
     "name": "stderr",
     "output_type": "stream",
     "text": [
      "2024/11/23 21:05:05 INFO dspy.primitives.assertions: SuggestionFailed: object_property: The ontology needs to be expanded to include specific object properties that capture the chemical interactions and principles relevant to the reactions. This includes detailing redox processes, electron transfers, and stoichiometric considerations that explain why the reactions cannot occur as written. The current structure is too generic to provide meaningful insights into the chemical processes described in the text.\n",
      "ontology_structure: The ontology captures the entities and their states well but lacks detailed object properties and cross-references that explain the chemical interactions and constraints. To improve, the ontology should include properties that describe the chemical reactions and the reasons they cannot occur as written, such as charge balance or redox potential issues. This would enhance the coherence and meaningfulness of the chemical knowledge graph.\n",
      "overall_content: The ontology is missing the products of the second reaction and does not explain why the reactions cannot occur as written. Including these details would improve comprehensiveness and professional validity, providing a more complete understanding of the chemical processes involved.\n",
      "\n"
     ]
    },
    {
     "name": "stdout",
     "output_type": "stream",
     "text": [
      "[6, 3, 3, 3, 19]\n",
      "reason_list\n",
      "assertions\n"
     ]
    },
    {
     "name": "stderr",
     "output_type": "stream",
     "text": [
      "2024/11/23 21:05:53 INFO dspy.primitives.assertions: SuggestionFailed: object_property: The ontology needs to be expanded to include specific object properties that capture the chemical interactions and principles relevant to the reactions. This includes detailing redox processes, electron transfers, and stoichiometric considerations that explain why the reactions cannot occur as written. The current structure is too generic to provide meaningful insights into the chemical processes described in the text.\n",
      "ontology_structure: The ontology captures the entities and their states well but lacks detailed object properties and cross-references that explain the chemical interactions and constraints. To improve, the ontology should include properties that describe the chemical reactions and the reasons they cannot occur as written, such as charge balance or redox potential issues. This would enhance the coherence and meaningfulness of the chemical knowledge graph.\n",
      "overall_content: The ontology is missing the products of the second reaction and does not explain why the reactions cannot occur as written. Including these details would improve comprehensiveness and professional validity, providing a more complete understanding of the chemical processes involved.\n",
      "\n"
     ]
    },
    {
     "name": "stdout",
     "output_type": "stream",
     "text": [
      "[6, 3, 3, 3, 19]\n",
      "reason_list\n",
      "assertions\n",
      "[3, 3, 2, 2, 15]\n",
      "0.605\n",
      "Average Metric: 1.42 / 2 (70.8%):  67%|██████▋   | 2/3 [04:06<02:12, 132.32s/it]"
     ]
    },
    {
     "name": "stderr",
     "output_type": "stream",
     "text": [
      "2024/11/23 21:06:40 INFO dspy.primitives.assertions: SuggestionFailed: data_property: The ontology correctly identifies data properties as value-based attributes and describes single characteristics. However, it lacks explicit values for these properties as stated in the text, resulting in a deduction of one point. To improve, the ontology should either provide specific values if available or acknowledge the absence of explicit data values in the text.\n",
      "\n"
     ]
    },
    {
     "name": "stdout",
     "output_type": "stream",
     "text": [
      "[6, 2, 5, 5, 20]\n",
      "reason_list\n",
      "assertions\n"
     ]
    },
    {
     "name": "stderr",
     "output_type": "stream",
     "text": [
      "2024/11/23 21:07:44 INFO dspy.primitives.assertions: SuggestionFailed: data_property: The ontology correctly identifies potential data properties related to electron configurations, but the text does not provide explicit values for these properties. Therefore, while the ontology is accurate in its structure, it cannot fulfill the criterion of having explicitly stated values from the text.\n",
      "\n"
     ]
    },
    {
     "name": "stdout",
     "output_type": "stream",
     "text": [
      "[6, 2, 5, 5, 20]\n",
      "reason_list\n",
      "assertions\n"
     ]
    },
    {
     "name": "stderr",
     "output_type": "stream",
     "text": [
      "2024/11/23 21:07:59 INFO dspy.primitives.assertions: SuggestionFailed: data_property: The ontology correctly identifies potential data properties related to electron configurations, but the text does not provide explicit values for these properties. Therefore, while the ontology is accurate in its structure, it cannot fulfill the criterion of having explicitly stated values from the text.\n",
      "\n"
     ]
    },
    {
     "name": "stdout",
     "output_type": "stream",
     "text": [
      "[6, 2, 5, 5, 20]\n",
      "reason_list\n",
      "assertions\n",
      "[5, 2, 3, 3, 18]\n",
      "0.72\n",
      "Average Metric: 2.13 / 3 (71.2%): 100%|██████████| 3/3 [06:18<00:00, 126.14s/it]"
     ]
    },
    {
     "name": "stderr",
     "output_type": "stream",
     "text": [
      "2024/11/23 21:08:32 INFO dspy.evaluate.evaluate: Average Metric: 2.135 / 3 (71.2%)\n"
     ]
    },
    {
     "name": "stdout",
     "output_type": "stream",
     "text": [
      "\n"
     ]
    },
    {
     "data": {
      "text/html": [
       "<div>\n",
       "<style scoped>\n",
       "    .dataframe tbody tr th:only-of-type {\n",
       "        vertical-align: middle;\n",
       "    }\n",
       "\n",
       "    .dataframe tbody tr th {\n",
       "        vertical-align: top;\n",
       "    }\n",
       "\n",
       "    .dataframe thead th {\n",
       "        text-align: right;\n",
       "    }\n",
       "</style>\n",
       "<table border=\"1\" class=\"dataframe\">\n",
       "  <thead>\n",
       "    <tr style=\"text-align: right;\">\n",
       "      <th></th>\n",
       "      <th>example_context</th>\n",
       "      <th>pred_context</th>\n",
       "      <th>ontology</th>\n",
       "      <th>score_info</th>\n",
       "      <th>metric</th>\n",
       "    </tr>\n",
       "  </thead>\n",
       "  <tbody>\n",
       "    <tr>\n",
       "      <th>0</th>\n",
       "      <td>· The majority of $\\alpha$ particles penetrated the foil undeflect...</td>\n",
       "      <td>· The majority of $\\alpha$ particles penetrated the foil undeflect...</td>\n",
       "      <td>entities=[Entity(name='Alpha Particles (α Particles)', information...</td>\n",
       "      <td>Entity Score: 1.0 Data Property Score: 1.0 Object Property Score: ...</td>\n",
       "      <td>✔️ [0.810]</td>\n",
       "    </tr>\n",
       "    <tr>\n",
       "      <th>1</th>\n",
       "      <td>34. Explain why these reactions cannot occur as written. (a) (b) ...</td>\n",
       "      <td>34. Explain why these reactions cannot occur as written. (a) (b) ...</td>\n",
       "      <td>entities=[Entity(name='Iron(III) Ion (Fe³⁺)', information='A catio...</td>\n",
       "      <td>Entity Score: 1.0 Data Property Score: 1.0 Object Property Score: ...</td>\n",
       "      <td>✔️ [0.605]</td>\n",
       "    </tr>\n",
       "    <tr>\n",
       "      <th>2</th>\n",
       "      <td>The electron configuration of an atom is a designation of how elec...</td>\n",
       "      <td>The electron configuration of an atom is a designation of how elec...</td>\n",
       "      <td>entities=[Entity(name='Electron Configuration', information=\"The a...</td>\n",
       "      <td>Entity Score: 1.0 Data Property Score: 0.6666666666666666 Object P...</td>\n",
       "      <td>✔️ [0.720]</td>\n",
       "    </tr>\n",
       "  </tbody>\n",
       "</table>\n",
       "</div>"
      ],
      "text/plain": [
       "                                                         example_context  \\\n",
       "0  · The majority of $\\alpha$ particles penetrated the foil undeflect...   \n",
       "1   34. Explain why these reactions cannot occur as written. (a) (b) ...   \n",
       "2  The electron configuration of an atom is a designation of how elec...   \n",
       "\n",
       "                                                            pred_context  \\\n",
       "0  · The majority of $\\alpha$ particles penetrated the foil undeflect...   \n",
       "1   34. Explain why these reactions cannot occur as written. (a) (b) ...   \n",
       "2  The electron configuration of an atom is a designation of how elec...   \n",
       "\n",
       "                                                                ontology  \\\n",
       "0  entities=[Entity(name='Alpha Particles (α Particles)', information...   \n",
       "1  entities=[Entity(name='Iron(III) Ion (Fe³⁺)', information='A catio...   \n",
       "2  entities=[Entity(name='Electron Configuration', information=\"The a...   \n",
       "\n",
       "                                                              score_info  \\\n",
       "0  Entity Score: 1.0 Data Property Score: 1.0 Object Property Score: ...   \n",
       "1  Entity Score: 1.0 Data Property Score: 1.0 Object Property Score: ...   \n",
       "2  Entity Score: 1.0 Data Property Score: 0.6666666666666666 Object P...   \n",
       "\n",
       "       metric  \n",
       "0  ✔️ [0.810]  \n",
       "1  ✔️ [0.605]  \n",
       "2  ✔️ [0.720]  "
      ]
     },
     "metadata": {},
     "output_type": "display_data"
    },
    {
     "data": {
      "text/plain": [
       "71.17"
      ]
     },
     "execution_count": 22,
     "metadata": {},
     "output_type": "execute_result"
    }
   ],
   "source": [
    "evaluate(zeroshot_optimized_program)"
   ]
  },
  {
   "cell_type": "code",
   "execution_count": null,
   "metadata": {},
   "outputs": [],
   "source": [
    "print(ontology_to_string(ChemOntology()(test_context).ontology))"
   ]
  },
  {
   "cell_type": "code",
   "execution_count": 7,
   "metadata": {},
   "outputs": [
    {
     "name": "stdout",
     "output_type": "stream",
     "text": [
      "\n",
      "Entity Score: 0.8333333333333334\n",
      "Hierachy Score: 1.0\n",
      "Disjointness Score: 1.0\n",
      "Data Property Score: 1.0\n",
      "Object Property Score: 0.8\n",
      "Ontology Structure Score: 0.75\n",
      "Overall Content Score: 0.75\n",
      "\n",
      "Total Score: 45/54\n",
      "Percentage Score: 87.62%\n",
      "\n",
      "Reason:\n",
      "Entity: The ontology does not fully capture the nuanced balance between electron withdrawal and donation effects, particularly for halogens, as discussed in the text. To improve, the ontology could include more detailed properties or entities that reflect this balance, enhancing its applicability across different chemical subdomains.\n",
      "Hierachy: \n",
      "Disjointness: \n",
      "Data Property: \n",
      "Object Property: The ontology does not capture all key chemical interactions, as it omits object properties for other electron-withdrawing groups like carbonyl, nitrile, and CF3. To improve, additional object properties should be added to represent these interactions, ensuring a more comprehensive representation of chemical shifts.\n",
      "Ontology Structure: The ontology does not fully span all levels of chemical granularity mentioned in the text, particularly regarding the detailed interactions of lone pairs and specific inductive/conjugative effects. Additionally, while the ontology forms a coherent knowledge graph, it could benefit from more explicit relationships to capture the balance between different electron effects. Improvements could include adding entities or properties to represent these nuanced interactions and effects.\n",
      "Overall Content: The ontology could be improved by including more detailed information on the interactions and effects of different substituents on chemical shifts, particularly the role of lone pairs and the balance between inductive and conjugative effects.\n",
      "\n"
     ]
    }
   ],
   "source": [
    "print(metric(dspy.Prediction(context=test_context),ChemOntology()(test_context), verbose=True))\n"
   ]
  },
  {
   "cell_type": "code",
   "execution_count": null,
   "metadata": {},
   "outputs": [],
   "source": []
  }
 ],
 "metadata": {
  "kernelspec": {
   "display_name": "OntologyConstruction",
   "language": "python",
   "name": "python3"
  },
  "language_info": {
   "codemirror_mode": {
    "name": "ipython",
    "version": 3
   },
   "file_extension": ".py",
   "mimetype": "text/x-python",
   "name": "python",
   "nbconvert_exporter": "python",
   "pygments_lexer": "ipython3",
   "version": "3.13.0"
  }
 },
 "nbformat": 4,
 "nbformat_minor": 2
}
