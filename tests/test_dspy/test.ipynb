{
 "cells": [
  {
   "cell_type": "code",
   "execution_count": 4,
   "metadata": {},
   "outputs": [],
   "source": [
    "from pydantic import BaseModel, Field\n",
    "from typing import List, Tuple\n",
    "import dspy\n"
   ]
  },
  {
   "cell_type": "code",
   "execution_count": 5,
   "metadata": {},
   "outputs": [],
   "source": [
    "\n",
    "lm = dspy.LM('openai/gpt-4o', temperature=1)\n",
    "dspy.configure(lm=lm)\n"
   ]
  },
  {
   "cell_type": "code",
   "execution_count": 6,
   "metadata": {},
   "outputs": [],
   "source": [
    "\n",
    "class DataProperty(BaseModel):\n",
    "    \"\"\"Extracted data properties from text for ontology creation. These should be value-based properties, not entities.\"\"\"\n",
    "    name: str = Field(description=\"Provide a clear and concise name for the data property.\")\n",
    "    information: str = Field(description=\"Offer a complete and comprehensive sentence detailing the data property from the text.\")\n",
    "\n",
    "class Entity(BaseModel):\n",
    "    \"\"\"Extracted entities from text for ontology creation, including classes and individuals, excluding data properties.\"\"\"\n",
    "    name: str = Field(description=\"Provide a clear and concise name for the entity. Use the format [Full name]([Abbreviation]) if applicable.\")\n",
    "    information: str = Field(description=\"Offer a complete and comprehensive sentence detailing the entity from the text.\")\n",
    "\n",
    "class ObjectProperty(BaseModel):\n",
    "    \"\"\"Extracted object properties from text for ontology creation.\"\"\"\n",
    "    name: str = Field(description=\"Provide a clear and concise name for the object property. It should be separated by underscores between words.\")\n",
    "    domain: str = Field(\n",
    "        description=\"Domain entity name of the object property, it should be an existing entity in the Entity list\"\n",
    "    )\n",
    "    range: str = Field(\n",
    "        description=\"Range entity name of the object property, it should be an existing entity in the Entity list\"\n",
    "    )\n",
    "    restriction: str = Field(\n",
    "        description=\"Use 'only' if the domain MUST have exactly and exclusively this range for the property. Use 'some' if the domain MUST have at least this range among possible values.\"\n",
    "    )\n",
    "    information: str = Field(\n",
    "        description=\"Offer a complete and comprehensive sentence detailing the object property from the text.\"\n",
    "    )\n",
    "\n",
    "class Ontology(BaseModel):\n",
    "    \"\"\"Graph representation of the ontology for text.\"\"\"\n",
    "\n",
    "    entities: List[Entity] = Field(\n",
    "        description=\"List of entities in the knowledge graph\"\n",
    "    )\n",
    "    data_properties: List[DataProperty] = Field(\n",
    "        description=\"List of data properties in the ontology\"\n",
    "    )\n",
    "    object_properties: List[ObjectProperty] = Field(\n",
    "        description=\"List of object properties in the ontology\"\n",
    "    )\n",
    "\n",
    "def ontology_to_string(ontology: Ontology) -> str:\n",
    "    result = []\n",
    "    \n",
    "    result.append(\"Entities:\")\n",
    "    for entity in ontology.entities:\n",
    "        result.append(f\"  - Name: {entity.name}\")\n",
    "        result.append(f\"    Information: {entity.information}\")\n",
    "    \n",
    "    result.append(\"\\nData Properties:\")\n",
    "    for prop in ontology.data_properties:\n",
    "        result.append(f\"  - Name: {prop.name}\")\n",
    "        result.append(f\"    Information: {prop.information}\")\n",
    "        \n",
    "    result.append(\"\\nObject Properties:\")\n",
    "    for prop in ontology.object_properties:\n",
    "        result.append(f\"  - Name: {prop.name}\")\n",
    "        result.append(f\"    Domain: {prop.domain}\")\n",
    "        result.append(f\"    Range: {prop.range}\")\n",
    "        result.append(f\"    Restriction: {prop.restriction}\")\n",
    "        result.append(f\"    Information: {prop.information}\")\n",
    "        \n",
    "    return \"\\n\".join(result)"
   ]
  },
  {
   "cell_type": "code",
   "execution_count": 7,
   "metadata": {},
   "outputs": [],
   "source": [
    "class ExtractOntologyElements(dspy.Signature):\n",
    "    \"\"\"Analyze the provided text from research papers in the field of chemistry to identify all chemistry-related entities, data properties, and object properties within an ontological framework.\n",
    "\n",
    "    Follow these Step-by-Step Analysis:\n",
    "\n",
    "    1. Extract Chemistry-Related Entities:\n",
    "      - Identify all significant nouns, proper nouns, and technical terminologies that represent chemistry-related concepts, such as molecules, reactions, compounds, processes, or any substantial entities.\n",
    "      - Ensure that you capture entities across different levels of detail, from broad chemical categories to specific molecular structures, to create a comprehensive representation of the subject matter.\n",
    "      - Choose names for entities that are specific enough to indicate their meaning without additional context, avoiding overly generic terms.\n",
    "      - Consolidate similar entities to avoid redundancy, ensuring each represents a distinct concept at appropriate granularity levels.\n",
    "\n",
    "    2. Identify Data Properties:\n",
    "      - Extract attributes or characteristics of the identified entities that can be classified as data properties, ensuring they are value-based and not entities themselves.\n",
    "      - Clearly define each data property, ensuring it accurately describes an attribute of an entity.\n",
    "\n",
    "    3. Establish Object Properties:\n",
    "      - Carefully examine the text to identify all relationships between entities, ensuring each relationship is correctly captured with accurate details about the interactions.\n",
    "      - Analyze the context and interactions between the identified entities to determine how they are interconnected, focusing on actions, associations, dependencies, or similarities.\n",
    "      - Clearly define the relationships, ensuring accurate directionality that reflects the logical or functional dependencies among entities.\n",
    "\n",
    "    Objective: Produce a detailed and comprehensive ontology that captures the full spectrum of chemistry-related entities, data properties, and object properties mentioned in the text, along with their interrelations, reflecting both broad concepts and intricate details specific to the chemistry domain.\n",
    "\n",
    "    \"\"\"\n",
    "\n",
    "    text: str = dspy.InputField(\n",
    "        desc=\"a paragraph of text to extract entities, data properties, and object properties to form an ontology\"\n",
    "    )\n",
    "    ontology: Ontology = dspy.OutputField(\n",
    "        desc=\"List representation of the ontology extracted from the text.\"\n",
    "    )\n"
   ]
  },
  {
   "cell_type": "code",
   "execution_count": 8,
   "metadata": {},
   "outputs": [
    {
     "data": {
      "text/plain": [
       "{'type': 'text',\n",
       " 'text': '9.1 State the periodic law, and discuss the contributions made by Meyer,  Mendeleev, Ramsay, and Mosely in establishing the form of the periodic table. '}"
      ]
     },
     "execution_count": 8,
     "metadata": {},
     "output_type": "execute_result"
    }
   ],
   "source": [
    "import json\n",
    "\n",
    "def load_json_data(file_path):\n",
    "    with open(file_path, 'r', encoding='utf-8') as f:\n",
    "        data = json.load(f)\n",
    "    return data\n",
    "\n",
    "data = load_json_data('test_content_list.json')\n",
    "\n",
    "data[3]\n",
    "\n"
   ]
  },
  {
   "cell_type": "code",
   "execution_count": 64,
   "metadata": {},
   "outputs": [],
   "source": [
    "\n",
    "class Assess(dspy.Signature):\n",
    "    \"\"\"Assess the quality of a tweet along the specified dimension.\"\"\"\n",
    "\n",
    "    assessed_text = dspy.InputField()\n",
    "    assessment_ontology = dspy.InputField()\n",
    "    assessment_criteria = dspy.InputField()\n",
    "    assessment_score: int = dspy.OutputField()\n",
    "\n",
    "def metric(gold, pred, trace=None, verbose=False):\n",
    "    context = gold['context']\n",
    "    ontology = pred['ontology']\n",
    "    entity_accuracy = \"\"\"Entity Accuracy Score (0-5 points):\n",
    "Award 1 point for each criterion met:\n",
    "- Entity names are specific and meaningful without being overly generic (1 point)\n",
    "- Entity definitions align with established chemical concepts (1 point) \n",
    "- Entity relationships reflect valid chemical principles (1 point)\n",
    "- Entities are properly consolidated without redundancy (1 point)\n",
    "- Entity hierarchy captures appropriate chemical classification (1 point)\"\"\"\n",
    "\n",
    "    data_property_correctness = \"\"\"Data Property Correctness Score (0-5 points):\n",
    "Award 1 point for each criterion met:\n",
    "- Data properties are truly value-based attributes (1 point)\n",
    "- Each data property describes a single measurable characteristic (1 point)\n",
    "- Data property units and ranges are chemically valid (1 point)\n",
    "- Data property dependencies are accurately captured (1 point)\n",
    "- Data properties maintain consistency across the ontology (1 point)\"\"\"\n",
    "\n",
    "    object_property_completeness = \"\"\"Object Property Completeness Score (0-5 points):\n",
    "Award 1 point for each criterion met:\n",
    "- Object properties capture all key chemical interactions (1 point)\n",
    "- Domain and range specifications reflect valid chemical relationships (1 point)\n",
    "- Relationship restrictions ('only'/'some') are properly applied (1 point)\n",
    "- Object property chains represent complex chemical processes (1 point)\n",
    "- Inverse relationships are correctly identified where applicable (1 point)\"\"\"\n",
    "\n",
    "    ontology_structure = \"\"\"Ontology Structure Score (0-4 points):\n",
    "Award 1 point for each criterion met:\n",
    "- Entities span appropriate levels of chemical granularity (1 point)\n",
    "- Properties and relationships form a coherent chemical knowledge graph (1 point)\n",
    "- The ontology maintains semantic clarity independent of source text (1 point)\n",
    "- Cross-references between concepts are meaningful and accurate (1 point)\"\"\"\n",
    "\n",
    "    overall_score = \"\"\"Overall Score (0-8 points):\n",
    "Each criterion is evaluated on three levels - excellent (2 points), adequate (1 point), or poor (0 points):\n",
    "\n",
    "- Extraction Accuracy (2 points):\n",
    "  * Excellent: No errors in entity and property extraction\n",
    "  * Adequate: Minor non-critical errors present \n",
    "  * Poor: Some extraction errors exist\n",
    "\n",
    "- Professional Validity (2 points):\n",
    "  * Excellent: Extractions fully align with chemical expertise\n",
    "  * Adequate: Most extractions align with chemical knowledge\n",
    "  * Poor: Some deviations from chemical principles\n",
    "\n",
    "- Comprehensiveness (2 points):\n",
    "  * Excellent: Complete extraction of all relevant information\n",
    "  * Adequate: Most key information captured\n",
    "  * Poor: Some key information missing\n",
    "\n",
    "- Knowledge Independence (2 points):\n",
    "  * Excellent: Entities and properties can be accurately understood without source text context\n",
    "  * Adequate: Most entities and properties are clear without background text\n",
    "  * Poor: Some understanding requires source text context\"\"\"\n",
    "\n",
    "    score_list = [\n",
    "            dspy.ChainOfThought(Assess)(assessed_text=context, assessment_ontology=ontology_to_string(ontology), assessment_criteria=criteria).assessment_score for criteria in [entity_accuracy, data_property_correctness, object_property_completeness, ontology_structure, overall_score]\n",
    "        ]\n",
    "    score = sum(score_list)\n",
    "    if trace is not None: return score >= 1\n",
    "    if verbose:\n",
    "        return f\"\"\"\n",
    "Entity Accuracy Score: {int(score_list[0])}\n",
    "Data Property Correctness Score: {int(score_list[1])}\n",
    "Object Property Completeness Score: {int(score_list[2])}\n",
    "Ontology Structure Score: {int(score_list[3])}\n",
    "Overall Score: {int(score_list[4])}\n",
    "\n",
    "Total Score: {int(sum(score_list))}\n",
    "Percentage Score: {(sum(score_list)/27.0)*100:.2f}%\n",
    "\"\"\"\n",
    "    return score / 27.0\n"
   ]
  },
  {
   "cell_type": "code",
   "execution_count": 17,
   "metadata": {},
   "outputs": [],
   "source": [
    "context = \"\"\"\n",
    "###### How electron donation and withdrawal change chemical shifts  \\nWe can get an idea of the effect of electron distribution by looking at a series of benzene rings\\nwith the same substituent in the 1 and 4 positions. This pattern makes all four hydrogens on\\nthe ring identical. Here are a few compounds listed in order of chemical shift: largest shift\\n(lowest fi eld; most deshielded) fi rst. Conjugation is shown by the usual curly arrows, and\\ninductive effects by a straight arrow by the side of the group. Only one hydrogen atom and\\none set of arrows are shown.  \\nConjugation, as discussed in\\nChapter 7, is felt through π bonds,\\nwhile inductive effects are the\\nresult of electron withdrawal or\\ndonation felt simply by polarization\\nof the σ bonds of the molecule.\\nSee p. 135.  \\nthe effect of electron-withdrawing groups\\nby conjugation  \\nby inductive effects  \\n**H**  \\n**O**  \\n**O**  \\n**HO**  \\n**N**  \\nδH 8.48 δH 8.10 **C** δH 8.10 δH 8.07 δH 7.78  \\n**N**  \\n**O**  \\n**O**  \\n**OH**  \\n**C**  \\n**N**  \\n**O**  \\n**H**  \\n**F** **F**  \\n**F**  \\nThe largest shifts come from groups that withdraw electrons by conjugation. Nitro is the\\nmost powerful—this should not surprise you as we saw the same in non-aromatic compounds\\nin both [13]C and [1]H NMR spectra. Then come the carbonyl and nitrile group followed by groups\\nshowing simple inductive withdrawal. CF3 is an important example of this kind of group—\\nthree fl uorine atoms combine to exert a powerful effect.  \\n-----  \\nIn the middle of our sequence, around the position of benzene itself at 7.27 ppm, come\\nthe halogens, whose inductive electron withdrawal and lone pair donation are nearly\\nbalanced.  \\nbalance between withdrawal by inductive effect and donation of lone pairs by conjugation  \\n**I** δH 7.40 **Br** δH 7.32 δH 7.27 **Cl** δH 7.24 **F** δH 7.00  \\n**I**  \\n**Br**  \\n**Cl**  \\n**F**  \\nAlkyl groups are weak inductive donators, but the groups which give the most shielding—\\nperhaps surprisingly—are those containing the electronegative atoms O and N. Despite being\\ninductively electron withdrawing (the C–O and C–N σ bonds are polarized with δ + C), on\\nbalance conjugation of their lone pairs with the ring (as you saw on p. 278) makes them net\\nelectron donors. They increase the shielding at the ring hydrogens. Amino groups are the best.\\nNote that one nitrogen-based functional group (NO2) is the best electron withdrawer while\\nanother (NH2) is the best electron donor.  \\nthe effect of electron-donating groups  \\nby inductive effect  \\nbalance between withdrawal by inductive effect and donation\\nof lone pairs by conjugation—electron donation wins  \\n**H**  \\nδH 7.03  \\n**H**  \\n**H**  \\n**CH3**  \\nδH 6.80 **O**  \\n**H** **H**  \\nδH 6.59 **N**  \\n**H**  \\nδH 6.35  \\n**H**  \\n**H**  \\n**CH3**  \\n**O**  \\n**CH3**  \\n**H**  \\n**H**  \\n**N**  \\n**O**  \\nδH 7.27  \\n**H**  \\n**H**  \\nδH 7.27  \\nδH 5.68  \\n**H**  \\n**H**  \\nδH 5.68  \\n**O**  \\nδH 6.0  \\n**H**  \\n**H**  \\nδH 7.0  \\nδH 4.65  \\n**H**  \\n**H**  \\nδH 6.35  \\nAs far as the donors with lone pairs are concerned (the halogens plus O and N), two factors\\nare important—the size of the lone pairs and the electronegativity of the element. If we look\\nat the four halides at the top of this page the lone pairs are in 2p (F), 3p (Cl), 4p (Br), and 5p (I)\\norbitals. In all cases the orbitals on the benzene ring are 2p so the fl uorine orbital is of the\\nright size to interact well and the others too large. Even though fl uorine is the most electronegative, it is still the best donor. The others don’t pull so much electron density away, but\\nthey can’t give so much back either.\\nIf we compare the fi rst row of the p block elements—F, OH, and NH2—all have lone pairs\\nin 2p orbitals so now electronegativity is the only variable. As you would expect, the most\\nelectronegative element, F, is now the weakest donor.\n",
    "\"\"\"\n"
   ]
  },
  {
   "cell_type": "code",
   "execution_count": 18,
   "metadata": {},
   "outputs": [],
   "source": [
    "\n",
    "response = dspy.ChainOfThought(ExtractOntologyElements)(text=context)\n"
   ]
  },
  {
   "cell_type": "code",
   "execution_count": 19,
   "metadata": {},
   "outputs": [
    {
     "name": "stdout",
     "output_type": "stream",
     "text": [
      "Entities:\n",
      "  - Name: Benzene_Ring\n",
      "    Information: The benzene ring is the central structure being analyzed for effects of electron donation and withdrawal.\n",
      "  - Name: Inductive_Effect\n",
      "    Information: The inductive effect is the result of electron withdrawal or donation felt by polarization of the σ bonds.\n",
      "  - Name: Conjugation\n",
      "    Information: Conjugation is felt through π bonds and is discussed in terms of its ability to influence electron distribution.\n",
      "  - Name: Nitro(NO2)\n",
      "    Information: Nitro is noted as the most powerful electron withdrawer by conjugation in the context of this study.\n",
      "  - Name: Amino(NH2)\n",
      "    Information: Amino groups are the best electron donors due to their lone pair conjugation capabilities.\n",
      "  - Name: Carbonyl_Group\n",
      "    Information: A functional group consisting of a carbon atom double-bonded to an oxygen atom known to withdraw electrons.\n",
      "  - Name: Nitrile_Group\n",
      "    Information: A functional group known to withdraw electrons, characterized by a carbon triple-bonded to a nitrogen atom.\n",
      "  - Name: Halogens\n",
      "    Information: Includes elements like F, Cl, Br, and I, which demonstrate a balance between inductive electron withdrawal and lone pair donation.\n",
      "  - Name: Chemical_Shift\n",
      "    Information: Chemical shift (δH) is used to describe the positions in NMR spectra where nuclei absorb due to electronic environments.\n",
      "\n",
      "Data Properties:\n",
      "  - Name: chemical_shift_value\n",
      "    Information: Represents the specific chemical shift value in δH for particular substituents and compounds, such as δH 8.48 for Nitro.\n",
      "\n",
      "Object Properties:\n",
      "  - Name: electron_withdrawal_by_conjugation\n",
      "    Domain: Benzene_Ring\n",
      "    Range: Nitro(NO2)\n",
      "    Restriction: some\n",
      "    Information: Indicates the effect of electron withdrawal by conjugation exerted by the nitro group on the benzene ring.\n",
      "  - Name: electron_donation_by_inductive_effect\n",
      "    Domain: Benzene_Ring\n",
      "    Range: Amino(NH2)\n",
      "    Restriction: some\n",
      "    Information: Describes electron donation by the inductive effect observed with amino groups on the benzene ring.\n"
     ]
    }
   ],
   "source": [
    "print(ontology_to_string(response.ontology))"
   ]
  },
  {
   "cell_type": "code",
   "execution_count": 23,
   "metadata": {},
   "outputs": [
    {
     "name": "stdout",
     "output_type": "stream",
     "text": [
      "\n",
      "Entity Accuracy Score: 5\n",
      "Data Property Correctness Score: 5\n",
      "Object Property Completeness Score: 3\n",
      "Ontology Structure Score: 4\n",
      "Overall Score: 8\n",
      "\n",
      "Total Score: 25\n",
      "Percentage Score: 92.59%\n",
      "\n"
     ]
    }
   ],
   "source": [
    "score = metric(context, response, verbose=True)\n",
    "\n",
    "print(score)\n"
   ]
  },
  {
   "cell_type": "code",
   "execution_count": 71,
   "metadata": {},
   "outputs": [
    {
     "name": "stdout",
     "output_type": "stream",
     "text": [
      "随机抽取到10个开发集文本:\n",
      "\n",
      "1. 文本长度: 1192\n",
      "文本内容: Is the observed dip in the first ionization energy that occurs as we move from group 15 to 16 caused...\n",
      "\n",
      "2. 文本长度: 391\n",
      "文本内容: We first notice that the electron configuration of the second-row atoms and ions is $1s^{2}2s^{1},$ ...\n",
      "\n",
      "3. 文本长度: 332\n",
      "文本内容: In earlier chapters, we discovered the importance of atomic masses in matters relating to stoichiome...\n",
      "\n",
      "4. 文本长度: 500\n",
      "文本内容: Figure 9-3 illustrates the definitions of covalent, ionic, and metallic radi by comparing these thre...\n",
      "\n",
      "5. 文本长度: 791\n",
      "文本内容:  The second explanation focuses instead on the extent of screening and the strength of the electron-...\n",
      "\n",
      "6. 文本长度: 316\n",
      "文本内容: A few transition metal atoms acquire noble-gas electron configurations when forming cations, as do S...\n",
      "\n",
      "7. 文本长度: 634\n",
      "文本内容: In the expression above, $Z_{\\mathrm{eff}}$ is the effective nuclear charge for the electron of inte...\n",
      "\n",
      "8. 文本长度: 473\n",
      "文本内容: In Section 8-11, we established that most transition metal atoms, in their ground electronic states,...\n",
      "\n",
      "9. 文本长度: 1365\n",
      "文本内容: 3. Variation in atomic radius within a transition series. With the transi- tion elements, the situat...\n",
      "\n",
      "10. 文本长度: 545\n",
      "文本内容: Through the color scheme of the periodic table on the inside front cover, We see that the majority o...\n",
      "\n",
      "随机抽取到10个训练集文本:\n",
      "\n",
      "1. 文本长度: 1384\n",
      "文本内容: · Valence electrons are screened significantly by inner (core) electrons but only slightly by each o...\n",
      "\n",
      "2. 文本长度: 524\n",
      "文本内容:  As previously described, the periodic table is a tabular arrangement of the ele- ments that groups ...\n",
      "\n",
      "3. 文本长度: 702\n",
      "文本内容: Another example is the striking result when $\\stackrel{\\smile}{\\mathrm{Cr}}^{3+}$ ions replace about...\n",
      "\n",
      "4. 文本长度: 466\n",
      "文本内容: This iterative procedure, called the self-consistent field (SCF) method, was devised by Douglas Hart...\n",
      "\n",
      "5. 文本长度: 592\n",
      "文本内容: Let's now consider the variation of $\\bar{\\Delta_{\\mathrm{{ea}}}H}$ within a group, again ignoring g...\n",
      "\n",
      "6. 文本长度: 550\n",
      "文本内容: distance in NaCl. For metals, we define a metallic radius as one-half the dis- tance between the nuc...\n",
      "\n",
      "7. 文本长度: 865\n",
      "文本内容: Moseley was able to correlate X-ray frequencies to numbers equal to the nuclear charges and correspo...\n",
      "\n",
      "8. 文本长度: 450\n",
      "文本内容:  In his periodic table Mendeleev arranged the elements into eight groups (Gruppe) and twelve rows (R...\n",
      "\n",
      "9. 文本长度: 424\n",
      "文本内容: At the start of a period, the percent screening is relatively large because, according to the aufbau...\n",
      "\n",
      "10. 文本长度: 602\n",
      "文本内容: 52. Instead of accepting the atomic mass of indium implied by the data in Exercise 51, Mendeleev  pr...\n"
     ]
    }
   ],
   "source": [
    "import random\n",
    "\n",
    "# 设置开发集和训练集的大小\n",
    "dev_size = 10\n",
    "train_size = 10\n",
    "\n",
    "# 创建两个列表分别存储开发集和训练集数据\n",
    "dev_data = []\n",
    "train_data = []\n",
    "used_texts = set()  # 用于检查重复\n",
    "\n",
    "max_attempts = 100\n",
    "attempts = 0\n",
    "\n",
    "# 先采样开发集\n",
    "while len(dev_data) < dev_size and attempts < max_attempts:\n",
    "    item = random.choice(data)\n",
    "    if item.get('type') == 'text':\n",
    "        text = item['text']\n",
    "        if len(text) > 300 and text not in used_texts:\n",
    "            dev_data.append(item)\n",
    "            used_texts.add(text)\n",
    "    attempts += 1\n",
    "\n",
    "# 再采样训练集\n",
    "while len(train_data) < train_size and attempts < max_attempts:\n",
    "    item = random.choice(data)\n",
    "    if item.get('type') == 'text':\n",
    "        text = item['text']\n",
    "        if len(text) > 300 and text not in used_texts:\n",
    "            train_data.append(item)\n",
    "            used_texts.add(text)\n",
    "    attempts += 1\n",
    "\n",
    "print(f\"随机抽取到{len(dev_data)}个开发集文本:\")\n",
    "for i, item in enumerate(dev_data, 1):\n",
    "    print(f\"\\n{i}. 文本长度: {len(item['text'])}\")\n",
    "    print(f\"文本内容: {item['text'][:100]}...\")\n",
    "\n",
    "print(f\"\\n随机抽取到{len(train_data)}个训练集文本:\")\n",
    "for i, item in enumerate(train_data, 1):\n",
    "    print(f\"\\n{i}. 文本长度: {len(item['text'])}\")\n",
    "    print(f\"文本内容: {item['text'][:100]}...\")\n",
    "\n"
   ]
  },
  {
   "cell_type": "code",
   "execution_count": 82,
   "metadata": {},
   "outputs": [
    {
     "name": "stdout",
     "output_type": "stream",
     "text": [
      "生成了10个开发集样本\n"
     ]
    }
   ],
   "source": [
    "# 创建devset\n",
    "devset = []\n",
    "\n",
    "for sample in dev_data:\n",
    "    context = sample['text']\n",
    "    \n",
    "    # 添加到devset\n",
    "    devset.append(dspy.Example(\n",
    "        context=context\n",
    "    ).with_inputs(\"context\"))\n",
    "\n",
    "print(f\"生成了{len(devset)}个开发集样本\")\n"
   ]
  },
  {
   "cell_type": "code",
   "execution_count": 83,
   "metadata": {},
   "outputs": [
    {
     "name": "stdout",
     "output_type": "stream",
     "text": [
      "完成一个样本\n",
      "完成一个样本\n",
      "完成一个样本\n",
      "完成一个样本\n",
      "完成一个样本\n",
      "完成一个样本\n",
      "完成一个样本\n",
      "完成一个样本\n",
      "完成一个样本\n",
      "完成一个样本\n",
      "生成了10个训练集样本\n"
     ]
    }
   ],
   "source": [
    "# 创建trainset\n",
    "trainset = []\n",
    "\n",
    "for sample in train_data:\n",
    "    context = sample['text']\n",
    "    # 使用ExtractOntologyElements生成ontology\n",
    "    \n",
    "    # 添加到trainset\n",
    "    trainset.append(dspy.Example(\n",
    "        context=context\n",
    "    ).with_inputs(\"context\"))\n",
    "\n",
    "    print(\"完成一个样本\")\n",
    "\n",
    "print(f\"生成了{len(trainset)}个训练集样本\")\n"
   ]
  },
  {
   "cell_type": "code",
   "execution_count": 84,
   "metadata": {},
   "outputs": [
    {
     "data": {
      "text/plain": [
       "[Example({'context': 'Is the observed dip in the first ionization energy that occurs as we move from group 15 to 16 caused by increased electron-electron repulsions or by decreased electron-nucleus attractions? It is difficult to answer this ques- tion with complete certainty, but it is clear that the dip occurs once orbital sharing begins. The difficulty of providing an unambiguous explanation for the observed dip is not totally unexpected. As we pointed out in Chapter 8, the energy of an atom is a delicate balance of electron-electron repulsions and electron-nucleus attractions. The rationalization of ioniza- tion energies is further complicated by the fact that, for example, the first ionization energy of $\\\\mathrm{P}$ depends on the energies of both $\\\\mathrm{P}(\\\\mathrm{[Ne]}3s^{2}3p^{3})$ and $\\\\mathrm{P}^{+}([\\\\mathrm{Ne}]3s^{2}3p^{2})$ . Similarly, the first ionization energy of S depends on the energies of both $S([\\\\mathrm{Ne}]\\\\dot{3}s^{2}3p^{4})$ and $S^{+}([\\\\mathrm{Ne}]3s^{2}3p^{3})$  Thus, the decrease in ionization energy that occurs as we move from $\\\\mathrm{P}$ to S depends on a delicate balance of electron-electron repulsions and electron-nucleus attractions in four different species. '}) (input_keys={'context'}),\n",
       " Example({'context': 'We first notice that the electron configuration of the second-row atoms and ions is $1s^{2}2s^{1},$  that is, a single electron $\\\\left(2s^{1}\\\\right)$ beyond the helium core $\\\\left(1s^{2}\\\\right)$ . Similarly, for the third-row atoms and ions the electron configuration is $\\\\breve{1}s^{2}2s^{2}2p^{6}3s^{1},$  that $(3s^{1})$ $(1s^{2}2s^{2}2p^{6})$ is, a single electron  beyond the neon core '}) (input_keys={'context'}),\n",
       " Example({'context': 'In earlier chapters, we discovered the importance of atomic masses in matters relating to stoichiometry. To understand certain physical and chemical pro- perties, we need to know something about atomic sizes. In this section we describe atomic radius, the first of a group of atomic properties that we will examine in this chapter. '}) (input_keys={'context'}),\n",
       " Example({'context': 'Figure 9-3 illustrates the definitions of covalent, ionic, and metallic radi by comparing these three radi for sodium. Figure 9-4 is a plot of atomic radius against atomic number for a large number of elements. In this plot metallic radi are used for metals and covalent radi for nonmetals. Figure 9-4 suggests certain trends in atomic radi, for example, large radii for group 1, decreasing across the periods to smaller radii for group 17. A careful examination of Figure 9-4 reveals the following: '}) (input_keys={'context'}),\n",
       " Example({'context': ' The second explanation focuses instead on the extent of screening and the strength of the electron-nucleus attractions. Unpaired electrons with parallel spins tend to avoid each other more, screen each other less, experience a higher effective nuclear charge, interact more strongly with the nucleus, and are harder to remove. According to this line of reasoning, the extra electron-nuclear attraction causes the first ionization energy of $\\\\breve{\\\\mathrm{P}}([\\\\mathrm{Ne}]3s^{2}3p^{3})$ to be greater by approximately $276~\\\\mathrm{kJ\\\\mol^{-1}}$ than the value expected by the backward-extrapolation of the first ionization energies of S, Cl, and Ar. Conversely, paired electrons screen each other to a greater extent, interact less  strongly with the nucleus, and are more easily removed. '}) (input_keys={'context'}),\n",
       " Example({'context': 'A few transition metal atoms acquire noble-gas electron configurations when forming cations, as do Sc in Sc?+ and Ti in Tif+, but most transition metal atoms do not (see Table 9.2). An iron atom does not acquire a noble-gas elec- tron configuration when it loses its 4s^ electrons to form the ion $\\\\mathrm{Fe}^{2+}$ '}) (input_keys={'context'}),\n",
       " Example({'context': \"In the expression above, $Z_{\\\\mathrm{eff}}$ is the effective nuclear charge for the electron of interest and $a_{0}$ is the Bohr radius. For each atom, we expect the least strongly bound electron to be, on average, farthest from the nucleus. Let's use $Z_{\\\\mathrm{eff}}$ for that electron in equation (9.5) to obtain an estimate of the radius of each atom. The results are shown in Figure 9-9. Notice that the variation of $\\\\bar{r}_{n\\\\ell}$ With $Z$ is very similar to that of atomic radius (Fig. 9-4), and thus it seems reasonable to use equation (9.5) to rationalize the variation of atomic radius across a period and down a group. \"}) (input_keys={'context'}),\n",
       " Example({'context': 'In Section 8-11, we established that most transition metal atoms, in their ground electronic states, have two electrons in the ns orbital and one or more electrons in the $(n\\\\mathrm{~-~}1)$ $d$ orbitals. For example, the ground-state electron con- figuration of Ti is $[\\\\mathrm{Ar}]3d^{2}4s^{2}$ and that of Mn is $[\\\\mathrm{Ar}]\\\\breve{3}d^{5}4s^{2}$ . Experiments have established that when these atoms ionize, the $4s$ electrons are removed first, not the $3d$ electrons. '}) (input_keys={'context'}),\n",
       " Example({'context': '3. Variation in atomic radius within a transition series. With the transi- tion elements, the situation is a little different from that described above. In Figure 9-4, it is apparent that the atomic radii of transition elements tend to be about the same across a period but with a few unusual peaks. It is beyond the scope of this text to explain the exceptions; however, the general trend is not difficult to understand. In a series of transition ele- ments, additional electrons go into an inner electron shell, where they participate in shielding outer-shell electrons from the nucleus. At the same time, the number of electrons in the outer shell tends to remain con- stant. Thus, the outer-shell electrons experience a roughly comparable force of attraction to the nucleus throughout a transition series. Consider Fe, Co, and Ni. Fe has 26 protons in the nucleus and 24 inner-shell elec- trons. In Co( $\\\\cdot Z=27$ ), there are 25 inner-shell electrons, and in Ni $Z=28]$ ), there are 26. In each case, the two outer-shell electrons are under the influence of about the same net charge (about $+2$ ). That is, $Z_{\\\\mathrm{eff}}$ for the $4s$ electrons of the first transition series is approximately constant. Thus, atomic radii do not change very much for this series of three elements) namely, $124\\\\,\\\\mathrm{pm}$ for Fe and $125\\\\,\\\\mathrm{pm}$ for Co and Ni. '}) (input_keys={'context'}),\n",
       " Example({'context': 'Through the color scheme of the periodic table on the inside front cover, We see that the majority of the elements are metals (tan) and that nonmetals (blue) are confined to the right side of the table. The noble gases (pink) are treated as a special group of nonmetals. Metals and nonmetals are often sep- arated by a stairstep diagonal line, and several elements near this line are often calied metalloids (green). Metalloids are elements that look like metals  and in some ways behave like metals but also have some nonmetallic proper- ties. '}) (input_keys={'context'})]"
      ]
     },
     "execution_count": 84,
     "metadata": {},
     "output_type": "execute_result"
    }
   ],
   "source": [
    "devset\n"
   ]
  },
  {
   "cell_type": "code",
   "execution_count": 85,
   "metadata": {},
   "outputs": [],
   "source": [
    "class ChemOntology(dspy.Module):\n",
    "    def __init__(self):\n",
    "        super().__init__()\n",
    "\n",
    "        self.extractor = dspy.ChainOfThought(ExtractOntologyElements)\n",
    "    \n",
    "    def forward(self, context):\n",
    "        return self.extractor(text=context)\n",
    "\n",
    "\n",
    "\n"
   ]
  },
  {
   "cell_type": "code",
   "execution_count": 86,
   "metadata": {},
   "outputs": [
    {
     "name": "stdout",
     "output_type": "stream",
     "text": [
      "完成一个样本\n"
     ]
    }
   ],
   "source": [
    "scores = []\n",
    "extractor = ChemOntology()\n",
    "for dev in devset[:1]:\n",
    "    pred = extractor(dev['context'])\n",
    "    score = metric(dev, pred, verbose=True)\n",
    "    print(\"完成一个样本\")\n",
    "    scores.append(score)\n"
   ]
  },
  {
   "cell_type": "code",
   "execution_count": 87,
   "metadata": {},
   "outputs": [
    {
     "name": "stdout",
     "output_type": "stream",
     "text": [
      "\n",
      "Entity Accuracy Score: 5\n",
      "Data Property Correctness Score: 4\n",
      "Object Property Completeness Score: 3\n",
      "Ontology Structure Score: 3\n",
      "Overall Score: 8\n",
      "\n",
      "Total Score: 23\n",
      "Percentage Score: 85.19%\n",
      "\n",
      "-------------------------------------------------\n"
     ]
    }
   ],
   "source": [
    "\n",
    "for score in scores:\n",
    "    print(score)\n",
    "    print(\"-------------------------------------------------\")\n",
    "\n",
    "\n"
   ]
  },
  {
   "cell_type": "code",
   "execution_count": 88,
   "metadata": {},
   "outputs": [],
   "source": [
    "from dspy.evaluate import Evaluate\n",
    "\n",
    "evaluate = Evaluate(devset=devset, num_threads=8, display_progress=True, display_table=10)"
   ]
  },
  {
   "cell_type": "code",
   "execution_count": 89,
   "metadata": {},
   "outputs": [
    {
     "name": "stdout",
     "output_type": "stream",
     "text": [
      "  0%|          | 0/1 [00:00<?, ?it/s]"
     ]
    },
    {
     "name": "stdout",
     "output_type": "stream",
     "text": [
      "Average Metric: 0.85 / 1 (85.2%): 100%|██████████| 1/1 [00:00<00:00, 1563.87it/s]"
     ]
    },
    {
     "name": "stderr",
     "output_type": "stream",
     "text": [
      "2024/11/21 18:17:21 INFO dspy.evaluate.evaluate: Average Metric: 0.8518518518518519 / 1 (85.2%)\n"
     ]
    },
    {
     "name": "stdout",
     "output_type": "stream",
     "text": [
      "\n"
     ]
    },
    {
     "data": {
      "text/html": [
       "<div>\n",
       "<style scoped>\n",
       "    .dataframe tbody tr th:only-of-type {\n",
       "        vertical-align: middle;\n",
       "    }\n",
       "\n",
       "    .dataframe tbody tr th {\n",
       "        vertical-align: top;\n",
       "    }\n",
       "\n",
       "    .dataframe thead th {\n",
       "        text-align: right;\n",
       "    }\n",
       "</style>\n",
       "<table border=\"1\" class=\"dataframe\">\n",
       "  <thead>\n",
       "    <tr style=\"text-align: right;\">\n",
       "      <th></th>\n",
       "      <th>context</th>\n",
       "      <th>reasoning</th>\n",
       "      <th>ontology</th>\n",
       "      <th>metric</th>\n",
       "    </tr>\n",
       "  </thead>\n",
       "  <tbody>\n",
       "    <tr>\n",
       "      <th>0</th>\n",
       "      <td>Is the observed dip in the first ionization energy that occurs as ...</td>\n",
       "      <td>The text discusses the dip in the first ionization energy as elect...</td>\n",
       "      <td>entities=[Entity(name='Ionization Energy', information='Ionization...</td>\n",
       "      <td>✔️ [0.852]</td>\n",
       "    </tr>\n",
       "  </tbody>\n",
       "</table>\n",
       "</div>"
      ],
      "text/plain": [
       "                                                                 context  \\\n",
       "0  Is the observed dip in the first ionization energy that occurs as ...   \n",
       "\n",
       "                                                               reasoning  \\\n",
       "0  The text discusses the dip in the first ionization energy as elect...   \n",
       "\n",
       "                                                                ontology  \\\n",
       "0  entities=[Entity(name='Ionization Energy', information='Ionization...   \n",
       "\n",
       "       metric  \n",
       "0  ✔️ [0.852]  "
      ]
     },
     "metadata": {},
     "output_type": "display_data"
    },
    {
     "data": {
      "text/plain": [
       "85.19"
      ]
     },
     "execution_count": 89,
     "metadata": {},
     "output_type": "execute_result"
    }
   ],
   "source": [
    "import dspy.evaluate\n",
    "\n",
    "\n",
    "evaluate(ChemOntology(), devset=devset[:1], metric=metric)\n"
   ]
  },
  {
   "cell_type": "code",
   "execution_count": 77,
   "metadata": {},
   "outputs": [
    {
     "name": "stderr",
     "output_type": "stream",
     "text": [
      "2024/11/21 17:20:16 INFO dspy.teleprompt.mipro_optimizer_v2: \n",
      "RUNNING WITH THE FOLLOWING LIGHT AUTO RUN SETTINGS:\n",
      "num_trials: 7\n",
      "minibatch: False\n",
      "num_candidates: 7\n",
      "valset size: 8\n",
      "\n",
      "2024/11/21 17:20:16 INFO dspy.teleprompt.mipro_optimizer_v2: \n",
      "==> STEP 1: BOOTSTRAP FEWSHOT EXAMPLES <==\n",
      "2024/11/21 17:20:16 INFO dspy.teleprompt.mipro_optimizer_v2: These will be used for informing instruction proposal.\n",
      "\n",
      "2024/11/21 17:20:16 INFO dspy.teleprompt.mipro_optimizer_v2: Bootstrapping N=7 sets of demonstrations...\n"
     ]
    },
    {
     "name": "stdout",
     "output_type": "stream",
     "text": [
      "Optimizing zero-shot program with MIPRO...\n",
      "Bootstrapping set 1/7\n",
      "Bootstrapping set 2/7\n"
     ]
    },
    {
     "name": "stderr",
     "output_type": "stream",
     "text": [
      "  0%|          | 0/2 [00:00<?, ?it/s]<unknown>:21: SyntaxWarning: invalid escape sequence '\\m'\n",
      "<unknown>:25: SyntaxWarning: invalid escape sequence '\\m'\n",
      "<unknown>:47: SyntaxWarning: invalid escape sequence '\\m'\n",
      "<unknown>:63: SyntaxWarning: invalid escape sequence '\\m'\n",
      " 50%|█████     | 1/2 [00:29<00:29, 29.82s/it]\n"
     ]
    },
    {
     "ename": "KeyboardInterrupt",
     "evalue": "",
     "output_type": "error",
     "traceback": [
      "\u001b[1;31m---------------------------------------------------------------------------\u001b[0m",
      "\u001b[1;31mKeyboardInterrupt\u001b[0m                         Traceback (most recent call last)",
      "Cell \u001b[1;32mIn[77], line 12\u001b[0m\n\u001b[0;32m     10\u001b[0m \u001b[38;5;66;03m# Optimize program\u001b[39;00m\n\u001b[0;32m     11\u001b[0m \u001b[38;5;28mprint\u001b[39m(\u001b[38;5;124mf\u001b[39m\u001b[38;5;124m\"\u001b[39m\u001b[38;5;124mOptimizing zero-shot program with MIPRO...\u001b[39m\u001b[38;5;124m\"\u001b[39m)\n\u001b[1;32m---> 12\u001b[0m zeroshot_optimized_program \u001b[38;5;241m=\u001b[39m \u001b[43mteleprompter\u001b[49m\u001b[38;5;241;43m.\u001b[39;49m\u001b[43mcompile\u001b[49m\u001b[43m(\u001b[49m\n\u001b[0;32m     13\u001b[0m \u001b[43m    \u001b[49m\u001b[43mChemOntology\u001b[49m\u001b[43m(\u001b[49m\u001b[43m)\u001b[49m\u001b[43m,\u001b[49m\n\u001b[0;32m     14\u001b[0m \u001b[43m    \u001b[49m\u001b[43mtrainset\u001b[49m\u001b[38;5;241;43m=\u001b[39;49m\u001b[43mtrainset\u001b[49m\u001b[43m,\u001b[49m\n\u001b[0;32m     15\u001b[0m \u001b[43m    \u001b[49m\u001b[43mmax_bootstrapped_demos\u001b[49m\u001b[38;5;241;43m=\u001b[39;49m\u001b[38;5;241;43m0\u001b[39;49m\u001b[43m,\u001b[49m\u001b[43m \u001b[49m\u001b[38;5;66;43;03m# ZERO FEW-SHOT EXAMPLES\u001b[39;49;00m\n\u001b[0;32m     16\u001b[0m \u001b[43m    \u001b[49m\u001b[43mmax_labeled_demos\u001b[49m\u001b[38;5;241;43m=\u001b[39;49m\u001b[38;5;241;43m0\u001b[39;49m\u001b[43m,\u001b[49m\u001b[43m \u001b[49m\u001b[38;5;66;43;03m# ZERO FEW-SHOT EXAMPLES\u001b[39;49;00m\n\u001b[0;32m     17\u001b[0m \u001b[43m    \u001b[49m\u001b[43mrequires_permission_to_run\u001b[49m\u001b[38;5;241;43m=\u001b[39;49m\u001b[38;5;28;43;01mFalse\u001b[39;49;00m\u001b[43m,\u001b[49m\n\u001b[0;32m     18\u001b[0m \u001b[43m)\u001b[49m\n\u001b[0;32m     20\u001b[0m \u001b[38;5;66;03m# Save optimize program for future use\u001b[39;00m\n\u001b[0;32m     21\u001b[0m zeroshot_optimized_program\u001b[38;5;241m.\u001b[39msave(\u001b[38;5;124mf\u001b[39m\u001b[38;5;124m\"\u001b[39m\u001b[38;5;124mmipro_zeroshot_optimized\u001b[39m\u001b[38;5;124m\"\u001b[39m)\n",
      "File \u001b[1;32md:\\AnacondaEnPs\\envs\\OntologyConstruction\\Lib\\site-packages\\dspy\\teleprompt\\mipro_optimizer_v2.py:168\u001b[0m, in \u001b[0;36mMIPROv2.compile\u001b[1;34m(self, student, trainset, valset, num_trials, max_bootstrapped_demos, max_labeled_demos, seed, minibatch, minibatch_size, minibatch_full_eval_steps, program_aware_proposer, data_aware_proposer, view_data_batch_size, tip_aware_proposer, fewshot_aware_proposer, requires_permission_to_run)\u001b[0m\n\u001b[0;32m    158\u001b[0m evaluate \u001b[38;5;241m=\u001b[39m Evaluate(\n\u001b[0;32m    159\u001b[0m     devset\u001b[38;5;241m=\u001b[39mvalset,\n\u001b[0;32m    160\u001b[0m     metric\u001b[38;5;241m=\u001b[39m\u001b[38;5;28mself\u001b[39m\u001b[38;5;241m.\u001b[39mmetric,\n\u001b[1;32m   (...)\u001b[0m\n\u001b[0;32m    164\u001b[0m     display_progress\u001b[38;5;241m=\u001b[39m\u001b[38;5;28;01mTrue\u001b[39;00m,\n\u001b[0;32m    165\u001b[0m )\n\u001b[0;32m    167\u001b[0m \u001b[38;5;66;03m# Step 1: Bootstrap few-shot examples\u001b[39;00m\n\u001b[1;32m--> 168\u001b[0m demo_candidates \u001b[38;5;241m=\u001b[39m \u001b[38;5;28;43mself\u001b[39;49m\u001b[38;5;241;43m.\u001b[39;49m\u001b[43m_bootstrap_fewshot_examples\u001b[49m\u001b[43m(\u001b[49m\u001b[43mprogram\u001b[49m\u001b[43m,\u001b[49m\u001b[43m \u001b[49m\u001b[43mtrainset\u001b[49m\u001b[43m,\u001b[49m\u001b[43m \u001b[49m\u001b[43mseed\u001b[49m\u001b[43m)\u001b[49m\n\u001b[0;32m    170\u001b[0m \u001b[38;5;66;03m# Step 2: Propose instruction candidates\u001b[39;00m\n\u001b[0;32m    171\u001b[0m instruction_candidates \u001b[38;5;241m=\u001b[39m \u001b[38;5;28mself\u001b[39m\u001b[38;5;241m.\u001b[39m_propose_instructions(\n\u001b[0;32m    172\u001b[0m     program,\n\u001b[0;32m    173\u001b[0m     trainset,\n\u001b[1;32m   (...)\u001b[0m\n\u001b[0;32m    179\u001b[0m     fewshot_aware_proposer,\n\u001b[0;32m    180\u001b[0m )\n",
      "File \u001b[1;32md:\\AnacondaEnPs\\envs\\OntologyConstruction\\Lib\\site-packages\\dspy\\teleprompt\\mipro_optimizer_v2.py:386\u001b[0m, in \u001b[0;36mMIPROv2._bootstrap_fewshot_examples\u001b[1;34m(self, program, trainset, seed)\u001b[0m\n\u001b[0;32m    383\u001b[0m zeroshot \u001b[38;5;241m=\u001b[39m \u001b[38;5;28mself\u001b[39m\u001b[38;5;241m.\u001b[39mmax_bootstrapped_demos \u001b[38;5;241m==\u001b[39m \u001b[38;5;241m0\u001b[39m \u001b[38;5;129;01mand\u001b[39;00m \u001b[38;5;28mself\u001b[39m\u001b[38;5;241m.\u001b[39mmax_labeled_demos \u001b[38;5;241m==\u001b[39m \u001b[38;5;241m0\u001b[39m\n\u001b[0;32m    385\u001b[0m \u001b[38;5;28;01mtry\u001b[39;00m:\n\u001b[1;32m--> 386\u001b[0m     demo_candidates \u001b[38;5;241m=\u001b[39m \u001b[43mcreate_n_fewshot_demo_sets\u001b[49m\u001b[43m(\u001b[49m\n\u001b[0;32m    387\u001b[0m \u001b[43m        \u001b[49m\u001b[43mstudent\u001b[49m\u001b[38;5;241;43m=\u001b[39;49m\u001b[43mprogram\u001b[49m\u001b[43m,\u001b[49m\n\u001b[0;32m    388\u001b[0m \u001b[43m        \u001b[49m\u001b[43mnum_candidate_sets\u001b[49m\u001b[38;5;241;43m=\u001b[39;49m\u001b[38;5;28;43mself\u001b[39;49m\u001b[38;5;241;43m.\u001b[39;49m\u001b[43mnum_candidates\u001b[49m\u001b[43m,\u001b[49m\n\u001b[0;32m    389\u001b[0m \u001b[43m        \u001b[49m\u001b[43mtrainset\u001b[49m\u001b[38;5;241;43m=\u001b[39;49m\u001b[43mtrainset\u001b[49m\u001b[43m,\u001b[49m\n\u001b[0;32m    390\u001b[0m \u001b[43m        \u001b[49m\u001b[43mmax_labeled_demos\u001b[49m\u001b[38;5;241;43m=\u001b[39;49m\u001b[43m(\u001b[49m\n\u001b[0;32m    391\u001b[0m \u001b[43m            \u001b[49m\u001b[43mLABELED_FEWSHOT_EXAMPLES_IN_CONTEXT\u001b[49m\n\u001b[0;32m    392\u001b[0m \u001b[43m            \u001b[49m\u001b[38;5;28;43;01mif\u001b[39;49;00m\u001b[43m \u001b[49m\u001b[43mzeroshot\u001b[49m\n\u001b[0;32m    393\u001b[0m \u001b[43m            \u001b[49m\u001b[38;5;28;43;01melse\u001b[39;49;00m\u001b[43m \u001b[49m\u001b[38;5;28;43mself\u001b[39;49m\u001b[38;5;241;43m.\u001b[39;49m\u001b[43mmax_labeled_demos\u001b[49m\n\u001b[0;32m    394\u001b[0m \u001b[43m        \u001b[49m\u001b[43m)\u001b[49m\u001b[43m,\u001b[49m\n\u001b[0;32m    395\u001b[0m \u001b[43m        \u001b[49m\u001b[43mmax_bootstrapped_demos\u001b[49m\u001b[38;5;241;43m=\u001b[39;49m\u001b[43m(\u001b[49m\n\u001b[0;32m    396\u001b[0m \u001b[43m            \u001b[49m\u001b[43mBOOTSTRAPPED_FEWSHOT_EXAMPLES_IN_CONTEXT\u001b[49m\n\u001b[0;32m    397\u001b[0m \u001b[43m            \u001b[49m\u001b[38;5;28;43;01mif\u001b[39;49;00m\u001b[43m \u001b[49m\u001b[43mzeroshot\u001b[49m\n\u001b[0;32m    398\u001b[0m \u001b[43m            \u001b[49m\u001b[38;5;28;43;01melse\u001b[39;49;00m\u001b[43m \u001b[49m\u001b[38;5;28;43mself\u001b[39;49m\u001b[38;5;241;43m.\u001b[39;49m\u001b[43mmax_bootstrapped_demos\u001b[49m\n\u001b[0;32m    399\u001b[0m \u001b[43m        \u001b[49m\u001b[43m)\u001b[49m\u001b[43m,\u001b[49m\n\u001b[0;32m    400\u001b[0m \u001b[43m        \u001b[49m\u001b[43mmetric\u001b[49m\u001b[38;5;241;43m=\u001b[39;49m\u001b[38;5;28;43mself\u001b[39;49m\u001b[38;5;241;43m.\u001b[39;49m\u001b[43mmetric\u001b[49m\u001b[43m,\u001b[49m\n\u001b[0;32m    401\u001b[0m \u001b[43m        \u001b[49m\u001b[43mmax_errors\u001b[49m\u001b[38;5;241;43m=\u001b[39;49m\u001b[38;5;28;43mself\u001b[39;49m\u001b[38;5;241;43m.\u001b[39;49m\u001b[43mmax_errors\u001b[49m\u001b[43m,\u001b[49m\n\u001b[0;32m    402\u001b[0m \u001b[43m        \u001b[49m\u001b[43mteacher_settings\u001b[49m\u001b[38;5;241;43m=\u001b[39;49m\u001b[38;5;28;43mself\u001b[39;49m\u001b[38;5;241;43m.\u001b[39;49m\u001b[43mteacher_settings\u001b[49m\u001b[43m,\u001b[49m\n\u001b[0;32m    403\u001b[0m \u001b[43m        \u001b[49m\u001b[43mseed\u001b[49m\u001b[38;5;241;43m=\u001b[39;49m\u001b[43mseed\u001b[49m\u001b[43m,\u001b[49m\n\u001b[0;32m    404\u001b[0m \u001b[43m        \u001b[49m\u001b[43mmetric_threshold\u001b[49m\u001b[38;5;241;43m=\u001b[39;49m\u001b[38;5;28;43mself\u001b[39;49m\u001b[38;5;241;43m.\u001b[39;49m\u001b[43mmetric_threshold\u001b[49m\u001b[43m,\u001b[49m\n\u001b[0;32m    405\u001b[0m \u001b[43m        \u001b[49m\u001b[43mrng\u001b[49m\u001b[38;5;241;43m=\u001b[39;49m\u001b[38;5;28;43mself\u001b[39;49m\u001b[38;5;241;43m.\u001b[39;49m\u001b[43mrng\u001b[49m\u001b[43m,\u001b[49m\n\u001b[0;32m    406\u001b[0m \u001b[43m    \u001b[49m\u001b[43m)\u001b[49m\n\u001b[0;32m    407\u001b[0m \u001b[38;5;28;01mexcept\u001b[39;00m \u001b[38;5;167;01mException\u001b[39;00m \u001b[38;5;28;01mas\u001b[39;00m e:\n\u001b[0;32m    408\u001b[0m     logger\u001b[38;5;241m.\u001b[39minfo(\u001b[38;5;124mf\u001b[39m\u001b[38;5;124m\"\u001b[39m\u001b[38;5;124mError generating few-shot examples: \u001b[39m\u001b[38;5;132;01m{\u001b[39;00me\u001b[38;5;132;01m}\u001b[39;00m\u001b[38;5;124m\"\u001b[39m)\n",
      "File \u001b[1;32md:\\AnacondaEnPs\\envs\\OntologyConstruction\\Lib\\site-packages\\dspy\\teleprompt\\utils.py:356\u001b[0m, in \u001b[0;36mcreate_n_fewshot_demo_sets\u001b[1;34m(student, num_candidate_sets, trainset, max_labeled_demos, max_bootstrapped_demos, metric, teacher_settings, max_errors, max_rounds, labeled_sample, min_num_samples, metric_threshold, teacher, include_non_bootstrapped, seed, rng)\u001b[0m\n\u001b[0;32m    344\u001b[0m     size \u001b[38;5;241m=\u001b[39m rng\u001b[38;5;241m.\u001b[39mrandint(min_num_samples, max_bootstrapped_demos)\n\u001b[0;32m    346\u001b[0m     teleprompter \u001b[38;5;241m=\u001b[39m BootstrapFewShot(\n\u001b[0;32m    347\u001b[0m         metric\u001b[38;5;241m=\u001b[39mmetric,\n\u001b[0;32m    348\u001b[0m         max_errors\u001b[38;5;241m=\u001b[39mmax_errors,\n\u001b[1;32m   (...)\u001b[0m\n\u001b[0;32m    353\u001b[0m         max_rounds\u001b[38;5;241m=\u001b[39mmax_rounds,\n\u001b[0;32m    354\u001b[0m     )\n\u001b[1;32m--> 356\u001b[0m     program2 \u001b[38;5;241m=\u001b[39m \u001b[43mteleprompter\u001b[49m\u001b[38;5;241;43m.\u001b[39;49m\u001b[43mcompile\u001b[49m\u001b[43m(\u001b[49m\n\u001b[0;32m    357\u001b[0m \u001b[43m        \u001b[49m\u001b[43mstudent\u001b[49m\u001b[43m,\u001b[49m\u001b[43m \u001b[49m\u001b[43mteacher\u001b[49m\u001b[38;5;241;43m=\u001b[39;49m\u001b[43mteacher\u001b[49m\u001b[43m,\u001b[49m\u001b[43m \u001b[49m\u001b[43mtrainset\u001b[49m\u001b[38;5;241;43m=\u001b[39;49m\u001b[43mtrainset_copy\u001b[49m\u001b[43m,\u001b[49m\n\u001b[0;32m    358\u001b[0m \u001b[43m    \u001b[49m\u001b[43m)\u001b[49m\n\u001b[0;32m    360\u001b[0m \u001b[38;5;28;01mfor\u001b[39;00m i, _ \u001b[38;5;129;01min\u001b[39;00m \u001b[38;5;28menumerate\u001b[39m(student\u001b[38;5;241m.\u001b[39mpredictors()):\n\u001b[0;32m    361\u001b[0m     demo_candidates[i]\u001b[38;5;241m.\u001b[39mappend(program2\u001b[38;5;241m.\u001b[39mpredictors()[i]\u001b[38;5;241m.\u001b[39mdemos)\n",
      "File \u001b[1;32md:\\AnacondaEnPs\\envs\\OntologyConstruction\\Lib\\site-packages\\dspy\\teleprompt\\bootstrap.py:85\u001b[0m, in \u001b[0;36mBootstrapFewShot.compile\u001b[1;34m(self, student, teacher, trainset)\u001b[0m\n\u001b[0;32m     83\u001b[0m \u001b[38;5;28mself\u001b[39m\u001b[38;5;241m.\u001b[39m_prepare_student_and_teacher(student, teacher)\n\u001b[0;32m     84\u001b[0m \u001b[38;5;28mself\u001b[39m\u001b[38;5;241m.\u001b[39m_prepare_predictor_mappings()\n\u001b[1;32m---> 85\u001b[0m \u001b[38;5;28;43mself\u001b[39;49m\u001b[38;5;241;43m.\u001b[39;49m\u001b[43m_bootstrap\u001b[49m\u001b[43m(\u001b[49m\u001b[43m)\u001b[49m\n\u001b[0;32m     87\u001b[0m \u001b[38;5;28mself\u001b[39m\u001b[38;5;241m.\u001b[39mstudent \u001b[38;5;241m=\u001b[39m \u001b[38;5;28mself\u001b[39m\u001b[38;5;241m.\u001b[39m_train()\n\u001b[0;32m     88\u001b[0m \u001b[38;5;28mself\u001b[39m\u001b[38;5;241m.\u001b[39mstudent\u001b[38;5;241m.\u001b[39m_compiled \u001b[38;5;241m=\u001b[39m \u001b[38;5;28;01mTrue\u001b[39;00m\n",
      "File \u001b[1;32md:\\AnacondaEnPs\\envs\\OntologyConstruction\\Lib\\site-packages\\dspy\\teleprompt\\bootstrap.py:158\u001b[0m, in \u001b[0;36mBootstrapFewShot._bootstrap\u001b[1;34m(self, max_bootstraps)\u001b[0m\n\u001b[0;32m    155\u001b[0m \u001b[38;5;28;01mfor\u001b[39;00m round_idx \u001b[38;5;129;01min\u001b[39;00m \u001b[38;5;28mrange\u001b[39m(\u001b[38;5;28mself\u001b[39m\u001b[38;5;241m.\u001b[39mmax_rounds):\n\u001b[0;32m    156\u001b[0m     bootstrap_attempts \u001b[38;5;241m+\u001b[39m\u001b[38;5;241m=\u001b[39m \u001b[38;5;241m1\u001b[39m\n\u001b[1;32m--> 158\u001b[0m     \u001b[38;5;28;01mif\u001b[39;00m \u001b[38;5;28;43mself\u001b[39;49m\u001b[38;5;241;43m.\u001b[39;49m\u001b[43m_bootstrap_one_example\u001b[49m\u001b[43m(\u001b[49m\u001b[43mexample\u001b[49m\u001b[43m,\u001b[49m\u001b[43m \u001b[49m\u001b[43mround_idx\u001b[49m\u001b[43m)\u001b[49m:\n\u001b[0;32m    159\u001b[0m         bootstrapped[example_idx] \u001b[38;5;241m=\u001b[39m \u001b[38;5;28;01mTrue\u001b[39;00m\n\u001b[0;32m    160\u001b[0m         \u001b[38;5;28;01mbreak\u001b[39;00m\n",
      "File \u001b[1;32md:\\AnacondaEnPs\\envs\\OntologyConstruction\\Lib\\site-packages\\dspy\\teleprompt\\bootstrap.py:201\u001b[0m, in \u001b[0;36mBootstrapFewShot._bootstrap_one_example\u001b[1;34m(self, example, round_idx)\u001b[0m\n\u001b[0;32m    198\u001b[0m         predictor\u001b[38;5;241m.\u001b[39mdemos \u001b[38;5;241m=\u001b[39m predictor_cache[name]\n\u001b[0;32m    200\u001b[0m \u001b[38;5;28;01mif\u001b[39;00m \u001b[38;5;28mself\u001b[39m\u001b[38;5;241m.\u001b[39mmetric:\n\u001b[1;32m--> 201\u001b[0m     metric_val \u001b[38;5;241m=\u001b[39m \u001b[38;5;28;43mself\u001b[39;49m\u001b[38;5;241;43m.\u001b[39;49m\u001b[43mmetric\u001b[49m\u001b[43m(\u001b[49m\u001b[43mexample\u001b[49m\u001b[43m,\u001b[49m\u001b[43m \u001b[49m\u001b[43mprediction\u001b[49m\u001b[43m,\u001b[49m\u001b[43m \u001b[49m\u001b[43mtrace\u001b[49m\u001b[43m)\u001b[49m\n\u001b[0;32m    202\u001b[0m     \u001b[38;5;28;01mif\u001b[39;00m \u001b[38;5;28mself\u001b[39m\u001b[38;5;241m.\u001b[39mmetric_threshold:\n\u001b[0;32m    203\u001b[0m         success \u001b[38;5;241m=\u001b[39m metric_val \u001b[38;5;241m>\u001b[39m\u001b[38;5;241m=\u001b[39m \u001b[38;5;28mself\u001b[39m\u001b[38;5;241m.\u001b[39mmetric_threshold\n",
      "Cell \u001b[1;32mIn[64], line 67\u001b[0m, in \u001b[0;36mmetric\u001b[1;34m(gold, pred, trace, verbose)\u001b[0m\n\u001b[0;32m     36\u001b[0m     ontology_structure \u001b[38;5;241m=\u001b[39m \u001b[38;5;124m\"\"\"\u001b[39m\u001b[38;5;124mOntology Structure Score (0-4 points):\u001b[39m\n\u001b[0;32m     37\u001b[0m \u001b[38;5;124mAward 1 point for each criterion met:\u001b[39m\n\u001b[0;32m     38\u001b[0m \u001b[38;5;124m- Entities span appropriate levels of chemical granularity (1 point)\u001b[39m\n\u001b[0;32m     39\u001b[0m \u001b[38;5;124m- Properties and relationships form a coherent chemical knowledge graph (1 point)\u001b[39m\n\u001b[0;32m     40\u001b[0m \u001b[38;5;124m- The ontology maintains semantic clarity independent of source text (1 point)\u001b[39m\n\u001b[0;32m     41\u001b[0m \u001b[38;5;124m- Cross-references between concepts are meaningful and accurate (1 point)\u001b[39m\u001b[38;5;124m\"\"\"\u001b[39m\n\u001b[0;32m     43\u001b[0m     overall_score \u001b[38;5;241m=\u001b[39m \u001b[38;5;124m\"\"\"\u001b[39m\u001b[38;5;124mOverall Score (0-8 points):\u001b[39m\n\u001b[0;32m     44\u001b[0m \u001b[38;5;124mEach criterion is evaluated on three levels - excellent (2 points), adequate (1 point), or poor (0 points):\u001b[39m\n\u001b[0;32m     45\u001b[0m \n\u001b[1;32m   (...)\u001b[0m\n\u001b[0;32m     63\u001b[0m \u001b[38;5;124m  * Adequate: Most entities and properties are clear without background text\u001b[39m\n\u001b[0;32m     64\u001b[0m \u001b[38;5;124m  * Poor: Some understanding requires source text context\u001b[39m\u001b[38;5;124m\"\"\"\u001b[39m\n\u001b[0;32m     66\u001b[0m     score_list \u001b[38;5;241m=\u001b[39m [\n\u001b[1;32m---> 67\u001b[0m             \u001b[43mdspy\u001b[49m\u001b[38;5;241;43m.\u001b[39;49m\u001b[43mChainOfThought\u001b[49m\u001b[43m(\u001b[49m\u001b[43mAssess\u001b[49m\u001b[43m)\u001b[49m\u001b[43m(\u001b[49m\u001b[43massessed_text\u001b[49m\u001b[38;5;241;43m=\u001b[39;49m\u001b[43mcontext\u001b[49m\u001b[43m,\u001b[49m\u001b[43m \u001b[49m\u001b[43massessment_ontology\u001b[49m\u001b[38;5;241;43m=\u001b[39;49m\u001b[43montology_to_string\u001b[49m\u001b[43m(\u001b[49m\u001b[43montology\u001b[49m\u001b[43m)\u001b[49m\u001b[43m,\u001b[49m\u001b[43m \u001b[49m\u001b[43massessment_criteria\u001b[49m\u001b[38;5;241;43m=\u001b[39;49m\u001b[43mcriteria\u001b[49m\u001b[43m)\u001b[49m\u001b[38;5;241m.\u001b[39massessment_score \u001b[38;5;28;01mfor\u001b[39;00m criteria \u001b[38;5;129;01min\u001b[39;00m [entity_accuracy, data_property_correctness, object_property_completeness, ontology_structure, overall_score]\n\u001b[0;32m     68\u001b[0m         ]\n\u001b[0;32m     69\u001b[0m     score \u001b[38;5;241m=\u001b[39m \u001b[38;5;28msum\u001b[39m(score_list)\n\u001b[0;32m     70\u001b[0m     \u001b[38;5;28;01mif\u001b[39;00m trace \u001b[38;5;129;01mis\u001b[39;00m \u001b[38;5;129;01mnot\u001b[39;00m \u001b[38;5;28;01mNone\u001b[39;00m: \u001b[38;5;28;01mreturn\u001b[39;00m score \u001b[38;5;241m>\u001b[39m\u001b[38;5;241m=\u001b[39m \u001b[38;5;241m1\u001b[39m\n",
      "File \u001b[1;32md:\\AnacondaEnPs\\envs\\OntologyConstruction\\Lib\\site-packages\\dspy\\utils\\callback.py:202\u001b[0m, in \u001b[0;36mwith_callbacks.<locals>.wrapper\u001b[1;34m(instance, *args, **kwargs)\u001b[0m\n\u001b[0;32m    200\u001b[0m \u001b[38;5;66;03m# If no callbacks are provided, just call the function\u001b[39;00m\n\u001b[0;32m    201\u001b[0m \u001b[38;5;28;01mif\u001b[39;00m \u001b[38;5;129;01mnot\u001b[39;00m callbacks:\n\u001b[1;32m--> 202\u001b[0m     \u001b[38;5;28;01mreturn\u001b[39;00m \u001b[43mfn\u001b[49m\u001b[43m(\u001b[49m\u001b[43minstance\u001b[49m\u001b[43m,\u001b[49m\u001b[43m \u001b[49m\u001b[38;5;241;43m*\u001b[39;49m\u001b[43margs\u001b[49m\u001b[43m,\u001b[49m\u001b[43m \u001b[49m\u001b[38;5;241;43m*\u001b[39;49m\u001b[38;5;241;43m*\u001b[39;49m\u001b[43mkwargs\u001b[49m\u001b[43m)\u001b[49m\n\u001b[0;32m    204\u001b[0m \u001b[38;5;66;03m# Generate call ID as the unique identifier for the call, this is useful for instrumentation.\u001b[39;00m\n\u001b[0;32m    205\u001b[0m call_id \u001b[38;5;241m=\u001b[39m uuid\u001b[38;5;241m.\u001b[39muuid4()\u001b[38;5;241m.\u001b[39mhex\n",
      "File \u001b[1;32md:\\AnacondaEnPs\\envs\\OntologyConstruction\\Lib\\site-packages\\dspy\\primitives\\program.py:24\u001b[0m, in \u001b[0;36mModule.__call__\u001b[1;34m(self, *args, **kwargs)\u001b[0m\n\u001b[0;32m     22\u001b[0m \u001b[38;5;129m@with_callbacks\u001b[39m\n\u001b[0;32m     23\u001b[0m \u001b[38;5;28;01mdef\u001b[39;00m \u001b[38;5;21m__call__\u001b[39m(\u001b[38;5;28mself\u001b[39m, \u001b[38;5;241m*\u001b[39margs, \u001b[38;5;241m*\u001b[39m\u001b[38;5;241m*\u001b[39mkwargs):\n\u001b[1;32m---> 24\u001b[0m     \u001b[38;5;28;01mreturn\u001b[39;00m \u001b[38;5;28;43mself\u001b[39;49m\u001b[38;5;241;43m.\u001b[39;49m\u001b[43mforward\u001b[49m\u001b[43m(\u001b[49m\u001b[38;5;241;43m*\u001b[39;49m\u001b[43margs\u001b[49m\u001b[43m,\u001b[49m\u001b[43m \u001b[49m\u001b[38;5;241;43m*\u001b[39;49m\u001b[38;5;241;43m*\u001b[39;49m\u001b[43mkwargs\u001b[49m\u001b[43m)\u001b[49m\n",
      "File \u001b[1;32md:\\AnacondaEnPs\\envs\\OntologyConstruction\\Lib\\site-packages\\dspy\\predict\\chain_of_thought.py:44\u001b[0m, in \u001b[0;36mChainOfThought.forward\u001b[1;34m(self, **kwargs)\u001b[0m\n\u001b[0;32m     41\u001b[0m \u001b[38;5;28;01massert\u001b[39;00m \u001b[38;5;28mself\u001b[39m\u001b[38;5;241m.\u001b[39mactivated \u001b[38;5;129;01min\u001b[39;00m [\u001b[38;5;28;01mTrue\u001b[39;00m, \u001b[38;5;28;01mFalse\u001b[39;00m]\n\u001b[0;32m     43\u001b[0m signature \u001b[38;5;241m=\u001b[39m kwargs\u001b[38;5;241m.\u001b[39mpop(\u001b[38;5;124m\"\u001b[39m\u001b[38;5;124mnew_signature\u001b[39m\u001b[38;5;124m\"\u001b[39m, \u001b[38;5;28mself\u001b[39m\u001b[38;5;241m.\u001b[39m_predict\u001b[38;5;241m.\u001b[39mextended_signature \u001b[38;5;28;01mif\u001b[39;00m \u001b[38;5;28mself\u001b[39m\u001b[38;5;241m.\u001b[39mactivated \u001b[38;5;28;01melse\u001b[39;00m \u001b[38;5;28mself\u001b[39m\u001b[38;5;241m.\u001b[39msignature)\n\u001b[1;32m---> 44\u001b[0m \u001b[38;5;28;01mreturn\u001b[39;00m \u001b[38;5;28;43mself\u001b[39;49m\u001b[38;5;241;43m.\u001b[39;49m\u001b[43m_predict\u001b[49m\u001b[43m(\u001b[49m\u001b[43msignature\u001b[49m\u001b[38;5;241;43m=\u001b[39;49m\u001b[43msignature\u001b[49m\u001b[43m,\u001b[49m\u001b[43m \u001b[49m\u001b[38;5;241;43m*\u001b[39;49m\u001b[38;5;241;43m*\u001b[39;49m\u001b[43mkwargs\u001b[49m\u001b[43m)\u001b[49m\n",
      "File \u001b[1;32md:\\AnacondaEnPs\\envs\\OntologyConstruction\\Lib\\site-packages\\dspy\\utils\\callback.py:202\u001b[0m, in \u001b[0;36mwith_callbacks.<locals>.wrapper\u001b[1;34m(instance, *args, **kwargs)\u001b[0m\n\u001b[0;32m    200\u001b[0m \u001b[38;5;66;03m# If no callbacks are provided, just call the function\u001b[39;00m\n\u001b[0;32m    201\u001b[0m \u001b[38;5;28;01mif\u001b[39;00m \u001b[38;5;129;01mnot\u001b[39;00m callbacks:\n\u001b[1;32m--> 202\u001b[0m     \u001b[38;5;28;01mreturn\u001b[39;00m \u001b[43mfn\u001b[49m\u001b[43m(\u001b[49m\u001b[43minstance\u001b[49m\u001b[43m,\u001b[49m\u001b[43m \u001b[49m\u001b[38;5;241;43m*\u001b[39;49m\u001b[43margs\u001b[49m\u001b[43m,\u001b[49m\u001b[43m \u001b[49m\u001b[38;5;241;43m*\u001b[39;49m\u001b[38;5;241;43m*\u001b[39;49m\u001b[43mkwargs\u001b[49m\u001b[43m)\u001b[49m\n\u001b[0;32m    204\u001b[0m \u001b[38;5;66;03m# Generate call ID as the unique identifier for the call, this is useful for instrumentation.\u001b[39;00m\n\u001b[0;32m    205\u001b[0m call_id \u001b[38;5;241m=\u001b[39m uuid\u001b[38;5;241m.\u001b[39muuid4()\u001b[38;5;241m.\u001b[39mhex\n",
      "File \u001b[1;32md:\\AnacondaEnPs\\envs\\OntologyConstruction\\Lib\\site-packages\\dspy\\predict\\predict.py:154\u001b[0m, in \u001b[0;36mPredict.__call__\u001b[1;34m(self, **kwargs)\u001b[0m\n\u001b[0;32m    152\u001b[0m \u001b[38;5;129m@with_callbacks\u001b[39m\n\u001b[0;32m    153\u001b[0m \u001b[38;5;28;01mdef\u001b[39;00m \u001b[38;5;21m__call__\u001b[39m(\u001b[38;5;28mself\u001b[39m, \u001b[38;5;241m*\u001b[39m\u001b[38;5;241m*\u001b[39mkwargs):\n\u001b[1;32m--> 154\u001b[0m     \u001b[38;5;28;01mreturn\u001b[39;00m \u001b[38;5;28;43mself\u001b[39;49m\u001b[38;5;241;43m.\u001b[39;49m\u001b[43mforward\u001b[49m\u001b[43m(\u001b[49m\u001b[38;5;241;43m*\u001b[39;49m\u001b[38;5;241;43m*\u001b[39;49m\u001b[43mkwargs\u001b[49m\u001b[43m)\u001b[49m\n",
      "File \u001b[1;32md:\\AnacondaEnPs\\envs\\OntologyConstruction\\Lib\\site-packages\\dspy\\predict\\predict.py:188\u001b[0m, in \u001b[0;36mPredict.forward\u001b[1;34m(self, **kwargs)\u001b[0m\n\u001b[0;32m    185\u001b[0m \u001b[38;5;28;01mimport\u001b[39;00m \u001b[38;5;21;01mdspy\u001b[39;00m\n\u001b[0;32m    187\u001b[0m \u001b[38;5;28;01mif\u001b[39;00m \u001b[38;5;28misinstance\u001b[39m(lm, dspy\u001b[38;5;241m.\u001b[39mLM):\n\u001b[1;32m--> 188\u001b[0m     completions \u001b[38;5;241m=\u001b[39m \u001b[43mv2_5_generate\u001b[49m\u001b[43m(\u001b[49m\u001b[43mlm\u001b[49m\u001b[43m,\u001b[49m\u001b[43m \u001b[49m\u001b[43mconfig\u001b[49m\u001b[43m,\u001b[49m\u001b[43m \u001b[49m\u001b[43msignature\u001b[49m\u001b[43m,\u001b[49m\u001b[43m \u001b[49m\u001b[43mdemos\u001b[49m\u001b[43m,\u001b[49m\u001b[43m \u001b[49m\u001b[43mkwargs\u001b[49m\u001b[43m,\u001b[49m\u001b[43m \u001b[49m\u001b[43m_parse_values\u001b[49m\u001b[38;5;241;43m=\u001b[39;49m\u001b[38;5;28;43mself\u001b[39;49m\u001b[38;5;241;43m.\u001b[39;49m\u001b[43m_parse_values\u001b[49m\u001b[43m)\u001b[49m\n\u001b[0;32m    189\u001b[0m \u001b[38;5;28;01melse\u001b[39;00m:\n\u001b[0;32m    190\u001b[0m     warn_once(\n\u001b[0;32m    191\u001b[0m         \u001b[38;5;124m\"\u001b[39m\u001b[38;5;130;01m\\t\u001b[39;00m\u001b[38;5;124m*** In DSPy 2.5, all LM clients except `dspy.LM` are deprecated, \u001b[39m\u001b[38;5;124m\"\u001b[39m\n\u001b[0;32m    192\u001b[0m         \u001b[38;5;124m\"\u001b[39m\u001b[38;5;124munderperform, and are about to be deleted. ***\u001b[39m\u001b[38;5;130;01m\\n\u001b[39;00m\u001b[38;5;124m\"\u001b[39m\n\u001b[1;32m   (...)\u001b[0m\n\u001b[0;32m    197\u001b[0m         \u001b[38;5;124m\"\u001b[39m\u001b[38;5;124m \u001b[39m\u001b[38;5;130;01m\\t\u001b[39;00m\u001b[38;5;130;01m\\t\u001b[39;00m\u001b[38;5;124mhttps://github.com/stanfordnlp/dspy/blob/main/examples/migration.ipynb\u001b[39m\u001b[38;5;124m\"\u001b[39m\n\u001b[0;32m    198\u001b[0m     )\n",
      "File \u001b[1;32md:\\AnacondaEnPs\\envs\\OntologyConstruction\\Lib\\site-packages\\dspy\\predict\\predict.py:295\u001b[0m, in \u001b[0;36mv2_5_generate\u001b[1;34m(lm, lm_kwargs, signature, demos, inputs, _parse_values)\u001b[0m\n\u001b[0;32m    291\u001b[0m \u001b[38;5;28;01mimport\u001b[39;00m \u001b[38;5;21;01mdspy\u001b[39;00m\n\u001b[0;32m    293\u001b[0m adapter \u001b[38;5;241m=\u001b[39m dspy\u001b[38;5;241m.\u001b[39msettings\u001b[38;5;241m.\u001b[39madapter \u001b[38;5;129;01mor\u001b[39;00m dspy\u001b[38;5;241m.\u001b[39mChatAdapter()\n\u001b[1;32m--> 295\u001b[0m \u001b[38;5;28;01mreturn\u001b[39;00m \u001b[43madapter\u001b[49m\u001b[43m(\u001b[49m\n\u001b[0;32m    296\u001b[0m \u001b[43m    \u001b[49m\u001b[43mlm\u001b[49m\u001b[43m,\u001b[49m\u001b[43m \u001b[49m\u001b[43mlm_kwargs\u001b[49m\u001b[38;5;241;43m=\u001b[39;49m\u001b[43mlm_kwargs\u001b[49m\u001b[43m,\u001b[49m\u001b[43m \u001b[49m\u001b[43msignature\u001b[49m\u001b[38;5;241;43m=\u001b[39;49m\u001b[43msignature\u001b[49m\u001b[43m,\u001b[49m\u001b[43m \u001b[49m\u001b[43mdemos\u001b[49m\u001b[38;5;241;43m=\u001b[39;49m\u001b[43mdemos\u001b[49m\u001b[43m,\u001b[49m\u001b[43m \u001b[49m\u001b[43minputs\u001b[49m\u001b[38;5;241;43m=\u001b[39;49m\u001b[43minputs\u001b[49m\u001b[43m,\u001b[49m\u001b[43m \u001b[49m\u001b[43m_parse_values\u001b[49m\u001b[38;5;241;43m=\u001b[39;49m\u001b[43m_parse_values\u001b[49m\n\u001b[0;32m    297\u001b[0m \u001b[43m\u001b[49m\u001b[43m)\u001b[49m\n",
      "File \u001b[1;32md:\\AnacondaEnPs\\envs\\OntologyConstruction\\Lib\\site-packages\\dspy\\adapters\\base.py:20\u001b[0m, in \u001b[0;36mAdapter.__call__\u001b[1;34m(self, lm, lm_kwargs, signature, demos, inputs, _parse_values)\u001b[0m\n\u001b[0;32m     17\u001b[0m inputs_ \u001b[38;5;241m=\u001b[39m \u001b[38;5;28mself\u001b[39m\u001b[38;5;241m.\u001b[39mformat(signature, demos, inputs)\n\u001b[0;32m     18\u001b[0m inputs_ \u001b[38;5;241m=\u001b[39m \u001b[38;5;28mdict\u001b[39m(prompt\u001b[38;5;241m=\u001b[39minputs_) \u001b[38;5;28;01mif\u001b[39;00m \u001b[38;5;28misinstance\u001b[39m(inputs_, \u001b[38;5;28mstr\u001b[39m) \u001b[38;5;28;01melse\u001b[39;00m \u001b[38;5;28mdict\u001b[39m(messages\u001b[38;5;241m=\u001b[39minputs_)\n\u001b[1;32m---> 20\u001b[0m outputs \u001b[38;5;241m=\u001b[39m \u001b[43mlm\u001b[49m\u001b[43m(\u001b[49m\u001b[38;5;241;43m*\u001b[39;49m\u001b[38;5;241;43m*\u001b[39;49m\u001b[43minputs_\u001b[49m\u001b[43m,\u001b[49m\u001b[43m \u001b[49m\u001b[38;5;241;43m*\u001b[39;49m\u001b[38;5;241;43m*\u001b[39;49m\u001b[43mlm_kwargs\u001b[49m\u001b[43m)\u001b[49m\n\u001b[0;32m     21\u001b[0m values \u001b[38;5;241m=\u001b[39m []\n\u001b[0;32m     23\u001b[0m \u001b[38;5;28;01mtry\u001b[39;00m:\n",
      "File \u001b[1;32md:\\AnacondaEnPs\\envs\\OntologyConstruction\\Lib\\site-packages\\dspy\\utils\\callback.py:202\u001b[0m, in \u001b[0;36mwith_callbacks.<locals>.wrapper\u001b[1;34m(instance, *args, **kwargs)\u001b[0m\n\u001b[0;32m    200\u001b[0m \u001b[38;5;66;03m# If no callbacks are provided, just call the function\u001b[39;00m\n\u001b[0;32m    201\u001b[0m \u001b[38;5;28;01mif\u001b[39;00m \u001b[38;5;129;01mnot\u001b[39;00m callbacks:\n\u001b[1;32m--> 202\u001b[0m     \u001b[38;5;28;01mreturn\u001b[39;00m \u001b[43mfn\u001b[49m\u001b[43m(\u001b[49m\u001b[43minstance\u001b[49m\u001b[43m,\u001b[49m\u001b[43m \u001b[49m\u001b[38;5;241;43m*\u001b[39;49m\u001b[43margs\u001b[49m\u001b[43m,\u001b[49m\u001b[43m \u001b[49m\u001b[38;5;241;43m*\u001b[39;49m\u001b[38;5;241;43m*\u001b[39;49m\u001b[43mkwargs\u001b[49m\u001b[43m)\u001b[49m\n\u001b[0;32m    204\u001b[0m \u001b[38;5;66;03m# Generate call ID as the unique identifier for the call, this is useful for instrumentation.\u001b[39;00m\n\u001b[0;32m    205\u001b[0m call_id \u001b[38;5;241m=\u001b[39m uuid\u001b[38;5;241m.\u001b[39muuid4()\u001b[38;5;241m.\u001b[39mhex\n",
      "File \u001b[1;32md:\\AnacondaEnPs\\envs\\OntologyConstruction\\Lib\\site-packages\\dspy\\clients\\lm.py:94\u001b[0m, in \u001b[0;36mLM.__call__\u001b[1;34m(self, prompt, messages, **kwargs)\u001b[0m\n\u001b[0;32m     91\u001b[0m \u001b[38;5;28;01melse\u001b[39;00m:\n\u001b[0;32m     92\u001b[0m     completion \u001b[38;5;241m=\u001b[39m cached_litellm_text_completion \u001b[38;5;28;01mif\u001b[39;00m cache \u001b[38;5;28;01melse\u001b[39;00m litellm_text_completion\n\u001b[1;32m---> 94\u001b[0m response \u001b[38;5;241m=\u001b[39m \u001b[43mcompletion\u001b[49m\u001b[43m(\u001b[49m\n\u001b[0;32m     95\u001b[0m \u001b[43m    \u001b[49m\u001b[43mrequest\u001b[49m\u001b[38;5;241;43m=\u001b[39;49m\u001b[43mujson\u001b[49m\u001b[38;5;241;43m.\u001b[39;49m\u001b[43mdumps\u001b[49m\u001b[43m(\u001b[49m\u001b[38;5;28;43mdict\u001b[39;49m\u001b[43m(\u001b[49m\u001b[43mmodel\u001b[49m\u001b[38;5;241;43m=\u001b[39;49m\u001b[38;5;28;43mself\u001b[39;49m\u001b[38;5;241;43m.\u001b[39;49m\u001b[43mmodel\u001b[49m\u001b[43m,\u001b[49m\u001b[43m \u001b[49m\u001b[43mmessages\u001b[49m\u001b[38;5;241;43m=\u001b[39;49m\u001b[43mmessages\u001b[49m\u001b[43m,\u001b[49m\u001b[43m \u001b[49m\u001b[38;5;241;43m*\u001b[39;49m\u001b[38;5;241;43m*\u001b[39;49m\u001b[43mkwargs\u001b[49m\u001b[43m)\u001b[49m\u001b[43m)\u001b[49m\u001b[43m,\u001b[49m\n\u001b[0;32m     96\u001b[0m \u001b[43m    \u001b[49m\u001b[43mnum_retries\u001b[49m\u001b[38;5;241;43m=\u001b[39;49m\u001b[38;5;28;43mself\u001b[39;49m\u001b[38;5;241;43m.\u001b[39;49m\u001b[43mnum_retries\u001b[49m\u001b[43m,\u001b[49m\n\u001b[0;32m     97\u001b[0m \u001b[43m\u001b[49m\u001b[43m)\u001b[49m\n\u001b[0;32m     98\u001b[0m outputs \u001b[38;5;241m=\u001b[39m [c\u001b[38;5;241m.\u001b[39mmessage\u001b[38;5;241m.\u001b[39mcontent \u001b[38;5;28;01mif\u001b[39;00m \u001b[38;5;28mhasattr\u001b[39m(c, \u001b[38;5;124m\"\u001b[39m\u001b[38;5;124mmessage\u001b[39m\u001b[38;5;124m\"\u001b[39m) \u001b[38;5;28;01melse\u001b[39;00m c[\u001b[38;5;124m\"\u001b[39m\u001b[38;5;124mtext\u001b[39m\u001b[38;5;124m\"\u001b[39m] \u001b[38;5;28;01mfor\u001b[39;00m c \u001b[38;5;129;01min\u001b[39;00m response[\u001b[38;5;124m\"\u001b[39m\u001b[38;5;124mchoices\u001b[39m\u001b[38;5;124m\"\u001b[39m]]\n\u001b[0;32m    100\u001b[0m \u001b[38;5;66;03m# Logging, with removed api key & where `cost` is None on cache hit.\u001b[39;00m\n",
      "File \u001b[1;32md:\\AnacondaEnPs\\envs\\OntologyConstruction\\Lib\\site-packages\\dspy\\clients\\lm.py:217\u001b[0m, in \u001b[0;36mcached_litellm_completion\u001b[1;34m(request, num_retries)\u001b[0m\n\u001b[0;32m    215\u001b[0m \u001b[38;5;129m@functools\u001b[39m\u001b[38;5;241m.\u001b[39mlru_cache(maxsize\u001b[38;5;241m=\u001b[39m\u001b[38;5;28;01mNone\u001b[39;00m)\n\u001b[0;32m    216\u001b[0m \u001b[38;5;28;01mdef\u001b[39;00m \u001b[38;5;21mcached_litellm_completion\u001b[39m(request, num_retries: \u001b[38;5;28mint\u001b[39m):\n\u001b[1;32m--> 217\u001b[0m     \u001b[38;5;28;01mreturn\u001b[39;00m \u001b[43mlitellm_completion\u001b[49m\u001b[43m(\u001b[49m\n\u001b[0;32m    218\u001b[0m \u001b[43m        \u001b[49m\u001b[43mrequest\u001b[49m\u001b[43m,\u001b[49m\n\u001b[0;32m    219\u001b[0m \u001b[43m        \u001b[49m\u001b[43mcache\u001b[49m\u001b[38;5;241;43m=\u001b[39;49m\u001b[43m{\u001b[49m\u001b[38;5;124;43m\"\u001b[39;49m\u001b[38;5;124;43mno-cache\u001b[39;49m\u001b[38;5;124;43m\"\u001b[39;49m\u001b[43m:\u001b[49m\u001b[43m \u001b[49m\u001b[38;5;28;43;01mFalse\u001b[39;49;00m\u001b[43m,\u001b[49m\u001b[43m \u001b[49m\u001b[38;5;124;43m\"\u001b[39;49m\u001b[38;5;124;43mno-store\u001b[39;49m\u001b[38;5;124;43m\"\u001b[39;49m\u001b[43m:\u001b[49m\u001b[43m \u001b[49m\u001b[38;5;28;43;01mFalse\u001b[39;49;00m\u001b[43m}\u001b[49m\u001b[43m,\u001b[49m\n\u001b[0;32m    220\u001b[0m \u001b[43m        \u001b[49m\u001b[43mnum_retries\u001b[49m\u001b[38;5;241;43m=\u001b[39;49m\u001b[43mnum_retries\u001b[49m\u001b[43m,\u001b[49m\n\u001b[0;32m    221\u001b[0m \u001b[43m    \u001b[49m\u001b[43m)\u001b[49m\n",
      "File \u001b[1;32md:\\AnacondaEnPs\\envs\\OntologyConstruction\\Lib\\site-packages\\dspy\\clients\\lm.py:226\u001b[0m, in \u001b[0;36mlitellm_completion\u001b[1;34m(request, num_retries, cache)\u001b[0m\n\u001b[0;32m    224\u001b[0m \u001b[38;5;28;01mdef\u001b[39;00m \u001b[38;5;21mlitellm_completion\u001b[39m(request, num_retries: \u001b[38;5;28mint\u001b[39m, cache\u001b[38;5;241m=\u001b[39m{\u001b[38;5;124m\"\u001b[39m\u001b[38;5;124mno-cache\u001b[39m\u001b[38;5;124m\"\u001b[39m: \u001b[38;5;28;01mTrue\u001b[39;00m, \u001b[38;5;124m\"\u001b[39m\u001b[38;5;124mno-store\u001b[39m\u001b[38;5;124m\"\u001b[39m: \u001b[38;5;28;01mTrue\u001b[39;00m}):\n\u001b[0;32m    225\u001b[0m     kwargs \u001b[38;5;241m=\u001b[39m ujson\u001b[38;5;241m.\u001b[39mloads(request)\n\u001b[1;32m--> 226\u001b[0m     \u001b[38;5;28;01mreturn\u001b[39;00m \u001b[43mlitellm\u001b[49m\u001b[38;5;241;43m.\u001b[39;49m\u001b[43mcompletion\u001b[49m\u001b[43m(\u001b[49m\n\u001b[0;32m    227\u001b[0m \u001b[43m        \u001b[49m\u001b[43mnum_retries\u001b[49m\u001b[38;5;241;43m=\u001b[39;49m\u001b[43mnum_retries\u001b[49m\u001b[43m,\u001b[49m\n\u001b[0;32m    228\u001b[0m \u001b[43m        \u001b[49m\u001b[43mcache\u001b[49m\u001b[38;5;241;43m=\u001b[39;49m\u001b[43mcache\u001b[49m\u001b[43m,\u001b[49m\n\u001b[0;32m    229\u001b[0m \u001b[43m        \u001b[49m\u001b[38;5;241;43m*\u001b[39;49m\u001b[38;5;241;43m*\u001b[39;49m\u001b[43mkwargs\u001b[49m\u001b[43m,\u001b[49m\n\u001b[0;32m    230\u001b[0m \u001b[43m    \u001b[49m\u001b[43m)\u001b[49m\n",
      "File \u001b[1;32md:\\AnacondaEnPs\\envs\\OntologyConstruction\\Lib\\site-packages\\litellm\\utils.py:903\u001b[0m, in \u001b[0;36mclient.<locals>.wrapper\u001b[1;34m(*args, **kwargs)\u001b[0m\n\u001b[0;32m    901\u001b[0m         print_verbose(\u001b[38;5;124mf\u001b[39m\u001b[38;5;124m\"\u001b[39m\u001b[38;5;124mError while checking max token limit: \u001b[39m\u001b[38;5;132;01m{\u001b[39;00m\u001b[38;5;28mstr\u001b[39m(e)\u001b[38;5;132;01m}\u001b[39;00m\u001b[38;5;124m\"\u001b[39m)\n\u001b[0;32m    902\u001b[0m \u001b[38;5;66;03m# MODEL CALL\u001b[39;00m\n\u001b[1;32m--> 903\u001b[0m result \u001b[38;5;241m=\u001b[39m \u001b[43moriginal_function\u001b[49m\u001b[43m(\u001b[49m\u001b[38;5;241;43m*\u001b[39;49m\u001b[43margs\u001b[49m\u001b[43m,\u001b[49m\u001b[43m \u001b[49m\u001b[38;5;241;43m*\u001b[39;49m\u001b[38;5;241;43m*\u001b[39;49m\u001b[43mkwargs\u001b[49m\u001b[43m)\u001b[49m\n\u001b[0;32m    904\u001b[0m end_time \u001b[38;5;241m=\u001b[39m datetime\u001b[38;5;241m.\u001b[39mdatetime\u001b[38;5;241m.\u001b[39mnow()\n\u001b[0;32m    905\u001b[0m \u001b[38;5;28;01mif\u001b[39;00m \u001b[38;5;124m\"\u001b[39m\u001b[38;5;124mstream\u001b[39m\u001b[38;5;124m\"\u001b[39m \u001b[38;5;129;01min\u001b[39;00m kwargs \u001b[38;5;129;01mand\u001b[39;00m kwargs[\u001b[38;5;124m\"\u001b[39m\u001b[38;5;124mstream\u001b[39m\u001b[38;5;124m\"\u001b[39m] \u001b[38;5;129;01mis\u001b[39;00m \u001b[38;5;28;01mTrue\u001b[39;00m:\n",
      "File \u001b[1;32md:\\AnacondaEnPs\\envs\\OntologyConstruction\\Lib\\site-packages\\litellm\\main.py:1570\u001b[0m, in \u001b[0;36mcompletion\u001b[1;34m(model, messages, timeout, temperature, top_p, n, stream, stream_options, stop, max_completion_tokens, max_tokens, modalities, audio, presence_penalty, frequency_penalty, logit_bias, user, response_format, seed, tools, tool_choice, logprobs, top_logprobs, parallel_tool_calls, deployment_id, extra_headers, functions, function_call, base_url, api_version, api_key, model_list, **kwargs)\u001b[0m\n\u001b[0;32m   1550\u001b[0m         response \u001b[38;5;241m=\u001b[39m openai_o1_chat_completions\u001b[38;5;241m.\u001b[39mcompletion(\n\u001b[0;32m   1551\u001b[0m             model\u001b[38;5;241m=\u001b[39mmodel,\n\u001b[0;32m   1552\u001b[0m             messages\u001b[38;5;241m=\u001b[39mmessages,\n\u001b[1;32m   (...)\u001b[0m\n\u001b[0;32m   1567\u001b[0m             custom_llm_provider\u001b[38;5;241m=\u001b[39mcustom_llm_provider,\n\u001b[0;32m   1568\u001b[0m         )\n\u001b[0;32m   1569\u001b[0m     \u001b[38;5;28;01melse\u001b[39;00m:\n\u001b[1;32m-> 1570\u001b[0m         response \u001b[38;5;241m=\u001b[39m \u001b[43mopenai_chat_completions\u001b[49m\u001b[38;5;241;43m.\u001b[39;49m\u001b[43mcompletion\u001b[49m\u001b[43m(\u001b[49m\n\u001b[0;32m   1571\u001b[0m \u001b[43m            \u001b[49m\u001b[43mmodel\u001b[49m\u001b[38;5;241;43m=\u001b[39;49m\u001b[43mmodel\u001b[49m\u001b[43m,\u001b[49m\n\u001b[0;32m   1572\u001b[0m \u001b[43m            \u001b[49m\u001b[43mmessages\u001b[49m\u001b[38;5;241;43m=\u001b[39;49m\u001b[43mmessages\u001b[49m\u001b[43m,\u001b[49m\n\u001b[0;32m   1573\u001b[0m \u001b[43m            \u001b[49m\u001b[43mheaders\u001b[49m\u001b[38;5;241;43m=\u001b[39;49m\u001b[43mheaders\u001b[49m\u001b[43m,\u001b[49m\n\u001b[0;32m   1574\u001b[0m \u001b[43m            \u001b[49m\u001b[43mmodel_response\u001b[49m\u001b[38;5;241;43m=\u001b[39;49m\u001b[43mmodel_response\u001b[49m\u001b[43m,\u001b[49m\n\u001b[0;32m   1575\u001b[0m \u001b[43m            \u001b[49m\u001b[43mprint_verbose\u001b[49m\u001b[38;5;241;43m=\u001b[39;49m\u001b[43mprint_verbose\u001b[49m\u001b[43m,\u001b[49m\n\u001b[0;32m   1576\u001b[0m \u001b[43m            \u001b[49m\u001b[43mapi_key\u001b[49m\u001b[38;5;241;43m=\u001b[39;49m\u001b[43mapi_key\u001b[49m\u001b[43m,\u001b[49m\n\u001b[0;32m   1577\u001b[0m \u001b[43m            \u001b[49m\u001b[43mapi_base\u001b[49m\u001b[38;5;241;43m=\u001b[39;49m\u001b[43mapi_base\u001b[49m\u001b[43m,\u001b[49m\n\u001b[0;32m   1578\u001b[0m \u001b[43m            \u001b[49m\u001b[43macompletion\u001b[49m\u001b[38;5;241;43m=\u001b[39;49m\u001b[43macompletion\u001b[49m\u001b[43m,\u001b[49m\n\u001b[0;32m   1579\u001b[0m \u001b[43m            \u001b[49m\u001b[43mlogging_obj\u001b[49m\u001b[38;5;241;43m=\u001b[39;49m\u001b[43mlogging\u001b[49m\u001b[43m,\u001b[49m\n\u001b[0;32m   1580\u001b[0m \u001b[43m            \u001b[49m\u001b[43moptional_params\u001b[49m\u001b[38;5;241;43m=\u001b[39;49m\u001b[43moptional_params\u001b[49m\u001b[43m,\u001b[49m\n\u001b[0;32m   1581\u001b[0m \u001b[43m            \u001b[49m\u001b[43mlitellm_params\u001b[49m\u001b[38;5;241;43m=\u001b[39;49m\u001b[43mlitellm_params\u001b[49m\u001b[43m,\u001b[49m\n\u001b[0;32m   1582\u001b[0m \u001b[43m            \u001b[49m\u001b[43mlogger_fn\u001b[49m\u001b[38;5;241;43m=\u001b[39;49m\u001b[43mlogger_fn\u001b[49m\u001b[43m,\u001b[49m\n\u001b[0;32m   1583\u001b[0m \u001b[43m            \u001b[49m\u001b[43mtimeout\u001b[49m\u001b[38;5;241;43m=\u001b[39;49m\u001b[43mtimeout\u001b[49m\u001b[43m,\u001b[49m\u001b[43m  \u001b[49m\u001b[38;5;66;43;03m# type: ignore\u001b[39;49;00m\n\u001b[0;32m   1584\u001b[0m \u001b[43m            \u001b[49m\u001b[43mcustom_prompt_dict\u001b[49m\u001b[38;5;241;43m=\u001b[39;49m\u001b[43mcustom_prompt_dict\u001b[49m\u001b[43m,\u001b[49m\n\u001b[0;32m   1585\u001b[0m \u001b[43m            \u001b[49m\u001b[43mclient\u001b[49m\u001b[38;5;241;43m=\u001b[39;49m\u001b[43mclient\u001b[49m\u001b[43m,\u001b[49m\u001b[43m  \u001b[49m\u001b[38;5;66;43;03m# pass AsyncOpenAI, OpenAI client\u001b[39;49;00m\n\u001b[0;32m   1586\u001b[0m \u001b[43m            \u001b[49m\u001b[43morganization\u001b[49m\u001b[38;5;241;43m=\u001b[39;49m\u001b[43morganization\u001b[49m\u001b[43m,\u001b[49m\n\u001b[0;32m   1587\u001b[0m \u001b[43m            \u001b[49m\u001b[43mcustom_llm_provider\u001b[49m\u001b[38;5;241;43m=\u001b[39;49m\u001b[43mcustom_llm_provider\u001b[49m\u001b[43m,\u001b[49m\n\u001b[0;32m   1588\u001b[0m \u001b[43m        \u001b[49m\u001b[43m)\u001b[49m\n\u001b[0;32m   1589\u001b[0m \u001b[38;5;28;01mexcept\u001b[39;00m \u001b[38;5;167;01mException\u001b[39;00m \u001b[38;5;28;01mas\u001b[39;00m e:\n\u001b[0;32m   1590\u001b[0m     \u001b[38;5;66;03m## LOGGING - log the original exception returned\u001b[39;00m\n\u001b[0;32m   1591\u001b[0m     logging\u001b[38;5;241m.\u001b[39mpost_call(\n\u001b[0;32m   1592\u001b[0m         \u001b[38;5;28minput\u001b[39m\u001b[38;5;241m=\u001b[39mmessages,\n\u001b[0;32m   1593\u001b[0m         api_key\u001b[38;5;241m=\u001b[39mapi_key,\n\u001b[0;32m   1594\u001b[0m         original_response\u001b[38;5;241m=\u001b[39m\u001b[38;5;28mstr\u001b[39m(e),\n\u001b[0;32m   1595\u001b[0m         additional_args\u001b[38;5;241m=\u001b[39m{\u001b[38;5;124m\"\u001b[39m\u001b[38;5;124mheaders\u001b[39m\u001b[38;5;124m\"\u001b[39m: headers},\n\u001b[0;32m   1596\u001b[0m     )\n",
      "File \u001b[1;32md:\\AnacondaEnPs\\envs\\OntologyConstruction\\Lib\\site-packages\\litellm\\llms\\OpenAI\\openai.py:790\u001b[0m, in \u001b[0;36mOpenAIChatCompletion.completion\u001b[1;34m(self, model_response, timeout, optional_params, logging_obj, model, messages, print_verbose, api_key, api_base, acompletion, litellm_params, logger_fn, headers, custom_prompt_dict, client, organization, custom_llm_provider, drop_params)\u001b[0m\n\u001b[0;32m    777\u001b[0m \u001b[38;5;66;03m## LOGGING\u001b[39;00m\n\u001b[0;32m    778\u001b[0m logging_obj\u001b[38;5;241m.\u001b[39mpre_call(\n\u001b[0;32m    779\u001b[0m     \u001b[38;5;28minput\u001b[39m\u001b[38;5;241m=\u001b[39mmessages,\n\u001b[0;32m    780\u001b[0m     api_key\u001b[38;5;241m=\u001b[39mopenai_client\u001b[38;5;241m.\u001b[39mapi_key,\n\u001b[1;32m   (...)\u001b[0m\n\u001b[0;32m    786\u001b[0m     },\n\u001b[0;32m    787\u001b[0m )\n\u001b[0;32m    789\u001b[0m headers, response \u001b[38;5;241m=\u001b[39m (\n\u001b[1;32m--> 790\u001b[0m     \u001b[38;5;28;43mself\u001b[39;49m\u001b[38;5;241;43m.\u001b[39;49m\u001b[43mmake_sync_openai_chat_completion_request\u001b[49m\u001b[43m(\u001b[49m\n\u001b[0;32m    791\u001b[0m \u001b[43m        \u001b[49m\u001b[43mopenai_client\u001b[49m\u001b[38;5;241;43m=\u001b[39;49m\u001b[43mopenai_client\u001b[49m\u001b[43m,\u001b[49m\n\u001b[0;32m    792\u001b[0m \u001b[43m        \u001b[49m\u001b[43mdata\u001b[49m\u001b[38;5;241;43m=\u001b[39;49m\u001b[43mdata\u001b[49m\u001b[43m,\u001b[49m\n\u001b[0;32m    793\u001b[0m \u001b[43m        \u001b[49m\u001b[43mtimeout\u001b[49m\u001b[38;5;241;43m=\u001b[39;49m\u001b[43mtimeout\u001b[49m\u001b[43m,\u001b[49m\n\u001b[0;32m    794\u001b[0m \u001b[43m    \u001b[49m\u001b[43m)\u001b[49m\n\u001b[0;32m    795\u001b[0m )\n\u001b[0;32m    797\u001b[0m logging_obj\u001b[38;5;241m.\u001b[39mmodel_call_details[\u001b[38;5;124m\"\u001b[39m\u001b[38;5;124mresponse_headers\u001b[39m\u001b[38;5;124m\"\u001b[39m] \u001b[38;5;241m=\u001b[39m headers\n\u001b[0;32m    798\u001b[0m stringified_response \u001b[38;5;241m=\u001b[39m response\u001b[38;5;241m.\u001b[39mmodel_dump()\n",
      "File \u001b[1;32md:\\AnacondaEnPs\\envs\\OntologyConstruction\\Lib\\site-packages\\litellm\\llms\\OpenAI\\openai.py:631\u001b[0m, in \u001b[0;36mOpenAIChatCompletion.make_sync_openai_chat_completion_request\u001b[1;34m(self, openai_client, data, timeout)\u001b[0m\n\u001b[0;32m    629\u001b[0m raw_response \u001b[38;5;241m=\u001b[39m \u001b[38;5;28;01mNone\u001b[39;00m\n\u001b[0;32m    630\u001b[0m \u001b[38;5;28;01mtry\u001b[39;00m:\n\u001b[1;32m--> 631\u001b[0m     raw_response \u001b[38;5;241m=\u001b[39m \u001b[43mopenai_client\u001b[49m\u001b[38;5;241;43m.\u001b[39;49m\u001b[43mchat\u001b[49m\u001b[38;5;241;43m.\u001b[39;49m\u001b[43mcompletions\u001b[49m\u001b[38;5;241;43m.\u001b[39;49m\u001b[43mwith_raw_response\u001b[49m\u001b[38;5;241;43m.\u001b[39;49m\u001b[43mcreate\u001b[49m\u001b[43m(\u001b[49m\n\u001b[0;32m    632\u001b[0m \u001b[43m        \u001b[49m\u001b[38;5;241;43m*\u001b[39;49m\u001b[38;5;241;43m*\u001b[39;49m\u001b[43mdata\u001b[49m\u001b[43m,\u001b[49m\u001b[43m \u001b[49m\u001b[43mtimeout\u001b[49m\u001b[38;5;241;43m=\u001b[39;49m\u001b[43mtimeout\u001b[49m\n\u001b[0;32m    633\u001b[0m \u001b[43m    \u001b[49m\u001b[43m)\u001b[49m\n\u001b[0;32m    635\u001b[0m     \u001b[38;5;28;01mif\u001b[39;00m \u001b[38;5;28mhasattr\u001b[39m(raw_response, \u001b[38;5;124m\"\u001b[39m\u001b[38;5;124mheaders\u001b[39m\u001b[38;5;124m\"\u001b[39m):\n\u001b[0;32m    636\u001b[0m         headers \u001b[38;5;241m=\u001b[39m \u001b[38;5;28mdict\u001b[39m(raw_response\u001b[38;5;241m.\u001b[39mheaders)\n",
      "File \u001b[1;32md:\\AnacondaEnPs\\envs\\OntologyConstruction\\Lib\\site-packages\\openai\\_legacy_response.py:356\u001b[0m, in \u001b[0;36mto_raw_response_wrapper.<locals>.wrapped\u001b[1;34m(*args, **kwargs)\u001b[0m\n\u001b[0;32m    352\u001b[0m extra_headers[RAW_RESPONSE_HEADER] \u001b[38;5;241m=\u001b[39m \u001b[38;5;124m\"\u001b[39m\u001b[38;5;124mtrue\u001b[39m\u001b[38;5;124m\"\u001b[39m\n\u001b[0;32m    354\u001b[0m kwargs[\u001b[38;5;124m\"\u001b[39m\u001b[38;5;124mextra_headers\u001b[39m\u001b[38;5;124m\"\u001b[39m] \u001b[38;5;241m=\u001b[39m extra_headers\n\u001b[1;32m--> 356\u001b[0m \u001b[38;5;28;01mreturn\u001b[39;00m cast(LegacyAPIResponse[R], \u001b[43mfunc\u001b[49m\u001b[43m(\u001b[49m\u001b[38;5;241;43m*\u001b[39;49m\u001b[43margs\u001b[49m\u001b[43m,\u001b[49m\u001b[43m \u001b[49m\u001b[38;5;241;43m*\u001b[39;49m\u001b[38;5;241;43m*\u001b[39;49m\u001b[43mkwargs\u001b[49m\u001b[43m)\u001b[49m)\n",
      "File \u001b[1;32md:\\AnacondaEnPs\\envs\\OntologyConstruction\\Lib\\site-packages\\openai\\_utils\\_utils.py:275\u001b[0m, in \u001b[0;36mrequired_args.<locals>.inner.<locals>.wrapper\u001b[1;34m(*args, **kwargs)\u001b[0m\n\u001b[0;32m    273\u001b[0m             msg \u001b[38;5;241m=\u001b[39m \u001b[38;5;124mf\u001b[39m\u001b[38;5;124m\"\u001b[39m\u001b[38;5;124mMissing required argument: \u001b[39m\u001b[38;5;132;01m{\u001b[39;00mquote(missing[\u001b[38;5;241m0\u001b[39m])\u001b[38;5;132;01m}\u001b[39;00m\u001b[38;5;124m\"\u001b[39m\n\u001b[0;32m    274\u001b[0m     \u001b[38;5;28;01mraise\u001b[39;00m \u001b[38;5;167;01mTypeError\u001b[39;00m(msg)\n\u001b[1;32m--> 275\u001b[0m \u001b[38;5;28;01mreturn\u001b[39;00m \u001b[43mfunc\u001b[49m\u001b[43m(\u001b[49m\u001b[38;5;241;43m*\u001b[39;49m\u001b[43margs\u001b[49m\u001b[43m,\u001b[49m\u001b[43m \u001b[49m\u001b[38;5;241;43m*\u001b[39;49m\u001b[38;5;241;43m*\u001b[39;49m\u001b[43mkwargs\u001b[49m\u001b[43m)\u001b[49m\n",
      "File \u001b[1;32md:\\AnacondaEnPs\\envs\\OntologyConstruction\\Lib\\site-packages\\openai\\resources\\chat\\completions.py:829\u001b[0m, in \u001b[0;36mCompletions.create\u001b[1;34m(self, messages, model, audio, frequency_penalty, function_call, functions, logit_bias, logprobs, max_completion_tokens, max_tokens, metadata, modalities, n, parallel_tool_calls, prediction, presence_penalty, response_format, seed, service_tier, stop, store, stream, stream_options, temperature, tool_choice, tools, top_logprobs, top_p, user, extra_headers, extra_query, extra_body, timeout)\u001b[0m\n\u001b[0;32m    788\u001b[0m \u001b[38;5;129m@required_args\u001b[39m([\u001b[38;5;124m\"\u001b[39m\u001b[38;5;124mmessages\u001b[39m\u001b[38;5;124m\"\u001b[39m, \u001b[38;5;124m\"\u001b[39m\u001b[38;5;124mmodel\u001b[39m\u001b[38;5;124m\"\u001b[39m], [\u001b[38;5;124m\"\u001b[39m\u001b[38;5;124mmessages\u001b[39m\u001b[38;5;124m\"\u001b[39m, \u001b[38;5;124m\"\u001b[39m\u001b[38;5;124mmodel\u001b[39m\u001b[38;5;124m\"\u001b[39m, \u001b[38;5;124m\"\u001b[39m\u001b[38;5;124mstream\u001b[39m\u001b[38;5;124m\"\u001b[39m])\n\u001b[0;32m    789\u001b[0m \u001b[38;5;28;01mdef\u001b[39;00m \u001b[38;5;21mcreate\u001b[39m(\n\u001b[0;32m    790\u001b[0m     \u001b[38;5;28mself\u001b[39m,\n\u001b[1;32m   (...)\u001b[0m\n\u001b[0;32m    826\u001b[0m     timeout: \u001b[38;5;28mfloat\u001b[39m \u001b[38;5;241m|\u001b[39m httpx\u001b[38;5;241m.\u001b[39mTimeout \u001b[38;5;241m|\u001b[39m \u001b[38;5;28;01mNone\u001b[39;00m \u001b[38;5;241m|\u001b[39m NotGiven \u001b[38;5;241m=\u001b[39m NOT_GIVEN,\n\u001b[0;32m    827\u001b[0m ) \u001b[38;5;241m-\u001b[39m\u001b[38;5;241m>\u001b[39m ChatCompletion \u001b[38;5;241m|\u001b[39m Stream[ChatCompletionChunk]:\n\u001b[0;32m    828\u001b[0m     validate_response_format(response_format)\n\u001b[1;32m--> 829\u001b[0m     \u001b[38;5;28;01mreturn\u001b[39;00m \u001b[38;5;28;43mself\u001b[39;49m\u001b[38;5;241;43m.\u001b[39;49m\u001b[43m_post\u001b[49m\u001b[43m(\u001b[49m\n\u001b[0;32m    830\u001b[0m \u001b[43m        \u001b[49m\u001b[38;5;124;43m\"\u001b[39;49m\u001b[38;5;124;43m/chat/completions\u001b[39;49m\u001b[38;5;124;43m\"\u001b[39;49m\u001b[43m,\u001b[49m\n\u001b[0;32m    831\u001b[0m \u001b[43m        \u001b[49m\u001b[43mbody\u001b[49m\u001b[38;5;241;43m=\u001b[39;49m\u001b[43mmaybe_transform\u001b[49m\u001b[43m(\u001b[49m\n\u001b[0;32m    832\u001b[0m \u001b[43m            \u001b[49m\u001b[43m{\u001b[49m\n\u001b[0;32m    833\u001b[0m \u001b[43m                \u001b[49m\u001b[38;5;124;43m\"\u001b[39;49m\u001b[38;5;124;43mmessages\u001b[39;49m\u001b[38;5;124;43m\"\u001b[39;49m\u001b[43m:\u001b[49m\u001b[43m \u001b[49m\u001b[43mmessages\u001b[49m\u001b[43m,\u001b[49m\n\u001b[0;32m    834\u001b[0m \u001b[43m                \u001b[49m\u001b[38;5;124;43m\"\u001b[39;49m\u001b[38;5;124;43mmodel\u001b[39;49m\u001b[38;5;124;43m\"\u001b[39;49m\u001b[43m:\u001b[49m\u001b[43m \u001b[49m\u001b[43mmodel\u001b[49m\u001b[43m,\u001b[49m\n\u001b[0;32m    835\u001b[0m \u001b[43m                \u001b[49m\u001b[38;5;124;43m\"\u001b[39;49m\u001b[38;5;124;43maudio\u001b[39;49m\u001b[38;5;124;43m\"\u001b[39;49m\u001b[43m:\u001b[49m\u001b[43m \u001b[49m\u001b[43maudio\u001b[49m\u001b[43m,\u001b[49m\n\u001b[0;32m    836\u001b[0m \u001b[43m                \u001b[49m\u001b[38;5;124;43m\"\u001b[39;49m\u001b[38;5;124;43mfrequency_penalty\u001b[39;49m\u001b[38;5;124;43m\"\u001b[39;49m\u001b[43m:\u001b[49m\u001b[43m \u001b[49m\u001b[43mfrequency_penalty\u001b[49m\u001b[43m,\u001b[49m\n\u001b[0;32m    837\u001b[0m \u001b[43m                \u001b[49m\u001b[38;5;124;43m\"\u001b[39;49m\u001b[38;5;124;43mfunction_call\u001b[39;49m\u001b[38;5;124;43m\"\u001b[39;49m\u001b[43m:\u001b[49m\u001b[43m \u001b[49m\u001b[43mfunction_call\u001b[49m\u001b[43m,\u001b[49m\n\u001b[0;32m    838\u001b[0m \u001b[43m                \u001b[49m\u001b[38;5;124;43m\"\u001b[39;49m\u001b[38;5;124;43mfunctions\u001b[39;49m\u001b[38;5;124;43m\"\u001b[39;49m\u001b[43m:\u001b[49m\u001b[43m \u001b[49m\u001b[43mfunctions\u001b[49m\u001b[43m,\u001b[49m\n\u001b[0;32m    839\u001b[0m \u001b[43m                \u001b[49m\u001b[38;5;124;43m\"\u001b[39;49m\u001b[38;5;124;43mlogit_bias\u001b[39;49m\u001b[38;5;124;43m\"\u001b[39;49m\u001b[43m:\u001b[49m\u001b[43m \u001b[49m\u001b[43mlogit_bias\u001b[49m\u001b[43m,\u001b[49m\n\u001b[0;32m    840\u001b[0m \u001b[43m                \u001b[49m\u001b[38;5;124;43m\"\u001b[39;49m\u001b[38;5;124;43mlogprobs\u001b[39;49m\u001b[38;5;124;43m\"\u001b[39;49m\u001b[43m:\u001b[49m\u001b[43m \u001b[49m\u001b[43mlogprobs\u001b[49m\u001b[43m,\u001b[49m\n\u001b[0;32m    841\u001b[0m \u001b[43m                \u001b[49m\u001b[38;5;124;43m\"\u001b[39;49m\u001b[38;5;124;43mmax_completion_tokens\u001b[39;49m\u001b[38;5;124;43m\"\u001b[39;49m\u001b[43m:\u001b[49m\u001b[43m \u001b[49m\u001b[43mmax_completion_tokens\u001b[49m\u001b[43m,\u001b[49m\n\u001b[0;32m    842\u001b[0m \u001b[43m                \u001b[49m\u001b[38;5;124;43m\"\u001b[39;49m\u001b[38;5;124;43mmax_tokens\u001b[39;49m\u001b[38;5;124;43m\"\u001b[39;49m\u001b[43m:\u001b[49m\u001b[43m \u001b[49m\u001b[43mmax_tokens\u001b[49m\u001b[43m,\u001b[49m\n\u001b[0;32m    843\u001b[0m \u001b[43m                \u001b[49m\u001b[38;5;124;43m\"\u001b[39;49m\u001b[38;5;124;43mmetadata\u001b[39;49m\u001b[38;5;124;43m\"\u001b[39;49m\u001b[43m:\u001b[49m\u001b[43m \u001b[49m\u001b[43mmetadata\u001b[49m\u001b[43m,\u001b[49m\n\u001b[0;32m    844\u001b[0m \u001b[43m                \u001b[49m\u001b[38;5;124;43m\"\u001b[39;49m\u001b[38;5;124;43mmodalities\u001b[39;49m\u001b[38;5;124;43m\"\u001b[39;49m\u001b[43m:\u001b[49m\u001b[43m \u001b[49m\u001b[43mmodalities\u001b[49m\u001b[43m,\u001b[49m\n\u001b[0;32m    845\u001b[0m \u001b[43m                \u001b[49m\u001b[38;5;124;43m\"\u001b[39;49m\u001b[38;5;124;43mn\u001b[39;49m\u001b[38;5;124;43m\"\u001b[39;49m\u001b[43m:\u001b[49m\u001b[43m \u001b[49m\u001b[43mn\u001b[49m\u001b[43m,\u001b[49m\n\u001b[0;32m    846\u001b[0m \u001b[43m                \u001b[49m\u001b[38;5;124;43m\"\u001b[39;49m\u001b[38;5;124;43mparallel_tool_calls\u001b[39;49m\u001b[38;5;124;43m\"\u001b[39;49m\u001b[43m:\u001b[49m\u001b[43m \u001b[49m\u001b[43mparallel_tool_calls\u001b[49m\u001b[43m,\u001b[49m\n\u001b[0;32m    847\u001b[0m \u001b[43m                \u001b[49m\u001b[38;5;124;43m\"\u001b[39;49m\u001b[38;5;124;43mprediction\u001b[39;49m\u001b[38;5;124;43m\"\u001b[39;49m\u001b[43m:\u001b[49m\u001b[43m \u001b[49m\u001b[43mprediction\u001b[49m\u001b[43m,\u001b[49m\n\u001b[0;32m    848\u001b[0m \u001b[43m                \u001b[49m\u001b[38;5;124;43m\"\u001b[39;49m\u001b[38;5;124;43mpresence_penalty\u001b[39;49m\u001b[38;5;124;43m\"\u001b[39;49m\u001b[43m:\u001b[49m\u001b[43m \u001b[49m\u001b[43mpresence_penalty\u001b[49m\u001b[43m,\u001b[49m\n\u001b[0;32m    849\u001b[0m \u001b[43m                \u001b[49m\u001b[38;5;124;43m\"\u001b[39;49m\u001b[38;5;124;43mresponse_format\u001b[39;49m\u001b[38;5;124;43m\"\u001b[39;49m\u001b[43m:\u001b[49m\u001b[43m \u001b[49m\u001b[43mresponse_format\u001b[49m\u001b[43m,\u001b[49m\n\u001b[0;32m    850\u001b[0m \u001b[43m                \u001b[49m\u001b[38;5;124;43m\"\u001b[39;49m\u001b[38;5;124;43mseed\u001b[39;49m\u001b[38;5;124;43m\"\u001b[39;49m\u001b[43m:\u001b[49m\u001b[43m \u001b[49m\u001b[43mseed\u001b[49m\u001b[43m,\u001b[49m\n\u001b[0;32m    851\u001b[0m \u001b[43m                \u001b[49m\u001b[38;5;124;43m\"\u001b[39;49m\u001b[38;5;124;43mservice_tier\u001b[39;49m\u001b[38;5;124;43m\"\u001b[39;49m\u001b[43m:\u001b[49m\u001b[43m \u001b[49m\u001b[43mservice_tier\u001b[49m\u001b[43m,\u001b[49m\n\u001b[0;32m    852\u001b[0m \u001b[43m                \u001b[49m\u001b[38;5;124;43m\"\u001b[39;49m\u001b[38;5;124;43mstop\u001b[39;49m\u001b[38;5;124;43m\"\u001b[39;49m\u001b[43m:\u001b[49m\u001b[43m \u001b[49m\u001b[43mstop\u001b[49m\u001b[43m,\u001b[49m\n\u001b[0;32m    853\u001b[0m \u001b[43m                \u001b[49m\u001b[38;5;124;43m\"\u001b[39;49m\u001b[38;5;124;43mstore\u001b[39;49m\u001b[38;5;124;43m\"\u001b[39;49m\u001b[43m:\u001b[49m\u001b[43m \u001b[49m\u001b[43mstore\u001b[49m\u001b[43m,\u001b[49m\n\u001b[0;32m    854\u001b[0m \u001b[43m                \u001b[49m\u001b[38;5;124;43m\"\u001b[39;49m\u001b[38;5;124;43mstream\u001b[39;49m\u001b[38;5;124;43m\"\u001b[39;49m\u001b[43m:\u001b[49m\u001b[43m \u001b[49m\u001b[43mstream\u001b[49m\u001b[43m,\u001b[49m\n\u001b[0;32m    855\u001b[0m \u001b[43m                \u001b[49m\u001b[38;5;124;43m\"\u001b[39;49m\u001b[38;5;124;43mstream_options\u001b[39;49m\u001b[38;5;124;43m\"\u001b[39;49m\u001b[43m:\u001b[49m\u001b[43m \u001b[49m\u001b[43mstream_options\u001b[49m\u001b[43m,\u001b[49m\n\u001b[0;32m    856\u001b[0m \u001b[43m                \u001b[49m\u001b[38;5;124;43m\"\u001b[39;49m\u001b[38;5;124;43mtemperature\u001b[39;49m\u001b[38;5;124;43m\"\u001b[39;49m\u001b[43m:\u001b[49m\u001b[43m \u001b[49m\u001b[43mtemperature\u001b[49m\u001b[43m,\u001b[49m\n\u001b[0;32m    857\u001b[0m \u001b[43m                \u001b[49m\u001b[38;5;124;43m\"\u001b[39;49m\u001b[38;5;124;43mtool_choice\u001b[39;49m\u001b[38;5;124;43m\"\u001b[39;49m\u001b[43m:\u001b[49m\u001b[43m \u001b[49m\u001b[43mtool_choice\u001b[49m\u001b[43m,\u001b[49m\n\u001b[0;32m    858\u001b[0m \u001b[43m                \u001b[49m\u001b[38;5;124;43m\"\u001b[39;49m\u001b[38;5;124;43mtools\u001b[39;49m\u001b[38;5;124;43m\"\u001b[39;49m\u001b[43m:\u001b[49m\u001b[43m \u001b[49m\u001b[43mtools\u001b[49m\u001b[43m,\u001b[49m\n\u001b[0;32m    859\u001b[0m \u001b[43m                \u001b[49m\u001b[38;5;124;43m\"\u001b[39;49m\u001b[38;5;124;43mtop_logprobs\u001b[39;49m\u001b[38;5;124;43m\"\u001b[39;49m\u001b[43m:\u001b[49m\u001b[43m \u001b[49m\u001b[43mtop_logprobs\u001b[49m\u001b[43m,\u001b[49m\n\u001b[0;32m    860\u001b[0m \u001b[43m                \u001b[49m\u001b[38;5;124;43m\"\u001b[39;49m\u001b[38;5;124;43mtop_p\u001b[39;49m\u001b[38;5;124;43m\"\u001b[39;49m\u001b[43m:\u001b[49m\u001b[43m \u001b[49m\u001b[43mtop_p\u001b[49m\u001b[43m,\u001b[49m\n\u001b[0;32m    861\u001b[0m \u001b[43m                \u001b[49m\u001b[38;5;124;43m\"\u001b[39;49m\u001b[38;5;124;43muser\u001b[39;49m\u001b[38;5;124;43m\"\u001b[39;49m\u001b[43m:\u001b[49m\u001b[43m \u001b[49m\u001b[43muser\u001b[49m\u001b[43m,\u001b[49m\n\u001b[0;32m    862\u001b[0m \u001b[43m            \u001b[49m\u001b[43m}\u001b[49m\u001b[43m,\u001b[49m\n\u001b[0;32m    863\u001b[0m \u001b[43m            \u001b[49m\u001b[43mcompletion_create_params\u001b[49m\u001b[38;5;241;43m.\u001b[39;49m\u001b[43mCompletionCreateParams\u001b[49m\u001b[43m,\u001b[49m\n\u001b[0;32m    864\u001b[0m \u001b[43m        \u001b[49m\u001b[43m)\u001b[49m\u001b[43m,\u001b[49m\n\u001b[0;32m    865\u001b[0m \u001b[43m        \u001b[49m\u001b[43moptions\u001b[49m\u001b[38;5;241;43m=\u001b[39;49m\u001b[43mmake_request_options\u001b[49m\u001b[43m(\u001b[49m\n\u001b[0;32m    866\u001b[0m \u001b[43m            \u001b[49m\u001b[43mextra_headers\u001b[49m\u001b[38;5;241;43m=\u001b[39;49m\u001b[43mextra_headers\u001b[49m\u001b[43m,\u001b[49m\u001b[43m \u001b[49m\u001b[43mextra_query\u001b[49m\u001b[38;5;241;43m=\u001b[39;49m\u001b[43mextra_query\u001b[49m\u001b[43m,\u001b[49m\u001b[43m \u001b[49m\u001b[43mextra_body\u001b[49m\u001b[38;5;241;43m=\u001b[39;49m\u001b[43mextra_body\u001b[49m\u001b[43m,\u001b[49m\u001b[43m \u001b[49m\u001b[43mtimeout\u001b[49m\u001b[38;5;241;43m=\u001b[39;49m\u001b[43mtimeout\u001b[49m\n\u001b[0;32m    867\u001b[0m \u001b[43m        \u001b[49m\u001b[43m)\u001b[49m\u001b[43m,\u001b[49m\n\u001b[0;32m    868\u001b[0m \u001b[43m        \u001b[49m\u001b[43mcast_to\u001b[49m\u001b[38;5;241;43m=\u001b[39;49m\u001b[43mChatCompletion\u001b[49m\u001b[43m,\u001b[49m\n\u001b[0;32m    869\u001b[0m \u001b[43m        \u001b[49m\u001b[43mstream\u001b[49m\u001b[38;5;241;43m=\u001b[39;49m\u001b[43mstream\u001b[49m\u001b[43m \u001b[49m\u001b[38;5;129;43;01mor\u001b[39;49;00m\u001b[43m \u001b[49m\u001b[38;5;28;43;01mFalse\u001b[39;49;00m\u001b[43m,\u001b[49m\n\u001b[0;32m    870\u001b[0m \u001b[43m        \u001b[49m\u001b[43mstream_cls\u001b[49m\u001b[38;5;241;43m=\u001b[39;49m\u001b[43mStream\u001b[49m\u001b[43m[\u001b[49m\u001b[43mChatCompletionChunk\u001b[49m\u001b[43m]\u001b[49m\u001b[43m,\u001b[49m\n\u001b[0;32m    871\u001b[0m \u001b[43m    \u001b[49m\u001b[43m)\u001b[49m\n",
      "File \u001b[1;32md:\\AnacondaEnPs\\envs\\OntologyConstruction\\Lib\\site-packages\\openai\\_base_client.py:1278\u001b[0m, in \u001b[0;36mSyncAPIClient.post\u001b[1;34m(self, path, cast_to, body, options, files, stream, stream_cls)\u001b[0m\n\u001b[0;32m   1264\u001b[0m \u001b[38;5;28;01mdef\u001b[39;00m \u001b[38;5;21mpost\u001b[39m(\n\u001b[0;32m   1265\u001b[0m     \u001b[38;5;28mself\u001b[39m,\n\u001b[0;32m   1266\u001b[0m     path: \u001b[38;5;28mstr\u001b[39m,\n\u001b[1;32m   (...)\u001b[0m\n\u001b[0;32m   1273\u001b[0m     stream_cls: \u001b[38;5;28mtype\u001b[39m[_StreamT] \u001b[38;5;241m|\u001b[39m \u001b[38;5;28;01mNone\u001b[39;00m \u001b[38;5;241m=\u001b[39m \u001b[38;5;28;01mNone\u001b[39;00m,\n\u001b[0;32m   1274\u001b[0m ) \u001b[38;5;241m-\u001b[39m\u001b[38;5;241m>\u001b[39m ResponseT \u001b[38;5;241m|\u001b[39m _StreamT:\n\u001b[0;32m   1275\u001b[0m     opts \u001b[38;5;241m=\u001b[39m FinalRequestOptions\u001b[38;5;241m.\u001b[39mconstruct(\n\u001b[0;32m   1276\u001b[0m         method\u001b[38;5;241m=\u001b[39m\u001b[38;5;124m\"\u001b[39m\u001b[38;5;124mpost\u001b[39m\u001b[38;5;124m\"\u001b[39m, url\u001b[38;5;241m=\u001b[39mpath, json_data\u001b[38;5;241m=\u001b[39mbody, files\u001b[38;5;241m=\u001b[39mto_httpx_files(files), \u001b[38;5;241m*\u001b[39m\u001b[38;5;241m*\u001b[39moptions\n\u001b[0;32m   1277\u001b[0m     )\n\u001b[1;32m-> 1278\u001b[0m     \u001b[38;5;28;01mreturn\u001b[39;00m cast(ResponseT, \u001b[38;5;28;43mself\u001b[39;49m\u001b[38;5;241;43m.\u001b[39;49m\u001b[43mrequest\u001b[49m\u001b[43m(\u001b[49m\u001b[43mcast_to\u001b[49m\u001b[43m,\u001b[49m\u001b[43m \u001b[49m\u001b[43mopts\u001b[49m\u001b[43m,\u001b[49m\u001b[43m \u001b[49m\u001b[43mstream\u001b[49m\u001b[38;5;241;43m=\u001b[39;49m\u001b[43mstream\u001b[49m\u001b[43m,\u001b[49m\u001b[43m \u001b[49m\u001b[43mstream_cls\u001b[49m\u001b[38;5;241;43m=\u001b[39;49m\u001b[43mstream_cls\u001b[49m\u001b[43m)\u001b[49m)\n",
      "File \u001b[1;32md:\\AnacondaEnPs\\envs\\OntologyConstruction\\Lib\\site-packages\\openai\\_base_client.py:955\u001b[0m, in \u001b[0;36mSyncAPIClient.request\u001b[1;34m(self, cast_to, options, remaining_retries, stream, stream_cls)\u001b[0m\n\u001b[0;32m    952\u001b[0m \u001b[38;5;28;01melse\u001b[39;00m:\n\u001b[0;32m    953\u001b[0m     retries_taken \u001b[38;5;241m=\u001b[39m \u001b[38;5;241m0\u001b[39m\n\u001b[1;32m--> 955\u001b[0m \u001b[38;5;28;01mreturn\u001b[39;00m \u001b[38;5;28;43mself\u001b[39;49m\u001b[38;5;241;43m.\u001b[39;49m\u001b[43m_request\u001b[49m\u001b[43m(\u001b[49m\n\u001b[0;32m    956\u001b[0m \u001b[43m    \u001b[49m\u001b[43mcast_to\u001b[49m\u001b[38;5;241;43m=\u001b[39;49m\u001b[43mcast_to\u001b[49m\u001b[43m,\u001b[49m\n\u001b[0;32m    957\u001b[0m \u001b[43m    \u001b[49m\u001b[43moptions\u001b[49m\u001b[38;5;241;43m=\u001b[39;49m\u001b[43moptions\u001b[49m\u001b[43m,\u001b[49m\n\u001b[0;32m    958\u001b[0m \u001b[43m    \u001b[49m\u001b[43mstream\u001b[49m\u001b[38;5;241;43m=\u001b[39;49m\u001b[43mstream\u001b[49m\u001b[43m,\u001b[49m\n\u001b[0;32m    959\u001b[0m \u001b[43m    \u001b[49m\u001b[43mstream_cls\u001b[49m\u001b[38;5;241;43m=\u001b[39;49m\u001b[43mstream_cls\u001b[49m\u001b[43m,\u001b[49m\n\u001b[0;32m    960\u001b[0m \u001b[43m    \u001b[49m\u001b[43mretries_taken\u001b[49m\u001b[38;5;241;43m=\u001b[39;49m\u001b[43mretries_taken\u001b[49m\u001b[43m,\u001b[49m\n\u001b[0;32m    961\u001b[0m \u001b[43m\u001b[49m\u001b[43m)\u001b[49m\n",
      "File \u001b[1;32md:\\AnacondaEnPs\\envs\\OntologyConstruction\\Lib\\site-packages\\openai\\_base_client.py:991\u001b[0m, in \u001b[0;36mSyncAPIClient._request\u001b[1;34m(self, cast_to, options, retries_taken, stream, stream_cls)\u001b[0m\n\u001b[0;32m    988\u001b[0m log\u001b[38;5;241m.\u001b[39mdebug(\u001b[38;5;124m\"\u001b[39m\u001b[38;5;124mSending HTTP Request: \u001b[39m\u001b[38;5;132;01m%s\u001b[39;00m\u001b[38;5;124m \u001b[39m\u001b[38;5;132;01m%s\u001b[39;00m\u001b[38;5;124m\"\u001b[39m, request\u001b[38;5;241m.\u001b[39mmethod, request\u001b[38;5;241m.\u001b[39murl)\n\u001b[0;32m    990\u001b[0m \u001b[38;5;28;01mtry\u001b[39;00m:\n\u001b[1;32m--> 991\u001b[0m     response \u001b[38;5;241m=\u001b[39m \u001b[38;5;28;43mself\u001b[39;49m\u001b[38;5;241;43m.\u001b[39;49m\u001b[43m_client\u001b[49m\u001b[38;5;241;43m.\u001b[39;49m\u001b[43msend\u001b[49m\u001b[43m(\u001b[49m\n\u001b[0;32m    992\u001b[0m \u001b[43m        \u001b[49m\u001b[43mrequest\u001b[49m\u001b[43m,\u001b[49m\n\u001b[0;32m    993\u001b[0m \u001b[43m        \u001b[49m\u001b[43mstream\u001b[49m\u001b[38;5;241;43m=\u001b[39;49m\u001b[43mstream\u001b[49m\u001b[43m \u001b[49m\u001b[38;5;129;43;01mor\u001b[39;49;00m\u001b[43m \u001b[49m\u001b[38;5;28;43mself\u001b[39;49m\u001b[38;5;241;43m.\u001b[39;49m\u001b[43m_should_stream_response_body\u001b[49m\u001b[43m(\u001b[49m\u001b[43mrequest\u001b[49m\u001b[38;5;241;43m=\u001b[39;49m\u001b[43mrequest\u001b[49m\u001b[43m)\u001b[49m\u001b[43m,\u001b[49m\n\u001b[0;32m    994\u001b[0m \u001b[43m        \u001b[49m\u001b[38;5;241;43m*\u001b[39;49m\u001b[38;5;241;43m*\u001b[39;49m\u001b[43mkwargs\u001b[49m\u001b[43m,\u001b[49m\n\u001b[0;32m    995\u001b[0m \u001b[43m    \u001b[49m\u001b[43m)\u001b[49m\n\u001b[0;32m    996\u001b[0m \u001b[38;5;28;01mexcept\u001b[39;00m httpx\u001b[38;5;241m.\u001b[39mTimeoutException \u001b[38;5;28;01mas\u001b[39;00m err:\n\u001b[0;32m    997\u001b[0m     log\u001b[38;5;241m.\u001b[39mdebug(\u001b[38;5;124m\"\u001b[39m\u001b[38;5;124mEncountered httpx.TimeoutException\u001b[39m\u001b[38;5;124m\"\u001b[39m, exc_info\u001b[38;5;241m=\u001b[39m\u001b[38;5;28;01mTrue\u001b[39;00m)\n",
      "File \u001b[1;32md:\\AnacondaEnPs\\envs\\OntologyConstruction\\Lib\\site-packages\\httpx\\_client.py:926\u001b[0m, in \u001b[0;36mClient.send\u001b[1;34m(self, request, stream, auth, follow_redirects)\u001b[0m\n\u001b[0;32m    922\u001b[0m \u001b[38;5;28mself\u001b[39m\u001b[38;5;241m.\u001b[39m_set_timeout(request)\n\u001b[0;32m    924\u001b[0m auth \u001b[38;5;241m=\u001b[39m \u001b[38;5;28mself\u001b[39m\u001b[38;5;241m.\u001b[39m_build_request_auth(request, auth)\n\u001b[1;32m--> 926\u001b[0m response \u001b[38;5;241m=\u001b[39m \u001b[38;5;28;43mself\u001b[39;49m\u001b[38;5;241;43m.\u001b[39;49m\u001b[43m_send_handling_auth\u001b[49m\u001b[43m(\u001b[49m\n\u001b[0;32m    927\u001b[0m \u001b[43m    \u001b[49m\u001b[43mrequest\u001b[49m\u001b[43m,\u001b[49m\n\u001b[0;32m    928\u001b[0m \u001b[43m    \u001b[49m\u001b[43mauth\u001b[49m\u001b[38;5;241;43m=\u001b[39;49m\u001b[43mauth\u001b[49m\u001b[43m,\u001b[49m\n\u001b[0;32m    929\u001b[0m \u001b[43m    \u001b[49m\u001b[43mfollow_redirects\u001b[49m\u001b[38;5;241;43m=\u001b[39;49m\u001b[43mfollow_redirects\u001b[49m\u001b[43m,\u001b[49m\n\u001b[0;32m    930\u001b[0m \u001b[43m    \u001b[49m\u001b[43mhistory\u001b[49m\u001b[38;5;241;43m=\u001b[39;49m\u001b[43m[\u001b[49m\u001b[43m]\u001b[49m\u001b[43m,\u001b[49m\n\u001b[0;32m    931\u001b[0m \u001b[43m\u001b[49m\u001b[43m)\u001b[49m\n\u001b[0;32m    932\u001b[0m \u001b[38;5;28;01mtry\u001b[39;00m:\n\u001b[0;32m    933\u001b[0m     \u001b[38;5;28;01mif\u001b[39;00m \u001b[38;5;129;01mnot\u001b[39;00m stream:\n",
      "File \u001b[1;32md:\\AnacondaEnPs\\envs\\OntologyConstruction\\Lib\\site-packages\\httpx\\_client.py:954\u001b[0m, in \u001b[0;36mClient._send_handling_auth\u001b[1;34m(self, request, auth, follow_redirects, history)\u001b[0m\n\u001b[0;32m    951\u001b[0m request \u001b[38;5;241m=\u001b[39m \u001b[38;5;28mnext\u001b[39m(auth_flow)\n\u001b[0;32m    953\u001b[0m \u001b[38;5;28;01mwhile\u001b[39;00m \u001b[38;5;28;01mTrue\u001b[39;00m:\n\u001b[1;32m--> 954\u001b[0m     response \u001b[38;5;241m=\u001b[39m \u001b[38;5;28;43mself\u001b[39;49m\u001b[38;5;241;43m.\u001b[39;49m\u001b[43m_send_handling_redirects\u001b[49m\u001b[43m(\u001b[49m\n\u001b[0;32m    955\u001b[0m \u001b[43m        \u001b[49m\u001b[43mrequest\u001b[49m\u001b[43m,\u001b[49m\n\u001b[0;32m    956\u001b[0m \u001b[43m        \u001b[49m\u001b[43mfollow_redirects\u001b[49m\u001b[38;5;241;43m=\u001b[39;49m\u001b[43mfollow_redirects\u001b[49m\u001b[43m,\u001b[49m\n\u001b[0;32m    957\u001b[0m \u001b[43m        \u001b[49m\u001b[43mhistory\u001b[49m\u001b[38;5;241;43m=\u001b[39;49m\u001b[43mhistory\u001b[49m\u001b[43m,\u001b[49m\n\u001b[0;32m    958\u001b[0m \u001b[43m    \u001b[49m\u001b[43m)\u001b[49m\n\u001b[0;32m    959\u001b[0m     \u001b[38;5;28;01mtry\u001b[39;00m:\n\u001b[0;32m    960\u001b[0m         \u001b[38;5;28;01mtry\u001b[39;00m:\n",
      "File \u001b[1;32md:\\AnacondaEnPs\\envs\\OntologyConstruction\\Lib\\site-packages\\httpx\\_client.py:991\u001b[0m, in \u001b[0;36mClient._send_handling_redirects\u001b[1;34m(self, request, follow_redirects, history)\u001b[0m\n\u001b[0;32m    988\u001b[0m \u001b[38;5;28;01mfor\u001b[39;00m hook \u001b[38;5;129;01min\u001b[39;00m \u001b[38;5;28mself\u001b[39m\u001b[38;5;241m.\u001b[39m_event_hooks[\u001b[38;5;124m\"\u001b[39m\u001b[38;5;124mrequest\u001b[39m\u001b[38;5;124m\"\u001b[39m]:\n\u001b[0;32m    989\u001b[0m     hook(request)\n\u001b[1;32m--> 991\u001b[0m response \u001b[38;5;241m=\u001b[39m \u001b[38;5;28;43mself\u001b[39;49m\u001b[38;5;241;43m.\u001b[39;49m\u001b[43m_send_single_request\u001b[49m\u001b[43m(\u001b[49m\u001b[43mrequest\u001b[49m\u001b[43m)\u001b[49m\n\u001b[0;32m    992\u001b[0m \u001b[38;5;28;01mtry\u001b[39;00m:\n\u001b[0;32m    993\u001b[0m     \u001b[38;5;28;01mfor\u001b[39;00m hook \u001b[38;5;129;01min\u001b[39;00m \u001b[38;5;28mself\u001b[39m\u001b[38;5;241m.\u001b[39m_event_hooks[\u001b[38;5;124m\"\u001b[39m\u001b[38;5;124mresponse\u001b[39m\u001b[38;5;124m\"\u001b[39m]:\n",
      "File \u001b[1;32md:\\AnacondaEnPs\\envs\\OntologyConstruction\\Lib\\site-packages\\httpx\\_client.py:1027\u001b[0m, in \u001b[0;36mClient._send_single_request\u001b[1;34m(self, request)\u001b[0m\n\u001b[0;32m   1022\u001b[0m     \u001b[38;5;28;01mraise\u001b[39;00m \u001b[38;5;167;01mRuntimeError\u001b[39;00m(\n\u001b[0;32m   1023\u001b[0m         \u001b[38;5;124m\"\u001b[39m\u001b[38;5;124mAttempted to send an async request with a sync Client instance.\u001b[39m\u001b[38;5;124m\"\u001b[39m\n\u001b[0;32m   1024\u001b[0m     )\n\u001b[0;32m   1026\u001b[0m \u001b[38;5;28;01mwith\u001b[39;00m request_context(request\u001b[38;5;241m=\u001b[39mrequest):\n\u001b[1;32m-> 1027\u001b[0m     response \u001b[38;5;241m=\u001b[39m \u001b[43mtransport\u001b[49m\u001b[38;5;241;43m.\u001b[39;49m\u001b[43mhandle_request\u001b[49m\u001b[43m(\u001b[49m\u001b[43mrequest\u001b[49m\u001b[43m)\u001b[49m\n\u001b[0;32m   1029\u001b[0m \u001b[38;5;28;01massert\u001b[39;00m \u001b[38;5;28misinstance\u001b[39m(response\u001b[38;5;241m.\u001b[39mstream, SyncByteStream)\n\u001b[0;32m   1031\u001b[0m response\u001b[38;5;241m.\u001b[39mrequest \u001b[38;5;241m=\u001b[39m request\n",
      "File \u001b[1;32md:\\AnacondaEnPs\\envs\\OntologyConstruction\\Lib\\site-packages\\httpx\\_transports\\default.py:236\u001b[0m, in \u001b[0;36mHTTPTransport.handle_request\u001b[1;34m(self, request)\u001b[0m\n\u001b[0;32m    223\u001b[0m req \u001b[38;5;241m=\u001b[39m httpcore\u001b[38;5;241m.\u001b[39mRequest(\n\u001b[0;32m    224\u001b[0m     method\u001b[38;5;241m=\u001b[39mrequest\u001b[38;5;241m.\u001b[39mmethod,\n\u001b[0;32m    225\u001b[0m     url\u001b[38;5;241m=\u001b[39mhttpcore\u001b[38;5;241m.\u001b[39mURL(\n\u001b[1;32m   (...)\u001b[0m\n\u001b[0;32m    233\u001b[0m     extensions\u001b[38;5;241m=\u001b[39mrequest\u001b[38;5;241m.\u001b[39mextensions,\n\u001b[0;32m    234\u001b[0m )\n\u001b[0;32m    235\u001b[0m \u001b[38;5;28;01mwith\u001b[39;00m map_httpcore_exceptions():\n\u001b[1;32m--> 236\u001b[0m     resp \u001b[38;5;241m=\u001b[39m \u001b[38;5;28;43mself\u001b[39;49m\u001b[38;5;241;43m.\u001b[39;49m\u001b[43m_pool\u001b[49m\u001b[38;5;241;43m.\u001b[39;49m\u001b[43mhandle_request\u001b[49m\u001b[43m(\u001b[49m\u001b[43mreq\u001b[49m\u001b[43m)\u001b[49m\n\u001b[0;32m    238\u001b[0m \u001b[38;5;28;01massert\u001b[39;00m \u001b[38;5;28misinstance\u001b[39m(resp\u001b[38;5;241m.\u001b[39mstream, typing\u001b[38;5;241m.\u001b[39mIterable)\n\u001b[0;32m    240\u001b[0m \u001b[38;5;28;01mreturn\u001b[39;00m Response(\n\u001b[0;32m    241\u001b[0m     status_code\u001b[38;5;241m=\u001b[39mresp\u001b[38;5;241m.\u001b[39mstatus,\n\u001b[0;32m    242\u001b[0m     headers\u001b[38;5;241m=\u001b[39mresp\u001b[38;5;241m.\u001b[39mheaders,\n\u001b[0;32m    243\u001b[0m     stream\u001b[38;5;241m=\u001b[39mResponseStream(resp\u001b[38;5;241m.\u001b[39mstream),\n\u001b[0;32m    244\u001b[0m     extensions\u001b[38;5;241m=\u001b[39mresp\u001b[38;5;241m.\u001b[39mextensions,\n\u001b[0;32m    245\u001b[0m )\n",
      "File \u001b[1;32md:\\AnacondaEnPs\\envs\\OntologyConstruction\\Lib\\site-packages\\httpcore\\_sync\\connection_pool.py:216\u001b[0m, in \u001b[0;36mConnectionPool.handle_request\u001b[1;34m(self, request)\u001b[0m\n\u001b[0;32m    213\u001b[0m         closing \u001b[38;5;241m=\u001b[39m \u001b[38;5;28mself\u001b[39m\u001b[38;5;241m.\u001b[39m_assign_requests_to_connections()\n\u001b[0;32m    215\u001b[0m     \u001b[38;5;28mself\u001b[39m\u001b[38;5;241m.\u001b[39m_close_connections(closing)\n\u001b[1;32m--> 216\u001b[0m     \u001b[38;5;28;01mraise\u001b[39;00m exc \u001b[38;5;28;01mfrom\u001b[39;00m \u001b[38;5;28;01mNone\u001b[39;00m\n\u001b[0;32m    218\u001b[0m \u001b[38;5;66;03m# Return the response. Note that in this case we still have to manage\u001b[39;00m\n\u001b[0;32m    219\u001b[0m \u001b[38;5;66;03m# the point at which the response is closed.\u001b[39;00m\n\u001b[0;32m    220\u001b[0m \u001b[38;5;28;01massert\u001b[39;00m \u001b[38;5;28misinstance\u001b[39m(response\u001b[38;5;241m.\u001b[39mstream, Iterable)\n",
      "File \u001b[1;32md:\\AnacondaEnPs\\envs\\OntologyConstruction\\Lib\\site-packages\\httpcore\\_sync\\connection_pool.py:196\u001b[0m, in \u001b[0;36mConnectionPool.handle_request\u001b[1;34m(self, request)\u001b[0m\n\u001b[0;32m    192\u001b[0m connection \u001b[38;5;241m=\u001b[39m pool_request\u001b[38;5;241m.\u001b[39mwait_for_connection(timeout\u001b[38;5;241m=\u001b[39mtimeout)\n\u001b[0;32m    194\u001b[0m \u001b[38;5;28;01mtry\u001b[39;00m:\n\u001b[0;32m    195\u001b[0m     \u001b[38;5;66;03m# Send the request on the assigned connection.\u001b[39;00m\n\u001b[1;32m--> 196\u001b[0m     response \u001b[38;5;241m=\u001b[39m \u001b[43mconnection\u001b[49m\u001b[38;5;241;43m.\u001b[39;49m\u001b[43mhandle_request\u001b[49m\u001b[43m(\u001b[49m\n\u001b[0;32m    197\u001b[0m \u001b[43m        \u001b[49m\u001b[43mpool_request\u001b[49m\u001b[38;5;241;43m.\u001b[39;49m\u001b[43mrequest\u001b[49m\n\u001b[0;32m    198\u001b[0m \u001b[43m    \u001b[49m\u001b[43m)\u001b[49m\n\u001b[0;32m    199\u001b[0m \u001b[38;5;28;01mexcept\u001b[39;00m ConnectionNotAvailable:\n\u001b[0;32m    200\u001b[0m     \u001b[38;5;66;03m# In some cases a connection may initially be available to\u001b[39;00m\n\u001b[0;32m    201\u001b[0m     \u001b[38;5;66;03m# handle a request, but then become unavailable.\u001b[39;00m\n\u001b[0;32m    202\u001b[0m     \u001b[38;5;66;03m#\u001b[39;00m\n\u001b[0;32m    203\u001b[0m     \u001b[38;5;66;03m# In this case we clear the connection and try again.\u001b[39;00m\n\u001b[0;32m    204\u001b[0m     pool_request\u001b[38;5;241m.\u001b[39mclear_connection()\n",
      "File \u001b[1;32md:\\AnacondaEnPs\\envs\\OntologyConstruction\\Lib\\site-packages\\httpcore\\_sync\\http_proxy.py:344\u001b[0m, in \u001b[0;36mTunnelHTTPConnection.handle_request\u001b[1;34m(self, request)\u001b[0m\n\u001b[0;32m    337\u001b[0m             \u001b[38;5;28mself\u001b[39m\u001b[38;5;241m.\u001b[39m_connection \u001b[38;5;241m=\u001b[39m HTTP11Connection(\n\u001b[0;32m    338\u001b[0m                 origin\u001b[38;5;241m=\u001b[39m\u001b[38;5;28mself\u001b[39m\u001b[38;5;241m.\u001b[39m_remote_origin,\n\u001b[0;32m    339\u001b[0m                 stream\u001b[38;5;241m=\u001b[39mstream,\n\u001b[0;32m    340\u001b[0m                 keepalive_expiry\u001b[38;5;241m=\u001b[39m\u001b[38;5;28mself\u001b[39m\u001b[38;5;241m.\u001b[39m_keepalive_expiry,\n\u001b[0;32m    341\u001b[0m             )\n\u001b[0;32m    343\u001b[0m         \u001b[38;5;28mself\u001b[39m\u001b[38;5;241m.\u001b[39m_connected \u001b[38;5;241m=\u001b[39m \u001b[38;5;28;01mTrue\u001b[39;00m\n\u001b[1;32m--> 344\u001b[0m \u001b[38;5;28;01mreturn\u001b[39;00m \u001b[38;5;28;43mself\u001b[39;49m\u001b[38;5;241;43m.\u001b[39;49m\u001b[43m_connection\u001b[49m\u001b[38;5;241;43m.\u001b[39;49m\u001b[43mhandle_request\u001b[49m\u001b[43m(\u001b[49m\u001b[43mrequest\u001b[49m\u001b[43m)\u001b[49m\n",
      "File \u001b[1;32md:\\AnacondaEnPs\\envs\\OntologyConstruction\\Lib\\site-packages\\httpcore\\_sync\\http11.py:143\u001b[0m, in \u001b[0;36mHTTP11Connection.handle_request\u001b[1;34m(self, request)\u001b[0m\n\u001b[0;32m    141\u001b[0m     \u001b[38;5;28;01mwith\u001b[39;00m Trace(\u001b[38;5;124m\"\u001b[39m\u001b[38;5;124mresponse_closed\u001b[39m\u001b[38;5;124m\"\u001b[39m, logger, request) \u001b[38;5;28;01mas\u001b[39;00m trace:\n\u001b[0;32m    142\u001b[0m         \u001b[38;5;28mself\u001b[39m\u001b[38;5;241m.\u001b[39m_response_closed()\n\u001b[1;32m--> 143\u001b[0m \u001b[38;5;28;01mraise\u001b[39;00m exc\n",
      "File \u001b[1;32md:\\AnacondaEnPs\\envs\\OntologyConstruction\\Lib\\site-packages\\httpcore\\_sync\\http11.py:113\u001b[0m, in \u001b[0;36mHTTP11Connection.handle_request\u001b[1;34m(self, request)\u001b[0m\n\u001b[0;32m    102\u001b[0m     \u001b[38;5;28;01mpass\u001b[39;00m\n\u001b[0;32m    104\u001b[0m \u001b[38;5;28;01mwith\u001b[39;00m Trace(\n\u001b[0;32m    105\u001b[0m     \u001b[38;5;124m\"\u001b[39m\u001b[38;5;124mreceive_response_headers\u001b[39m\u001b[38;5;124m\"\u001b[39m, logger, request, kwargs\n\u001b[0;32m    106\u001b[0m ) \u001b[38;5;28;01mas\u001b[39;00m trace:\n\u001b[0;32m    107\u001b[0m     (\n\u001b[0;32m    108\u001b[0m         http_version,\n\u001b[0;32m    109\u001b[0m         status,\n\u001b[0;32m    110\u001b[0m         reason_phrase,\n\u001b[0;32m    111\u001b[0m         headers,\n\u001b[0;32m    112\u001b[0m         trailing_data,\n\u001b[1;32m--> 113\u001b[0m     ) \u001b[38;5;241m=\u001b[39m \u001b[38;5;28;43mself\u001b[39;49m\u001b[38;5;241;43m.\u001b[39;49m\u001b[43m_receive_response_headers\u001b[49m\u001b[43m(\u001b[49m\u001b[38;5;241;43m*\u001b[39;49m\u001b[38;5;241;43m*\u001b[39;49m\u001b[43mkwargs\u001b[49m\u001b[43m)\u001b[49m\n\u001b[0;32m    114\u001b[0m     trace\u001b[38;5;241m.\u001b[39mreturn_value \u001b[38;5;241m=\u001b[39m (\n\u001b[0;32m    115\u001b[0m         http_version,\n\u001b[0;32m    116\u001b[0m         status,\n\u001b[0;32m    117\u001b[0m         reason_phrase,\n\u001b[0;32m    118\u001b[0m         headers,\n\u001b[0;32m    119\u001b[0m     )\n\u001b[0;32m    121\u001b[0m network_stream \u001b[38;5;241m=\u001b[39m \u001b[38;5;28mself\u001b[39m\u001b[38;5;241m.\u001b[39m_network_stream\n",
      "File \u001b[1;32md:\\AnacondaEnPs\\envs\\OntologyConstruction\\Lib\\site-packages\\httpcore\\_sync\\http11.py:186\u001b[0m, in \u001b[0;36mHTTP11Connection._receive_response_headers\u001b[1;34m(self, request)\u001b[0m\n\u001b[0;32m    183\u001b[0m timeout \u001b[38;5;241m=\u001b[39m timeouts\u001b[38;5;241m.\u001b[39mget(\u001b[38;5;124m\"\u001b[39m\u001b[38;5;124mread\u001b[39m\u001b[38;5;124m\"\u001b[39m, \u001b[38;5;28;01mNone\u001b[39;00m)\n\u001b[0;32m    185\u001b[0m \u001b[38;5;28;01mwhile\u001b[39;00m \u001b[38;5;28;01mTrue\u001b[39;00m:\n\u001b[1;32m--> 186\u001b[0m     event \u001b[38;5;241m=\u001b[39m \u001b[38;5;28;43mself\u001b[39;49m\u001b[38;5;241;43m.\u001b[39;49m\u001b[43m_receive_event\u001b[49m\u001b[43m(\u001b[49m\u001b[43mtimeout\u001b[49m\u001b[38;5;241;43m=\u001b[39;49m\u001b[43mtimeout\u001b[49m\u001b[43m)\u001b[49m\n\u001b[0;32m    187\u001b[0m     \u001b[38;5;28;01mif\u001b[39;00m \u001b[38;5;28misinstance\u001b[39m(event, h11\u001b[38;5;241m.\u001b[39mResponse):\n\u001b[0;32m    188\u001b[0m         \u001b[38;5;28;01mbreak\u001b[39;00m\n",
      "File \u001b[1;32md:\\AnacondaEnPs\\envs\\OntologyConstruction\\Lib\\site-packages\\httpcore\\_sync\\http11.py:224\u001b[0m, in \u001b[0;36mHTTP11Connection._receive_event\u001b[1;34m(self, timeout)\u001b[0m\n\u001b[0;32m    221\u001b[0m     event \u001b[38;5;241m=\u001b[39m \u001b[38;5;28mself\u001b[39m\u001b[38;5;241m.\u001b[39m_h11_state\u001b[38;5;241m.\u001b[39mnext_event()\n\u001b[0;32m    223\u001b[0m \u001b[38;5;28;01mif\u001b[39;00m event \u001b[38;5;129;01mis\u001b[39;00m h11\u001b[38;5;241m.\u001b[39mNEED_DATA:\n\u001b[1;32m--> 224\u001b[0m     data \u001b[38;5;241m=\u001b[39m \u001b[38;5;28;43mself\u001b[39;49m\u001b[38;5;241;43m.\u001b[39;49m\u001b[43m_network_stream\u001b[49m\u001b[38;5;241;43m.\u001b[39;49m\u001b[43mread\u001b[49m\u001b[43m(\u001b[49m\n\u001b[0;32m    225\u001b[0m \u001b[43m        \u001b[49m\u001b[38;5;28;43mself\u001b[39;49m\u001b[38;5;241;43m.\u001b[39;49m\u001b[43mREAD_NUM_BYTES\u001b[49m\u001b[43m,\u001b[49m\u001b[43m \u001b[49m\u001b[43mtimeout\u001b[49m\u001b[38;5;241;43m=\u001b[39;49m\u001b[43mtimeout\u001b[49m\n\u001b[0;32m    226\u001b[0m \u001b[43m    \u001b[49m\u001b[43m)\u001b[49m\n\u001b[0;32m    228\u001b[0m     \u001b[38;5;66;03m# If we feed this case through h11 we'll raise an exception like:\u001b[39;00m\n\u001b[0;32m    229\u001b[0m     \u001b[38;5;66;03m#\u001b[39;00m\n\u001b[0;32m    230\u001b[0m     \u001b[38;5;66;03m#     httpcore.RemoteProtocolError: can't handle event type\u001b[39;00m\n\u001b[1;32m   (...)\u001b[0m\n\u001b[0;32m    234\u001b[0m     \u001b[38;5;66;03m# perspective. Instead we handle this case distinctly and treat\u001b[39;00m\n\u001b[0;32m    235\u001b[0m     \u001b[38;5;66;03m# it as a ConnectError.\u001b[39;00m\n\u001b[0;32m    236\u001b[0m     \u001b[38;5;28;01mif\u001b[39;00m data \u001b[38;5;241m==\u001b[39m \u001b[38;5;124mb\u001b[39m\u001b[38;5;124m\"\u001b[39m\u001b[38;5;124m\"\u001b[39m \u001b[38;5;129;01mand\u001b[39;00m \u001b[38;5;28mself\u001b[39m\u001b[38;5;241m.\u001b[39m_h11_state\u001b[38;5;241m.\u001b[39mtheir_state \u001b[38;5;241m==\u001b[39m h11\u001b[38;5;241m.\u001b[39mSEND_RESPONSE:\n",
      "File \u001b[1;32md:\\AnacondaEnPs\\envs\\OntologyConstruction\\Lib\\site-packages\\httpcore\\_backends\\sync.py:126\u001b[0m, in \u001b[0;36mSyncStream.read\u001b[1;34m(self, max_bytes, timeout)\u001b[0m\n\u001b[0;32m    124\u001b[0m \u001b[38;5;28;01mwith\u001b[39;00m map_exceptions(exc_map):\n\u001b[0;32m    125\u001b[0m     \u001b[38;5;28mself\u001b[39m\u001b[38;5;241m.\u001b[39m_sock\u001b[38;5;241m.\u001b[39msettimeout(timeout)\n\u001b[1;32m--> 126\u001b[0m     \u001b[38;5;28;01mreturn\u001b[39;00m \u001b[38;5;28;43mself\u001b[39;49m\u001b[38;5;241;43m.\u001b[39;49m\u001b[43m_sock\u001b[49m\u001b[38;5;241;43m.\u001b[39;49m\u001b[43mrecv\u001b[49m\u001b[43m(\u001b[49m\u001b[43mmax_bytes\u001b[49m\u001b[43m)\u001b[49m\n",
      "File \u001b[1;32md:\\AnacondaEnPs\\envs\\OntologyConstruction\\Lib\\ssl.py:1285\u001b[0m, in \u001b[0;36mSSLSocket.recv\u001b[1;34m(self, buflen, flags)\u001b[0m\n\u001b[0;32m   1281\u001b[0m     \u001b[38;5;28;01mif\u001b[39;00m flags \u001b[38;5;241m!=\u001b[39m \u001b[38;5;241m0\u001b[39m:\n\u001b[0;32m   1282\u001b[0m         \u001b[38;5;28;01mraise\u001b[39;00m \u001b[38;5;167;01mValueError\u001b[39;00m(\n\u001b[0;32m   1283\u001b[0m             \u001b[38;5;124m\"\u001b[39m\u001b[38;5;124mnon-zero flags not allowed in calls to recv() on \u001b[39m\u001b[38;5;132;01m%s\u001b[39;00m\u001b[38;5;124m\"\u001b[39m \u001b[38;5;241m%\u001b[39m\n\u001b[0;32m   1284\u001b[0m             \u001b[38;5;28mself\u001b[39m\u001b[38;5;241m.\u001b[39m\u001b[38;5;18m__class__\u001b[39m)\n\u001b[1;32m-> 1285\u001b[0m     \u001b[38;5;28;01mreturn\u001b[39;00m \u001b[38;5;28;43mself\u001b[39;49m\u001b[38;5;241;43m.\u001b[39;49m\u001b[43mread\u001b[49m\u001b[43m(\u001b[49m\u001b[43mbuflen\u001b[49m\u001b[43m)\u001b[49m\n\u001b[0;32m   1286\u001b[0m \u001b[38;5;28;01melse\u001b[39;00m:\n\u001b[0;32m   1287\u001b[0m     \u001b[38;5;28;01mreturn\u001b[39;00m \u001b[38;5;28msuper\u001b[39m()\u001b[38;5;241m.\u001b[39mrecv(buflen, flags)\n",
      "File \u001b[1;32md:\\AnacondaEnPs\\envs\\OntologyConstruction\\Lib\\ssl.py:1140\u001b[0m, in \u001b[0;36mSSLSocket.read\u001b[1;34m(self, len, buffer)\u001b[0m\n\u001b[0;32m   1138\u001b[0m         \u001b[38;5;28;01mreturn\u001b[39;00m \u001b[38;5;28mself\u001b[39m\u001b[38;5;241m.\u001b[39m_sslobj\u001b[38;5;241m.\u001b[39mread(\u001b[38;5;28mlen\u001b[39m, buffer)\n\u001b[0;32m   1139\u001b[0m     \u001b[38;5;28;01melse\u001b[39;00m:\n\u001b[1;32m-> 1140\u001b[0m         \u001b[38;5;28;01mreturn\u001b[39;00m \u001b[38;5;28;43mself\u001b[39;49m\u001b[38;5;241;43m.\u001b[39;49m\u001b[43m_sslobj\u001b[49m\u001b[38;5;241;43m.\u001b[39;49m\u001b[43mread\u001b[49m\u001b[43m(\u001b[49m\u001b[38;5;28;43mlen\u001b[39;49m\u001b[43m)\u001b[49m\n\u001b[0;32m   1141\u001b[0m \u001b[38;5;28;01mexcept\u001b[39;00m SSLError \u001b[38;5;28;01mas\u001b[39;00m x:\n\u001b[0;32m   1142\u001b[0m     \u001b[38;5;28;01mif\u001b[39;00m x\u001b[38;5;241m.\u001b[39margs[\u001b[38;5;241m0\u001b[39m] \u001b[38;5;241m==\u001b[39m SSL_ERROR_EOF \u001b[38;5;129;01mand\u001b[39;00m \u001b[38;5;28mself\u001b[39m\u001b[38;5;241m.\u001b[39msuppress_ragged_eofs:\n",
      "\u001b[1;31mKeyboardInterrupt\u001b[0m: "
     ]
    }
   ],
   "source": [
    "# Import the optimizer\n",
    "from dspy.teleprompt import MIPROv2\n",
    "\n",
    "# Initialize optimizer\n",
    "teleprompter = MIPROv2(\n",
    "    metric=metric,\n",
    "    auto=\"light\", # Can choose between light, medium, and heavy optimization runs\n",
    ")\n",
    "\n",
    "# Optimize program\n",
    "print(f\"Optimizing zero-shot program with MIPRO...\")\n",
    "\n"
   ]
  },
  {
   "cell_type": "code",
   "execution_count": 81,
   "metadata": {},
   "outputs": [
    {
     "name": "stderr",
     "output_type": "stream",
     "text": [
      "<unknown>:9: SyntaxWarning: invalid escape sequence '\\m'\n",
      "<unknown>:13: SyntaxWarning: invalid escape sequence '\\m'\n",
      "<unknown>:31: SyntaxWarning: invalid escape sequence '\\m'\n",
      "<unknown>:35: SyntaxWarning: invalid escape sequence '\\m'\n"
     ]
    },
    {
     "name": "stdout",
     "output_type": "stream",
     "text": [
      "Average Metric: 8.33 / 10 (83.3%): 100%|██████████| 10/10 [00:00<00:00, 3166.71it/s]"
     ]
    },
    {
     "name": "stderr",
     "output_type": "stream",
     "text": [
      "2024/11/21 18:15:20 INFO dspy.evaluate.evaluate: Average Metric: 8.333333333333334 / 10 (83.3%)\n"
     ]
    },
    {
     "name": "stdout",
     "output_type": "stream",
     "text": [
      "\n"
     ]
    },
    {
     "data": {
      "text/html": [
       "<div>\n",
       "<style scoped>\n",
       "    .dataframe tbody tr th:only-of-type {\n",
       "        vertical-align: middle;\n",
       "    }\n",
       "\n",
       "    .dataframe tbody tr th {\n",
       "        vertical-align: top;\n",
       "    }\n",
       "\n",
       "    .dataframe thead th {\n",
       "        text-align: right;\n",
       "    }\n",
       "</style>\n",
       "<table border=\"1\" class=\"dataframe\">\n",
       "  <thead>\n",
       "    <tr style=\"text-align: right;\">\n",
       "      <th></th>\n",
       "      <th>context</th>\n",
       "      <th>reasoning</th>\n",
       "      <th>ontology</th>\n",
       "      <th>metric</th>\n",
       "    </tr>\n",
       "  </thead>\n",
       "  <tbody>\n",
       "    <tr>\n",
       "      <th>0</th>\n",
       "      <td>Is the observed dip in the first ionization energy that occurs as ...</td>\n",
       "      <td>The text discusses the dip in the first ionization energy as elect...</td>\n",
       "      <td>entities=[Entity(name='Ionization Energy', information='Ionization...</td>\n",
       "      <td>✔️ [0.852]</td>\n",
       "    </tr>\n",
       "    <tr>\n",
       "      <th>1</th>\n",
       "      <td>We first notice that the electron configuration of the second-row ...</td>\n",
       "      <td>In this text, we are dealing with fundamental atomic structures an...</td>\n",
       "      <td>entities=[Entity(name='Electron configuration (Second-row)', infor...</td>\n",
       "      <td>✔️ [0.741]</td>\n",
       "    </tr>\n",
       "    <tr>\n",
       "      <th>2</th>\n",
       "      <td>In earlier chapters, we discovered the importance of atomic masses...</td>\n",
       "      <td>The text discusses atomic properties, specifically atomic masses a...</td>\n",
       "      <td>entities=[Entity(name='Atomic Mass', information='Atomic mass is a...</td>\n",
       "      <td>✔️ [0.704]</td>\n",
       "    </tr>\n",
       "    <tr>\n",
       "      <th>3</th>\n",
       "      <td>Figure 9-3 illustrates the definitions of covalent, ionic, and met...</td>\n",
       "      <td>The text primarily discusses various types of atomic radii, includ...</td>\n",
       "      <td>entities=[Entity(name='Covalent_Radius', information='Covalent rad...</td>\n",
       "      <td>✔️ [0.815]</td>\n",
       "    </tr>\n",
       "    <tr>\n",
       "      <th>4</th>\n",
       "      <td>The second explanation focuses instead on the extent of screening ...</td>\n",
       "      <td>In this text, we need to focus on extracting relevant chemical ent...</td>\n",
       "      <td>entities=[Entity(name='Electron', information='Electrons are subat...</td>\n",
       "      <td>✔️ [0.889]</td>\n",
       "    </tr>\n",
       "    <tr>\n",
       "      <th>5</th>\n",
       "      <td>A few transition metal atoms acquire noble-gas electron configurat...</td>\n",
       "      <td>In this text, we focus on identifying entities that are related to...</td>\n",
       "      <td>entities=[Entity(name='Transition Metal Atom', information='Transi...</td>\n",
       "      <td>✔️ [0.704]</td>\n",
       "    </tr>\n",
       "    <tr>\n",
       "      <th>6</th>\n",
       "      <td>In the expression above, $Z_{\\mathrm{eff}}$ is the effective nucle...</td>\n",
       "      <td>The text provides information related to atomic structure, specifi...</td>\n",
       "      <td>entities=[Entity(name='Effective Nuclear Charge(Z_eff)', informati...</td>\n",
       "      <td>✔️ [0.852]</td>\n",
       "    </tr>\n",
       "    <tr>\n",
       "      <th>7</th>\n",
       "      <td>In Section 8-11, we established that most transition metal atoms, ...</td>\n",
       "      <td>The provided text discusses the electronic configuration and ioniz...</td>\n",
       "      <td>entities=[Entity(name='Transition_Metal_Atoms', information='Trans...</td>\n",
       "      <td>✔️ [0.926]</td>\n",
       "    </tr>\n",
       "    <tr>\n",
       "      <th>8</th>\n",
       "      <td>3. Variation in atomic radius within a transition series. With the...</td>\n",
       "      <td>The text discusses the variation in atomic radius within transitio...</td>\n",
       "      <td>entities=[Entity(name='Atomic Radius', information='Atomic radius ...</td>\n",
       "      <td>✔️ [0.926]</td>\n",
       "    </tr>\n",
       "    <tr>\n",
       "      <th>9</th>\n",
       "      <td>Through the color scheme of the periodic table on the inside front...</td>\n",
       "      <td>The text discusses the organization of the periodic table with a f...</td>\n",
       "      <td>entities=[Entity(name='Metals', information='Metals are elements t...</td>\n",
       "      <td>✔️ [0.926]</td>\n",
       "    </tr>\n",
       "  </tbody>\n",
       "</table>\n",
       "</div>"
      ],
      "text/plain": [
       "                                                                 context  \\\n",
       "0  Is the observed dip in the first ionization energy that occurs as ...   \n",
       "1  We first notice that the electron configuration of the second-row ...   \n",
       "2  In earlier chapters, we discovered the importance of atomic masses...   \n",
       "3  Figure 9-3 illustrates the definitions of covalent, ionic, and met...   \n",
       "4  The second explanation focuses instead on the extent of screening ...   \n",
       "5  A few transition metal atoms acquire noble-gas electron configurat...   \n",
       "6  In the expression above, $Z_{\\mathrm{eff}}$ is the effective nucle...   \n",
       "7  In Section 8-11, we established that most transition metal atoms, ...   \n",
       "8  3. Variation in atomic radius within a transition series. With the...   \n",
       "9  Through the color scheme of the periodic table on the inside front...   \n",
       "\n",
       "                                                               reasoning  \\\n",
       "0  The text discusses the dip in the first ionization energy as elect...   \n",
       "1  In this text, we are dealing with fundamental atomic structures an...   \n",
       "2  The text discusses atomic properties, specifically atomic masses a...   \n",
       "3  The text primarily discusses various types of atomic radii, includ...   \n",
       "4  In this text, we need to focus on extracting relevant chemical ent...   \n",
       "5  In this text, we focus on identifying entities that are related to...   \n",
       "6  The text provides information related to atomic structure, specifi...   \n",
       "7  The provided text discusses the electronic configuration and ioniz...   \n",
       "8  The text discusses the variation in atomic radius within transitio...   \n",
       "9  The text discusses the organization of the periodic table with a f...   \n",
       "\n",
       "                                                                ontology  \\\n",
       "0  entities=[Entity(name='Ionization Energy', information='Ionization...   \n",
       "1  entities=[Entity(name='Electron configuration (Second-row)', infor...   \n",
       "2  entities=[Entity(name='Atomic Mass', information='Atomic mass is a...   \n",
       "3  entities=[Entity(name='Covalent_Radius', information='Covalent rad...   \n",
       "4  entities=[Entity(name='Electron', information='Electrons are subat...   \n",
       "5  entities=[Entity(name='Transition Metal Atom', information='Transi...   \n",
       "6  entities=[Entity(name='Effective Nuclear Charge(Z_eff)', informati...   \n",
       "7  entities=[Entity(name='Transition_Metal_Atoms', information='Trans...   \n",
       "8  entities=[Entity(name='Atomic Radius', information='Atomic radius ...   \n",
       "9  entities=[Entity(name='Metals', information='Metals are elements t...   \n",
       "\n",
       "       metric  \n",
       "0  ✔️ [0.852]  \n",
       "1  ✔️ [0.741]  \n",
       "2  ✔️ [0.704]  \n",
       "3  ✔️ [0.815]  \n",
       "4  ✔️ [0.889]  \n",
       "5  ✔️ [0.704]  \n",
       "6  ✔️ [0.852]  \n",
       "7  ✔️ [0.926]  \n",
       "8  ✔️ [0.926]  \n",
       "9  ✔️ [0.926]  "
      ]
     },
     "metadata": {},
     "output_type": "display_data"
    },
    {
     "data": {
      "text/plain": [
       "83.33"
      ]
     },
     "execution_count": 81,
     "metadata": {},
     "output_type": "execute_result"
    }
   ],
   "source": [
    "\n",
    "evaluate(ChemOntology(), devset=devset, metric=metric)\n"
   ]
  },
  {
   "cell_type": "code",
   "execution_count": null,
   "metadata": {},
   "outputs": [],
   "source": [
    "\n",
    "\n",
    "zeroshot_optimized_program = teleprompter.compile(\n",
    "    ChemOntology(),\n",
    "    trainset=trainset,\n",
    "    max_bootstrapped_demos=0, # ZERO FEW-SHOT EXAMPLES\n",
    "    max_labeled_demos=0, # ZERO FEW-SHOT EXAMPLES\n",
    "    requires_permission_to_run=False,\n",
    ")\n",
    "\n",
    "# Save optimize program for future use\n",
    "zeroshot_optimized_program.save(f\"mipro_zeroshot_optimized\")\n"
   ]
  },
  {
   "cell_type": "code",
   "execution_count": 79,
   "metadata": {},
   "outputs": [
    {
     "name": "stdout",
     "output_type": "stream",
     "text": [
      "Average Metric: 8.70 / 10 (87.0%): 100%|██████████| 10/10 [00:55<00:00,  5.54s/it]"
     ]
    },
    {
     "name": "stderr",
     "output_type": "stream",
     "text": [
      "2024/11/21 18:14:00 INFO dspy.evaluate.evaluate: Average Metric: 8.703703703703704 / 10 (87.0%)\n"
     ]
    },
    {
     "name": "stdout",
     "output_type": "stream",
     "text": [
      "\n"
     ]
    },
    {
     "data": {
      "text/html": [
       "<div>\n",
       "<style scoped>\n",
       "    .dataframe tbody tr th:only-of-type {\n",
       "        vertical-align: middle;\n",
       "    }\n",
       "\n",
       "    .dataframe tbody tr th {\n",
       "        vertical-align: top;\n",
       "    }\n",
       "\n",
       "    .dataframe thead th {\n",
       "        text-align: right;\n",
       "    }\n",
       "</style>\n",
       "<table border=\"1\" class=\"dataframe\">\n",
       "  <thead>\n",
       "    <tr style=\"text-align: right;\">\n",
       "      <th></th>\n",
       "      <th>context</th>\n",
       "      <th>example_ontology</th>\n",
       "      <th>reasoning</th>\n",
       "      <th>pred_ontology</th>\n",
       "      <th>metric</th>\n",
       "    </tr>\n",
       "  </thead>\n",
       "  <tbody>\n",
       "    <tr>\n",
       "      <th>0</th>\n",
       "      <td>Is the observed dip in the first ionization energy that occurs as ...</td>\n",
       "      <td>entities=[Entity(name='Ionization Energy', information='Ionization...</td>\n",
       "      <td>The given text discusses the phenomena related to the first ioniza...</td>\n",
       "      <td>entities=[Entity(name='Ionization_Energy', information='Ionization...</td>\n",
       "      <td>✔️ [0.963]</td>\n",
       "    </tr>\n",
       "    <tr>\n",
       "      <th>1</th>\n",
       "      <td>We first notice that the electron configuration of the second-row ...</td>\n",
       "      <td>entities=[Entity(name='Electron configuration (Second-row)', infor...</td>\n",
       "      <td>In the provided text, we can identify important chemistry-related ...</td>\n",
       "      <td>entities=[Entity(name='Second-Row Atoms and Ions', information='Th...</td>\n",
       "      <td>✔️ [0.852]</td>\n",
       "    </tr>\n",
       "    <tr>\n",
       "      <th>2</th>\n",
       "      <td>In earlier chapters, we discovered the importance of atomic masses...</td>\n",
       "      <td>entities=[Entity(name='Atomic Mass', information='Atomic mass is a...</td>\n",
       "      <td>The provided text attempts to discuss the importance of atomic pro...</td>\n",
       "      <td>entities=[Entity(name='Atomic Masses', information='Atomic masses ...</td>\n",
       "      <td>✔️ [0.741]</td>\n",
       "    </tr>\n",
       "    <tr>\n",
       "      <th>3</th>\n",
       "      <td>Figure 9-3 illustrates the definitions of covalent, ionic, and met...</td>\n",
       "      <td>entities=[Entity(name='Covalent_Radius', information='Covalent rad...</td>\n",
       "      <td>The text describes types of radii (covalent, ionic, metallic) as a...</td>\n",
       "      <td>entities=[Entity(name='Atomic Radius', information='The distance f...</td>\n",
       "      <td>✔️ [0.926]</td>\n",
       "    </tr>\n",
       "    <tr>\n",
       "      <th>4</th>\n",
       "      <td>The second explanation focuses instead on the extent of screening ...</td>\n",
       "      <td>entities=[Entity(name='Electron', information='Electrons are subat...</td>\n",
       "      <td>The text discusses concepts related to atomic structure and behavi...</td>\n",
       "      <td>entities=[Entity(name='Unpaired_Electrons', information='Unpaired ...</td>\n",
       "      <td>✔️ [0.889]</td>\n",
       "    </tr>\n",
       "    <tr>\n",
       "      <th>5</th>\n",
       "      <td>A few transition metal atoms acquire noble-gas electron configurat...</td>\n",
       "      <td>entities=[Entity(name='Transition Metal Atom', information='Transi...</td>\n",
       "      <td>This passage discusses transition metal atoms and their electron c...</td>\n",
       "      <td>entities=[Entity(name='Transition_Metal_Atom', information='A clas...</td>\n",
       "      <td>✔️ [0.852]</td>\n",
       "    </tr>\n",
       "    <tr>\n",
       "      <th>6</th>\n",
       "      <td>In the expression above, $Z_{\\mathrm{eff}}$ is the effective nucle...</td>\n",
       "      <td>entities=[Entity(name='Effective Nuclear Charge(Z_eff)', informati...</td>\n",
       "      <td>The text involves several key concepts from chemistry, specificall...</td>\n",
       "      <td>entities=[Entity(name='Effective Nuclear Charge(Z_eff)', informati...</td>\n",
       "      <td>✔️ [0.741]</td>\n",
       "    </tr>\n",
       "    <tr>\n",
       "      <th>7</th>\n",
       "      <td>In Section 8-11, we established that most transition metal atoms, ...</td>\n",
       "      <td>entities=[Entity(name='Transition_Metal_Atoms', information='Trans...</td>\n",
       "      <td>To construct the ontology from the provided text, we need to ident...</td>\n",
       "      <td>entities=[Entity(name='Transition Metal Atoms', information='Trans...</td>\n",
       "      <td>✔️ [0.926]</td>\n",
       "    </tr>\n",
       "    <tr>\n",
       "      <th>8</th>\n",
       "      <td>3. Variation in atomic radius within a transition series. With the...</td>\n",
       "      <td>entities=[Entity(name='Atomic Radius', information='Atomic radius ...</td>\n",
       "      <td>The text discusses the variation in atomic radii within a series o...</td>\n",
       "      <td>entities=[Entity(name='Transition_Element', information='Transitio...</td>\n",
       "      <td>✔️ [0.926]</td>\n",
       "    </tr>\n",
       "    <tr>\n",
       "      <th>9</th>\n",
       "      <td>Through the color scheme of the periodic table on the inside front...</td>\n",
       "      <td>entities=[Entity(name='Metals', information='Metals are elements t...</td>\n",
       "      <td>The text describes the color scheme of the periodic table and cate...</td>\n",
       "      <td>entities=[Entity(name='Periodic Table', information='The table org...</td>\n",
       "      <td>✔️ [0.889]</td>\n",
       "    </tr>\n",
       "  </tbody>\n",
       "</table>\n",
       "</div>"
      ],
      "text/plain": [
       "                                                                 context  \\\n",
       "0  Is the observed dip in the first ionization energy that occurs as ...   \n",
       "1  We first notice that the electron configuration of the second-row ...   \n",
       "2  In earlier chapters, we discovered the importance of atomic masses...   \n",
       "3  Figure 9-3 illustrates the definitions of covalent, ionic, and met...   \n",
       "4  The second explanation focuses instead on the extent of screening ...   \n",
       "5  A few transition metal atoms acquire noble-gas electron configurat...   \n",
       "6  In the expression above, $Z_{\\mathrm{eff}}$ is the effective nucle...   \n",
       "7  In Section 8-11, we established that most transition metal atoms, ...   \n",
       "8  3. Variation in atomic radius within a transition series. With the...   \n",
       "9  Through the color scheme of the periodic table on the inside front...   \n",
       "\n",
       "                                                        example_ontology  \\\n",
       "0  entities=[Entity(name='Ionization Energy', information='Ionization...   \n",
       "1  entities=[Entity(name='Electron configuration (Second-row)', infor...   \n",
       "2  entities=[Entity(name='Atomic Mass', information='Atomic mass is a...   \n",
       "3  entities=[Entity(name='Covalent_Radius', information='Covalent rad...   \n",
       "4  entities=[Entity(name='Electron', information='Electrons are subat...   \n",
       "5  entities=[Entity(name='Transition Metal Atom', information='Transi...   \n",
       "6  entities=[Entity(name='Effective Nuclear Charge(Z_eff)', informati...   \n",
       "7  entities=[Entity(name='Transition_Metal_Atoms', information='Trans...   \n",
       "8  entities=[Entity(name='Atomic Radius', information='Atomic radius ...   \n",
       "9  entities=[Entity(name='Metals', information='Metals are elements t...   \n",
       "\n",
       "                                                               reasoning  \\\n",
       "0  The given text discusses the phenomena related to the first ioniza...   \n",
       "1  In the provided text, we can identify important chemistry-related ...   \n",
       "2  The provided text attempts to discuss the importance of atomic pro...   \n",
       "3  The text describes types of radii (covalent, ionic, metallic) as a...   \n",
       "4  The text discusses concepts related to atomic structure and behavi...   \n",
       "5  This passage discusses transition metal atoms and their electron c...   \n",
       "6  The text involves several key concepts from chemistry, specificall...   \n",
       "7  To construct the ontology from the provided text, we need to ident...   \n",
       "8  The text discusses the variation in atomic radii within a series o...   \n",
       "9  The text describes the color scheme of the periodic table and cate...   \n",
       "\n",
       "                                                           pred_ontology  \\\n",
       "0  entities=[Entity(name='Ionization_Energy', information='Ionization...   \n",
       "1  entities=[Entity(name='Second-Row Atoms and Ions', information='Th...   \n",
       "2  entities=[Entity(name='Atomic Masses', information='Atomic masses ...   \n",
       "3  entities=[Entity(name='Atomic Radius', information='The distance f...   \n",
       "4  entities=[Entity(name='Unpaired_Electrons', information='Unpaired ...   \n",
       "5  entities=[Entity(name='Transition_Metal_Atom', information='A clas...   \n",
       "6  entities=[Entity(name='Effective Nuclear Charge(Z_eff)', informati...   \n",
       "7  entities=[Entity(name='Transition Metal Atoms', information='Trans...   \n",
       "8  entities=[Entity(name='Transition_Element', information='Transitio...   \n",
       "9  entities=[Entity(name='Periodic Table', information='The table org...   \n",
       "\n",
       "       metric  \n",
       "0  ✔️ [0.963]  \n",
       "1  ✔️ [0.852]  \n",
       "2  ✔️ [0.741]  \n",
       "3  ✔️ [0.926]  \n",
       "4  ✔️ [0.889]  \n",
       "5  ✔️ [0.852]  \n",
       "6  ✔️ [0.741]  \n",
       "7  ✔️ [0.926]  \n",
       "8  ✔️ [0.926]  \n",
       "9  ✔️ [0.889]  "
      ]
     },
     "metadata": {},
     "output_type": "display_data"
    },
    {
     "data": {
      "text/plain": [
       "87.04"
      ]
     },
     "execution_count": 79,
     "metadata": {},
     "output_type": "execute_result"
    }
   ],
   "source": [
    "evaluate(zeroshot_optimized_program, devset=devset, metric=metric)"
   ]
  },
  {
   "cell_type": "code",
   "execution_count": 91,
   "metadata": {},
   "outputs": [
    {
     "name": "stdout",
     "output_type": "stream",
     "text": [
      "Entities:\n",
      "  - Name: Ionization_Energy\n",
      "    Information: Ionization energy refers to the energy required to remove an electron from an atom or ion.\n",
      "  - Name: Electron_Electron_Repulsions\n",
      "    Information: These repulsions occur between electrons in an atom and influence the energy state of the atom.\n",
      "  - Name: Electron_Nucleus_Attractions\n",
      "    Information: These attractions occur between electrons and the nucleus within an atom, contributing to the atom's stability.\n",
      "  - Name: Phosphorus(P)\n",
      "    Information: Phosphorus is an element in Group 15 with an electron configuration [Ne]3s^2 3p^3.\n",
      "  - Name: Phosphorus_Ion(P^+)\n",
      "    Information: Phosphorus ion is a positively charged ion formed when one electron is removed from phosphorus, yielding the configuration [Ne]3s^2 3p^2.\n",
      "  - Name: Sulfur(S)\n",
      "    Information: Sulfur is an element in Group 16 with an electron configuration [Ne]3s^2 3p^4.\n",
      "  - Name: Sulfur_Ion(S^+)\n",
      "    Information: Sulfur ion is a positively charged ion formed when one electron is removed from sulfur, yielding the configuration [Ne]3s^2 3p^3.\n",
      "\n",
      "Data Properties:\n",
      "  - Name: electron_configuration\n",
      "    Information: The configuration of electrons in the respective atomic or ionic species, such as [Ne]3s^2 3p^3 for phosphorus and [Ne]3s^2 3p^4 for sulfur.\n",
      "\n",
      "Object Properties:\n",
      "  - Name: depends_on\n",
      "    Domain: Ionization_Energy\n",
      "    Range: Electron_Electron_Repulsions\n",
      "    Restriction: some\n",
      "    Information: Ionization energy partly depends on electron-electron repulsions within the atom.\n",
      "  - Name: depends_on\n",
      "    Domain: Ionization_Energy\n",
      "    Range: Electron_Nucleus_Attractions\n",
      "    Restriction: some\n",
      "    Information: Ionization energy partly depends on electron-nucleus attractions within the atom.\n",
      "  - Name: involves\n",
      "    Domain: Ionization_Energy\n",
      "    Range: Phosphorus(P)\n",
      "    Restriction: only\n",
      "    Information: The ionization energy of phosphorus involves the original phosphorus atom.\n",
      "  - Name: involves\n",
      "    Domain: Ionization_Energy\n",
      "    Range: Phosphorus_Ion(P^+)\n",
      "    Restriction: only\n",
      "    Information: The ionization energy of phosphorus also involves the phosphorus ion after an electron is removed.\n",
      "  - Name: involves\n",
      "    Domain: Ionization_Energy\n",
      "    Range: Sulfur(S)\n",
      "    Restriction: only\n",
      "    Information: The ionization energy of sulfur involves the original sulfur atom.\n",
      "  - Name: involves\n",
      "    Domain: Ionization_Energy\n",
      "    Range: Sulfur_Ion(S^+)\n",
      "    Restriction: only\n",
      "    Information: The ionization energy of sulfur also involves the sulfur ion after an electron is removed.\n"
     ]
    }
   ],
   "source": [
    "print(ontology_to_string(zeroshot_optimized_program(devset[0]['context']).ontology))\n",
    "\n",
    "\n"
   ]
  },
  {
   "cell_type": "code",
   "execution_count": null,
   "metadata": {},
   "outputs": [],
   "source": []
  }
 ],
 "metadata": {
  "kernelspec": {
   "display_name": "OntologyConstruction",
   "language": "python",
   "name": "python3"
  },
  "language_info": {
   "codemirror_mode": {
    "name": "ipython",
    "version": 3
   },
   "file_extension": ".py",
   "mimetype": "text/x-python",
   "name": "python",
   "nbconvert_exporter": "python",
   "pygments_lexer": "ipython3",
   "version": "3.13.0"
  }
 },
 "nbformat": 4,
 "nbformat_minor": 2
}
